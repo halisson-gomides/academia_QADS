{
 "cells": [
  {
   "cell_type": "markdown",
   "id": "38e88a1b",
   "metadata": {},
   "source": [
    "## Exercícios - Aula 0\n",
    "___\n",
    "\n",
    "1. Crie um algoritmo que pergunte a idade do usuário, transforme a idade enviada para ```float```, calcule a idade em meses, calcule a idade em dias e mostre o resultado de cada operação. Considere que todos os anos possuem exatamente 365 dias.\n",
    "\n",
    "2. Crie um algoritmo que pergunte o primeiro nome, guarde na variável ```primeiro_nome```, pergunte o sobrenome , guarda na variável ```sobrenome```. Por fim o algoritmo deve printar a soma das duas variáveis com uma saudação (de sua escolha) ao usuário.\n",
    "\n",
    "3. No açougue do Seu Joaquim o contra-filé é R\\$39.99 o kilo. Monte um algoritmo para calcular o valor pago caso você compre 5, 10, 15, 2.5 e 5.75 kilos.\n",
    "\n",
    "4. Execute todas as operações aritiméticas básicas (adição, subtração, divisão e multiplicação) com as variáveis 'a' e 'b' abaixo.\n",
    "\n",
    "> a = 15<br>\n",
    "b = 12\n",
    "\n",
    "5. Tente calcular o seu IMC utilizando somente operações matemáticas. Dica: o IMC é calculado da seguinte forma: IMC = peso / (altura em metros * altura em metros)\n",
    "\n",
    "6. Sua professora de português pediu para você escrever a frase 'português é maravilhoso' 50 vezes. Como resolver esse problema com python? Demonstre sua solução.\n",
    "\n",
    "7. Um modelo de regressão linear possui a seguinte fórmula: y=0.253*x + 125. Qual será o valor de Y quando X for 125?\n",
    "\n",
    "8. Cria uma variável chamada ```a```, atribua o valor 15 para ela. Na linha abaixo escreva a = b = 15. Qual será o valor de ```a```?\n",
    "\n",
    "9. É possível criar uma variável chamada ```1_2_3_variavel```? Se não, qual o motivo?\n",
    "\n",
    "10. Crie uma variável chamada ```temp_em_graus``` e atribua a temperatura de hoje a ela. Crie uma segunda ```temp_em_f``` e guarde a transformação do valor da primeira variável de graus para Fahrenheit."
   ]
  },
  {
   "cell_type": "markdown",
   "id": "c52ab304",
   "metadata": {},
   "source": [
    "### Exercício 01"
   ]
  },
  {
   "cell_type": "code",
   "execution_count": 2,
   "id": "f3cd9257",
   "metadata": {
    "ExecuteTime": {
     "end_time": "2021-07-08T23:15:22.246120Z",
     "start_time": "2021-07-08T23:15:20.470081Z"
    }
   },
   "outputs": [
    {
     "name": "stdout",
     "output_type": "stream",
     "text": [
      "Qual a sua idade? 37\n",
      "Idade: 37.0 anos\n",
      "==================================================================================\n",
      "Idade em meses: 444.0 meses\n",
      "==================================================================================\n",
      "Idade em dias: 162060.0 dias\n",
      "==================================================================================\n"
     ]
    }
   ],
   "source": [
    "idade = float(input('Qual a sua idade? '))\n",
    "print(f'Idade: {idade} anos')\n",
    "print(format('','=^82'))\n",
    "idade_em_meses = idade * 12\n",
    "print(f'Idade em meses: {idade_em_meses} meses')\n",
    "print(format('','=^82'))\n",
    "idade_em_dias = idade_em_meses * 365\n",
    "print(f'Idade em dias: {idade_em_dias} dias')\n",
    "print(format('','=^82'))"
   ]
  },
  {
   "cell_type": "markdown",
   "id": "86d3f21e",
   "metadata": {},
   "source": [
    "### Exercício 02"
   ]
  },
  {
   "cell_type": "code",
   "execution_count": 3,
   "id": "491305a3",
   "metadata": {
    "ExecuteTime": {
     "end_time": "2021-07-08T23:18:07.340302Z",
     "start_time": "2021-07-08T23:18:02.060542Z"
    }
   },
   "outputs": [
    {
     "name": "stdout",
     "output_type": "stream",
     "text": [
      "Qual seu primeiro nome? Halisson\n",
      "Qual seu sobrenome? Gomides\n",
      "Olá Halisson Gomides, seja muito bem-vindo!\n"
     ]
    }
   ],
   "source": [
    "primeiro_nome = input('Qual seu primeiro nome? ')\n",
    "sobrenome = input('Qual seu sobrenome? ')\n",
    "print(f'Olá {primeiro_nome} {sobrenome}, seja muito bem-vindo!')"
   ]
  },
  {
   "cell_type": "markdown",
   "id": "f2a41c30",
   "metadata": {},
   "source": [
    "### Exercício 03"
   ]
  },
  {
   "cell_type": "code",
   "execution_count": 4,
   "id": "4a2a57e6",
   "metadata": {
    "ExecuteTime": {
     "end_time": "2021-07-08T23:20:52.288002Z",
     "start_time": "2021-07-08T23:20:52.267985Z"
    }
   },
   "outputs": [
    {
     "name": "stdout",
     "output_type": "stream",
     "text": [
      "caso você compre 5kg de contra-filé, o valor a ser pago será de R$199.95\n",
      "caso você compre 10kg de contra-filé, o valor a ser pago será de R$399.90\n",
      "caso você compre 15kg de contra-filé, o valor a ser pago será de R$599.85\n",
      "caso você compre 2.5kg de contra-filé, o valor a ser pago será de R$99.98\n",
      "caso você compre 5.75kg de contra-filé, o valor a ser pago será de R$229.94\n"
     ]
    }
   ],
   "source": [
    "kgs = [5, 10, 15, 2.5, 5.75]\n",
    "preco_kg = 39.99\n",
    "for i in kgs:\n",
    "    print(f'caso você compre {i}kg de contra-filé, o valor a ser pago será de R${(preco_kg * i):.2f}')"
   ]
  },
  {
   "cell_type": "markdown",
   "id": "4d1fd426",
   "metadata": {},
   "source": [
    "### Exercício 04"
   ]
  },
  {
   "cell_type": "code",
   "execution_count": 5,
   "id": "4b792eb6",
   "metadata": {
    "ExecuteTime": {
     "end_time": "2021-07-08T23:22:49.114008Z",
     "start_time": "2021-07-08T23:22:49.099003Z"
    }
   },
   "outputs": [
    {
     "name": "stdout",
     "output_type": "stream",
     "text": [
      "Adição: 27\n",
      "Subtração: 3\n",
      "Multiplicação: 180\n",
      "Divisão: 1.25\n"
     ]
    }
   ],
   "source": [
    "a = 15\n",
    "b = 12\n",
    "\n",
    "print(f'Adição: {a+b}')\n",
    "print(f'Subtração: {a-b}')\n",
    "print(f'Multiplicação: {a*b}')\n",
    "print(f'Divisão: {a/b}')"
   ]
  },
  {
   "cell_type": "markdown",
   "id": "0d05b841",
   "metadata": {},
   "source": [
    "### Exercício 05"
   ]
  },
  {
   "cell_type": "code",
   "execution_count": 6,
   "id": "ff460e8a",
   "metadata": {
    "ExecuteTime": {
     "end_time": "2021-07-08T23:26:09.244811Z",
     "start_time": "2021-07-08T23:25:56.837629Z"
    }
   },
   "outputs": [
    {
     "name": "stdout",
     "output_type": "stream",
     "text": [
      "Qual seu peso? 77\n",
      "Qual a sua altura em metros ? 1.77\n",
      "Seu IMC é de 24.58\n"
     ]
    }
   ],
   "source": [
    "# IMC = peso / (altura em metros * altura em metros)\n",
    "peso = float(input('Qual seu peso? '))\n",
    "altura = float(input('Qual a sua altura em metros ? '))\n",
    "IMC = peso / (altura**2)\n",
    "print(f'Seu IMC é de {IMC:.2f}')"
   ]
  },
  {
   "cell_type": "markdown",
   "id": "4a202515",
   "metadata": {},
   "source": [
    "### Exercício 06"
   ]
  },
  {
   "cell_type": "code",
   "execution_count": 7,
   "id": "64ae7392",
   "metadata": {
    "ExecuteTime": {
     "end_time": "2021-07-08T23:27:12.719539Z",
     "start_time": "2021-07-08T23:27:12.702537Z"
    }
   },
   "outputs": [
    {
     "name": "stdout",
     "output_type": "stream",
     "text": [
      "português é maravilhoso português é maravilhoso português é maravilhoso português é maravilhoso português é maravilhoso português é maravilhoso português é maravilhoso português é maravilhoso português é maravilhoso português é maravilhoso português é maravilhoso português é maravilhoso português é maravilhoso português é maravilhoso português é maravilhoso português é maravilhoso português é maravilhoso português é maravilhoso português é maravilhoso português é maravilhoso português é maravilhoso português é maravilhoso português é maravilhoso português é maravilhoso português é maravilhoso português é maravilhoso português é maravilhoso português é maravilhoso português é maravilhoso português é maravilhoso português é maravilhoso português é maravilhoso português é maravilhoso português é maravilhoso português é maravilhoso português é maravilhoso português é maravilhoso português é maravilhoso português é maravilhoso português é maravilhoso português é maravilhoso português é maravilhoso português é maravilhoso português é maravilhoso português é maravilhoso português é maravilhoso português é maravilhoso português é maravilhoso português é maravilhoso português é maravilhoso \n"
     ]
    }
   ],
   "source": [
    "frase_50 = 'português é maravilhoso ' * 50\n",
    "print(frase_50)"
   ]
  },
  {
   "cell_type": "markdown",
   "id": "c67bf0bb",
   "metadata": {},
   "source": [
    "### Exercício 07"
   ]
  },
  {
   "cell_type": "code",
   "execution_count": 8,
   "id": "4cf7b836",
   "metadata": {
    "ExecuteTime": {
     "end_time": "2021-07-08T23:28:33.917830Z",
     "start_time": "2021-07-08T23:28:33.907828Z"
    }
   },
   "outputs": [
    {
     "name": "stdout",
     "output_type": "stream",
     "text": [
      "y = 156.625 quando x for 125\n"
     ]
    }
   ],
   "source": [
    "# y=0.253*x + 125. Qual será o valor de Y quando X for 125?\n",
    "x = 125\n",
    "y=0.253*x + 125\n",
    "print(f'y = {y} quando x for 125')"
   ]
  },
  {
   "cell_type": "markdown",
   "id": "17f59da6",
   "metadata": {},
   "source": [
    "### Exercício 08"
   ]
  },
  {
   "cell_type": "code",
   "execution_count": 11,
   "id": "bc96d6cc",
   "metadata": {
    "ExecuteTime": {
     "end_time": "2021-07-08T23:29:52.956357Z",
     "start_time": "2021-07-08T23:29:52.951355Z"
    }
   },
   "outputs": [
    {
     "name": "stdout",
     "output_type": "stream",
     "text": [
      "o valor de \"a\" é: 15\n"
     ]
    }
   ],
   "source": [
    "a = 15\n",
    "a = b = 15\n",
    "print(f'o valor de \"a\" é: {a}')"
   ]
  },
  {
   "cell_type": "markdown",
   "id": "f94c1f0c",
   "metadata": {},
   "source": [
    "### Exercício 09"
   ]
  },
  {
   "cell_type": "markdown",
   "id": "d4f75259",
   "metadata": {},
   "source": [
    "> Não é possível, pois o Python não permite que nomes de variáveis seja iniciadas com números."
   ]
  },
  {
   "cell_type": "markdown",
   "id": "70446dbd",
   "metadata": {},
   "source": [
    "### Exercício 10"
   ]
  },
  {
   "cell_type": "code",
   "execution_count": 12,
   "id": "dbe111be",
   "metadata": {
    "ExecuteTime": {
     "end_time": "2021-07-08T23:35:26.975589Z",
     "start_time": "2021-07-08T23:35:26.956584Z"
    }
   },
   "outputs": [
    {
     "name": "stdout",
     "output_type": "stream",
     "text": [
      "21ºC equivale a 69.8ºF\n"
     ]
    }
   ],
   "source": [
    "temp_em_graus = 21\n",
    "temp_em_f = temp_em_graus * 9 / 5 + 32\n",
    "print(f'{temp_em_graus}ºC equivale a {temp_em_f}ºF')"
   ]
  }
 ],
 "metadata": {
  "kernelspec": {
   "display_name": "Python [conda env:qads]",
   "language": "python",
   "name": "conda-env-qads-py"
  },
  "language_info": {
   "codemirror_mode": {
    "name": "ipython",
    "version": 3
   },
   "file_extension": ".py",
   "mimetype": "text/x-python",
   "name": "python",
   "nbconvert_exporter": "python",
   "pygments_lexer": "ipython3",
   "version": "3.9.5"
  },
  "toc": {
   "base_numbering": 1,
   "nav_menu": {},
   "number_sections": true,
   "sideBar": true,
   "skip_h1_title": false,
   "title_cell": "Table of Contents",
   "title_sidebar": "Contents",
   "toc_cell": false,
   "toc_position": {},
   "toc_section_display": true,
   "toc_window_display": false
  }
 },
 "nbformat": 4,
 "nbformat_minor": 5
}
