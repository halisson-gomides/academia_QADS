{
 "cells": [
  {
   "cell_type": "markdown",
   "id": "beef5ccb",
   "metadata": {},
   "source": [
    "<img src=\"imgs/mesttra.png\" alt=\"mesttra_logo\" style=\"width: 200px;\"/>\n",
    "\n",
    "\n",
    "# Estrutura de Dados\n",
    "___\n",
    "\n",
    "Estruturas de dados são uma forma de organizar e armazenar dados para que possam ser acessados e trabalhados de forma eficiente. Elas definem a relação entre os dados e as operações que podem ser executadas neles. Existem vários tipos de estruturas de dados definidas que tornam mais fácil para os cientistas de dados se concentrarem na solução de problemas maiores, em vez de se perderem nos detalhes da descrição e acesso aos dados.\n",
    "\n",
    "Em python existem as seguintes estruturas de dados: listas, tuplas, dicionários, coleções (sets). As mais utilizadas no dia-a-dia de um cientista de dados são as listas, tuplas, dicionários e são nelas que esta matéria irá focar."
   ]
  },
  {
   "cell_type": "markdown",
   "id": "415c54da",
   "metadata": {},
   "source": [
    "## Listas\n",
    "___\n",
    "\n",
    "A lista é, provavelmente, a estrutura de dados mais utilizada e mais básica em python. Ela é uma coleção ordenada, mutável e iterável também podendo ser heterogênea, ou seja, receber diversos tipos de dados. Ela tem vários métodos (funcionalidades do objeto lista) que podem auxiliar na organização e manipulação de dados. Alguns exemplos de lista:"
   ]
  },
  {
   "cell_type": "code",
   "execution_count": 3,
   "id": "4cb89065",
   "metadata": {},
   "outputs": [],
   "source": [
    "lista_de_inteiros = [1,2,3,4,5] ## lista de integers\n",
    "lista_heterogenea = ['nasser',1.71,100, True]\n",
    "lista_de_lista = [[1,2,3,4],[5,6,7,8]]"
   ]
  },
  {
   "cell_type": "markdown",
   "id": "32568632",
   "metadata": {},
   "source": [
    "Podemos encontrar o tamanho de uma lista utilizando a função ```len()```"
   ]
  },
  {
   "cell_type": "code",
   "execution_count": 7,
   "id": "726368f4",
   "metadata": {},
   "outputs": [
    {
     "name": "stdout",
     "output_type": "stream",
     "text": [
      "5\n",
      "4\n",
      "2\n"
     ]
    }
   ],
   "source": [
    "print(len(lista_de_inteiros))\n",
    "print(len(lista_heterogenea))\n",
    "print(len(lista_de_lista))"
   ]
  },
  {
   "cell_type": "markdown",
   "id": "b21958c0",
   "metadata": {},
   "source": [
    "Também é possivel criar listas vazias!"
   ]
  },
  {
   "cell_type": "code",
   "execution_count": 8,
   "id": "7c559602",
   "metadata": {},
   "outputs": [
    {
     "data": {
      "text/plain": [
       "[]"
      ]
     },
     "execution_count": 8,
     "metadata": {},
     "output_type": "execute_result"
    }
   ],
   "source": [
    "cidades_que_visitei = []\n",
    "cidades_que_visitei"
   ]
  },
  {
   "cell_type": "code",
   "execution_count": 9,
   "id": "d13fc90f",
   "metadata": {},
   "outputs": [
    {
     "data": {
      "text/plain": [
       "['Brasília', 'Cairo', 'Tel-Aviv', 'Paris', 'Jerusalem', 'Eilat']"
      ]
     },
     "execution_count": 9,
     "metadata": {},
     "output_type": "execute_result"
    }
   ],
   "source": [
    "cidades_que_visitei = ['Brasília','Cairo','Tel-Aviv','Paris','Jerusalem','Eilat']\n",
    "cidades_que_visitei"
   ]
  },
  {
   "cell_type": "markdown",
   "id": "d815d747",
   "metadata": {},
   "source": [
    "Podemos acessar dados de uma lista utilizando a localização do dado a ser recuperado, iniciando a conta por ```zero```!\n",
    "\n",
    "![lista](imgs/lista.png)\n",
    "\n",
    "Ou seja, o primeiro valor tem o índice ```0 (zero)``` e os próximos seguem normalmente a contagem."
   ]
  },
  {
   "cell_type": "code",
   "execution_count": 10,
   "id": "ed6ec284",
   "metadata": {},
   "outputs": [
    {
     "data": {
      "text/plain": [
       "'Brasília'"
      ]
     },
     "execution_count": 10,
     "metadata": {},
     "output_type": "execute_result"
    }
   ],
   "source": [
    "## acessando o primeiro valor\n",
    "\n",
    "cidades_que_visitei[0]"
   ]
  },
  {
   "cell_type": "code",
   "execution_count": 11,
   "id": "847323df",
   "metadata": {},
   "outputs": [
    {
     "data": {
      "text/plain": [
       "'Cairo'"
      ]
     },
     "execution_count": 11,
     "metadata": {},
     "output_type": "execute_result"
    }
   ],
   "source": [
    "## acessando o segundo valor\n",
    "\n",
    "cidades_que_visitei[1]"
   ]
  },
  {
   "cell_type": "code",
   "execution_count": 12,
   "id": "0ac88c34",
   "metadata": {},
   "outputs": [
    {
     "data": {
      "text/plain": [
       "'Paris'"
      ]
     },
     "execution_count": 12,
     "metadata": {},
     "output_type": "execute_result"
    }
   ],
   "source": [
    "## acessando o quarto valor\n",
    "\n",
    "cidades_que_visitei[3]"
   ]
  },
  {
   "cell_type": "markdown",
   "id": "570c0398",
   "metadata": {},
   "source": [
    "É possível reatribuir o valor em qualquer posição de uma lista, para isso basta selecionar o índica da lista que deseja alterar e atribuir um novo valor a ela."
   ]
  },
  {
   "cell_type": "code",
   "execution_count": 14,
   "id": "d5b437ee",
   "metadata": {},
   "outputs": [
    {
     "data": {
      "text/plain": [
       "'Jerusalem'"
      ]
     },
     "execution_count": 14,
     "metadata": {},
     "output_type": "execute_result"
    }
   ],
   "source": [
    "cidades_que_visitei[4]"
   ]
  },
  {
   "cell_type": "code",
   "execution_count": 15,
   "id": "05dada44",
   "metadata": {},
   "outputs": [],
   "source": [
    "cidades_que_visitei[4] = 'Jerusalém'"
   ]
  },
  {
   "cell_type": "code",
   "execution_count": 16,
   "id": "c70fef90",
   "metadata": {},
   "outputs": [
    {
     "data": {
      "text/plain": [
       "'Jerusalém'"
      ]
     },
     "execution_count": 16,
     "metadata": {},
     "output_type": "execute_result"
    }
   ],
   "source": [
    "cidades_que_visitei[4]"
   ]
  },
  {
   "cell_type": "markdown",
   "id": "e5e7da63",
   "metadata": {},
   "source": [
    "Uma forma simples e bastante poderosa de selecionar valores dentro de uma lista é utilizando a técnica de fatiamento. Ela permite que a seleção de valores dentro de uma janela com início e fim, para isso basta utilizar ```:``` ."
   ]
  },
  {
   "cell_type": "code",
   "execution_count": 24,
   "id": "e4dcc87b",
   "metadata": {},
   "outputs": [],
   "source": [
    "## a função range(n) serve para criar uma quantidade n de valores encadeados.\n",
    "\n",
    "lista_100 = list(range(100))"
   ]
  },
  {
   "cell_type": "code",
   "execution_count": 26,
   "id": "04d31ed5",
   "metadata": {},
   "outputs": [
    {
     "data": {
      "text/plain": [
       "[0, 1, 2]"
      ]
     },
     "execution_count": 26,
     "metadata": {},
     "output_type": "execute_result"
    }
   ],
   "source": [
    "## usando fatiamento\n",
    "\n",
    "primeiros_3 = lista_100[:3]\n",
    "primeiros_3"
   ]
  },
  {
   "cell_type": "code",
   "execution_count": 27,
   "id": "6dd9be43",
   "metadata": {},
   "outputs": [
    {
     "data": {
      "text/plain": [
       "['Brasília', 'Cairo']"
      ]
     },
     "execution_count": 27,
     "metadata": {},
     "output_type": "execute_result"
    }
   ],
   "source": [
    "cidades_que_visitei[0:2]"
   ]
  },
  {
   "cell_type": "code",
   "execution_count": 28,
   "id": "22ef1ad8",
   "metadata": {},
   "outputs": [
    {
     "data": {
      "text/plain": [
       "['Brasília', 'Cairo']"
      ]
     },
     "execution_count": 28,
     "metadata": {},
     "output_type": "execute_result"
    }
   ],
   "source": [
    "cidades_que_visitei[:2]"
   ]
  },
  {
   "cell_type": "markdown",
   "id": "416fbb09",
   "metadata": {},
   "source": [
    "Veja que utilizar o índice zero ou deixar o lado esquerdo do sinal de dois-pontos traz o mesmo resultado."
   ]
  },
  {
   "cell_type": "code",
   "execution_count": 29,
   "id": "c1a4d01e",
   "metadata": {},
   "outputs": [
    {
     "data": {
      "text/plain": [
       "['Brasília', 'Cairo', 'Tel-Aviv', 'Paris', 'Jerusalém', 'Eilat']"
      ]
     },
     "execution_count": 29,
     "metadata": {},
     "output_type": "execute_result"
    }
   ],
   "source": [
    "cidades_que_visitei[:]"
   ]
  },
  {
   "cell_type": "code",
   "execution_count": 30,
   "id": "e86fb33e",
   "metadata": {},
   "outputs": [
    {
     "data": {
      "text/plain": [
       "['Tel-Aviv', 'Paris', 'Jerusalém', 'Eilat']"
      ]
     },
     "execution_count": 30,
     "metadata": {},
     "output_type": "execute_result"
    }
   ],
   "source": [
    "cidades_que_visitei[2:]"
   ]
  },
  {
   "cell_type": "code",
   "execution_count": 31,
   "id": "6f6e6c65",
   "metadata": {},
   "outputs": [
    {
     "data": {
      "text/plain": [
       "['Paris', 'Jerusalém']"
      ]
     },
     "execution_count": 31,
     "metadata": {},
     "output_type": "execute_result"
    }
   ],
   "source": [
    "cidades_que_visitei[3:5]"
   ]
  },
  {
   "cell_type": "markdown",
   "id": "603622eb",
   "metadata": {},
   "source": [
    "Perceba que o indice no lado esquerdo o sinal de dois-pontos é inclusivo e do lado direito é exclusivo (ou seja, não retorna o valor). Também é possível selecionar os valores começando a contagem do final da lista porém, nessa situação, a contagem começa com 1 e é negativa."
   ]
  },
  {
   "cell_type": "code",
   "execution_count": 32,
   "id": "6b0df71c",
   "metadata": {},
   "outputs": [
    {
     "data": {
      "text/plain": [
       "'Eilat'"
      ]
     },
     "execution_count": 32,
     "metadata": {},
     "output_type": "execute_result"
    }
   ],
   "source": [
    "cidades_que_visitei[-1]"
   ]
  },
  {
   "cell_type": "code",
   "execution_count": 35,
   "id": "d84febc9",
   "metadata": {},
   "outputs": [
    {
     "data": {
      "text/plain": [
       "['Cairo', 'Tel-Aviv', 'Paris']"
      ]
     },
     "execution_count": 35,
     "metadata": {},
     "output_type": "execute_result"
    }
   ],
   "source": [
    "cidades_que_visitei[-5:-2]"
   ]
  },
  {
   "cell_type": "markdown",
   "id": "227d4836",
   "metadata": {},
   "source": [
    "Listas podem ser heterogeneas, ou seja, podemos colocar outras listas dentro dela, outras estruturas de dados e até objetos mais complexos."
   ]
  },
  {
   "cell_type": "code",
   "execution_count": 37,
   "id": "b1b9b7c5",
   "metadata": {},
   "outputs": [],
   "source": [
    "paises_que_visitei = ['Brasil',{'Jerusalem':5,'Tel-Aviv':2,'Eilat':1},('França','Paris')]"
   ]
  },
  {
   "cell_type": "code",
   "execution_count": 38,
   "id": "bc17929d",
   "metadata": {},
   "outputs": [
    {
     "data": {
      "text/plain": [
       "3"
      ]
     },
     "execution_count": 38,
     "metadata": {},
     "output_type": "execute_result"
    }
   ],
   "source": [
    "len(paises_que_visitei)"
   ]
  },
  {
   "cell_type": "code",
   "execution_count": 39,
   "id": "8a730268",
   "metadata": {},
   "outputs": [
    {
     "data": {
      "text/plain": [
       "str"
      ]
     },
     "execution_count": 39,
     "metadata": {},
     "output_type": "execute_result"
    }
   ],
   "source": [
    "type(paises_que_visitei[0])"
   ]
  },
  {
   "cell_type": "code",
   "execution_count": 40,
   "id": "ee6bdb97",
   "metadata": {},
   "outputs": [
    {
     "data": {
      "text/plain": [
       "dict"
      ]
     },
     "execution_count": 40,
     "metadata": {},
     "output_type": "execute_result"
    }
   ],
   "source": [
    "type(paises_que_visitei[1])"
   ]
  },
  {
   "cell_type": "code",
   "execution_count": 41,
   "id": "1de4cb7e",
   "metadata": {},
   "outputs": [
    {
     "data": {
      "text/plain": [
       "tuple"
      ]
     },
     "execution_count": 41,
     "metadata": {},
     "output_type": "execute_result"
    }
   ],
   "source": [
    "type(paises_que_visitei[2])"
   ]
  },
  {
   "cell_type": "markdown",
   "id": "2728e253",
   "metadata": {},
   "source": [
    "### Métodos de Listas\n",
    "\n",
    "Métodos são pequenos funcionalidades de um objeto que podemos utilizar para manipular os dados desse objeto. Todo objeto igual, independente do seu conteúdo, possui os mesmos métodos. Os métodos de um objeto podem ser acessados colocar um ```.``` ao final do variável e escrevendo seu nome.\n",
    "\n",
    "Os métodos de listas mais utilizados são os seguintes:\n",
    "\n",
    "![](imgs/lista3.png)"
   ]
  },
  {
   "cell_type": "code",
   "execution_count": 42,
   "id": "eded397e",
   "metadata": {},
   "outputs": [
    {
     "data": {
      "text/plain": [
       "['Brasília', 'Cairo', 'Tel-Aviv', 'Paris', 'Jerusalém', 'Eilat']"
      ]
     },
     "execution_count": 42,
     "metadata": {},
     "output_type": "execute_result"
    }
   ],
   "source": [
    "cidades_que_visitei"
   ]
  },
  {
   "cell_type": "code",
   "execution_count": 43,
   "id": "65f04802",
   "metadata": {},
   "outputs": [],
   "source": [
    "## adicionando a cidade Araxá ao final da lista\n",
    "\n",
    "cidades_que_visitei.append('Araxá')"
   ]
  },
  {
   "cell_type": "code",
   "execution_count": 44,
   "id": "d51f6641",
   "metadata": {},
   "outputs": [
    {
     "data": {
      "text/plain": [
       "1"
      ]
     },
     "execution_count": 44,
     "metadata": {},
     "output_type": "execute_result"
    }
   ],
   "source": [
    "## contando quantas vezes a palavra 'Eilat' aparece na lista\n",
    "\n",
    "cidades_que_visitei.count('Eilat')"
   ]
  },
  {
   "cell_type": "code",
   "execution_count": 45,
   "id": "cd90a731",
   "metadata": {},
   "outputs": [
    {
     "data": {
      "text/plain": [
       "3"
      ]
     },
     "execution_count": 45,
     "metadata": {},
     "output_type": "execute_result"
    }
   ],
   "source": [
    "## encontrando o índice da palavra 'Paris'\n",
    "\n",
    "cidades_que_visitei.index('Paris')"
   ]
  },
  {
   "cell_type": "code",
   "execution_count": 46,
   "id": "5ba326bb",
   "metadata": {},
   "outputs": [
    {
     "data": {
      "text/plain": [
       "['Araxá', 'Eilat', 'Jerusalém', 'Paris', 'Tel-Aviv', 'Cairo', 'Brasília']"
      ]
     },
     "execution_count": 46,
     "metadata": {},
     "output_type": "execute_result"
    }
   ],
   "source": [
    "## alterando a ordem da lista (invertendo)\n",
    "\n",
    "cidades_que_visitei.reverse()\n",
    "cidades_que_visitei"
   ]
  },
  {
   "cell_type": "code",
   "execution_count": 48,
   "id": "1c2ccc46",
   "metadata": {},
   "outputs": [
    {
     "data": {
      "text/plain": [
       "['Araxá', 'Brasília', 'Cairo', 'Eilat', 'Jerusalém', 'Paris', 'Tel-Aviv']"
      ]
     },
     "execution_count": 48,
     "metadata": {},
     "output_type": "execute_result"
    }
   ],
   "source": [
    "## organizando a lista\n",
    "\n",
    "cidades_que_visitei.sort()\n",
    "cidades_que_visitei"
   ]
  },
  {
   "cell_type": "code",
   "execution_count": 49,
   "id": "a1dc63f6",
   "metadata": {},
   "outputs": [
    {
     "data": {
      "text/plain": [
       "['Araxá', 'Brasília', 'Eilat', 'Jerusalém', 'Paris', 'Tel-Aviv']"
      ]
     },
     "execution_count": 49,
     "metadata": {},
     "output_type": "execute_result"
    }
   ],
   "source": [
    "## extraindo um valor da lista\n",
    "\n",
    "cidades_que_visitei.pop(2)\n",
    "cidades_que_visitei"
   ]
  },
  {
   "cell_type": "code",
   "execution_count": 50,
   "id": "236031f8",
   "metadata": {},
   "outputs": [
    {
     "data": {
      "text/plain": [
       "['Araxá', 'Eilat', 'Jerusalém', 'Paris', 'Tel-Aviv']"
      ]
     },
     "execution_count": 50,
     "metadata": {},
     "output_type": "execute_result"
    }
   ],
   "source": [
    "## removendo um valor da lista\n",
    "\n",
    "cidades_que_visitei.remove('Brasília')\n",
    "cidades_que_visitei"
   ]
  },
  {
   "cell_type": "markdown",
   "id": "49e9bd4e",
   "metadata": {},
   "source": [
    "Imagine que você possui a lista abaixo. Ela possui valores inteiros, porém, existe um impostor no meio dela, a string '88', encontre o índice dessa string e a substitua pelo valor inteiro 88."
   ]
  },
  {
   "cell_type": "code",
   "execution_count": 51,
   "id": "307fd5fe",
   "metadata": {},
   "outputs": [],
   "source": [
    "lista_exercicio = [125,175,785,4,89,25,41,58,56,2,45,4,5,13,65,469,8,8974,654,65,564,2547,87,987,6454,516,54,654,98,7,77,'88',54,7,8,54,5,1,4,7,8,25,4,5,7,8,8,8,5,6,6,6,3,2,5,4,5]"
   ]
  },
  {
   "cell_type": "markdown",
   "id": "87177341",
   "metadata": {},
   "source": [
    "## Tuplas\n",
    "___\n",
    "\n",
    "As tuplas são como listas porém imutáveis, ou seja, não podemos alterar nenhum valor depois que ela for designada. Normalmente é utilizada para guardar informações que em momento algum podem mudar (endereço, cpf, id de usuário). Podemos usar parênteses para definir uma tupla ou a função ```tuple()```."
   ]
  },
  {
   "cell_type": "code",
   "execution_count": 52,
   "id": "2ccabdbc",
   "metadata": {},
   "outputs": [
    {
     "data": {
      "text/plain": [
       "('ALZR11', 'BBF011', 'BLMG11', 'BLCP11', 'BRCO11')"
      ]
     },
     "execution_count": 52,
     "metadata": {},
     "output_type": "execute_result"
    }
   ],
   "source": [
    "fundo_imob = ('ALZR11','BBF011','BLMG11','BLCP11','BRCO11')\n",
    "fundo_imob"
   ]
  },
  {
   "cell_type": "code",
   "execution_count": 53,
   "id": "5d5ed402",
   "metadata": {},
   "outputs": [
    {
     "name": "stdout",
     "output_type": "stream",
     "text": [
      "ALZR11\n",
      "BBF011\n",
      "BLMG11\n"
     ]
    }
   ],
   "source": [
    "## as tuplas são indexadas da mesma forma que as listas\n",
    "\n",
    "print(fundo_imob[0])\n",
    "print(fundo_imob[1])\n",
    "print(fundo_imob[2])"
   ]
  },
  {
   "cell_type": "code",
   "execution_count": 54,
   "id": "425a84cc",
   "metadata": {},
   "outputs": [
    {
     "ename": "TypeError",
     "evalue": "'tuple' object does not support item assignment",
     "output_type": "error",
     "traceback": [
      "\u001b[0;31m---------------------------------------------------------------------------\u001b[0m",
      "\u001b[0;31mTypeError\u001b[0m                                 Traceback (most recent call last)",
      "\u001b[0;32m<ipython-input-54-72ef39388c13>\u001b[0m in \u001b[0;36m<module>\u001b[0;34m\u001b[0m\n\u001b[1;32m      1\u001b[0m \u001b[0;31m## tuplas não suportam alteração de valores\u001b[0m\u001b[0;34m\u001b[0m\u001b[0;34m\u001b[0m\u001b[0;34m\u001b[0m\u001b[0m\n\u001b[1;32m      2\u001b[0m \u001b[0;34m\u001b[0m\u001b[0m\n\u001b[0;32m----> 3\u001b[0;31m \u001b[0mfundo_imob\u001b[0m\u001b[0;34m[\u001b[0m\u001b[0;36m0\u001b[0m\u001b[0;34m]\u001b[0m \u001b[0;34m=\u001b[0m \u001b[0;34m'BACON11'\u001b[0m\u001b[0;34m\u001b[0m\u001b[0;34m\u001b[0m\u001b[0m\n\u001b[0m",
      "\u001b[0;31mTypeError\u001b[0m: 'tuple' object does not support item assignment"
     ]
    }
   ],
   "source": [
    "## tuplas não suportam alteração de valores\n",
    "\n",
    "fundo_imob[0] = 'BACON11'"
   ]
  },
  {
   "cell_type": "code",
   "execution_count": 55,
   "id": "709b7c48",
   "metadata": {},
   "outputs": [
    {
     "data": {
      "text/plain": [
       "('ALZR11', 11, {'BLMG11': 97.3}, 15.2, ['BRCO11', 16])"
      ]
     },
     "execution_count": 55,
     "metadata": {},
     "output_type": "execute_result"
    }
   ],
   "source": [
    "## tuplas também podem ser heterogeneas\n",
    "\n",
    "fundo_imob = tuple(['ALZR11',11,{'BLMG11':97.30},15.2,['BRCO11',16]])\n",
    "fundo_imob"
   ]
  },
  {
   "cell_type": "code",
   "execution_count": 56,
   "id": "b04bc324",
   "metadata": {},
   "outputs": [],
   "source": [
    "## alteração de um valor de um objeto mutável dentro da tupla\n",
    "\n",
    "fundo_imob[4][1] = 15"
   ]
  },
  {
   "cell_type": "code",
   "execution_count": 57,
   "id": "0e6e4ab6",
   "metadata": {},
   "outputs": [
    {
     "data": {
      "text/plain": [
       "('ALZR11', 11, {'BLMG11': 97.3}, 15.2, ['BRCO11', 15])"
      ]
     },
     "execution_count": 57,
     "metadata": {},
     "output_type": "execute_result"
    }
   ],
   "source": [
    "fundo_imob"
   ]
  },
  {
   "cell_type": "markdown",
   "id": "19429410",
   "metadata": {},
   "source": [
    "### Métodos de Tuplas\n",
    "\n",
    "Devido a sua característica imutável, tuplas possuem poucos métodos."
   ]
  },
  {
   "cell_type": "code",
   "execution_count": 58,
   "id": "c1e35067",
   "metadata": {},
   "outputs": [
    {
     "data": {
      "text/plain": [
       "1"
      ]
     },
     "execution_count": 58,
     "metadata": {},
     "output_type": "execute_result"
    }
   ],
   "source": [
    "## contando quantos valores aparecem\n",
    "\n",
    "fundo_imob.count(['BRCO11',15])"
   ]
  },
  {
   "cell_type": "code",
   "execution_count": 60,
   "id": "a28b599f",
   "metadata": {},
   "outputs": [
    {
     "data": {
      "text/plain": [
       "1"
      ]
     },
     "execution_count": 60,
     "metadata": {},
     "output_type": "execute_result"
    }
   ],
   "source": [
    "fundo_imob.count(11)"
   ]
  },
  {
   "cell_type": "code",
   "execution_count": 59,
   "id": "0e7de097",
   "metadata": {},
   "outputs": [
    {
     "data": {
      "text/plain": [
       "3"
      ]
     },
     "execution_count": 59,
     "metadata": {},
     "output_type": "execute_result"
    }
   ],
   "source": [
    "## encontrando o índice do valor 15.2\n",
    "\n",
    "fundo_imob.index(15.2)"
   ]
  },
  {
   "cell_type": "markdown",
   "id": "d297d112",
   "metadata": {},
   "source": [
    "## Dicionários\n",
    "___\n",
    "\n",
    "Os dicionários são outra estrutura de dados em python que também são conhecidas como “memória associativas” ou “vetores associativos”, diferentemente das listas e tuplas, os dicionários são indexados utilizando chaves (keys) e não números. Construímos um dicionário utilizando chaves ```{}``` ou a função ```dict()```. Os dicionários são mutáveis e iteráveis."
   ]
  },
  {
   "cell_type": "code",
   "execution_count": 61,
   "id": "88c8fcb3",
   "metadata": {},
   "outputs": [
    {
     "data": {
      "text/plain": [
       "dict"
      ]
     },
     "execution_count": 61,
     "metadata": {},
     "output_type": "execute_result"
    }
   ],
   "source": [
    "meu_dict = {}\n",
    "type(meu_dict)"
   ]
  },
  {
   "cell_type": "code",
   "execution_count": 62,
   "id": "0db8275b",
   "metadata": {},
   "outputs": [
    {
     "data": {
      "text/plain": [
       "{'clientes': ['Maria', 'João', 'Gilberto', 'Gabriela', 'Marcelo']}"
      ]
     },
     "execution_count": 62,
     "metadata": {},
     "output_type": "execute_result"
    }
   ],
   "source": [
    "meu_dict['clientes'] = ['Maria','João','Gilberto','Gabriela','Marcelo']\n",
    "meu_dict"
   ]
  },
  {
   "cell_type": "markdown",
   "id": "4a854168",
   "metadata": {},
   "source": [
    "Perceba que para adicionar um par ```chave:valor``` basta utilizar uma sintaxe de indexação com atribuição."
   ]
  },
  {
   "cell_type": "code",
   "execution_count": 65,
   "id": "ea393958",
   "metadata": {},
   "outputs": [
    {
     "data": {
      "text/plain": [
       "{'clientes': ['Maria', 'João', 'Gilberto', 'Gabriela', 'Marcelo'],\n",
       " 'endereços': {'maria': 'águas claras',\n",
       "  'joão': 'asa norte',\n",
       "  'gilberto': 'asa sul',\n",
       "  'gabriela': 'samambaia',\n",
       "  'marcelo': 'planaltina'}}"
      ]
     },
     "execution_count": 65,
     "metadata": {},
     "output_type": "execute_result"
    }
   ],
   "source": [
    "meu_dict['endereços'] = {\n",
    "    'maria':'águas claras',\n",
    "    'joão':'asa norte',\n",
    "    'gilberto':'asa sul',\n",
    "    'gabriela':'samambaia',\n",
    "    'marcelo':'planaltina'\n",
    "}\n",
    "\n",
    "meu_dict"
   ]
  },
  {
   "cell_type": "markdown",
   "id": "82d3e53e",
   "metadata": {},
   "source": [
    "Podemos também colocar dicionários dentro de dicionários. Perceba que todo objeto designado como valor ainda mantém seus métodos originais. Então para modifica-lo basta referenciar a chave e utilizar o método deseja do objeto em valor."
   ]
  },
  {
   "cell_type": "code",
   "execution_count": 1,
   "id": "f89c65be",
   "metadata": {},
   "outputs": [
    {
     "ename": "NameError",
     "evalue": "name 'meu_dict' is not defined",
     "output_type": "error",
     "traceback": [
      "\u001b[0;31m---------------------------------------------------------------------------\u001b[0m",
      "\u001b[0;31mNameError\u001b[0m                                 Traceback (most recent call last)",
      "\u001b[0;32m<ipython-input-1-b2f4527cf02e>\u001b[0m in \u001b[0;36m<module>\u001b[0;34m\u001b[0m\n\u001b[0;32m----> 1\u001b[0;31m \u001b[0mmeu_dict\u001b[0m\u001b[0;34m[\u001b[0m\u001b[0;34m'valor_total_faturado'\u001b[0m\u001b[0;34m]\u001b[0m \u001b[0;34m=\u001b[0m \u001b[0;36m50000\u001b[0m\u001b[0;34m\u001b[0m\u001b[0;34m\u001b[0m\u001b[0m\n\u001b[0m\u001b[1;32m      2\u001b[0m \u001b[0mmeu_dict\u001b[0m\u001b[0;34m\u001b[0m\u001b[0;34m\u001b[0m\u001b[0m\n",
      "\u001b[0;31mNameError\u001b[0m: name 'meu_dict' is not defined"
     ]
    }
   ],
   "source": [
    "meu_dict['valor_total_faturado'] = 50000\n",
    "meu_dict"
   ]
  },
  {
   "cell_type": "code",
   "execution_count": 67,
   "id": "67d4b742",
   "metadata": {},
   "outputs": [
    {
     "data": {
      "text/plain": [
       "{'clientes': ['Maria', 'João', 'Gilberto', 'Gabriela', 'Marcelo'],\n",
       " 'endereços': {'maria': 'águas claras',\n",
       "  'joão': 'asa norte',\n",
       "  'gilberto': 'asa sul',\n",
       "  'gabriela': 'samambaia',\n",
       "  'marcelo': 'planaltina'},\n",
       " 'valor_total_faturado': 122658}"
      ]
     },
     "execution_count": 67,
     "metadata": {},
     "output_type": "execute_result"
    }
   ],
   "source": [
    "meu_dict['valor_total_faturado'] = 122658\n",
    "meu_dict"
   ]
  },
  {
   "cell_type": "code",
   "execution_count": 68,
   "id": "735609b1",
   "metadata": {},
   "outputs": [
    {
     "data": {
      "text/plain": [
       "['Maria', 'João', 'Gilberto', 'Gabriela', 'Marcelo']"
      ]
     },
     "execution_count": 68,
     "metadata": {},
     "output_type": "execute_result"
    }
   ],
   "source": [
    "meu_dict['clientes']"
   ]
  },
  {
   "cell_type": "code",
   "execution_count": 69,
   "id": "4dbe9c62",
   "metadata": {},
   "outputs": [
    {
     "data": {
      "text/plain": [
       "'Maria'"
      ]
     },
     "execution_count": 69,
     "metadata": {},
     "output_type": "execute_result"
    }
   ],
   "source": [
    "meu_dict['clientes'][0]"
   ]
  },
  {
   "cell_type": "code",
   "execution_count": 70,
   "id": "b88e5bd7",
   "metadata": {},
   "outputs": [
    {
     "data": {
      "text/plain": [
       "{'clientes': ['Maria', 'João', 'Gilberto', 'Gabriela', 'Marcelo', 'Nasser'],\n",
       " 'endereços': {'maria': 'águas claras',\n",
       "  'joão': 'asa norte',\n",
       "  'gilberto': 'asa sul',\n",
       "  'gabriela': 'samambaia',\n",
       "  'marcelo': 'planaltina'},\n",
       " 'valor_total_faturado': 122658}"
      ]
     },
     "execution_count": 70,
     "metadata": {},
     "output_type": "execute_result"
    }
   ],
   "source": [
    "meu_dict['clientes'].append('Nasser')\n",
    "meu_dict"
   ]
  },
  {
   "cell_type": "code",
   "execution_count": 74,
   "id": "08453961",
   "metadata": {},
   "outputs": [],
   "source": [
    "meu_dict['endereços']['nassser'] = 0"
   ]
  },
  {
   "cell_type": "code",
   "execution_count": 75,
   "id": "324236c2",
   "metadata": {},
   "outputs": [
    {
     "data": {
      "text/plain": [
       "{'clientes': ['Maria', 'João', 'Gilberto', 'Gabriela', 'Marcelo', 'Nasser'],\n",
       " 'endereços': {'maria': 'águas claras',\n",
       "  'joão': 'asa norte',\n",
       "  'gilberto': 'asa sul',\n",
       "  'gabriela': 'samambaia',\n",
       "  'marcelo': 'planaltina',\n",
       "  'nassser': 0},\n",
       " 'valor_total_faturado': 122658}"
      ]
     },
     "execution_count": 75,
     "metadata": {},
     "output_type": "execute_result"
    }
   ],
   "source": [
    "meu_dict"
   ]
  },
  {
   "cell_type": "code",
   "execution_count": 76,
   "id": "19a71823",
   "metadata": {},
   "outputs": [],
   "source": [
    "del meu_dict['endereços']['nassser']"
   ]
  },
  {
   "cell_type": "code",
   "execution_count": 77,
   "id": "ab209950",
   "metadata": {},
   "outputs": [
    {
     "data": {
      "text/plain": [
       "{'clientes': ['Maria', 'João', 'Gilberto', 'Gabriela', 'Marcelo', 'Nasser'],\n",
       " 'endereços': {'maria': 'águas claras',\n",
       "  'joão': 'asa norte',\n",
       "  'gilberto': 'asa sul',\n",
       "  'gabriela': 'samambaia',\n",
       "  'marcelo': 'planaltina'},\n",
       " 'valor_total_faturado': 122658}"
      ]
     },
     "execution_count": 77,
     "metadata": {},
     "output_type": "execute_result"
    }
   ],
   "source": [
    "meu_dict"
   ]
  },
  {
   "cell_type": "code",
   "execution_count": 78,
   "id": "c8d42323",
   "metadata": {},
   "outputs": [
    {
     "data": {
      "text/plain": [
       "{'clientes': ['Maria', 'João', 'Gilberto', 'Gabriela', 'Marcelo', 'Nasser'],\n",
       " 'endereços': {'maria': 'águas claras',\n",
       "  'joão': 'asa norte',\n",
       "  'gilberto': 'asa sul',\n",
       "  'gabriela': 'samambaia',\n",
       "  'marcelo': 'planaltina',\n",
       "  'nasser': 'águas claras'},\n",
       " 'valor_total_faturado': 122658}"
      ]
     },
     "execution_count": 78,
     "metadata": {},
     "output_type": "execute_result"
    }
   ],
   "source": [
    "meu_dict['endereços']['nasser'] = 'águas claras'\n",
    "meu_dict"
   ]
  },
  {
   "cell_type": "code",
   "execution_count": 79,
   "id": "c4dd4044",
   "metadata": {},
   "outputs": [
    {
     "data": {
      "text/plain": [
       "dict_keys(['clientes', 'endereços', 'valor_total_faturado'])"
      ]
     },
     "execution_count": 79,
     "metadata": {},
     "output_type": "execute_result"
    }
   ],
   "source": [
    "meu_dict.keys()"
   ]
  },
  {
   "cell_type": "code",
   "execution_count": 80,
   "id": "0fe42ddd",
   "metadata": {},
   "outputs": [
    {
     "data": {
      "text/plain": [
       "dict_values([['Maria', 'João', 'Gilberto', 'Gabriela', 'Marcelo', 'Nasser'], {'maria': 'águas claras', 'joão': 'asa norte', 'gilberto': 'asa sul', 'gabriela': 'samambaia', 'marcelo': 'planaltina', 'nasser': 'águas claras'}, 122658])"
      ]
     },
     "execution_count": 80,
     "metadata": {},
     "output_type": "execute_result"
    }
   ],
   "source": [
    "meu_dict.values()"
   ]
  },
  {
   "cell_type": "code",
   "execution_count": 81,
   "id": "908477d4",
   "metadata": {},
   "outputs": [],
   "source": [
    "valor_total_faturado = meu_dict.pop('valor_total_faturado')"
   ]
  },
  {
   "cell_type": "code",
   "execution_count": 82,
   "id": "e68bcd90",
   "metadata": {},
   "outputs": [
    {
     "data": {
      "text/plain": [
       "{'clientes': ['Maria', 'João', 'Gilberto', 'Gabriela', 'Marcelo', 'Nasser'],\n",
       " 'endereços': {'maria': 'águas claras',\n",
       "  'joão': 'asa norte',\n",
       "  'gilberto': 'asa sul',\n",
       "  'gabriela': 'samambaia',\n",
       "  'marcelo': 'planaltina',\n",
       "  'nasser': 'águas claras'}}"
      ]
     },
     "execution_count": 82,
     "metadata": {},
     "output_type": "execute_result"
    }
   ],
   "source": [
    "meu_dict"
   ]
  },
  {
   "cell_type": "code",
   "execution_count": 83,
   "id": "b8ca7517",
   "metadata": {},
   "outputs": [
    {
     "data": {
      "text/plain": [
       "122658"
      ]
     },
     "execution_count": 83,
     "metadata": {},
     "output_type": "execute_result"
    }
   ],
   "source": [
    "valor_total_faturado"
   ]
  },
  {
   "cell_type": "code",
   "execution_count": 84,
   "id": "d503f304",
   "metadata": {},
   "outputs": [
    {
     "data": {
      "text/plain": [
       "dict_items([('clientes', ['Maria', 'João', 'Gilberto', 'Gabriela', 'Marcelo', 'Nasser']), ('endereços', {'maria': 'águas claras', 'joão': 'asa norte', 'gilberto': 'asa sul', 'gabriela': 'samambaia', 'marcelo': 'planaltina', 'nasser': 'águas claras'})])"
      ]
     },
     "execution_count": 84,
     "metadata": {},
     "output_type": "execute_result"
    }
   ],
   "source": [
    "meu_dict.items()"
   ]
  },
  {
   "cell_type": "code",
   "execution_count": null,
   "id": "32bc91db",
   "metadata": {},
   "outputs": [],
   "source": [
    "meu_dict.get('valor_total_de_venda')"
   ]
  },
  {
   "cell_type": "code",
   "execution_count": null,
   "id": "78bc7a10",
   "metadata": {},
   "outputs": [],
   "source": [
    "meu_dict['valor_total_de_venda']"
   ]
  },
  {
   "cell_type": "markdown",
   "id": "cf2bc980",
   "metadata": {},
   "source": [
    "O método ```.get()``` retorna o valor associado a uma chave, porém se essa chave não existir ele não levanta nenhuma mensagem de erro como a indexação tradicional faria. Entender esse comportamento é muito importante para montar algoritmos que possam atuar sem intervenção humana."
   ]
  }
 ],
 "metadata": {
  "kernelspec": {
   "display_name": "Python 3",
   "language": "python",
   "name": "python3"
  },
  "language_info": {
   "codemirror_mode": {
    "name": "ipython",
    "version": 3
   },
   "file_extension": ".py",
   "mimetype": "text/x-python",
   "name": "python",
   "nbconvert_exporter": "python",
   "pygments_lexer": "ipython3",
   "version": "3.7.6"
  },
  "toc": {
   "base_numbering": 1,
   "nav_menu": {},
   "number_sections": true,
   "sideBar": true,
   "skip_h1_title": false,
   "title_cell": "Table of Contents",
   "title_sidebar": "Contents",
   "toc_cell": false,
   "toc_position": {},
   "toc_section_display": true,
   "toc_window_display": false
  }
 },
 "nbformat": 4,
 "nbformat_minor": 5
}
