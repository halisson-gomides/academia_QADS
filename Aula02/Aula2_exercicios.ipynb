{
 "cells": [
  {
   "cell_type": "markdown",
   "id": "8264b715",
   "metadata": {},
   "source": [
    "# Exercícios - Aula 02\n",
    "___\n",
    "\n",
    "1. Crie uma lista 'a_list' com os seguintes valores: 1, hello, [1,2,3] e True.\n",
    "2. Ache o valor em 'a_list' que esteja no índice -1.\n",
    "3. Encontre os valores em 'a_list' que estejam nos indices 1,2 e 3.\n",
    "4. Junte as seguinte listas a=[1,2,3,4,5] e b=[11,12,13,14,15]\n",
    "5. Crie uma lista de listas 'list_list' que tenha os valores de 'a_list', 'a' e 'b'\n",
    "6. Qual o tamanho de 'list_list'?\n",
    "7. Adicione o valor 125 ao final de 'list_list'.\n",
    "8. Remova a lista [1,2,3] de 'list_list' e guarde esse valor numa variável 'list_a'.\n",
    "9. Qual é o primeiro valor do segundo valor de [[1,3,5,7],[2,4,6,8,10]]?\n",
    "10. Crie a tupla 'gnr' com os seguintes valores: rock, metal, sertanejo, pop, lo-fi e chillwave, nessa ordem.\n",
    "11. Qual o terceiro valor da tupla 'gnr'?\n",
    "12. Qual o índice de lofi?\n",
    "13. Crie uma tupla de tuplas com as seguintes tuplas (15,30), (20,40) e (25,50). Como acessar o valor 40?\n",
    "14. Acesse a tupla 'gnr' a cada dois valores, qual gêneros musicais aparecem?\n",
    "16. Crie o dicionário 'mcu' com os seguintes dados, 'Homem de Ferro':2008, 'Homem de Ferro 2':2010, 'Homem de ferro 3':2013, 'Avengers: Endgame':2019.\n",
    "\n",
    "    a - No dicionário 'mcu' quais são os valores?\n",
    "\n",
    "    b - No dicińario 'mcu' quais são as chaves?\n",
    "\n",
    "    c - Adicione ao dicionário 'mcu' os seguintes filmes: 'Avengers Infinity War':2018, 'Avengers Age of Ultron':2015.\n",
    "\n",
    "    d - Delete o filme 'Homem de Ferro 3' do dicionário 'mcu'\n",
    "\n",
    "    e - Limpe o dicionário 'mcu'\n",
    "\n",
    "17. Popule o dicionário vazio 'mcu' com as informações abaixo:\n",
    "\n",
    "'homem de ferro':{'filmes':3,'ator principal':'Robert Downey Jr.'},'Cpt.América':{'filmes':3,'ator principal':'Chris Evans'}\n",
    "\n",
    "18. Acesse somente a quantidade de filmes de cada uma das chaves do dicionário MCU.\n",
    "\n",
    "19. Quais são as chaves do dicionário de dicionários 'mcu'?\n",
    "\n",
    "20. Qual o tamanho do dicionário de dicionários 'mcu'?"
   ]
  },
  {
   "cell_type": "markdown",
   "id": "17866907",
   "metadata": {},
   "source": [
    "### Exercício 01"
   ]
  },
  {
   "cell_type": "code",
   "execution_count": 1,
   "id": "975dff27",
   "metadata": {
    "ExecuteTime": {
     "end_time": "2021-07-10T13:28:18.094430Z",
     "start_time": "2021-07-10T13:28:18.084438Z"
    }
   },
   "outputs": [],
   "source": [
    "a_list = [1, 'hello', [1,2,3], True]"
   ]
  },
  {
   "cell_type": "markdown",
   "id": "078bd610",
   "metadata": {},
   "source": [
    "### Exercício 02"
   ]
  },
  {
   "cell_type": "code",
   "execution_count": 2,
   "id": "8479ecea",
   "metadata": {
    "ExecuteTime": {
     "end_time": "2021-07-10T13:28:43.620999Z",
     "start_time": "2021-07-10T13:28:43.608722Z"
    }
   },
   "outputs": [
    {
     "data": {
      "text/plain": [
       "True"
      ]
     },
     "execution_count": 2,
     "metadata": {},
     "output_type": "execute_result"
    }
   ],
   "source": [
    "a_list[-1]"
   ]
  },
  {
   "cell_type": "markdown",
   "id": "f637fb25",
   "metadata": {},
   "source": [
    "### Exercício 03"
   ]
  },
  {
   "cell_type": "code",
   "execution_count": 3,
   "id": "306b6576",
   "metadata": {
    "ExecuteTime": {
     "end_time": "2021-07-10T13:29:28.216148Z",
     "start_time": "2021-07-10T13:29:28.207146Z"
    }
   },
   "outputs": [
    {
     "name": "stdout",
     "output_type": "stream",
     "text": [
      "hello [1, 2, 3] True\n"
     ]
    }
   ],
   "source": [
    "print(a_list[1], a_list[2], a_list[3])"
   ]
  },
  {
   "cell_type": "markdown",
   "id": "c748ca32",
   "metadata": {},
   "source": [
    "### Exercício 04"
   ]
  },
  {
   "cell_type": "code",
   "execution_count": 6,
   "id": "eb804bab",
   "metadata": {
    "ExecuteTime": {
     "end_time": "2021-07-10T13:34:41.942247Z",
     "start_time": "2021-07-10T13:34:41.925257Z"
    }
   },
   "outputs": [
    {
     "data": {
      "text/plain": [
       "[1, 2, 3, 4, 5, 11, 12, 13, 14, 15]"
      ]
     },
     "execution_count": 6,
     "metadata": {},
     "output_type": "execute_result"
    }
   ],
   "source": [
    "a=[1,2,3,4,5] \n",
    "b=[11,12,13,14,15]\n",
    "a + b"
   ]
  },
  {
   "cell_type": "markdown",
   "id": "d3fcf8a9",
   "metadata": {},
   "source": [
    "### Exercício 05"
   ]
  },
  {
   "cell_type": "code",
   "execution_count": 8,
   "id": "418c3ff1",
   "metadata": {
    "ExecuteTime": {
     "end_time": "2021-07-10T13:35:02.879700Z",
     "start_time": "2021-07-10T13:35:02.873697Z"
    }
   },
   "outputs": [
    {
     "name": "stdout",
     "output_type": "stream",
     "text": [
      "[1, 'hello', [1, 2, 3], True, 1, 2, 3, 4, 5, 11, 12, 13, 14, 15]\n"
     ]
    }
   ],
   "source": [
    "list_list = a_list + a + b\n",
    "print(list_list)"
   ]
  },
  {
   "cell_type": "markdown",
   "id": "d59d622d",
   "metadata": {},
   "source": [
    "### Exercício 06"
   ]
  },
  {
   "cell_type": "code",
   "execution_count": 9,
   "id": "fc7937b1",
   "metadata": {
    "ExecuteTime": {
     "end_time": "2021-07-10T13:35:24.198948Z",
     "start_time": "2021-07-10T13:35:24.190949Z"
    }
   },
   "outputs": [
    {
     "name": "stdout",
     "output_type": "stream",
     "text": [
      "14\n"
     ]
    }
   ],
   "source": [
    "print(len(list_list))"
   ]
  },
  {
   "cell_type": "markdown",
   "id": "2b58d58e",
   "metadata": {},
   "source": [
    "### Exercício 07"
   ]
  },
  {
   "cell_type": "code",
   "execution_count": 10,
   "id": "e9e62808",
   "metadata": {
    "ExecuteTime": {
     "end_time": "2021-07-10T13:36:02.402041Z",
     "start_time": "2021-07-10T13:36:02.399039Z"
    }
   },
   "outputs": [],
   "source": [
    "list_list.append(125)"
   ]
  },
  {
   "cell_type": "markdown",
   "id": "53fea36f",
   "metadata": {},
   "source": [
    "### Exercício 08"
   ]
  },
  {
   "cell_type": "code",
   "execution_count": 12,
   "id": "76790ca3",
   "metadata": {
    "ExecuteTime": {
     "end_time": "2021-07-10T13:38:32.440513Z",
     "start_time": "2021-07-10T13:38:32.435516Z"
    }
   },
   "outputs": [
    {
     "name": "stdout",
     "output_type": "stream",
     "text": [
      "[1, 2, 3]\n"
     ]
    }
   ],
   "source": [
    "# Remova a lista [1,2,3] de 'list_list' e guarde esse valor numa variável 'list_a'\n",
    "list_a = list_list.pop(2)\n",
    "print(list_a)"
   ]
  },
  {
   "cell_type": "markdown",
   "id": "e361b99d",
   "metadata": {},
   "source": [
    "### Exercício 09"
   ]
  },
  {
   "cell_type": "code",
   "execution_count": 13,
   "id": "9733498a",
   "metadata": {
    "ExecuteTime": {
     "end_time": "2021-07-10T13:39:49.588836Z",
     "start_time": "2021-07-10T13:39:49.566092Z"
    }
   },
   "outputs": [
    {
     "name": "stdout",
     "output_type": "stream",
     "text": [
      "Primeiro valor: [1, 3, 5, 7]\n",
      "Segundo valor: [2, 4, 6, 8, 10]\n"
     ]
    }
   ],
   "source": [
    "# Qual é o primeiro valor do segundo valor de [[1,3,5,7],[2,4,6,8,10]]?\n",
    "lista =  [[1,3,5,7],[2,4,6,8,10]]\n",
    "print(f'Primeiro valor: {lista[0]}')\n",
    "print(f'Segundo valor: {lista[1]}')"
   ]
  },
  {
   "cell_type": "markdown",
   "id": "20a940fa",
   "metadata": {},
   "source": [
    "### Exercício 10"
   ]
  },
  {
   "cell_type": "code",
   "execution_count": 15,
   "id": "32f6af5b",
   "metadata": {
    "ExecuteTime": {
     "end_time": "2021-07-10T13:40:32.990628Z",
     "start_time": "2021-07-10T13:40:32.983635Z"
    }
   },
   "outputs": [
    {
     "data": {
      "text/plain": [
       "tuple"
      ]
     },
     "execution_count": 15,
     "metadata": {},
     "output_type": "execute_result"
    }
   ],
   "source": [
    "gnr = 'rock', 'metal', 'sertanejo', 'pop', 'lo-fi', 'chillwave'\n",
    "type(gnr)"
   ]
  },
  {
   "cell_type": "markdown",
   "id": "41e8891f",
   "metadata": {},
   "source": [
    "### Exercício 11"
   ]
  },
  {
   "cell_type": "code",
   "execution_count": 16,
   "id": "326d84d3",
   "metadata": {
    "ExecuteTime": {
     "end_time": "2021-07-10T13:41:00.232023Z",
     "start_time": "2021-07-10T13:41:00.225029Z"
    }
   },
   "outputs": [
    {
     "name": "stdout",
     "output_type": "stream",
     "text": [
      "Terceiro valor: sertanejo\n"
     ]
    }
   ],
   "source": [
    "# Qual o terceiro valor da tupla 'gnr'?\n",
    "print(f'Terceiro valor: {gnr[2]}')"
   ]
  },
  {
   "cell_type": "markdown",
   "id": "86df0cdb",
   "metadata": {},
   "source": [
    "### Exercício 12"
   ]
  },
  {
   "cell_type": "code",
   "execution_count": 8,
   "id": "0957eb25",
   "metadata": {
    "ExecuteTime": {
     "end_time": "2021-07-09T12:51:39.987758Z",
     "start_time": "2021-07-09T12:51:39.975762Z"
    }
   },
   "outputs": [
    {
     "data": {
      "text/plain": [
       "4"
      ]
     },
     "execution_count": 8,
     "metadata": {},
     "output_type": "execute_result"
    }
   ],
   "source": [
    "gnr.index('lo-fi')"
   ]
  },
  {
   "cell_type": "markdown",
   "id": "135043d3",
   "metadata": {},
   "source": [
    "### Exercício 13"
   ]
  },
  {
   "cell_type": "code",
   "execution_count": 6,
   "id": "14fed063",
   "metadata": {
    "ExecuteTime": {
     "end_time": "2021-07-09T12:51:02.613497Z",
     "start_time": "2021-07-09T12:51:02.591475Z"
    }
   },
   "outputs": [
    {
     "data": {
      "text/plain": [
       "40"
      ]
     },
     "execution_count": 6,
     "metadata": {},
     "output_type": "execute_result"
    }
   ],
   "source": [
    "tupla = ((15,30), (20,40), (25,50))\n",
    "tupla[1][1]"
   ]
  },
  {
   "cell_type": "markdown",
   "id": "a54940ea",
   "metadata": {},
   "source": [
    "### Exercício 14"
   ]
  },
  {
   "cell_type": "code",
   "execution_count": 9,
   "id": "65684c72",
   "metadata": {
    "ExecuteTime": {
     "end_time": "2021-07-09T12:51:58.911205Z",
     "start_time": "2021-07-09T12:51:58.904206Z"
    }
   },
   "outputs": [
    {
     "data": {
      "text/plain": [
       "('rock', 'sertanejo', 'lo-fi')"
      ]
     },
     "execution_count": 9,
     "metadata": {},
     "output_type": "execute_result"
    }
   ],
   "source": [
    "gnr[::2]"
   ]
  },
  {
   "cell_type": "markdown",
   "id": "742719bb",
   "metadata": {},
   "source": [
    "### Exercício 15"
   ]
  },
  {
   "cell_type": "code",
   "execution_count": 37,
   "id": "530d54a1",
   "metadata": {
    "ExecuteTime": {
     "end_time": "2021-07-09T16:34:58.562626Z",
     "start_time": "2021-07-09T16:34:58.521100Z"
    }
   },
   "outputs": [
    {
     "name": "stdout",
     "output_type": "stream",
     "text": [
      "*************************************15. a) **************************************\n",
      "dict_values([2008, 2010, 2013, 2019])\n",
      "*************************************15. b) **************************************\n",
      "dict_keys(['Homem de Ferro', 'Homem de Ferro 2', 'Homem de ferro 3', 'Avengers: Endgame'])\n",
      "*************************************15. c) **************************************\n",
      "dict_items([('Homem de Ferro', 2008), ('Homem de Ferro 2', 2010), ('Homem de ferro 3', 2013), ('Avengers: Endgame', 2019), ('Avengers Infinity War', 2018), ('Avengers Age of Ultron', 2015)])\n",
      "*************************************15. d) **************************************\n",
      "dict_items([('Homem de Ferro', 2008), ('Homem de Ferro 2', 2010), ('Avengers: Endgame', 2019), ('Avengers Infinity War', 2018), ('Avengers Age of Ultron', 2015)])\n",
      "*************************************15. e) **************************************\n",
      "dict_items([])\n"
     ]
    }
   ],
   "source": [
    "mcu = {'Homem de Ferro':2008, 'Homem de Ferro 2':2010, 'Homem de ferro 3':2013, 'Avengers: Endgame':2019}\n",
    "\n",
    "# a - No dicionário 'mcu' quais são os valores?\n",
    "print(format('15. a) ','*^82'))\n",
    "print(mcu.values())\n",
    "\n",
    "# b - No dicińario 'mcu' quais são as chaves?\n",
    "print(format('15. b) ','*^82'))\n",
    "print(mcu.keys())\n",
    "\n",
    "# c - Adicione ao dicionário 'mcu' os seguintes filmes: 'Avengers Infinity War':2018, 'Avengers Age of Ultron':2015.\n",
    "mcu.update({ 'Avengers Infinity War':2018, 'Avengers Age of Ultron':2015})\n",
    "print(format('15. c) ','*^82'))\n",
    "print(mcu.items())\n",
    "\n",
    "# d - Delete o filme 'Homem de Ferro 3' do dicionário 'mcu'\n",
    "del mcu['Homem de ferro 3']\n",
    "print(format('15. d) ','*^82'))\n",
    "print(mcu.items())\n",
    "\n",
    "# e - Limpe o dicionário 'mcu'\n",
    "mcu.clear()\n",
    "print(format('15. e) ','*^82'))\n",
    "print(mcu.items())"
   ]
  },
  {
   "cell_type": "markdown",
   "id": "81ffc5a5",
   "metadata": {},
   "source": [
    "###  Exercício 16"
   ]
  },
  {
   "cell_type": "code",
   "execution_count": 41,
   "id": "e8071c11",
   "metadata": {
    "ExecuteTime": {
     "end_time": "2021-07-09T16:35:29.012828Z",
     "start_time": "2021-07-09T16:35:28.994842Z"
    }
   },
   "outputs": [
    {
     "name": "stdout",
     "output_type": "stream",
     "text": [
      "*************************************** 16 ***************************************\n",
      "dict_items([('homem de ferro', {'filmes': 3, 'ator principal': 'Robert Downey Jr.'}), ('Cpt.América', {'filmes': 3, 'ator principal': 'Chris Evans'})])\n"
     ]
    }
   ],
   "source": [
    "mcu.update({'homem de ferro':{'filmes':3,'ator principal':'Robert Downey Jr.'},\n",
    "            'Cpt.América':{'filmes':3,'ator principal':'Chris Evans'}})\n",
    "print(format(' 16 ','*^82'))\n",
    "print(mcu.items())"
   ]
  },
  {
   "cell_type": "markdown",
   "id": "cd4383cd",
   "metadata": {},
   "source": [
    "### Exercício 18"
   ]
  },
  {
   "cell_type": "code",
   "execution_count": 44,
   "id": "acfcf54b",
   "metadata": {
    "ExecuteTime": {
     "end_time": "2021-07-09T16:35:39.628482Z",
     "start_time": "2021-07-09T16:35:39.609479Z"
    }
   },
   "outputs": [
    {
     "data": {
      "text/plain": [
       "[3, 3]"
      ]
     },
     "execution_count": 44,
     "metadata": {},
     "output_type": "execute_result"
    }
   ],
   "source": [
    "# Acesse somente a quantidade de filmes de cada uma das chaves do dicionário MCU\n",
    "list(map(lambda k: mcu[k].get('filmes'), mcu))"
   ]
  },
  {
   "cell_type": "markdown",
   "id": "50ad73a1",
   "metadata": {},
   "source": [
    "### Exercício 19"
   ]
  },
  {
   "cell_type": "code",
   "execution_count": 35,
   "id": "c1b017a9",
   "metadata": {
    "ExecuteTime": {
     "end_time": "2021-07-09T13:47:53.484429Z",
     "start_time": "2021-07-09T13:47:53.472410Z"
    }
   },
   "outputs": [
    {
     "name": "stdout",
     "output_type": "stream",
     "text": [
      "dict_keys(['homem de ferro', 'Cpt.América'])\n"
     ]
    }
   ],
   "source": [
    "print(mcu.keys())"
   ]
  },
  {
   "cell_type": "markdown",
   "id": "ed8aaec5",
   "metadata": {},
   "source": [
    "### Exercício 20"
   ]
  },
  {
   "cell_type": "code",
   "execution_count": 36,
   "id": "f7138b9a",
   "metadata": {
    "ExecuteTime": {
     "end_time": "2021-07-09T13:48:56.990426Z",
     "start_time": "2021-07-09T13:48:56.972426Z"
    }
   },
   "outputs": [
    {
     "data": {
      "text/plain": [
       "2"
      ]
     },
     "execution_count": 36,
     "metadata": {},
     "output_type": "execute_result"
    }
   ],
   "source": [
    "len(mcu)"
   ]
  },
  {
   "cell_type": "code",
   "execution_count": null,
   "id": "c01b4b6e",
   "metadata": {},
   "outputs": [],
   "source": []
  }
 ],
 "metadata": {
  "kernelspec": {
   "display_name": "Python 3",
   "language": "python",
   "name": "python3"
  },
  "language_info": {
   "codemirror_mode": {
    "name": "ipython",
    "version": 3
   },
   "file_extension": ".py",
   "mimetype": "text/x-python",
   "name": "python",
   "nbconvert_exporter": "python",
   "pygments_lexer": "ipython3",
   "version": "3.7.6"
  },
  "toc": {
   "base_numbering": 1,
   "nav_menu": {},
   "number_sections": true,
   "sideBar": true,
   "skip_h1_title": false,
   "title_cell": "Table of Contents",
   "title_sidebar": "Contents",
   "toc_cell": false,
   "toc_position": {},
   "toc_section_display": true,
   "toc_window_display": true
  }
 },
 "nbformat": 4,
 "nbformat_minor": 5
}
