{
 "cells": [
  {
   "cell_type": "markdown",
   "id": "0b8fa427",
   "metadata": {},
   "source": [
    "<img src=\"imgs/mesttra.png\" alt=\"mesttra_logo\" style=\"width: 200px;\"/>\n",
    "\n",
    "# Funções\n",
    "___\n",
    "\n",
    "Uma função é um bloco de código que só é executado quando chamado. Cada função tem um identificador e assim que definido estará sempre associado ao bloco de código. O ato de definir uma função não executa o seu código. Para criar um função basta utilizarmos a palavra reservada ```def```.\n",
    "\n",
    "Um cientista de dados define várias funções ao longo do seu dia-a-dia de trabalho. Em sua maioria, as funções criadas executam uma atividade única que será utilizadas uma grande quantidade de vezes. Funções de avaliação de métricas, tratamento de dados, avaliação de modelos, são exemplos de funcionalidades normalmente utilizadas para funções personalizadas.\n"
   ]
  },
  {
   "cell_type": "code",
   "execution_count": 1,
   "id": "959a0ae0",
   "metadata": {},
   "outputs": [],
   "source": [
    "def minha_primeira_funcao():\n",
    "    print('O início de um sonho!')\n",
    "    for _ in range(5):\n",
    "        print('.')\n",
    "    print('Deu tudo certo!')"
   ]
  },
  {
   "cell_type": "code",
   "execution_count": 2,
   "id": "af44e90e",
   "metadata": {},
   "outputs": [
    {
     "name": "stdout",
     "output_type": "stream",
     "text": [
      "O início de um sonho!\n",
      ".\n",
      ".\n",
      ".\n",
      ".\n",
      ".\n",
      "Deu tudo certo!\n"
     ]
    }
   ],
   "source": [
    "minha_primeira_funcao()"
   ]
  },
  {
   "cell_type": "code",
   "execution_count": 1,
   "id": "406db6ab",
   "metadata": {},
   "outputs": [
    {
     "name": "stdout",
     "output_type": "stream",
     "text": [
      "Hello World!\n"
     ]
    }
   ],
   "source": [
    "def hello_world():\n",
    "    print('Hello World!')\n",
    "\n",
    "hello_world()"
   ]
  },
  {
   "cell_type": "markdown",
   "id": "4e52a51a",
   "metadata": {},
   "source": [
    "Funções podem receber valores pre-determinados chamados de parâmetros, cada parâmetro irá receber um argumento e esses argumentos podem ser enviados pelo usuário ou pode ser previamente determinado."
   ]
  },
  {
   "cell_type": "code",
   "execution_count": 2,
   "id": "78bb6382",
   "metadata": {},
   "outputs": [],
   "source": [
    "def hello_person(nome):\n",
    "    print(f'Hello {nome}!')"
   ]
  },
  {
   "cell_type": "code",
   "execution_count": 3,
   "id": "fde474fe",
   "metadata": {},
   "outputs": [
    {
     "name": "stdout",
     "output_type": "stream",
     "text": [
      "Hello Maria!\n"
     ]
    }
   ],
   "source": [
    "hello_person(nome = 'Maria')"
   ]
  },
  {
   "cell_type": "code",
   "execution_count": 4,
   "id": "d8e0932e",
   "metadata": {},
   "outputs": [],
   "source": [
    "def calculadora(valor1,valor2,operacao):\n",
    "    if operacao == 'soma':\n",
    "        print(valor1+valor2)\n",
    "    elif operacao == 'divisao':\n",
    "        print(valor1/valor2)\n",
    "    elif operacao == 'multiplicacao':\n",
    "        print(valor1*valor2)\n",
    "    elif operacao == 'subtracao':\n",
    "        print(valor1-valor2)"
   ]
  },
  {
   "cell_type": "code",
   "execution_count": 5,
   "id": "99a2352a",
   "metadata": {},
   "outputs": [
    {
     "ename": "TypeError",
     "evalue": "calculadora() missing 1 required positional argument: 'operacao'",
     "output_type": "error",
     "traceback": [
      "\u001b[0;31m---------------------------------------------------------------------------\u001b[0m",
      "\u001b[0;31mTypeError\u001b[0m                                 Traceback (most recent call last)",
      "\u001b[0;32m<ipython-input-5-c28088c07ec2>\u001b[0m in \u001b[0;36m<module>\u001b[0;34m\u001b[0m\n\u001b[0;32m----> 1\u001b[0;31m \u001b[0mcalculadora\u001b[0m\u001b[0;34m(\u001b[0m\u001b[0mvalor1\u001b[0m\u001b[0;34m=\u001b[0m\u001b[0;36m15\u001b[0m\u001b[0;34m,\u001b[0m\u001b[0mvalor2\u001b[0m\u001b[0;34m=\u001b[0m\u001b[0;36m16\u001b[0m\u001b[0;34m)\u001b[0m\u001b[0;34m\u001b[0m\u001b[0;34m\u001b[0m\u001b[0m\n\u001b[0m",
      "\u001b[0;31mTypeError\u001b[0m: calculadora() missing 1 required positional argument: 'operacao'"
     ]
    }
   ],
   "source": [
    "calculadora(valor1=15,valor2=16)"
   ]
  },
  {
   "cell_type": "markdown",
   "id": "daa1d9b4",
   "metadata": {},
   "source": [
    "Na construção da função ```calculadora()``` existe o parâmetro ```operacao``` que não foi passado, logo recebemos o erro acima."
   ]
  },
  {
   "cell_type": "code",
   "execution_count": 6,
   "id": "0e36db22",
   "metadata": {},
   "outputs": [
    {
     "name": "stdout",
     "output_type": "stream",
     "text": [
      "31\n"
     ]
    }
   ],
   "source": [
    "calculadora(valor1=15,valor2=16,operacao='soma')"
   ]
  },
  {
   "cell_type": "code",
   "execution_count": 7,
   "id": "8cfcf9ee",
   "metadata": {},
   "outputs": [
    {
     "name": "stdout",
     "output_type": "stream",
     "text": [
      "31\n"
     ]
    }
   ],
   "source": [
    "calculadora(15,16,'soma')"
   ]
  },
  {
   "cell_type": "code",
   "execution_count": 8,
   "id": "469c4826",
   "metadata": {},
   "outputs": [
    {
     "ename": "SyntaxError",
     "evalue": "positional argument follows keyword argument (<ipython-input-8-ae5f18dafefc>, line 1)",
     "output_type": "error",
     "traceback": [
      "\u001b[0;36m  File \u001b[0;32m\"<ipython-input-8-ae5f18dafefc>\"\u001b[0;36m, line \u001b[0;32m1\u001b[0m\n\u001b[0;31m    calculadora(operacao='soma',10,8)\u001b[0m\n\u001b[0m                                ^\u001b[0m\n\u001b[0;31mSyntaxError\u001b[0m\u001b[0;31m:\u001b[0m positional argument follows keyword argument\n"
     ]
    }
   ],
   "source": [
    "calculadora(operacao='soma',10,8)"
   ]
  },
  {
   "cell_type": "markdown",
   "id": "cdb5e9be",
   "metadata": {},
   "source": [
    "Os parâmetros de uma função podem ser passadas de forma posicional, ou seja, o primeiro valor será entregue ao primeiro parâmetro, o segundo valor ao segundo parâmetro e assim por diante. Porém, se iniciarmos a chamada de uma função de forma posicional não podemos alterar a forma de chamada."
   ]
  },
  {
   "cell_type": "code",
   "execution_count": 10,
   "id": "b69cce20",
   "metadata": {},
   "outputs": [],
   "source": [
    "## criando valores padrões para argumentos\n",
    "\n",
    "def calculadora(valor1, valor2, operacao='soma'):\n",
    "\n",
    "    if operacao == 'soma':\n",
    "        print(valor1+valor2)\n",
    "    elif operacao == 'divisao':\n",
    "        print(valor1/valor2)\n",
    "    elif operacao == 'multiplicacao':\n",
    "        print(valor1*valor2)\n",
    "    elif operacao == 'subtracao':\n",
    "        print(valor1-valor2)"
   ]
  },
  {
   "cell_type": "code",
   "execution_count": 11,
   "id": "b2348070",
   "metadata": {},
   "outputs": [
    {
     "name": "stdout",
     "output_type": "stream",
     "text": [
      "110\n"
     ]
    }
   ],
   "source": [
    "calculadora(100,10)"
   ]
  },
  {
   "cell_type": "markdown",
   "id": "c21ceb5e",
   "metadata": {},
   "source": [
    "O resultado de uma função pode ser guardado em variáveis, porém para que isso ocorra precisamos expressar claramente o que será retornado pela função usando a palavra reservada ```return```. É bastante recomendado criar funções que tenham ```return```."
   ]
  },
  {
   "cell_type": "code",
   "execution_count": 15,
   "id": "8496666a",
   "metadata": {},
   "outputs": [],
   "source": [
    "def minha_soma(valor1,valor2):\n",
    "    valor1+valor2\n",
    "\n",
    "def minha_soma_return(valor1,valor2):\n",
    "    resultado = valor1 + valor2\n",
    "\n",
    "    return resultado"
   ]
  },
  {
   "cell_type": "code",
   "execution_count": 16,
   "id": "adcacdd2",
   "metadata": {},
   "outputs": [
    {
     "name": "stdout",
     "output_type": "stream",
     "text": [
      "None\n",
      "<class 'NoneType'>\n"
     ]
    }
   ],
   "source": [
    "x = minha_soma(10,10)\n",
    "print(x)\n",
    "print(type(x))"
   ]
  },
  {
   "cell_type": "code",
   "execution_count": 17,
   "id": "e6f18d41",
   "metadata": {},
   "outputs": [
    {
     "name": "stdout",
     "output_type": "stream",
     "text": [
      "20\n",
      "<class 'int'>\n"
     ]
    }
   ],
   "source": [
    "x = minha_soma_return(10,10)\n",
    "print(x)\n",
    "print(type(x))"
   ]
  }
 ],
 "metadata": {
  "kernelspec": {
   "display_name": "Python [conda env:qads]",
   "language": "python",
   "name": "conda-env-qads-py"
  },
  "language_info": {
   "codemirror_mode": {
    "name": "ipython",
    "version": 3
   },
   "file_extension": ".py",
   "mimetype": "text/x-python",
   "name": "python",
   "nbconvert_exporter": "python",
   "pygments_lexer": "ipython3",
   "version": "3.9.5"
  },
  "toc": {
   "base_numbering": 1,
   "nav_menu": {},
   "number_sections": true,
   "sideBar": true,
   "skip_h1_title": false,
   "title_cell": "Table of Contents",
   "title_sidebar": "Contents",
   "toc_cell": false,
   "toc_position": {},
   "toc_section_display": true,
   "toc_window_display": false
  }
 },
 "nbformat": 4,
 "nbformat_minor": 5
}
