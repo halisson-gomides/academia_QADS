{
 "cells": [
  {
   "cell_type": "markdown",
   "id": "08351ce7",
   "metadata": {},
   "source": [
    "# Exercícios - Aula 01\n",
    "___\n",
    "\n",
    "1. Crie um algoritmo que represente a árvore abaixo.\n",
    "\n",
    "![](../imgs/arvore.png)\n",
    "\n",
    "1.1 Quando x = 'bacon', y = [1,2,3,4,5,6,7,8,9,10,'a','b','c','d','e','f','g','h'] e z = 15. Qual valor o programa deverá printar?\n",
    "\n",
    "1.2 Quando x='couxeiro', y = [[1,2,3,4,5],[1,2,3,4,5],[1,2,3,4,5]] e z = 21. Qual valor o programa deverá printar?\n",
    "\n",
    "2. Crie um algoritmo que avalia se um número é ou não divisível por 5. Em caso positivo print 'Fizz' e em caso negativo print 'Buzz'.\n",
    "\n",
    "3. Crie um algoritmo que avalia duas condições, a primeira condição testa se a variável ```x``` é par, a segunda condição avalia se a variável ```y``` é maior que 10, una as duas condições utilizando o operador lógico ```and```. Atribua pelo menos 4 valores diferentes para ```x``` e ```y``` e dê print no resultado.\n",
    "\n",
    "4. Crie um algoritmo que avalia duas condições, a primeira condição testa se a variável ```x``` é divisível por 5.5, a segunda condição avalia se a variável ```y``` é menor ou igual a 5, una as duas condições utilizando o operador lógico ```or```. Atribua pelo menos 4 valores diferentes para ```x``` e ```y``` e dê print no resultado.\n",
    "\n",
    "5. Uma escola tem a seguintes regras de avaliação:\n",
    "* Notas abaixo de 24 -> F\n",
    "* De 25 a 44 -> E\n",
    "* De 45 a 49 -> D\n",
    "* De 50 a 59 -> C\n",
    "* De 60 a 79 -> B\n",
    "* Acima de 80 -> B\n",
    "\n",
    "Crie um algoritmo para avaliar a nota de um aluno atribuida a variável ```nota_aluno```, teste pelo menos 5 notas diferentes.\n",
    "\n",
    "6. A promoção de inverno começou na loja Magazine Luciana, aproveitando essa situação você decidiu comprar um número ```x``` de potes de Toddy, o valor de cada pote é de R\\$5.99. A loja te dará um desconto de 10% no valor total se você comprar mais do que 10 potes. Monte um algoritmo que pergunta quantos potes você quer comprar, calcula o valor total (levando em consideração os descontos) e printa o valor a ser pago pelo pedido.\n",
    "\n",
    "7. Crie um algoritmo que pergunte para o usuário a quantidade de aulas dadas em um semestre, a quantidade de aulas que ele participou. Caso o aluno tenha participado de pelo menos 75% das aulas imprima \"Aluno aprovado\", em caso negativo, imprima \"Aluno reprovado\".\n",
    "\n",
    "8. Crie um algoritmo que avalie se um ano ```ano_corrente``` é ou não ano bissexto. Teste com pelo menos 5 anos."
   ]
  }
 ],
 "metadata": {
  "kernelspec": {
   "display_name": "Python 3",
   "language": "python",
   "name": "python3"
  },
  "language_info": {
   "codemirror_mode": {
    "name": "ipython",
    "version": 3
   },
   "file_extension": ".py",
   "mimetype": "text/x-python",
   "name": "python",
   "nbconvert_exporter": "python",
   "pygments_lexer": "ipython3",
   "version": "3.8.5"
  }
 },
 "nbformat": 4,
 "nbformat_minor": 5
}
