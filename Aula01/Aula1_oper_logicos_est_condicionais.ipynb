{
 "cells": [
  {
   "cell_type": "markdown",
   "id": "da7fcc5e",
   "metadata": {},
   "source": [
    "<img src=\"imgs/mesttra.png\" alt=\"mesttra_logo\" style=\"width: 200px;\"/>\n",
    "\n",
    "# Operadores Lógicos e Relacionais\n",
    "___\n",
    "\n",
    "Os operadores relacionais são utilizados para testar condições utilizando variáveis. O retorno de uma condição sempre será avaliado com True (verdadeiro) ou False (falso). \n",
    "\n",
    "| Descrição         | Símbolo |\n",
    "|-------------------|---------|\n",
    "| Igual a           | ==       |\n",
    "| Diferente de      | <> ou # |\n",
    "| Maior que         | >       |\n",
    "| Menor que         | <       |\n",
    "| Maior ou igual a  | >=      |\n",
    "| Menor ou igual a  | <=      |\n",
    "\n",
    "\n",
    "Podemos utilizar operadores lógicos para criar condições mais complexas. Os operadores lógicos utilizados em python são os seguintes.\n",
    "\n",
    "| Operador Lógico | Operador em python |\n",
    "|-----------------|--------------------|\n",
    "| E               | and                |\n",
    "| OU              | or                 |\n",
    "| NÃO             | not                |"
   ]
  },
  {
   "cell_type": "code",
   "execution_count": 1,
   "id": "54a024b1",
   "metadata": {},
   "outputs": [
    {
     "data": {
      "text/plain": [
       "True"
      ]
     },
     "execution_count": 1,
     "metadata": {},
     "output_type": "execute_result"
    }
   ],
   "source": [
    "10 > 2"
   ]
  },
  {
   "cell_type": "code",
   "execution_count": 2,
   "id": "89d24204",
   "metadata": {},
   "outputs": [
    {
     "data": {
      "text/plain": [
       "False"
      ]
     },
     "execution_count": 2,
     "metadata": {},
     "output_type": "execute_result"
    }
   ],
   "source": [
    "5 > 5"
   ]
  },
  {
   "cell_type": "code",
   "execution_count": 3,
   "id": "9825b3da",
   "metadata": {},
   "outputs": [
    {
     "data": {
      "text/plain": [
       "True"
      ]
     },
     "execution_count": 3,
     "metadata": {},
     "output_type": "execute_result"
    }
   ],
   "source": [
    "5 >= 5"
   ]
  },
  {
   "cell_type": "code",
   "execution_count": 7,
   "id": "03a1015e",
   "metadata": {},
   "outputs": [
    {
     "data": {
      "text/plain": [
       "True"
      ]
     },
     "execution_count": 7,
     "metadata": {},
     "output_type": "execute_result"
    }
   ],
   "source": [
    "a = 25\n",
    "b = 32\n",
    "\n",
    "a/2 > b**0.5"
   ]
  },
  {
   "cell_type": "code",
   "execution_count": 9,
   "id": "76478e75",
   "metadata": {},
   "outputs": [
    {
     "data": {
      "text/plain": [
       "False"
      ]
     },
     "execution_count": 9,
     "metadata": {},
     "output_type": "execute_result"
    }
   ],
   "source": [
    "## multiplas condições\n",
    "\n",
    "(a/5 > 4) and (b > 50)"
   ]
  },
  {
   "cell_type": "markdown",
   "id": "f7dcf9ff",
   "metadata": {},
   "source": [
    "Veja que a primeira parte da condição é avaliada como True (verdadeira) e a segunda parte é avaliada como False (falso). Utilizando o operador lógico ```and``` para unir as duas partes da condição acima chegamos no resultado False."
   ]
  },
  {
   "cell_type": "code",
   "execution_count": 10,
   "id": "8ac75a19",
   "metadata": {},
   "outputs": [
    {
     "data": {
      "text/plain": [
       "True"
      ]
     },
     "execution_count": 10,
     "metadata": {},
     "output_type": "execute_result"
    }
   ],
   "source": [
    "## multiplas condições\n",
    "a = 10\n",
    "b = 5\n",
    "\n",
    "(a > 100) or (b == 5)"
   ]
  },
  {
   "cell_type": "markdown",
   "id": "4d641124",
   "metadata": {},
   "source": [
    "# Estruturas condicionais\n",
    "___\n",
    "\n",
    "Tendo a capacidade de avaliar condições pode-se criar algoritmos mais dinâmicos e que tenham saídas dependentes das entradas. Utiliza-se estruturas condicionais para criar caminhos alternativos dentro de um algoritmo, esses caminhos alternativos podem (ou não) serem ativados de acordo com a condição avaliada.\n",
    "\n",
    "Imagine que, para passar de uma matéria na faculdade, é necessário uma nota final maior do que 5. Podemos montar um algoritmo para definir se um aluno passou ou não. O diagrama desse algoritmo ficaria da seguinte forma:\n",
    "\n",
    "![aluno](imgs/aluno_if.png)\n",
    "\n",
    "Existem duas saídas possíveis, para criar esse caminho alternativo utilizamos a sintaxe ```if ... else``` (se então, senão). Essa estrutura avalia a condição entregue e segue pelo caminho determinado pelo resultado da condição. Ou seja, ```se (if)``` o aluno tiver uma média maior ou igual a 5 ele é aprovado ```senão (else)``` ele é reprovado. Em python o algoritmo acima ficaria da seguinte forma:"
   ]
  },
  {
   "cell_type": "code",
   "execution_count": 11,
   "id": "712b0c0c",
   "metadata": {},
   "outputs": [
    {
     "name": "stdout",
     "output_type": "stream",
     "text": [
      "Aluno Reprovado\n"
     ]
    }
   ],
   "source": [
    "media = 4.99\n",
    "\n",
    "if media >= 5.0:\n",
    "    print('Aluno Aprovado')\n",
    "else:\n",
    "    print('Aluno Reprovado')"
   ]
  },
  {
   "cell_type": "code",
   "execution_count": 12,
   "id": "24978532",
   "metadata": {},
   "outputs": [
    {
     "name": "stdout",
     "output_type": "stream",
     "text": [
      "Aluno Aprovado\n"
     ]
    }
   ],
   "source": [
    "media = 9.5\n",
    "\n",
    "if media >= 5.0:\n",
    "    print('Aluno Aprovado')\n",
    "else:\n",
    "    print('Aluno Reprovado')"
   ]
  },
  {
   "cell_type": "markdown",
   "id": "0568b198",
   "metadata": {},
   "source": [
    "Perceba o bloco de código a ser executado fica abaixo da condição testada como verdadeira e é antecedida por 4 espaços (1 TAB). Podemos adicionar mais estruturas condicionais dentro de outras de forma aninhada. Para isso, imagine o mesmo problema demonstrado acima, porém após avaliar alunos com média acima de 5 devemos entender se estes possuem média também maior ou igual a 7, em caso positivo eles serão aprovados, para notas menores do que 7 e maiores do que 5 o aluno deverá realizar outra avaliação. O diagrama para essa situação fica da seguinte forma:\n",
    "\n",
    "![aluno2](imgs/algoritmo2.png)\n",
    "\n",
    "Em python:"
   ]
  },
  {
   "cell_type": "code",
   "execution_count": 4,
   "id": "2f29459c",
   "metadata": {},
   "outputs": [
    {
     "name": "stdout",
     "output_type": "stream",
     "text": [
      "Fazer outra avaliação!\n"
     ]
    }
   ],
   "source": [
    "media = 6.8\n",
    "\n",
    "if media >= 5:\n",
    "    if media >= 7:\n",
    "        print('Aluno Aprovado!')\n",
    "    else:\n",
    "        print('Fazer outra avaliação!')\n",
    "else:\n",
    "    print('Aluno Reprovado')"
   ]
  },
  {
   "cell_type": "code",
   "execution_count": 5,
   "id": "45dd584e",
   "metadata": {},
   "outputs": [
    {
     "name": "stdout",
     "output_type": "stream",
     "text": [
      "Aluno Aprovado!\n"
     ]
    }
   ],
   "source": [
    "media = 9\n",
    "\n",
    "if media >= 5:\n",
    "    if media >= 7:\n",
    "        print('Aluno Aprovado!')\n",
    "    else:\n",
    "        print('Fazer outra avaliação!')\n",
    "else:\n",
    "    print('Aluno Reprovado')"
   ]
  },
  {
   "cell_type": "code",
   "execution_count": 6,
   "id": "ea22156b",
   "metadata": {},
   "outputs": [
    {
     "name": "stdout",
     "output_type": "stream",
     "text": [
      "Aluno Reprovado\n"
     ]
    }
   ],
   "source": [
    "media = 4\n",
    "\n",
    "if media >= 5:\n",
    "    if media >= 7:\n",
    "        print('Aluno Aprovado!')\n",
    "    else:\n",
    "        print('Fazer outra avaliação!')\n",
    "else:\n",
    "    print('Aluno Reprovado')"
   ]
  },
  {
   "cell_type": "markdown",
   "id": "dc040e9c",
   "metadata": {},
   "source": [
    "Porém existem casos que não são facilmente descritos por condições binárias sendo necessário um cojunto maior de condições a serem avaliadas. Para isso utilizamos a sintaxe ```elif``` que singnifica ``` else if ``` ou seja, quando a condição anterior for avaliada como ```False``` o código deverá avaliar mais uma condição antes da saída do algoritmo.\n",
    "\n",
    "A avaliação de velocidade de uma música pode receber alguns nomes, em casos de músicas com bpm (batida por minuto) maior ou igual a 40 usa-se o termo 'Largo', para músicas com bpm maior do que 60 utiliza-se 'Adagio', para músicas com bpm maior ou igual a 140 e menor ou igual a 200 utiliza-se 'Presto'. Como esse algoritmo avaliaria 4 músicas com bpms, 41, 75, 112 e 189?"
   ]
  },
  {
   "cell_type": "code",
   "execution_count": 13,
   "id": "16d8f2bb",
   "metadata": {},
   "outputs": [
    {
     "name": "stdout",
     "output_type": "stream",
     "text": [
      "Largo\n"
     ]
    }
   ],
   "source": [
    "bpm = 41\n",
    "\n",
    "if bpm >= 40 and bpm <= 60:\n",
    "    print('Largo')\n",
    "elif bpm > 60 and bpm <= 80:\n",
    "    print('Adagio')\n",
    "elif bpm >= 140 and bpm <= 200:\n",
    "    print('Presto')\n",
    "else:\n",
    "    print('BPM não determinado!')"
   ]
  }
 ],
 "metadata": {
  "kernelspec": {
   "display_name": "Python 3",
   "language": "python",
   "name": "python3"
  },
  "language_info": {
   "codemirror_mode": {
    "name": "ipython",
    "version": 3
   },
   "file_extension": ".py",
   "mimetype": "text/x-python",
   "name": "python",
   "nbconvert_exporter": "python",
   "pygments_lexer": "ipython3",
   "version": "3.8.5"
  }
 },
 "nbformat": 4,
 "nbformat_minor": 5
}
