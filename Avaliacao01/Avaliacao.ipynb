{
 "cells": [
  {
   "cell_type": "markdown",
   "id": "97a8113a",
   "metadata": {},
   "source": [
    "# Avaliação\n",
    "\n",
    "1. Crie uma função que recebe uma lista e retorna o valor máximo e mínimo da lista (não utilize a função max() e min()).\n",
    "2. Crie uma função que recebe dois parâmetros (início e fim) e retorna uma lista com todos os valores pares entre ínicio e fim.\n",
    "3. Acesse a nota de matemática em dc3 e altere para 3.\n",
    "\n",
    "Para as questões 4 a 8 utilize o dataset 'water_potability.csv'. O dataset descreve características de uma amostra de água e na coluna 'potability' descreve se a água é ou não própria para consumo humano. Para iniciar a resolução das questões abaixo drope a coluna 'Unnamed: 0'.\n",
    "\n",
    "4. Demonstre a correlação entre todas as colunas do dataset. Qual é a coluna com maior correlação positiva com 'potability'? Desconsidere a correlação com ela mesma (valor 1.0).\n",
    "5. Crie uma série que descreve (em porcentagem) quanto cada coluna tem de valores nulos. Qual a coluna com maior porcentagem de valores nulos?\n",
    "6. Crie uma coluna dentro do dataset que descreve se 'Turbidity' está acima ou abaixo da média.\n",
    "7. Quantas amostras de água são potáveis e não potáveis, utilize a coluna criada na questão 6 como dimensão de análise.\n",
    "8. Crie um dataframe onde o índice deve ser cada estado e com duas colunas. A primeira é a porcentagem de amostras não potáveis naquele estado e a segunda é a porcentagem de amostras potáveis naquele estado. Qual é o estado com a menor porcentagem de amostras de água potável?\n",
    "9. Utlizando dados coletados da internet sobre a quantidade de habitantes de cada estado no ano 2020 responda. Qual estado, com populacao acima de 10 milhões de habitantes, tem a maior porcentagem de amostras de águas não potável?\n",
    "10. Crie o dicionário dc_states contendo como chaves os nomes de cada estado e como valor uma lista contendo o zscore aplicado a coluna \"Solids\" de todas as amostras daquele respectivo estado. Passe para função violin_plot_states o dicionário e uma lista contendo 5 estados que gostaria de análisar. Faça uma análise sucinta do resultado do gráfico."
   ]
  },
  {
   "cell_type": "code",
   "execution_count": 4,
   "id": "3f7ef2cc",
   "metadata": {
    "ExecuteTime": {
     "end_time": "2021-08-04T22:00:11.594750Z",
     "start_time": "2021-08-04T22:00:09.647610Z"
    }
   },
   "outputs": [],
   "source": [
    "dc3 = { \n",
    "   \"turma\":{ \n",
    "      \"aluno\":{ \n",
    "         \"nome\":\"Joao\",\n",
    "         \"notas\":{ \n",
    "            \"portugues\":2,\n",
    "            \"matematica\":9\n",
    "         }\n",
    "      }\n",
    "   }\n",
    "}\n",
    "\n",
    "import matplotlib.pyplot as plt\n",
    "import seaborn as sns\n",
    "\n",
    "def violin_plot_states(dc_states,lista_estados):\n",
    "    f, ax = plt.subplots(1,1,figsize=(16,4))\n",
    "    data_plot = pd.DataFrame.from_dict(dc_states,orient='index').T.melt().rename(columns={'variable':'state','value':'z_score'})\n",
    "    states_plot = lista_estados\n",
    "    sns.violinplot(x='state',y='z_score',data=data_plot[data_plot.state.isin(states_plot)])    \n",
    "    ax.axhline(0,color='black',alpha=0.3)"
   ]
  },
  {
   "cell_type": "markdown",
   "id": "f4aeec66",
   "metadata": {},
   "source": [
    "## Crie uma função que recebe uma lista e retorna o valor máximo e mínimo da lista (não utilize a função max() e min())."
   ]
  },
  {
   "cell_type": "code",
   "execution_count": 1,
   "id": "4e8326c5",
   "metadata": {
    "ExecuteTime": {
     "end_time": "2021-08-03T13:56:13.247237Z",
     "start_time": "2021-08-03T13:56:13.210233Z"
    }
   },
   "outputs": [],
   "source": [
    "def min_max(lst):\n",
    "    nmin = 10000000\n",
    "    nmax = 0\n",
    "    for n in lst:\n",
    "        nmin = n if nmin > n else nmin\n",
    "        nmax = n if nmax < n else nmax\n",
    "        \n",
    "    return nmin, nmax"
   ]
  },
  {
   "cell_type": "code",
   "execution_count": 6,
   "id": "b240a2d5",
   "metadata": {
    "ExecuteTime": {
     "end_time": "2021-08-03T13:59:49.135979Z",
     "start_time": "2021-08-03T13:59:49.125978Z"
    }
   },
   "outputs": [
    {
     "name": "stdout",
     "output_type": "stream",
     "text": [
      "mínimo: -10 | máximo: 25\n"
     ]
    }
   ],
   "source": [
    "lst_mm = [-10, -9, -5 ,-2 ,-3, -1 , 0, 25, 10]\n",
    "\n",
    "minimo, maximo = min_max(lst_mm)\n",
    "\n",
    "print(f'mínimo: {minimo} | máximo: {maximo}')"
   ]
  },
  {
   "cell_type": "markdown",
   "id": "1de467c6",
   "metadata": {},
   "source": [
    "## Crie uma função que recebe dois parâmetros (início e fim) e retorna uma lista com todos os valores pares entre ínicio e fim."
   ]
  },
  {
   "cell_type": "code",
   "execution_count": 14,
   "id": "be39e1a5",
   "metadata": {
    "ExecuteTime": {
     "end_time": "2021-08-03T14:10:28.551034Z",
     "start_time": "2021-08-03T14:10:28.531032Z"
    }
   },
   "outputs": [],
   "source": [
    "def inicio_fim(ini:int, fim:int)->list:\n",
    "    start = ini if ini % 2 == 0 else ini+1\n",
    "    return [_  for _ in range(start, fim, 2)] if fim > ini else 'o segundo parametro precisa ser maior que o primeiro'"
   ]
  },
  {
   "cell_type": "code",
   "execution_count": 20,
   "id": "f5d0b1cd",
   "metadata": {
    "ExecuteTime": {
     "end_time": "2021-08-03T14:11:31.165765Z",
     "start_time": "2021-08-03T14:11:31.158764Z"
    }
   },
   "outputs": [
    {
     "data": {
      "text/plain": [
       "[0, 2, 4, 6, 8, 10, 12, 14, 16, 18]"
      ]
     },
     "execution_count": 20,
     "metadata": {},
     "output_type": "execute_result"
    }
   ],
   "source": [
    "inicio_fim(0,20)"
   ]
  },
  {
   "cell_type": "markdown",
   "id": "dcd4d024",
   "metadata": {},
   "source": [
    "## Acesse a nota de matemática em dc3 e altere para 3."
   ]
  },
  {
   "cell_type": "code",
   "execution_count": 27,
   "id": "d621e196",
   "metadata": {
    "ExecuteTime": {
     "end_time": "2021-08-03T15:00:02.713768Z",
     "start_time": "2021-08-03T15:00:02.698770Z"
    }
   },
   "outputs": [
    {
     "name": "stdout",
     "output_type": "stream",
     "text": [
      "{'portugues': 2, 'matematica': 3}\n"
     ]
    }
   ],
   "source": [
    "dc3['turma']['aluno']['notas']['matematica'] = 3\n",
    "print(dc3['turma']['aluno']['notas'])"
   ]
  },
  {
   "cell_type": "markdown",
   "id": "f9a1d265",
   "metadata": {},
   "source": [
    "Para as questões 4 a 8 utilize o dataset 'water_potability.csv'. O dataset descreve características de uma amostra de água e na coluna 'potability' descreve se a água é ou não própria para consumo humano. Para iniciar a resolução das questões abaixo drope a coluna 'Unnamed: 0'."
   ]
  },
  {
   "cell_type": "markdown",
   "id": "20e66faa",
   "metadata": {},
   "source": [
    "## Demonstre a correlação entre todas as colunas do dataset. Qual é a coluna com maior correlação positiva com 'potability'? Desconsidere a correlação com ela mesma (valor 1.0)."
   ]
  },
  {
   "cell_type": "code",
   "execution_count": 5,
   "id": "9b69dcd4",
   "metadata": {
    "ExecuteTime": {
     "end_time": "2021-08-04T22:00:56.750436Z",
     "start_time": "2021-08-04T22:00:56.737441Z"
    }
   },
   "outputs": [],
   "source": [
    "import pandas as pd\n",
    "import numpy as np"
   ]
  },
  {
   "cell_type": "code",
   "execution_count": 6,
   "id": "84bdfc68",
   "metadata": {
    "ExecuteTime": {
     "end_time": "2021-08-04T22:00:58.058523Z",
     "start_time": "2021-08-04T22:00:58.001479Z"
    }
   },
   "outputs": [
    {
     "data": {
      "text/html": [
       "<div>\n",
       "<style scoped>\n",
       "    .dataframe tbody tr th:only-of-type {\n",
       "        vertical-align: middle;\n",
       "    }\n",
       "\n",
       "    .dataframe tbody tr th {\n",
       "        vertical-align: top;\n",
       "    }\n",
       "\n",
       "    .dataframe thead th {\n",
       "        text-align: right;\n",
       "    }\n",
       "</style>\n",
       "<table border=\"1\" class=\"dataframe\">\n",
       "  <thead>\n",
       "    <tr style=\"text-align: right;\">\n",
       "      <th></th>\n",
       "      <th>ph</th>\n",
       "      <th>Hardness</th>\n",
       "      <th>Solids</th>\n",
       "      <th>Chloramines</th>\n",
       "      <th>Sulfate</th>\n",
       "      <th>Conductivity</th>\n",
       "      <th>Organic_carbon</th>\n",
       "      <th>Trihalomethanes</th>\n",
       "      <th>Turbidity</th>\n",
       "      <th>Potability</th>\n",
       "      <th>state</th>\n",
       "      <th>sample_id</th>\n",
       "    </tr>\n",
       "  </thead>\n",
       "  <tbody>\n",
       "    <tr>\n",
       "      <th>0</th>\n",
       "      <td>NaN</td>\n",
       "      <td>204.890455</td>\n",
       "      <td>20791.318981</td>\n",
       "      <td>7.300212</td>\n",
       "      <td>368.516441</td>\n",
       "      <td>564.308654</td>\n",
       "      <td>10.379783</td>\n",
       "      <td>86.990970</td>\n",
       "      <td>2.963135</td>\n",
       "      <td>0</td>\n",
       "      <td>Pennsylvania</td>\n",
       "      <td>4b4962b9-fed5-492e-9d28-50d954937c3f</td>\n",
       "    </tr>\n",
       "    <tr>\n",
       "      <th>1</th>\n",
       "      <td>3.716080</td>\n",
       "      <td>129.422921</td>\n",
       "      <td>18630.057858</td>\n",
       "      <td>6.635246</td>\n",
       "      <td>NaN</td>\n",
       "      <td>592.885359</td>\n",
       "      <td>15.180013</td>\n",
       "      <td>56.329076</td>\n",
       "      <td>4.500656</td>\n",
       "      <td>0</td>\n",
       "      <td>Iowa</td>\n",
       "      <td>f1099b93-9195-4bd5-90b7-f0c191a74619</td>\n",
       "    </tr>\n",
       "    <tr>\n",
       "      <th>2</th>\n",
       "      <td>8.099124</td>\n",
       "      <td>224.236259</td>\n",
       "      <td>19909.541732</td>\n",
       "      <td>9.275884</td>\n",
       "      <td>NaN</td>\n",
       "      <td>418.606213</td>\n",
       "      <td>16.868637</td>\n",
       "      <td>66.420093</td>\n",
       "      <td>3.055934</td>\n",
       "      <td>0</td>\n",
       "      <td>Wisconsin</td>\n",
       "      <td>5bc660ce-c94c-4631-b69b-b937be4ab7bb</td>\n",
       "    </tr>\n",
       "  </tbody>\n",
       "</table>\n",
       "</div>"
      ],
      "text/plain": [
       "         ph    Hardness        Solids  Chloramines     Sulfate  Conductivity  \\\n",
       "0       NaN  204.890455  20791.318981     7.300212  368.516441    564.308654   \n",
       "1  3.716080  129.422921  18630.057858     6.635246         NaN    592.885359   \n",
       "2  8.099124  224.236259  19909.541732     9.275884         NaN    418.606213   \n",
       "\n",
       "   Organic_carbon  Trihalomethanes  Turbidity  Potability         state  \\\n",
       "0       10.379783        86.990970   2.963135           0  Pennsylvania   \n",
       "1       15.180013        56.329076   4.500656           0          Iowa   \n",
       "2       16.868637        66.420093   3.055934           0     Wisconsin   \n",
       "\n",
       "                              sample_id  \n",
       "0  4b4962b9-fed5-492e-9d28-50d954937c3f  \n",
       "1  f1099b93-9195-4bd5-90b7-f0c191a74619  \n",
       "2  5bc660ce-c94c-4631-b69b-b937be4ab7bb  "
      ]
     },
     "execution_count": 6,
     "metadata": {},
     "output_type": "execute_result"
    }
   ],
   "source": [
    "df = pd.read_csv('water_potability.csv', sep=';', index_col=0)\n",
    "df.head(3)"
   ]
  },
  {
   "cell_type": "code",
   "execution_count": 33,
   "id": "9ca02286",
   "metadata": {
    "ExecuteTime": {
     "end_time": "2021-08-03T15:05:31.628470Z",
     "start_time": "2021-08-03T15:05:31.605469Z"
    }
   },
   "outputs": [
    {
     "name": "stdout",
     "output_type": "stream",
     "text": [
      "<class 'pandas.core.frame.DataFrame'>\n",
      "Int64Index: 3276 entries, 0 to 3275\n",
      "Data columns (total 12 columns):\n",
      " #   Column           Non-Null Count  Dtype  \n",
      "---  ------           --------------  -----  \n",
      " 0   ph               2785 non-null   float64\n",
      " 1   Hardness         3276 non-null   float64\n",
      " 2   Solids           3276 non-null   float64\n",
      " 3   Chloramines      3276 non-null   float64\n",
      " 4   Sulfate          2495 non-null   float64\n",
      " 5   Conductivity     3276 non-null   float64\n",
      " 6   Organic_carbon   3276 non-null   float64\n",
      " 7   Trihalomethanes  3114 non-null   float64\n",
      " 8   Turbidity        3276 non-null   float64\n",
      " 9   Potability       3276 non-null   int64  \n",
      " 10  state            3276 non-null   object \n",
      " 11  sample_id        3276 non-null   object \n",
      "dtypes: float64(9), int64(1), object(2)\n",
      "memory usage: 332.7+ KB\n"
     ]
    }
   ],
   "source": [
    "df.info()"
   ]
  },
  {
   "cell_type": "code",
   "execution_count": 7,
   "id": "e19dfcc4",
   "metadata": {
    "ExecuteTime": {
     "end_time": "2021-08-04T22:01:04.413543Z",
     "start_time": "2021-08-04T22:01:03.749720Z"
    }
   },
   "outputs": [
    {
     "data": {
      "image/png": "[encoded data removed]",
      "text/plain": [
       "<Figure size 1152x864 with 2 Axes>"
      ]
     },
     "metadata": {
      "needs_background": "light"
     },
     "output_type": "display_data"
    }
   ],
   "source": [
    "matriz = df.corr()\n",
    "mask = np.triu(np.ones_like(matriz, dtype=bool))\n",
    "\n",
    "cmap = sns.diverging_palette(15, 250, s=75, l=40,\n",
    "                             n=9, center=\"light\", as_cmap=True)\n",
    "\n",
    "plt.figure(figsize=(16, 12))\n",
    "\n",
    "sns.heatmap(matriz, mask=mask, center=0, annot=True,\n",
    "             fmt='.2f', square=True, cmap=cmap)\n",
    "\n",
    "plt.show();"
   ]
  },
  {
   "cell_type": "markdown",
   "id": "9c3afacc",
   "metadata": {},
   "source": [
    "**Resposta:** A coluna com maior correlação positiva com 'Potability' é a coluna 'Solids' => 0.03"
   ]
  },
  {
   "cell_type": "markdown",
   "id": "601d3f6f",
   "metadata": {},
   "source": [
    "## Crie uma série que descreve (em porcentagem) quanto cada coluna tem de valores nulos. Qual a coluna com maior porcentagem de valores nulos?"
   ]
  },
  {
   "cell_type": "code",
   "execution_count": 59,
   "id": "777a6426",
   "metadata": {
    "ExecuteTime": {
     "end_time": "2021-08-03T15:31:50.363164Z",
     "start_time": "2021-08-03T15:31:50.337167Z"
    }
   },
   "outputs": [
    {
     "data": {
      "text/plain": [
       "Sulfate            23.84\n",
       "ph                 14.99\n",
       "Trihalomethanes     4.95\n",
       "Hardness            0.00\n",
       "Solids              0.00\n",
       "Chloramines         0.00\n",
       "Conductivity        0.00\n",
       "Organic_carbon      0.00\n",
       "Turbidity           0.00\n",
       "Potability          0.00\n",
       "state               0.00\n",
       "sample_id           0.00\n",
       "dtype: float64"
      ]
     },
     "metadata": {},
     "output_type": "display_data"
    }
   ],
   "source": [
    "missing = round((df.isnull().sum() / len(df)) * 100, 2)\n",
    "\n",
    "display(missing.sort_values(ascending=False))"
   ]
  },
  {
   "cell_type": "markdown",
   "id": "668eebd0",
   "metadata": {},
   "source": [
    "**Resposta:** A coluna com maior porcentagem de valores nulos é a coluna 'Sulfate' => 23,84%"
   ]
  },
  {
   "cell_type": "markdown",
   "id": "427066bc",
   "metadata": {},
   "source": [
    "## Crie uma coluna dentro do dataset que descreve se 'Turbidity' está acima ou abaixo da média."
   ]
  },
  {
   "cell_type": "code",
   "execution_count": 9,
   "id": "bfd9a21e",
   "metadata": {
    "ExecuteTime": {
     "end_time": "2021-08-04T22:02:25.891796Z",
     "start_time": "2021-08-04T22:02:25.830796Z"
    }
   },
   "outputs": [
    {
     "data": {
      "text/html": [
       "<div>\n",
       "<style scoped>\n",
       "    .dataframe tbody tr th:only-of-type {\n",
       "        vertical-align: middle;\n",
       "    }\n",
       "\n",
       "    .dataframe tbody tr th {\n",
       "        vertical-align: top;\n",
       "    }\n",
       "\n",
       "    .dataframe thead th {\n",
       "        text-align: right;\n",
       "    }\n",
       "</style>\n",
       "<table border=\"1\" class=\"dataframe\">\n",
       "  <thead>\n",
       "    <tr style=\"text-align: right;\">\n",
       "      <th></th>\n",
       "      <th>ph</th>\n",
       "      <th>Hardness</th>\n",
       "      <th>Solids</th>\n",
       "      <th>Chloramines</th>\n",
       "      <th>Sulfate</th>\n",
       "      <th>Conductivity</th>\n",
       "      <th>Organic_carbon</th>\n",
       "      <th>Trihalomethanes</th>\n",
       "      <th>Turbidity</th>\n",
       "      <th>Potability</th>\n",
       "      <th>state</th>\n",
       "      <th>sample_id</th>\n",
       "      <th>turbidity_limiar</th>\n",
       "    </tr>\n",
       "  </thead>\n",
       "  <tbody>\n",
       "    <tr>\n",
       "      <th>1031</th>\n",
       "      <td>5.375896</td>\n",
       "      <td>153.712874</td>\n",
       "      <td>56867.859236</td>\n",
       "      <td>7.894086</td>\n",
       "      <td>NaN</td>\n",
       "      <td>493.888464</td>\n",
       "      <td>15.116023</td>\n",
       "      <td>57.712992</td>\n",
       "      <td>4.174220</td>\n",
       "      <td>0</td>\n",
       "      <td>Montana</td>\n",
       "      <td>3eb80478-de5c-4f32-8277-d294d236fe06</td>\n",
       "      <td>above average</td>\n",
       "    </tr>\n",
       "    <tr>\n",
       "      <th>2476</th>\n",
       "      <td>5.045626</td>\n",
       "      <td>179.702503</td>\n",
       "      <td>22557.603596</td>\n",
       "      <td>10.120334</td>\n",
       "      <td>296.425154</td>\n",
       "      <td>450.295696</td>\n",
       "      <td>14.215817</td>\n",
       "      <td>82.066334</td>\n",
       "      <td>3.331787</td>\n",
       "      <td>0</td>\n",
       "      <td>New York</td>\n",
       "      <td>068c4d2b-d172-464b-b2a1-997a19ecbfb7</td>\n",
       "      <td>below average</td>\n",
       "    </tr>\n",
       "    <tr>\n",
       "      <th>1874</th>\n",
       "      <td>6.203323</td>\n",
       "      <td>214.850111</td>\n",
       "      <td>29426.473780</td>\n",
       "      <td>8.034868</td>\n",
       "      <td>369.726683</td>\n",
       "      <td>319.766681</td>\n",
       "      <td>10.247863</td>\n",
       "      <td>65.308637</td>\n",
       "      <td>3.487920</td>\n",
       "      <td>0</td>\n",
       "      <td>Rhode Island</td>\n",
       "      <td>9492df60-7a1d-469a-b2b9-acce398b82a3</td>\n",
       "      <td>below average</td>\n",
       "    </tr>\n",
       "    <tr>\n",
       "      <th>725</th>\n",
       "      <td>10.268431</td>\n",
       "      <td>218.216682</td>\n",
       "      <td>13753.993373</td>\n",
       "      <td>7.512608</td>\n",
       "      <td>334.178075</td>\n",
       "      <td>341.602209</td>\n",
       "      <td>15.671564</td>\n",
       "      <td>84.682660</td>\n",
       "      <td>4.304689</td>\n",
       "      <td>1</td>\n",
       "      <td>Maryland</td>\n",
       "      <td>b0e495e4-319d-454b-8922-964064311e92</td>\n",
       "      <td>above average</td>\n",
       "    </tr>\n",
       "    <tr>\n",
       "      <th>2624</th>\n",
       "      <td>NaN</td>\n",
       "      <td>227.432663</td>\n",
       "      <td>32102.190705</td>\n",
       "      <td>3.646848</td>\n",
       "      <td>321.671073</td>\n",
       "      <td>433.276491</td>\n",
       "      <td>11.690091</td>\n",
       "      <td>57.049690</td>\n",
       "      <td>3.581037</td>\n",
       "      <td>0</td>\n",
       "      <td>Utah</td>\n",
       "      <td>405c86f0-f54a-4686-9777-9b23158d845f</td>\n",
       "      <td>below average</td>\n",
       "    </tr>\n",
       "    <tr>\n",
       "      <th>1697</th>\n",
       "      <td>6.356511</td>\n",
       "      <td>164.618185</td>\n",
       "      <td>17538.541172</td>\n",
       "      <td>8.345192</td>\n",
       "      <td>345.144958</td>\n",
       "      <td>430.959505</td>\n",
       "      <td>15.329438</td>\n",
       "      <td>47.021382</td>\n",
       "      <td>3.415526</td>\n",
       "      <td>0</td>\n",
       "      <td>Rhode Island</td>\n",
       "      <td>740ef0b9-ca4f-4de0-b3b4-1bba3f1f4e21</td>\n",
       "      <td>below average</td>\n",
       "    </tr>\n",
       "    <tr>\n",
       "      <th>2233</th>\n",
       "      <td>NaN</td>\n",
       "      <td>196.082967</td>\n",
       "      <td>22746.061659</td>\n",
       "      <td>7.702740</td>\n",
       "      <td>325.478423</td>\n",
       "      <td>397.054983</td>\n",
       "      <td>21.091602</td>\n",
       "      <td>51.939019</td>\n",
       "      <td>3.713110</td>\n",
       "      <td>0</td>\n",
       "      <td>Mississippi</td>\n",
       "      <td>5fdfa6f9-ae40-465b-8d7d-3aecc6b2eff1</td>\n",
       "      <td>below average</td>\n",
       "    </tr>\n",
       "    <tr>\n",
       "      <th>1876</th>\n",
       "      <td>8.373171</td>\n",
       "      <td>179.521406</td>\n",
       "      <td>22022.626217</td>\n",
       "      <td>5.215042</td>\n",
       "      <td>339.492222</td>\n",
       "      <td>396.696697</td>\n",
       "      <td>13.697087</td>\n",
       "      <td>110.431080</td>\n",
       "      <td>2.786330</td>\n",
       "      <td>0</td>\n",
       "      <td>Iowa</td>\n",
       "      <td>21f9fcb7-1cd1-41ba-bbbf-5e4092e5e6b9</td>\n",
       "      <td>below average</td>\n",
       "    </tr>\n",
       "    <tr>\n",
       "      <th>441</th>\n",
       "      <td>6.529304</td>\n",
       "      <td>210.004033</td>\n",
       "      <td>28970.087606</td>\n",
       "      <td>4.250151</td>\n",
       "      <td>NaN</td>\n",
       "      <td>422.817556</td>\n",
       "      <td>7.091298</td>\n",
       "      <td>83.690156</td>\n",
       "      <td>3.361088</td>\n",
       "      <td>0</td>\n",
       "      <td>South Dakota</td>\n",
       "      <td>c55b7d84-3ec7-4848-b3e1-d7d578f83831</td>\n",
       "      <td>below average</td>\n",
       "    </tr>\n",
       "    <tr>\n",
       "      <th>363</th>\n",
       "      <td>4.812434</td>\n",
       "      <td>250.183954</td>\n",
       "      <td>11465.575643</td>\n",
       "      <td>4.362641</td>\n",
       "      <td>398.161904</td>\n",
       "      <td>607.026542</td>\n",
       "      <td>18.210032</td>\n",
       "      <td>62.511467</td>\n",
       "      <td>3.020996</td>\n",
       "      <td>1</td>\n",
       "      <td>Idaho</td>\n",
       "      <td>aa28d4f4-2b6d-4253-9cea-0f258a66739e</td>\n",
       "      <td>below average</td>\n",
       "    </tr>\n",
       "  </tbody>\n",
       "</table>\n",
       "</div>"
      ],
      "text/plain": [
       "             ph    Hardness        Solids  Chloramines     Sulfate  \\\n",
       "1031   5.375896  153.712874  56867.859236     7.894086         NaN   \n",
       "2476   5.045626  179.702503  22557.603596    10.120334  296.425154   \n",
       "1874   6.203323  214.850111  29426.473780     8.034868  369.726683   \n",
       "725   10.268431  218.216682  13753.993373     7.512608  334.178075   \n",
       "2624        NaN  227.432663  32102.190705     3.646848  321.671073   \n",
       "1697   6.356511  164.618185  17538.541172     8.345192  345.144958   \n",
       "2233        NaN  196.082967  22746.061659     7.702740  325.478423   \n",
       "1876   8.373171  179.521406  22022.626217     5.215042  339.492222   \n",
       "441    6.529304  210.004033  28970.087606     4.250151         NaN   \n",
       "363    4.812434  250.183954  11465.575643     4.362641  398.161904   \n",
       "\n",
       "      Conductivity  Organic_carbon  Trihalomethanes  Turbidity  Potability  \\\n",
       "1031    493.888464       15.116023        57.712992   4.174220           0   \n",
       "2476    450.295696       14.215817        82.066334   3.331787           0   \n",
       "1874    319.766681       10.247863        65.308637   3.487920           0   \n",
       "725     341.602209       15.671564        84.682660   4.304689           1   \n",
       "2624    433.276491       11.690091        57.049690   3.581037           0   \n",
       "1697    430.959505       15.329438        47.021382   3.415526           0   \n",
       "2233    397.054983       21.091602        51.939019   3.713110           0   \n",
       "1876    396.696697       13.697087       110.431080   2.786330           0   \n",
       "441     422.817556        7.091298        83.690156   3.361088           0   \n",
       "363     607.026542       18.210032        62.511467   3.020996           1   \n",
       "\n",
       "             state                             sample_id turbidity_limiar  \n",
       "1031       Montana  3eb80478-de5c-4f32-8277-d294d236fe06    above average  \n",
       "2476      New York  068c4d2b-d172-464b-b2a1-997a19ecbfb7    below average  \n",
       "1874  Rhode Island  9492df60-7a1d-469a-b2b9-acce398b82a3    below average  \n",
       "725       Maryland  b0e495e4-319d-454b-8922-964064311e92    above average  \n",
       "2624          Utah  405c86f0-f54a-4686-9777-9b23158d845f    below average  \n",
       "1697  Rhode Island  740ef0b9-ca4f-4de0-b3b4-1bba3f1f4e21    below average  \n",
       "2233   Mississippi  5fdfa6f9-ae40-465b-8d7d-3aecc6b2eff1    below average  \n",
       "1876          Iowa  21f9fcb7-1cd1-41ba-bbbf-5e4092e5e6b9    below average  \n",
       "441   South Dakota  c55b7d84-3ec7-4848-b3e1-d7d578f83831    below average  \n",
       "363          Idaho  aa28d4f4-2b6d-4253-9cea-0f258a66739e    below average  "
      ]
     },
     "execution_count": 9,
     "metadata": {},
     "output_type": "execute_result"
    }
   ],
   "source": [
    "t_media = df['Turbidity'].mean()\n",
    "df['turbidity_limiar'] = np.select([df['Turbidity'] > t_media, df['Turbidity'] < t_media], ['above average', 'below average'], default='on average')\n",
    "df.sample(10)"
   ]
  },
  {
   "cell_type": "markdown",
   "id": "3d858369",
   "metadata": {},
   "source": [
    "## Quantas amostras de água são potáveis e não potáveis, utilize a coluna criada na questão 6 como dimensão de análise."
   ]
  },
  {
   "cell_type": "code",
   "execution_count": 13,
   "id": "3e7f031a",
   "metadata": {
    "ExecuteTime": {
     "end_time": "2021-08-04T22:03:14.927770Z",
     "start_time": "2021-08-04T22:03:14.902769Z"
    }
   },
   "outputs": [
    {
     "data": {
      "text/plain": [
       "below average    1660\n",
       "above average    1616\n",
       "Name: turbidity_limiar, dtype: int64"
      ]
     },
     "execution_count": 13,
     "metadata": {},
     "output_type": "execute_result"
    }
   ],
   "source": [
    "df['turbidity_limiar'].value_counts()"
   ]
  },
  {
   "cell_type": "markdown",
   "id": "1d09a08e",
   "metadata": {},
   "source": [
    "**Resposta:** Amostras potáveis: 1616 | Amostras não potáveis: 1660"
   ]
  },
  {
   "cell_type": "markdown",
   "id": "11519e18",
   "metadata": {},
   "source": [
    "## Crie um dataframe onde o índice deve ser cada estado e com duas colunas. A primeira é a porcentagem de amostras não potáveis naquele estado e a segunda é a porcentagem de amostras potáveis naquele estado. Qual é o estado com a menor porcentagem de amostras de água potável?"
   ]
  },
  {
   "cell_type": "code",
   "execution_count": 14,
   "id": "684c0bbe",
   "metadata": {
    "ExecuteTime": {
     "end_time": "2021-08-04T22:06:44.117843Z",
     "start_time": "2021-08-04T22:06:44.048847Z"
    }
   },
   "outputs": [
    {
     "data": {
      "text/html": [
       "<div>\n",
       "<style scoped>\n",
       "    .dataframe tbody tr th:only-of-type {\n",
       "        vertical-align: middle;\n",
       "    }\n",
       "\n",
       "    .dataframe tbody tr th {\n",
       "        vertical-align: top;\n",
       "    }\n",
       "\n",
       "    .dataframe thead th {\n",
       "        text-align: right;\n",
       "    }\n",
       "</style>\n",
       "<table border=\"1\" class=\"dataframe\">\n",
       "  <thead>\n",
       "    <tr style=\"text-align: right;\">\n",
       "      <th></th>\n",
       "      <th>pct_unpotable</th>\n",
       "      <th>pct_potable</th>\n",
       "    </tr>\n",
       "    <tr>\n",
       "      <th>state</th>\n",
       "      <th></th>\n",
       "      <th></th>\n",
       "    </tr>\n",
       "  </thead>\n",
       "  <tbody>\n",
       "    <tr>\n",
       "      <th>Minnesota</th>\n",
       "      <td>78.33</td>\n",
       "      <td>21.67</td>\n",
       "    </tr>\n",
       "    <tr>\n",
       "      <th>Vermont</th>\n",
       "      <td>71.23</td>\n",
       "      <td>28.77</td>\n",
       "    </tr>\n",
       "    <tr>\n",
       "      <th>Ohio</th>\n",
       "      <td>70.49</td>\n",
       "      <td>29.51</td>\n",
       "    </tr>\n",
       "    <tr>\n",
       "      <th>New York</th>\n",
       "      <td>70.15</td>\n",
       "      <td>29.85</td>\n",
       "    </tr>\n",
       "    <tr>\n",
       "      <th>Virginia</th>\n",
       "      <td>70.00</td>\n",
       "      <td>30.00</td>\n",
       "    </tr>\n",
       "    <tr>\n",
       "      <th>South Dakota</th>\n",
       "      <td>69.12</td>\n",
       "      <td>30.88</td>\n",
       "    </tr>\n",
       "    <tr>\n",
       "      <th>Rhode Island</th>\n",
       "      <td>66.67</td>\n",
       "      <td>33.33</td>\n",
       "    </tr>\n",
       "    <tr>\n",
       "      <th>Maryland</th>\n",
       "      <td>66.67</td>\n",
       "      <td>33.33</td>\n",
       "    </tr>\n",
       "    <tr>\n",
       "      <th>Iowa</th>\n",
       "      <td>66.67</td>\n",
       "      <td>33.33</td>\n",
       "    </tr>\n",
       "    <tr>\n",
       "      <th>North Carolina</th>\n",
       "      <td>66.10</td>\n",
       "      <td>33.90</td>\n",
       "    </tr>\n",
       "    <tr>\n",
       "      <th>Idaho</th>\n",
       "      <td>65.67</td>\n",
       "      <td>34.33</td>\n",
       "    </tr>\n",
       "    <tr>\n",
       "      <th>Georgia</th>\n",
       "      <td>65.62</td>\n",
       "      <td>34.38</td>\n",
       "    </tr>\n",
       "    <tr>\n",
       "      <th>New Jersey</th>\n",
       "      <td>65.57</td>\n",
       "      <td>34.43</td>\n",
       "    </tr>\n",
       "    <tr>\n",
       "      <th>North Dakota</th>\n",
       "      <td>65.38</td>\n",
       "      <td>34.62</td>\n",
       "    </tr>\n",
       "    <tr>\n",
       "      <th>Colorado</th>\n",
       "      <td>63.79</td>\n",
       "      <td>36.21</td>\n",
       "    </tr>\n",
       "    <tr>\n",
       "      <th>Nevada</th>\n",
       "      <td>63.49</td>\n",
       "      <td>36.51</td>\n",
       "    </tr>\n",
       "    <tr>\n",
       "      <th>Louisiana</th>\n",
       "      <td>63.16</td>\n",
       "      <td>36.84</td>\n",
       "    </tr>\n",
       "    <tr>\n",
       "      <th>Texas</th>\n",
       "      <td>63.01</td>\n",
       "      <td>36.99</td>\n",
       "    </tr>\n",
       "    <tr>\n",
       "      <th>Connecticut</th>\n",
       "      <td>62.90</td>\n",
       "      <td>37.10</td>\n",
       "    </tr>\n",
       "    <tr>\n",
       "      <th>Utah</th>\n",
       "      <td>62.50</td>\n",
       "      <td>37.50</td>\n",
       "    </tr>\n",
       "    <tr>\n",
       "      <th>Michigan</th>\n",
       "      <td>62.26</td>\n",
       "      <td>37.74</td>\n",
       "    </tr>\n",
       "    <tr>\n",
       "      <th>Hawaii</th>\n",
       "      <td>61.97</td>\n",
       "      <td>38.03</td>\n",
       "    </tr>\n",
       "    <tr>\n",
       "      <th>Washington</th>\n",
       "      <td>61.54</td>\n",
       "      <td>38.46</td>\n",
       "    </tr>\n",
       "    <tr>\n",
       "      <th>Mississippi</th>\n",
       "      <td>61.54</td>\n",
       "      <td>38.46</td>\n",
       "    </tr>\n",
       "    <tr>\n",
       "      <th>Maine</th>\n",
       "      <td>61.43</td>\n",
       "      <td>38.57</td>\n",
       "    </tr>\n",
       "    <tr>\n",
       "      <th>West Virginia</th>\n",
       "      <td>61.43</td>\n",
       "      <td>38.57</td>\n",
       "    </tr>\n",
       "    <tr>\n",
       "      <th>California</th>\n",
       "      <td>60.61</td>\n",
       "      <td>39.39</td>\n",
       "    </tr>\n",
       "    <tr>\n",
       "      <th>Indiana</th>\n",
       "      <td>60.56</td>\n",
       "      <td>39.44</td>\n",
       "    </tr>\n",
       "    <tr>\n",
       "      <th>Arizona</th>\n",
       "      <td>60.56</td>\n",
       "      <td>39.44</td>\n",
       "    </tr>\n",
       "    <tr>\n",
       "      <th>New Hampshire</th>\n",
       "      <td>59.65</td>\n",
       "      <td>40.35</td>\n",
       "    </tr>\n",
       "    <tr>\n",
       "      <th>Kentucky</th>\n",
       "      <td>58.97</td>\n",
       "      <td>41.03</td>\n",
       "    </tr>\n",
       "    <tr>\n",
       "      <th>Wyoming</th>\n",
       "      <td>58.46</td>\n",
       "      <td>41.54</td>\n",
       "    </tr>\n",
       "    <tr>\n",
       "      <th>New Mexico</th>\n",
       "      <td>58.33</td>\n",
       "      <td>41.67</td>\n",
       "    </tr>\n",
       "    <tr>\n",
       "      <th>Montana</th>\n",
       "      <td>57.89</td>\n",
       "      <td>42.11</td>\n",
       "    </tr>\n",
       "    <tr>\n",
       "      <th>Oregon</th>\n",
       "      <td>57.89</td>\n",
       "      <td>42.11</td>\n",
       "    </tr>\n",
       "    <tr>\n",
       "      <th>Nebraska</th>\n",
       "      <td>57.14</td>\n",
       "      <td>42.86</td>\n",
       "    </tr>\n",
       "    <tr>\n",
       "      <th>Kansas</th>\n",
       "      <td>56.25</td>\n",
       "      <td>43.75</td>\n",
       "    </tr>\n",
       "    <tr>\n",
       "      <th>Florida</th>\n",
       "      <td>55.88</td>\n",
       "      <td>44.12</td>\n",
       "    </tr>\n",
       "    <tr>\n",
       "      <th>Alabama</th>\n",
       "      <td>55.56</td>\n",
       "      <td>44.44</td>\n",
       "    </tr>\n",
       "    <tr>\n",
       "      <th>Wisconsin</th>\n",
       "      <td>55.56</td>\n",
       "      <td>44.44</td>\n",
       "    </tr>\n",
       "    <tr>\n",
       "      <th>Missouri</th>\n",
       "      <td>55.56</td>\n",
       "      <td>44.44</td>\n",
       "    </tr>\n",
       "    <tr>\n",
       "      <th>Arkansas</th>\n",
       "      <td>55.38</td>\n",
       "      <td>44.62</td>\n",
       "    </tr>\n",
       "    <tr>\n",
       "      <th>Tennessee</th>\n",
       "      <td>54.41</td>\n",
       "      <td>45.59</td>\n",
       "    </tr>\n",
       "    <tr>\n",
       "      <th>Delaware</th>\n",
       "      <td>53.97</td>\n",
       "      <td>46.03</td>\n",
       "    </tr>\n",
       "    <tr>\n",
       "      <th>Pennsylvania</th>\n",
       "      <td>53.97</td>\n",
       "      <td>46.03</td>\n",
       "    </tr>\n",
       "    <tr>\n",
       "      <th>South Carolina</th>\n",
       "      <td>53.12</td>\n",
       "      <td>46.88</td>\n",
       "    </tr>\n",
       "    <tr>\n",
       "      <th>Alaska</th>\n",
       "      <td>52.94</td>\n",
       "      <td>47.06</td>\n",
       "    </tr>\n",
       "    <tr>\n",
       "      <th>Illinois</th>\n",
       "      <td>52.54</td>\n",
       "      <td>47.46</td>\n",
       "    </tr>\n",
       "    <tr>\n",
       "      <th>Oklahoma</th>\n",
       "      <td>50.00</td>\n",
       "      <td>50.00</td>\n",
       "    </tr>\n",
       "    <tr>\n",
       "      <th>Massachusetts</th>\n",
       "      <td>47.76</td>\n",
       "      <td>52.24</td>\n",
       "    </tr>\n",
       "  </tbody>\n",
       "</table>\n",
       "</div>"
      ],
      "text/plain": [
       "                pct_unpotable  pct_potable\n",
       "state                                     \n",
       "Minnesota               78.33        21.67\n",
       "Vermont                 71.23        28.77\n",
       "Ohio                    70.49        29.51\n",
       "New York                70.15        29.85\n",
       "Virginia                70.00        30.00\n",
       "South Dakota            69.12        30.88\n",
       "Rhode Island            66.67        33.33\n",
       "Maryland                66.67        33.33\n",
       "Iowa                    66.67        33.33\n",
       "North Carolina          66.10        33.90\n",
       "Idaho                   65.67        34.33\n",
       "Georgia                 65.62        34.38\n",
       "New Jersey              65.57        34.43\n",
       "North Dakota            65.38        34.62\n",
       "Colorado                63.79        36.21\n",
       "Nevada                  63.49        36.51\n",
       "Louisiana               63.16        36.84\n",
       "Texas                   63.01        36.99\n",
       "Connecticut             62.90        37.10\n",
       "Utah                    62.50        37.50\n",
       "Michigan                62.26        37.74\n",
       "Hawaii                  61.97        38.03\n",
       "Washington              61.54        38.46\n",
       "Mississippi             61.54        38.46\n",
       "Maine                   61.43        38.57\n",
       "West Virginia           61.43        38.57\n",
       "California              60.61        39.39\n",
       "Indiana                 60.56        39.44\n",
       "Arizona                 60.56        39.44\n",
       "New Hampshire           59.65        40.35\n",
       "Kentucky                58.97        41.03\n",
       "Wyoming                 58.46        41.54\n",
       "New Mexico              58.33        41.67\n",
       "Montana                 57.89        42.11\n",
       "Oregon                  57.89        42.11\n",
       "Nebraska                57.14        42.86\n",
       "Kansas                  56.25        43.75\n",
       "Florida                 55.88        44.12\n",
       "Alabama                 55.56        44.44\n",
       "Wisconsin               55.56        44.44\n",
       "Missouri                55.56        44.44\n",
       "Arkansas                55.38        44.62\n",
       "Tennessee               54.41        45.59\n",
       "Delaware                53.97        46.03\n",
       "Pennsylvania            53.97        46.03\n",
       "South Carolina          53.12        46.88\n",
       "Alaska                  52.94        47.06\n",
       "Illinois                52.54        47.46\n",
       "Oklahoma                50.00        50.00\n",
       "Massachusetts           47.76        52.24"
      ]
     },
     "metadata": {},
     "output_type": "display_data"
    }
   ],
   "source": [
    "def fpct_potable(series, p=True):\n",
    "    pct_p = round((series.sum() / series.count())* 100, 2)\n",
    "    return pct_p if p else 100 - pct_p\n",
    "        \n",
    "# ------------- uma forma de fazer -------------\n",
    "# df_pct = df.groupby('state').agg(\n",
    "#     pct_unpotable = pd.NamedAgg(column='Potability', aggfunc=lambda x: fpct_potable(x, p=False)),\n",
    "#     pct_potable = pd.NamedAgg(column='Potability', aggfunc=lambda x: fpct_potable(x))    \n",
    "# ).sort_values(by='pct_potable')\n",
    "\n",
    "# ------------- outra forma de fazer -------------\n",
    "df_pct = df.groupby('state')['Potability'].agg(\n",
    "    pct_unpotable=lambda x: fpct_potable(x, p=False),\n",
    "    pct_potable = lambda x: fpct_potable(x)\n",
    ").sort_values(by='pct_potable')\n",
    "\n",
    "display(df_pct)"
   ]
  },
  {
   "cell_type": "markdown",
   "id": "c0eb2bbe",
   "metadata": {},
   "source": [
    "**Resposta:** O estado com a menor porcentagem de amostras de água potável é 'Minnesota' => 21,67%"
   ]
  },
  {
   "cell_type": "markdown",
   "id": "6aacb68f",
   "metadata": {},
   "source": [
    "## Utlizando dados coletados da internet sobre a quantidade de habitantes de cada estado no ano 2020 responda. Qual estado, com populacao acima de 10 milhões de habitantes, tem a maior porcentagem de amostras de águas não potável?"
   ]
  },
  {
   "cell_type": "code",
   "execution_count": 122,
   "id": "4dbd2541",
   "metadata": {
    "ExecuteTime": {
     "end_time": "2021-08-03T18:18:49.145483Z",
     "start_time": "2021-08-03T18:18:47.820805Z"
    }
   },
   "outputs": [
    {
     "data": {
      "text/html": [
       "<div>\n",
       "<style scoped>\n",
       "    .dataframe tbody tr th:only-of-type {\n",
       "        vertical-align: middle;\n",
       "    }\n",
       "\n",
       "    .dataframe tbody tr th {\n",
       "        vertical-align: top;\n",
       "    }\n",
       "\n",
       "    .dataframe thead th {\n",
       "        text-align: right;\n",
       "    }\n",
       "</style>\n",
       "<table border=\"1\" class=\"dataframe\">\n",
       "  <thead>\n",
       "    <tr style=\"text-align: right;\">\n",
       "      <th></th>\n",
       "      <th>Rank</th>\n",
       "      <th>State</th>\n",
       "      <th>Population as of2010 census[80]</th>\n",
       "      <th>Population as of2020 census[81]</th>\n",
       "      <th>Change</th>\n",
       "      <th>Percentchange</th>\n",
       "    </tr>\n",
       "  </thead>\n",
       "  <tbody>\n",
       "    <tr>\n",
       "      <th>0</th>\n",
       "      <td>1</td>\n",
       "      <td>California</td>\n",
       "      <td>37253956</td>\n",
       "      <td>39538223</td>\n",
       "      <td>2284267</td>\n",
       "      <td>6.13%</td>\n",
       "    </tr>\n",
       "    <tr>\n",
       "      <th>1</th>\n",
       "      <td>2</td>\n",
       "      <td>Texas</td>\n",
       "      <td>25145561</td>\n",
       "      <td>29145505</td>\n",
       "      <td>3999944</td>\n",
       "      <td>15.91%</td>\n",
       "    </tr>\n",
       "    <tr>\n",
       "      <th>2</th>\n",
       "      <td>3</td>\n",
       "      <td>Florida</td>\n",
       "      <td>18801310</td>\n",
       "      <td>21538187</td>\n",
       "      <td>2736877</td>\n",
       "      <td>14.56%</td>\n",
       "    </tr>\n",
       "  </tbody>\n",
       "</table>\n",
       "</div>"
      ],
      "text/plain": [
       "  Rank       State  Population as of2010 census[80]  \\\n",
       "0    1  California                         37253956   \n",
       "1    2       Texas                         25145561   \n",
       "2    3     Florida                         18801310   \n",
       "\n",
       "   Population as of2020 census[81]   Change Percentchange  \n",
       "0                         39538223  2284267         6.13%  \n",
       "1                         29145505  3999944        15.91%  \n",
       "2                         21538187  2736877        14.56%  "
      ]
     },
     "execution_count": 122,
     "metadata": {},
     "output_type": "execute_result"
    }
   ],
   "source": [
    "df_pop_states = pd.read_html('https://en.wikipedia.org/wiki/2020_United_States_census')[2]\n",
    "df_pop_states.head(3)"
   ]
  },
  {
   "cell_type": "code",
   "execution_count": 124,
   "id": "ce3b7d96",
   "metadata": {
    "ExecuteTime": {
     "end_time": "2021-08-03T18:20:20.814522Z",
     "start_time": "2021-08-03T18:20:20.804523Z"
    }
   },
   "outputs": [],
   "source": [
    "# alterando o nome das colunas\n",
    "df_pop_states = df_pop_states[['State', 'Population as of2020 census[81]']]\n",
    "df_pop_states.columns = ['state', 'pop2020']"
   ]
  },
  {
   "cell_type": "code",
   "execution_count": 127,
   "id": "d269070e",
   "metadata": {
    "ExecuteTime": {
     "end_time": "2021-08-03T18:21:59.442532Z",
     "start_time": "2021-08-03T18:21:59.420516Z"
    }
   },
   "outputs": [
    {
     "data": {
      "text/html": [
       "<div>\n",
       "<style scoped>\n",
       "    .dataframe tbody tr th:only-of-type {\n",
       "        vertical-align: middle;\n",
       "    }\n",
       "\n",
       "    .dataframe tbody tr th {\n",
       "        vertical-align: top;\n",
       "    }\n",
       "\n",
       "    .dataframe thead th {\n",
       "        text-align: right;\n",
       "    }\n",
       "</style>\n",
       "<table border=\"1\" class=\"dataframe\">\n",
       "  <thead>\n",
       "    <tr style=\"text-align: right;\">\n",
       "      <th></th>\n",
       "      <th>state</th>\n",
       "      <th>pop2020</th>\n",
       "    </tr>\n",
       "  </thead>\n",
       "  <tbody>\n",
       "    <tr>\n",
       "      <th>47</th>\n",
       "      <td>Alaska</td>\n",
       "      <td>733391</td>\n",
       "    </tr>\n",
       "    <tr>\n",
       "      <th>48</th>\n",
       "      <td>District of Columbia</td>\n",
       "      <td>689545</td>\n",
       "    </tr>\n",
       "    <tr>\n",
       "      <th>49</th>\n",
       "      <td>Vermont</td>\n",
       "      <td>643077</td>\n",
       "    </tr>\n",
       "    <tr>\n",
       "      <th>50</th>\n",
       "      <td>Wyoming</td>\n",
       "      <td>576851</td>\n",
       "    </tr>\n",
       "    <tr>\n",
       "      <th>51</th>\n",
       "      <td>United States</td>\n",
       "      <td>331449281</td>\n",
       "    </tr>\n",
       "  </tbody>\n",
       "</table>\n",
       "</div>"
      ],
      "text/plain": [
       "                   state    pop2020\n",
       "47                Alaska     733391\n",
       "48  District of Columbia     689545\n",
       "49               Vermont     643077\n",
       "50               Wyoming     576851\n",
       "51         United States  331449281"
      ]
     },
     "execution_count": 127,
     "metadata": {},
     "output_type": "execute_result"
    }
   ],
   "source": [
    "df_pop_states.tail()"
   ]
  },
  {
   "cell_type": "code",
   "execution_count": 130,
   "id": "a3f33364",
   "metadata": {
    "ExecuteTime": {
     "end_time": "2021-08-03T18:30:27.548222Z",
     "start_time": "2021-08-03T18:30:27.533226Z"
    }
   },
   "outputs": [],
   "source": [
    "# retirando a linha de Total\n",
    "df_pop_states = df_pop_states.iloc[:-1]"
   ]
  },
  {
   "cell_type": "code",
   "execution_count": 134,
   "id": "586706b6",
   "metadata": {
    "ExecuteTime": {
     "end_time": "2021-08-03T18:39:42.405320Z",
     "start_time": "2021-08-03T18:39:42.374297Z"
    }
   },
   "outputs": [
    {
     "name": "stdout",
     "output_type": "stream",
     "text": [
      "<class 'pandas.core.frame.DataFrame'>\n",
      "RangeIndex: 51 entries, 0 to 50\n",
      "Data columns (total 2 columns):\n",
      " #   Column   Non-Null Count  Dtype \n",
      "---  ------   --------------  ----- \n",
      " 0   state    51 non-null     object\n",
      " 1   pop2020  51 non-null     int64 \n",
      "dtypes: int64(1), object(1)\n",
      "memory usage: 944.0+ bytes\n"
     ]
    }
   ],
   "source": [
    "df_pop_states.info()"
   ]
  },
  {
   "cell_type": "code",
   "execution_count": 140,
   "id": "88c79fe1",
   "metadata": {
    "ExecuteTime": {
     "end_time": "2021-08-03T18:56:34.208002Z",
     "start_time": "2021-08-03T18:56:34.182000Z"
    }
   },
   "outputs": [
    {
     "data": {
      "text/html": [
       "<div>\n",
       "<style scoped>\n",
       "    .dataframe tbody tr th:only-of-type {\n",
       "        vertical-align: middle;\n",
       "    }\n",
       "\n",
       "    .dataframe tbody tr th {\n",
       "        vertical-align: top;\n",
       "    }\n",
       "\n",
       "    .dataframe thead th {\n",
       "        text-align: right;\n",
       "    }\n",
       "</style>\n",
       "<table border=\"1\" class=\"dataframe\">\n",
       "  <thead>\n",
       "    <tr style=\"text-align: right;\">\n",
       "      <th></th>\n",
       "      <th>pop2020</th>\n",
       "      <th>pct_unpotable</th>\n",
       "      <th>pct_potable</th>\n",
       "    </tr>\n",
       "    <tr>\n",
       "      <th>state</th>\n",
       "      <th></th>\n",
       "      <th></th>\n",
       "      <th></th>\n",
       "    </tr>\n",
       "  </thead>\n",
       "  <tbody>\n",
       "    <tr>\n",
       "      <th>Ohio</th>\n",
       "      <td>11799448</td>\n",
       "      <td>70.49</td>\n",
       "      <td>29.51</td>\n",
       "    </tr>\n",
       "  </tbody>\n",
       "</table>\n",
       "</div>"
      ],
      "text/plain": [
       "        pop2020  pct_unpotable  pct_potable\n",
       "state                                      \n",
       "Ohio   11799448          70.49        29.51"
      ]
     },
     "execution_count": 140,
     "metadata": {},
     "output_type": "execute_result"
    }
   ],
   "source": [
    "(\n",
    "df_pop_states.set_index('state')\n",
    ".join(df_pct)\n",
    ".query('pop2020 > 10000000')\n",
    ").nlargest(1,'pct_unpotable')"
   ]
  },
  {
   "cell_type": "markdown",
   "id": "297ad1ed",
   "metadata": {},
   "source": [
    "**Resposta:** O estado com populacao acima de 10 milhões de habitantes, que tem a maior porcentagem de amostras de águas não potável é 'Ohio' => 70,49%"
   ]
  },
  {
   "cell_type": "markdown",
   "id": "3a04292c",
   "metadata": {},
   "source": [
    "## Crie o dicionário dc_states contendo como chaves os nomes de cada estado e como valor uma lista contendo o zscore aplicado a coluna \"Solids\" de todas as amostras daquele respectivo estado. Passe para função violin_plot_states o dicionário e uma lista contendo 5 estados que gostaria de análisar. Faça uma análise sucinta do resultado do gráfico."
   ]
  },
  {
   "cell_type": "code",
   "execution_count": 151,
   "id": "1c072f70",
   "metadata": {
    "ExecuteTime": {
     "end_time": "2021-08-03T19:45:07.102688Z",
     "start_time": "2021-08-03T19:45:06.867679Z"
    }
   },
   "outputs": [],
   "source": [
    "dc_states = {}\n",
    "for state in df_pct.index:\n",
    "    media = df.loc[df['state']== state]['Solids'].mean()\n",
    "    dp = df.loc[df['state']== state]['Solids'].std()\n",
    "    dc_states[state] = [(X-media)/dp for X in df.loc[df['state']== state]['Solids'].values]\n"
   ]
  },
  {
   "cell_type": "code",
   "execution_count": 153,
   "id": "774499a5",
   "metadata": {
    "ExecuteTime": {
     "end_time": "2021-08-03T19:47:29.441337Z",
     "start_time": "2021-08-03T19:47:29.084340Z"
    }
   },
   "outputs": [
    {
     "data": {
      "image/png": "[encoded data removed]",
      "text/plain": [
       "<Figure size 1152x288 with 1 Axes>"
      ]
     },
     "metadata": {
      "needs_background": "light"
     },
     "output_type": "display_data"
    }
   ],
   "source": [
    "violin_plot_states(dc_states, ['Wyoming', 'California', 'Wisconsin', 'Alabama', 'Colorado'])"
   ]
  },
  {
   "cell_type": "markdown",
   "id": "a6149e7c",
   "metadata": {},
   "source": [
    "**Resposta:** Sabendo que o `z-score` é o número de desvios padrão em relação à média de um ponto de informação, podemos observar para:\n",
    "- **Colorado**: A maior frequência de z-scores da coluna `'Solids'` concentra-se na região correspondente a -0,5 desvio padrão sobre a média de `'Solids'` daquele estado, sinalizando que os dados de 'Solids' estão concentrados levemente abaixo de sua média. Observa-se que o pico de densidade de z-scores de Colorado assemelha-se ao de **Wyoming** e **Wisconsin**, sendo que este último possui o pico de densidade levemente maior, na região -0,3 desvios padrão sobre a média.\n",
    "- **California**: Possui maior densidade de z-scores para `'Solids'` próximo a zero desvios padrão sobre a média, aproximadamente o valor de sua mediana (pontinho branco no centro do gráfico). Isso signifia que para California os dados de Solid aproximam-se de uma distribuição normal\n",
    "- **Alabama**: Seu gráfico indica que a maior parte dos valores de `'Solid'` concentram-se acima de sua média, aproximadamente +0,5 desvio padrão. Também existe uma parte considerável afastada da média em -1 desvio padrão. Sua mediana, por consequência, fica bem próximo de zero."
   ]
  }
 ],
 "metadata": {
  "kernelspec": {
   "display_name": "Python [conda env:qads]",
   "language": "python",
   "name": "conda-env-qads-py"
  },
  "language_info": {
   "codemirror_mode": {
    "name": "ipython",
    "version": 3
   },
   "file_extension": ".py",
   "mimetype": "text/x-python",
   "name": "python",
   "nbconvert_exporter": "python",
   "pygments_lexer": "ipython3",
   "version": "3.9.5"
  },
  "toc": {
   "base_numbering": 1,
   "nav_menu": {},
   "number_sections": true,
   "sideBar": true,
   "skip_h1_title": false,
   "title_cell": "Table of Contents",
   "title_sidebar": "Contents",
   "toc_cell": false,
   "toc_position": {},
   "toc_section_display": true,
   "toc_window_display": true
  }
 },
 "nbformat": 4,
 "nbformat_minor": 5
}
