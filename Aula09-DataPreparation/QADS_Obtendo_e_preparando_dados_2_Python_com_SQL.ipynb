{
    "metadata": {
        "kernelspec": {
            "name": "python3",
            "display_name": "Python 3",
            "language": "python"
        },
        "language_info": {
            "name": "python",
            "version": "3.6.6",
            "mimetype": "text/x-python",
            "codemirror_mode": {
                "name": "ipython",
                "version": 3
            },
            "pygments_lexer": "ipython3",
            "nbconvert_exporter": "python",
            "file_extension": ".py"
        },
        "colab": {
            "name": "QADS - Obtendo e preparando dados 2 - Python com SQL.ipynb",
            "provenance": []
        }
    },
    "nbformat_minor": 2,
    "nbformat": 4,
    "cells": [
        {
            "cell_type": "markdown",
            "source": [
                "![](https://www.qads.com.br/img/QADS.png)"
            ],
            "metadata": {
                "azdata_cell_guid": "3966b549-818e-431a-b853-1d6d91301152",
                "id": "TNtBNMi6lDId"
            }
        },
        {
            "cell_type": "markdown",
            "source": [
                "## Integrando Python e SQL no Azure Data Studio\n",
                "\n",
                "Nesse caderno mostraremos como extrair dados do banco SQL Server diretamente para coleções no Python.\n",
                "\n",
                "Antes de começar é preciso configurar o driver ODBC da sua máquina e criar uma DSN (Data Source Name) de usuário. Para fazer isso siga:\n",
                "\n",
                "- Windows Start (pesquisa genérica do Windows : \"Digite aqui para pesquisar\" ) > odbc > ODBC Data Sources (ou Fontes de dados ODBC) para abrir o aplicativo \"Administrador de fontes de dados ODBC\".\n",
                "\n",
                "- No aplicativo crie uma DSN de usuário: Adicionar > ODBC Driver 17 for SQL Server > escolha um nome > escolha uma descrição > indique o servidor SQL Server > Com Autenticação Integrada do Windows >  avance até concluir > teste a conexão."
            ],
            "metadata": {
                "azdata_cell_guid": "d9422d22-6567-4e8c-89c5-6010a458c35b",
                "id": "wAc2PFgNlDIg"
            }
        },
        {
            "cell_type": "markdown",
            "source": [
                "## Pyodbc\n",
                "\n",
                "Verifique se o pyodbc está instalado no seu servidor (Manage Packages). Se não estiver adicione-o seguindo os passos na aba \"Add new\" do aplicativo Manage Packages.\n"
            ],
            "metadata": {
                "azdata_cell_guid": "dacdddc5-a648-47fa-a46e-524dcc4ca96c",
                "id": "hgrE7IsLlDIg"
            }
        },
        {
            "cell_type": "code",
            "source": [
                "import pyodbc\n",
                "# conectando com o banco de dados\n",
                "cnxn = pyodbc.connect(\"DSN=sqlserver\") # use aqui o DSN criado no aplicativo de administração do ODBC\n",
                "cursor = cnxn.cursor()"
            ],
            "metadata": {
                "azdata_cell_guid": "1988bc27-65dd-45c6-9179-5831d76b9c3e",
                "tags": [],
                "id": "k7XmwiOylDIh"
            },
            "outputs": [],
            "execution_count": 1
        },
        {
            "cell_type": "markdown",
            "source": [
                "O cursor permite a transferência de dados do banco para o python. O resultado de uma consulta, passada como parâmetro do comando \"execute\" poderá ser transferida para coleções de dados."
            ],
            "metadata": {
                "azdata_cell_guid": "5f067eef-676c-4ab9-a9c1-bccbc41c118e",
                "id": "2028Q4J_lDIh"
            }
        },
        {
            "cell_type": "code",
            "source": [
                "cursor.execute(\"select TOP 30 * FROM [AdventureWorks2017].[Person].[Person]\")\n",
                "# lendo o cursor linha a linha\n",
                "row = cursor.fetchone()\n",
                "while row:\n",
                "    print (str(row[4]) + \" \" + str(row[6]))\n",
                "    row = cursor.fetchone()"
            ],
            "metadata": {
                "azdata_cell_guid": "25e8c820-c28c-458f-8086-fd09ca1696ac",
                "id": "WiS-hFgclDIi",
                "outputId": "953c5445-2fb3-4e10-d1fb-baf6309f43b7"
            },
            "outputs": [
                {
                    "name": "stdout",
                    "text": "Ken Sánchez\nTerri Duffy\nRoberto Tamburello\nRob Walters\nGail Erickson\nJossef Goldberg\nDylan Miller\nDiane Margheim\nGigi Matthew\nMichael Raheem\nOvidiu Cracium\nThierry D'Hers\nJanice Galvin\nMichael Sullivan\nSharon Salavaria\nDavid Bradley\nKevin Brown\nJohn Wood\nMary Dempsey\nWanida Benshoof\nTerry Eminhizer\nSariya Harnpadoungsataya\nMary Gibson\nJill Williams\nJames Hamilton\nPeter Krebs\nJo Brown\nGuy Gilbert\nMark McArthur\nBritta Simon\n",
                    "output_type": "stream"
                }
            ],
            "execution_count": 11
        },
        {
            "cell_type": "markdown",
            "source": [
                "Após o loop de fetchs o cursos \"esvazia\". Para usar os dados novamente ou a consulta deve ser reexecutada ou os dados transferidos para uma coleção do Python.\n",
                "\n",
                "O fetchall no cursor retorna uma lista de listas."
            ],
            "metadata": {
                "azdata_cell_guid": "fe5d0218-2906-4ed9-9a27-554e7ac2cb01",
                "id": "wFelCNW0lDIj"
            }
        },
        {
            "cell_type": "code",
            "source": [
                "cursor.execute(\"select TOP 10 * FROM [AdventureWorks2017].[Person].[Person]\")\n",
                "# transferindo o cursor para uma lista de listas\n",
                "tabela = cursor.fetchall()\n",
                "for linha in tabela:\n",
                "    print(linha, end='\\n')"
            ],
            "metadata": {
                "azdata_cell_guid": "81cd59c4-c6a7-4e1b-9884-4900bf5def87",
                "id": "LnlYNg20lDIj",
                "outputId": "e9d70353-06d7-4067-a645-18352bc90cbf"
            },
            "outputs": [
                {
                    "name": "stdout",
                    "text": "(1, 'EM', False, None, 'Ken', 'J', 'Sánchez', None, 0, None, '<IndividualSurvey xmlns=\"http://schemas.microsoft.com/sqlserver/2004/07/adventure-works/IndividualSurvey\"><TotalPurchaseYTD>0</TotalPurchaseYTD></IndividualSurvey>', '92C4279F-1207-48A3-8448-4636514EB7E2', datetime.datetime(2009, 1, 7, 0, 0))\n(2, 'EM', False, None, 'Terri', 'Lee', 'Duffy', None, 1, None, '<IndividualSurvey xmlns=\"http://schemas.microsoft.com/sqlserver/2004/07/adventure-works/IndividualSurvey\"><TotalPurchaseYTD>0</TotalPurchaseYTD></IndividualSurvey>', 'D8763459-8AA8-47CC-AFF7-C9079AF79033', datetime.datetime(2008, 1, 24, 0, 0))\n(3, 'EM', False, None, 'Roberto', None, 'Tamburello', None, 0, None, '<IndividualSurvey xmlns=\"http://schemas.microsoft.com/sqlserver/2004/07/adventure-works/IndividualSurvey\"><TotalPurchaseYTD>0</TotalPurchaseYTD></IndividualSurvey>', 'E1A2555E-0828-434B-A33B-6F38136A37DE', datetime.datetime(2007, 11, 4, 0, 0))\n(4, 'EM', False, None, 'Rob', None, 'Walters', None, 0, None, '<IndividualSurvey xmlns=\"http://schemas.microsoft.com/sqlserver/2004/07/adventure-works/IndividualSurvey\"><TotalPurchaseYTD>0</TotalPurchaseYTD></IndividualSurvey>', 'F2D7CE06-38B3-4357-805B-F4B6B71C01FF', datetime.datetime(2007, 11, 28, 0, 0))\n(5, 'EM', False, 'Ms.', 'Gail', 'A', 'Erickson', None, 0, None, '<IndividualSurvey xmlns=\"http://schemas.microsoft.com/sqlserver/2004/07/adventure-works/IndividualSurvey\"><TotalPurchaseYTD>0</TotalPurchaseYTD></IndividualSurvey>', 'F3A3F6B4-AE3B-430C-A754-9F2231BA6FEF', datetime.datetime(2007, 12, 30, 0, 0))\n(6, 'EM', False, 'Mr.', 'Jossef', 'H', 'Goldberg', None, 0, None, '<IndividualSurvey xmlns=\"http://schemas.microsoft.com/sqlserver/2004/07/adventure-works/IndividualSurvey\"><TotalPurchaseYTD>0</TotalPurchaseYTD></IndividualSurvey>', '0DEA28FD-EFFE-482A-AFD3-B7E8F199D56F', datetime.datetime(2013, 12, 16, 0, 0))\n(7, 'EM', False, None, 'Dylan', 'A', 'Miller', None, 2, None, '<IndividualSurvey xmlns=\"http://schemas.microsoft.com/sqlserver/2004/07/adventure-works/IndividualSurvey\"><TotalPurchaseYTD>0</TotalPurchaseYTD></IndividualSurvey>', 'C45E8AB8-01BE-4B76-B215-820C8368181A', datetime.datetime(2009, 2, 1, 0, 0))\n(8, 'EM', False, None, 'Diane', 'L', 'Margheim', None, 0, None, '<IndividualSurvey xmlns=\"http://schemas.microsoft.com/sqlserver/2004/07/adventure-works/IndividualSurvey\"><TotalPurchaseYTD>0</TotalPurchaseYTD></IndividualSurvey>', 'A948E590-4A56-45A9-BC9A-160A1CC9D990', datetime.datetime(2008, 12, 22, 0, 0))\n(9, 'EM', False, None, 'Gigi', 'N', 'Matthew', None, 0, None, '<IndividualSurvey xmlns=\"http://schemas.microsoft.com/sqlserver/2004/07/adventure-works/IndividualSurvey\"><TotalPurchaseYTD>0</TotalPurchaseYTD></IndividualSurvey>', '5FC28C0E-6D36-4252-9846-05CAA0B1F6C5', datetime.datetime(2009, 1, 9, 0, 0))\n(10, 'EM', False, None, 'Michael', None, 'Raheem', None, 2, None, '<IndividualSurvey xmlns=\"http://schemas.microsoft.com/sqlserver/2004/07/adventure-works/IndividualSurvey\"><TotalPurchaseYTD>0</TotalPurchaseYTD></IndividualSurvey>', 'CA2C740E-75B2-420C-9D4B-E3CBC6609604', datetime.datetime(2009, 4, 26, 0, 0))\n",
                    "output_type": "stream"
                }
            ],
            "execution_count": 13
        },
        {
            "cell_type": "code",
            "source": [
                "tabela[0]\n"
            ],
            "metadata": {
                "azdata_cell_guid": "e230097d-a9d7-405e-9a14-11472de21c54",
                "tags": [
                    "hide_input"
                ],
                "id": "yoP0n7EjlDIk",
                "outputId": "642b8077-ea30-40ed-c3a6-3cf7bd1c4bd6"
            },
            "outputs": [
                {
                    "data": {
                        "text/plain": "(1, 'EM', False, None, 'Ken', 'J', 'Sánchez', None, 0, None, '<IndividualSurvey xmlns=\"http://schemas.microsoft.com/sqlserver/2004/07/adventure-works/IndividualSurvey\"><TotalPurchaseYTD>0</TotalPurchaseYTD></IndividualSurvey>', '92C4279F-1207-48A3-8448-4636514EB7E2', datetime.datetime(2009, 1, 7, 0, 0))"
                    },
                    "metadata": {},
                    "execution_count": 14,
                    "output_type": "execute_result"
                }
            ],
            "execution_count": 14
        },
        {
            "cell_type": "markdown",
            "source": [
                "Cada posição em uma dada linha da lista de listas corresponde a uma coluna do resultado da consulta, com o tipo de dado correspondente (o que é uma grande vantagem com relação à importação de flat files). Entretanto, o nome das colunas se perde na transferência. o acesso deve ser feito só por posição."
            ],
            "metadata": {
                "azdata_cell_guid": "4ea018a7-e13b-4ce0-9140-9b9d3b249d0e",
                "id": "rzMR5S5KlDIk"
            }
        },
        {
            "cell_type": "code",
            "source": [
                "for i in range(len(tabela[0])):\n",
                "    print(tabela[0][i],type(tabela[0][i]))"
            ],
            "metadata": {
                "azdata_cell_guid": "7345b729-fd4f-493d-89b3-da1ed90e19e7",
                "id": "Vdn5ZBTdlDIl",
                "outputId": "15495b92-11d8-43bf-d222-b519f660edfa"
            },
            "outputs": [
                {
                    "name": "stdout",
                    "text": "1 <class 'int'>\nEM <class 'str'>\nFalse <class 'bool'>\nNone <class 'NoneType'>\nKen <class 'str'>\nJ <class 'str'>\nSánchez <class 'str'>\nNone <class 'NoneType'>\n0 <class 'int'>\nNone <class 'NoneType'>\n<IndividualSurvey xmlns=\"http://schemas.microsoft.com/sqlserver/2004/07/adventure-works/IndividualSurvey\"><TotalPurchaseYTD>0</TotalPurchaseYTD></IndividualSurvey> <class 'str'>\n92C4279F-1207-48A3-8448-4636514EB7E2 <class 'str'>\n2009-01-07 00:00:00 <class 'datetime.datetime'>\n",
                    "output_type": "stream"
                }
            ],
            "execution_count": 15
        },
        {
            "cell_type": "code",
            "source": [
                "type(tabela)\n"
            ],
            "metadata": {
                "azdata_cell_guid": "4d31b541-8c81-4919-8df2-c93de721a121",
                "tags": [
                    "hide_input"
                ],
                "id": "pJUZBLSjlDIl",
                "outputId": "9002b3ca-19fd-4a7c-f1c3-a97d5c3da10a"
            },
            "outputs": [
                {
                    "data": {
                        "text/plain": "list"
                    },
                    "metadata": {},
                    "execution_count": 16,
                    "output_type": "execute_result"
                }
            ],
            "execution_count": 16
        },
        {
            "cell_type": "markdown",
            "source": [
                "Consultas longas, que ocupam várias linha, podem ser preparadas usando o pacote textwrap e aspas triplas:"
            ],
            "metadata": {
                "azdata_cell_guid": "67aa792f-14a4-4f4e-8a97-1a9b6d366516",
                "id": "euCrHIEolDIl"
            }
        },
        {
            "cell_type": "code",
            "source": [
                "import textwrap\n",
                "tsql =textwrap.dedent(\"\"\"SELECT B.SalesPersonID\n",
                "      ,C.JobTitle\n",
                "      ,C.Gender\n",
                "      ,B.[TerritoryID] \n",
                "      ,D.Name as NomeTerritorioVenda\n",
                "      ,d.CountryRegionCode\n",
                "      ,[SalesQuota]\n",
                "      ,[Bonus]\n",
                "      ,[CommissionPct]\n",
                "      ,A.[SalesYTD]\n",
                "      ,A.[SalesLastYear]\n",
                "      ,B.OrderDate\n",
                "      ,B.SubTotal\n",
                "      ,B.TotalDue\n",
                "      ,B.CustomerID\n",
                "      ,B.SalesOrderID\n",
                "      ,B.ShipDate\n",
                "      ,B.Freight\n",
                "  FROM [AdventureWorks2017].[Sales].[SalesPerson] A\n",
                "  FULL OUTER JOIN [AdventureWorks2017].[Sales].SalesOrderHeader B on A.BusinessEntityID = B.SalesPersonID\n",
                "  FULL OUTER JOIN [AdventureWorks2017].[HumanResources].Employee C ON C.BusinessEntityID = A.BusinessEntityID\n",
                "  INNER JOIN [AdventureWorks2017].[Sales].SalesTerritory D ON D.TerritoryID = B.TerritoryID\"\"\")\n",
                "cursor.execute(tsql) \n",
                "tabela = cursor.fetchall()\n",
                "for i in range(10) :\n",
                " print(tabela[i], end='\\n')"
            ],
            "metadata": {
                "azdata_cell_guid": "42022014-f584-4adf-9a0b-4cc516bbebd4",
                "tags": [],
                "id": "y0hf5yDHlDIm",
                "outputId": "6077f414-b5db-44dc-83f3-c70006e2a2dc"
            },
            "outputs": [
                {
                    "name": "stdout",
                    "text": "(279, 'Sales Representative', 'M', 5, 'Southeast', 'US', Decimal('300000.0000'), Decimal('6700.0000'), Decimal('0.0100'), Decimal('2315185.6110'), Decimal('1849640.9418'), datetime.datetime(2011, 5, 31, 0, 0), Decimal('20565.6206'), Decimal('23153.2339'), 29825, 43659, datetime.datetime(2011, 6, 7, 0, 0), Decimal('616.0984'))\n(279, 'Sales Representative', 'M', 5, 'Southeast', 'US', Decimal('300000.0000'), Decimal('6700.0000'), Decimal('0.0100'), Decimal('2315185.6110'), Decimal('1849640.9418'), datetime.datetime(2011, 5, 31, 0, 0), Decimal('1294.2529'), Decimal('1457.3288'), 29672, 43660, datetime.datetime(2011, 6, 7, 0, 0), Decimal('38.8276'))\n(282, 'Sales Representative', 'M', 6, 'Canada', 'CA', Decimal('250000.0000'), Decimal('5000.0000'), Decimal('0.0150'), Decimal('2604540.7172'), Decimal('2038234.6549'), datetime.datetime(2011, 5, 31, 0, 0), Decimal('32726.4786'), Decimal('36865.8012'), 29734, 43661, datetime.datetime(2011, 6, 7, 0, 0), Decimal('985.5530'))\n(282, 'Sales Representative', 'M', 6, 'Canada', 'CA', Decimal('250000.0000'), Decimal('5000.0000'), Decimal('0.0150'), Decimal('2604540.7172'), Decimal('2038234.6549'), datetime.datetime(2011, 5, 31, 0, 0), Decimal('28832.5289'), Decimal('32474.9324'), 29994, 43662, datetime.datetime(2011, 6, 7, 0, 0), Decimal('867.2389'))\n(276, 'Sales Representative', 'F', 4, 'Southwest', 'US', Decimal('250000.0000'), Decimal('2000.0000'), Decimal('0.0150'), Decimal('4251368.5497'), Decimal('1439156.0291'), datetime.datetime(2011, 5, 31, 0, 0), Decimal('419.4589'), Decimal('472.3108'), 29565, 43663, datetime.datetime(2011, 6, 7, 0, 0), Decimal('12.5838'))\n(280, 'Sales Representative', 'F', 1, 'Northwest', 'US', Decimal('250000.0000'), Decimal('5000.0000'), Decimal('0.0100'), Decimal('1352577.1325'), Decimal('1927059.1780'), datetime.datetime(2011, 5, 31, 0, 0), Decimal('24432.6088'), Decimal('27510.4109'), 29898, 43664, datetime.datetime(2011, 6, 7, 0, 0), Decimal('732.8100'))\n(283, 'Sales Representative', 'M', 1, 'Northwest', 'US', Decimal('250000.0000'), Decimal('3500.0000'), Decimal('0.0120'), Decimal('1573012.9383'), Decimal('1371635.3158'), datetime.datetime(2011, 5, 31, 0, 0), Decimal('14352.7713'), Decimal('16158.6961'), 29580, 43665, datetime.datetime(2011, 6, 7, 0, 0), Decimal('429.9821'))\n(276, 'Sales Representative', 'F', 4, 'Southwest', 'US', Decimal('250000.0000'), Decimal('2000.0000'), Decimal('0.0150'), Decimal('4251368.5497'), Decimal('1439156.0291'), datetime.datetime(2011, 5, 31, 0, 0), Decimal('5056.4896'), Decimal('5694.8564'), 30052, 43666, datetime.datetime(2011, 6, 7, 0, 0), Decimal('151.9921'))\n(277, 'Sales Representative', 'F', 3, 'Central', 'US', Decimal('250000.0000'), Decimal('2500.0000'), Decimal('0.0150'), Decimal('3189418.3662'), Decimal('1997186.2037'), datetime.datetime(2011, 5, 31, 0, 0), Decimal('6107.0820'), Decimal('6876.3649'), 29974, 43667, datetime.datetime(2011, 6, 7, 0, 0), Decimal('183.1626'))\n(282, 'Sales Representative', 'M', 6, 'Canada', 'CA', Decimal('250000.0000'), Decimal('5000.0000'), Decimal('0.0150'), Decimal('2604540.7172'), Decimal('2038234.6549'), datetime.datetime(2011, 5, 31, 0, 0), Decimal('35944.1562'), Decimal('40487.7233'), 29614, 43668, datetime.datetime(2011, 6, 7, 0, 0), Decimal('1081.8017'))\n",
                    "output_type": "stream"
                }
            ],
            "execution_count": 22
        },
        {
            "cell_type": "markdown",
            "source": [
                "# Exercício 1\n",
                "\n",
                "Extraia do banco de dados o total de vendas em 2011 de cada vendededor que atue na França. Obtenha  Inspecione a coleção obtida."
            ],
            "metadata": {
                "azdata_cell_guid": "eb4967df-6bb9-41b8-8528-d111236bde1f",
                "id": "EB5cirGVlDIm"
            },
            "attachments": {}
        },
        {
            "cell_type": "markdown",
            "source": [
                "## Convertendo os dados da consulta num Pandas Dataframe\n",
                "\n",
                "Pode ser feito convertendo a lista em dataframe ou usando o pandas diretamente:"
            ],
            "metadata": {
                "azdata_cell_guid": "b65e6577-c1bf-43c9-85dd-408c77c775c9",
                "id": "FdEyVhnOlDIn"
            }
        },
        {
            "cell_type": "code",
            "source": [
                "import pandas\n",
                "tabelapandas = pandas.DataFrame(tabela)"
            ],
            "metadata": {
                "azdata_cell_guid": "3ede2608-0e64-45db-a5e3-d98ce040ddae",
                "id": "IQrOCVMylDIn"
            },
            "outputs": [],
            "execution_count": 23
        },
        {
            "cell_type": "code",
            "source": [
                "tabelapandas.head()\n"
            ],
            "metadata": {
                "azdata_cell_guid": "34070a5f-4faf-4bf0-92f9-76570b9f6495",
                "id": "Oy--j5MnlDIn",
                "outputId": "c05ba8f3-9d0c-4398-a41c-92ee9c94a288"
            },
            "outputs": [
                {
                    "data": {
                        "text/plain": "                                                   0\n0  [279, Sales Representative, M, 5, Southeast, U...\n1  [279, Sales Representative, M, 5, Southeast, U...\n2  [282, Sales Representative, M, 6, Canada, CA, ...\n3  [282, Sales Representative, M, 6, Canada, CA, ...\n4  [276, Sales Representative, F, 4, Southwest, U...",
                        "text/html": "<div>\n<style scoped>\n    .dataframe tbody tr th:only-of-type {\n        vertical-align: middle;\n    }\n\n    .dataframe tbody tr th {\n        vertical-align: top;\n    }\n\n    .dataframe thead th {\n        text-align: right;\n    }\n</style>\n<table border=\"1\" class=\"dataframe\">\n  <thead>\n    <tr style=\"text-align: right;\">\n      <th></th>\n      <th>0</th>\n    </tr>\n  </thead>\n  <tbody>\n    <tr>\n      <th>0</th>\n      <td>[279, Sales Representative, M, 5, Southeast, U...</td>\n    </tr>\n    <tr>\n      <th>1</th>\n      <td>[279, Sales Representative, M, 5, Southeast, U...</td>\n    </tr>\n    <tr>\n      <th>2</th>\n      <td>[282, Sales Representative, M, 6, Canada, CA, ...</td>\n    </tr>\n    <tr>\n      <th>3</th>\n      <td>[282, Sales Representative, M, 6, Canada, CA, ...</td>\n    </tr>\n    <tr>\n      <th>4</th>\n      <td>[276, Sales Representative, F, 4, Southwest, U...</td>\n    </tr>\n  </tbody>\n</table>\n</div>"
                    },
                    "metadata": {},
                    "execution_count": 24,
                    "output_type": "execute_result"
                }
            ],
            "execution_count": 24
        },
        {
            "cell_type": "markdown",
            "source": [
                "Entretanto, como a conversão em dataframe foi feita a partir da lista de listas o nome dos campos (colunas) se perdeu."
            ],
            "metadata": {
                "azdata_cell_guid": "4dd87d40-10dc-4a3b-817a-9638147223ae",
                "id": "7vICxHfXlDIn"
            }
        },
        {
            "cell_type": "code",
            "source": [
                "tabelapandas.columns"
            ],
            "metadata": {
                "azdata_cell_guid": "64648297-27fc-46bd-8769-42a24362c970",
                "id": "MzonhgvDlDIo",
                "outputId": "ffac46be-3115-4cf0-e634-fb6813ae4ad2"
            },
            "outputs": [
                {
                    "data": {
                        "text/plain": "RangeIndex(start=0, stop=1, step=1)"
                    },
                    "metadata": {},
                    "execution_count": 25,
                    "output_type": "execute_result"
                }
            ],
            "execution_count": 25
        },
        {
            "cell_type": "markdown",
            "source": [
                "## Carregando dados diretamente do banco SQL para um dataframe\n",
                "\n",
                "Usando o método read_sql do Pandas a carga dos dados preserva não só os tipos de dados mas também os nomes de colunas."
            ],
            "metadata": {
                "azdata_cell_guid": "c067ccde-2e1f-4d0e-b907-72128010c7af",
                "id": "EoiZxuR7lDIo"
            }
        },
        {
            "cell_type": "code",
            "source": [
                "sql = \"select * FROM [AdventureWorks2017].[Person].[Person]\"\n",
                "data = pandas.read_sql(sql,cnxn)"
            ],
            "metadata": {
                "azdata_cell_guid": "f1464139-40a5-4f28-bc8e-7aef82a0df10",
                "id": "m5wF6tEBlDIo"
            },
            "outputs": [],
            "execution_count": 26
        },
        {
            "cell_type": "code",
            "source": [
                "data.shape"
            ],
            "metadata": {
                "azdata_cell_guid": "858eb63d-f5d6-41c2-9229-0a40b2d72c76",
                "id": "-R59cfyHlDIo",
                "outputId": "df61bbf3-b008-42de-d343-9acaeef2a40b"
            },
            "outputs": [
                {
                    "data": {
                        "text/plain": "(19972, 13)"
                    },
                    "metadata": {},
                    "execution_count": 27,
                    "output_type": "execute_result"
                }
            ],
            "execution_count": 27
        },
        {
            "cell_type": "code",
            "source": [
                "data.describe()"
            ],
            "metadata": {
                "azdata_cell_guid": "b7a61055-cccb-465f-9eff-98d9985d947b",
                "id": "UyvT1ExvlDIp",
                "outputId": "5dbb0c7c-f301-47c2-861b-fc136ce3ba9b"
            },
            "outputs": [
                {
                    "data": {
                        "text/plain": "       BusinessEntityID  EmailPromotion\ncount      19972.000000    19972.000000\nmean       10763.079411        0.630082\nstd         5814.133272        0.781433\nmin            1.000000        0.000000\n25%         5798.750000        0.000000\n50%        10791.500000        0.000000\n75%        15784.250000        1.000000\nmax        20777.000000        2.000000",
                        "text/html": "<div>\n<style scoped>\n    .dataframe tbody tr th:only-of-type {\n        vertical-align: middle;\n    }\n\n    .dataframe tbody tr th {\n        vertical-align: top;\n    }\n\n    .dataframe thead th {\n        text-align: right;\n    }\n</style>\n<table border=\"1\" class=\"dataframe\">\n  <thead>\n    <tr style=\"text-align: right;\">\n      <th></th>\n      <th>BusinessEntityID</th>\n      <th>EmailPromotion</th>\n    </tr>\n  </thead>\n  <tbody>\n    <tr>\n      <th>count</th>\n      <td>19972.000000</td>\n      <td>19972.000000</td>\n    </tr>\n    <tr>\n      <th>mean</th>\n      <td>10763.079411</td>\n      <td>0.630082</td>\n    </tr>\n    <tr>\n      <th>std</th>\n      <td>5814.133272</td>\n      <td>0.781433</td>\n    </tr>\n    <tr>\n      <th>min</th>\n      <td>1.000000</td>\n      <td>0.000000</td>\n    </tr>\n    <tr>\n      <th>25%</th>\n      <td>5798.750000</td>\n      <td>0.000000</td>\n    </tr>\n    <tr>\n      <th>50%</th>\n      <td>10791.500000</td>\n      <td>0.000000</td>\n    </tr>\n    <tr>\n      <th>75%</th>\n      <td>15784.250000</td>\n      <td>1.000000</td>\n    </tr>\n    <tr>\n      <th>max</th>\n      <td>20777.000000</td>\n      <td>2.000000</td>\n    </tr>\n  </tbody>\n</table>\n</div>"
                    },
                    "metadata": {},
                    "execution_count": 28,
                    "output_type": "execute_result"
                }
            ],
            "execution_count": 28
        },
        {
            "cell_type": "code",
            "source": [
                "data.columns"
            ],
            "metadata": {
                "azdata_cell_guid": "915c53f0-b4f7-46a5-b339-ab07317d25c1",
                "id": "BXKqeMm3lDIp",
                "outputId": "02bf7bd1-13bc-421f-a662-6e453e6d0782"
            },
            "outputs": [
                {
                    "data": {
                        "text/plain": "Index(['BusinessEntityID', 'PersonType', 'NameStyle', 'Title', 'FirstName',\n       'MiddleName', 'LastName', 'Suffix', 'EmailPromotion',\n       'AdditionalContactInfo', 'Demographics', 'rowguid', 'ModifiedDate'],\n      dtype='object')"
                    },
                    "metadata": {},
                    "execution_count": 29,
                    "output_type": "execute_result"
                }
            ],
            "execution_count": 29
        },
        {
            "cell_type": "markdown",
            "source": [
                "Fazendo seleções nos dados por meio de slices no dataframe:"
            ],
            "metadata": {
                "azdata_cell_guid": "ea4f3c91-1abb-4583-b3b0-339666216cc9",
                "id": "7Qm47ppRlDIp"
            }
        },
        {
            "cell_type": "code",
            "source": [
                "data[data['PersonType']=='SC']"
            ],
            "metadata": {
                "azdata_cell_guid": "50b18567-06c0-471e-a124-c28739696ec1",
                "id": "tjCXTYqrlDIp",
                "outputId": "da4c06b8-7bc9-4ec9-b13d-7480adbce05f"
            },
            "outputs": [
                {
                    "data": {
                        "text/plain": "      BusinessEntityID PersonType  NameStyle Title  FirstName MiddleName  \\\n290                291         SC      False   Mr.    Gustavo       None   \n291                293         SC      False   Ms.  Catherine         R.   \n292                295         SC      False   Ms.        Kim       None   \n293                297         SC      False   Sr.   Humberto       None   \n294                299         SC      False  Sra.      Pilar       None   \n...                ...        ...        ...   ...        ...        ...   \n1228              2033         SC      False   Mr.        Sam         L.   \n1229              2034         SC      False   Ms.      Wendy       None   \n1230              2035         SC      False   Ms.     Vivian         M.   \n1231              2036         SC      False   Ms.    Cynthia         J.   \n1245              2050         SC      False   Ms.   Kathleen         J.   \n\n         LastName Suffix  EmailPromotion  \\\n290        Achong   None               2   \n291          Abel   None               1   \n292   Abercrombie   None               0   \n293       Acevedo   None               2   \n294      Ackerman   None               0   \n...           ...    ...             ...   \n1228      Wheeler   None               0   \n1229      Wheeler   None               0   \n1230      Whipple   None               2   \n1231        White   None               0   \n1245       Winter   None               1   \n\n                                  AdditionalContactInfo  \\\n290   <AdditionalContactInfo xmlns=\"http://schemas.m...   \n291   <AdditionalContactInfo xmlns=\"http://schemas.m...   \n292   <AdditionalContactInfo xmlns=\"http://schemas.m...   \n293   <AdditionalContactInfo xmlns=\"http://schemas.m...   \n294   <AdditionalContactInfo xmlns=\"http://schemas.m...   \n...                                                 ...   \n1228                                               None   \n1229                                               None   \n1230                                               None   \n1231                                               None   \n1245                                               None   \n\n                                           Demographics  \\\n290   <IndividualSurvey xmlns=\"http://schemas.micros...   \n291   <IndividualSurvey xmlns=\"http://schemas.micros...   \n292   <IndividualSurvey xmlns=\"http://schemas.micros...   \n293   <IndividualSurvey xmlns=\"http://schemas.micros...   \n294   <IndividualSurvey xmlns=\"http://schemas.micros...   \n...                                                 ...   \n1228  <IndividualSurvey xmlns=\"http://schemas.micros...   \n1229  <IndividualSurvey xmlns=\"http://schemas.micros...   \n1230  <IndividualSurvey xmlns=\"http://schemas.micros...   \n1231  <IndividualSurvey xmlns=\"http://schemas.micros...   \n1245  <IndividualSurvey xmlns=\"http://schemas.micros...   \n\n                                   rowguid            ModifiedDate  \n290   D4C132D3-FCB5-4231-9DD5-888A54BEC693 2015-04-15 16:33:33.060  \n291   D54E0552-C226-4C22-AF3B-762CA854CDD3 2015-04-15 16:33:33.077  \n292   F7CBDB48-0B44-470E-9F37-7060446FBFB9 2015-04-15 16:33:33.077  \n293   5A41D336-84CF-44D7-B12B-83B64B511F7E 2015-04-15 16:33:33.090  \n294   DF1FB8AB-2323-4330-9AB8-54E13CE6D8F9 2015-04-15 16:33:33.090  \n...                                    ...                     ...  \n1228  232712CE-3D4C-473C-9B90-21B13E67DE4A 2012-07-31 00:00:00.000  \n1229  AB3887D3-12B0-4416-85FE-92CEB6EE8A0D 2011-08-01 00:00:00.000  \n1230  FA45D72B-17EE-494F-AB7B-30D5CAA6B13C 2011-07-01 00:00:00.000  \n1231  4273A8E5-96F1-4839-8294-F5C97742E3C0 2012-06-30 00:00:00.000  \n1245  25B7E194-5F9A-4876-A97C-12A830DD889E 2012-06-30 00:00:00.000  \n\n[753 rows x 13 columns]",
                        "text/html": "<div>\n<style scoped>\n    .dataframe tbody tr th:only-of-type {\n        vertical-align: middle;\n    }\n\n    .dataframe tbody tr th {\n        vertical-align: top;\n    }\n\n    .dataframe thead th {\n        text-align: right;\n    }\n</style>\n<table border=\"1\" class=\"dataframe\">\n  <thead>\n    <tr style=\"text-align: right;\">\n      <th></th>\n      <th>BusinessEntityID</th>\n      <th>PersonType</th>\n      <th>NameStyle</th>\n      <th>Title</th>\n      <th>FirstName</th>\n      <th>MiddleName</th>\n      <th>LastName</th>\n      <th>Suffix</th>\n      <th>EmailPromotion</th>\n      <th>AdditionalContactInfo</th>\n      <th>Demographics</th>\n      <th>rowguid</th>\n      <th>ModifiedDate</th>\n    </tr>\n  </thead>\n  <tbody>\n    <tr>\n      <th>290</th>\n      <td>291</td>\n      <td>SC</td>\n      <td>False</td>\n      <td>Mr.</td>\n      <td>Gustavo</td>\n      <td>None</td>\n      <td>Achong</td>\n      <td>None</td>\n      <td>2</td>\n      <td>&lt;AdditionalContactInfo xmlns=\"http://schemas.m...</td>\n      <td>&lt;IndividualSurvey xmlns=\"http://schemas.micros...</td>\n      <td>D4C132D3-FCB5-4231-9DD5-888A54BEC693</td>\n      <td>2015-04-15 16:33:33.060</td>\n    </tr>\n    <tr>\n      <th>291</th>\n      <td>293</td>\n      <td>SC</td>\n      <td>False</td>\n      <td>Ms.</td>\n      <td>Catherine</td>\n      <td>R.</td>\n      <td>Abel</td>\n      <td>None</td>\n      <td>1</td>\n      <td>&lt;AdditionalContactInfo xmlns=\"http://schemas.m...</td>\n      <td>&lt;IndividualSurvey xmlns=\"http://schemas.micros...</td>\n      <td>D54E0552-C226-4C22-AF3B-762CA854CDD3</td>\n      <td>2015-04-15 16:33:33.077</td>\n    </tr>\n    <tr>\n      <th>292</th>\n      <td>295</td>\n      <td>SC</td>\n      <td>False</td>\n      <td>Ms.</td>\n      <td>Kim</td>\n      <td>None</td>\n      <td>Abercrombie</td>\n      <td>None</td>\n      <td>0</td>\n      <td>&lt;AdditionalContactInfo xmlns=\"http://schemas.m...</td>\n      <td>&lt;IndividualSurvey xmlns=\"http://schemas.micros...</td>\n      <td>F7CBDB48-0B44-470E-9F37-7060446FBFB9</td>\n      <td>2015-04-15 16:33:33.077</td>\n    </tr>\n    <tr>\n      <th>293</th>\n      <td>297</td>\n      <td>SC</td>\n      <td>False</td>\n      <td>Sr.</td>\n      <td>Humberto</td>\n      <td>None</td>\n      <td>Acevedo</td>\n      <td>None</td>\n      <td>2</td>\n      <td>&lt;AdditionalContactInfo xmlns=\"http://schemas.m...</td>\n      <td>&lt;IndividualSurvey xmlns=\"http://schemas.micros...</td>\n      <td>5A41D336-84CF-44D7-B12B-83B64B511F7E</td>\n      <td>2015-04-15 16:33:33.090</td>\n    </tr>\n    <tr>\n      <th>294</th>\n      <td>299</td>\n      <td>SC</td>\n      <td>False</td>\n      <td>Sra.</td>\n      <td>Pilar</td>\n      <td>None</td>\n      <td>Ackerman</td>\n      <td>None</td>\n      <td>0</td>\n      <td>&lt;AdditionalContactInfo xmlns=\"http://schemas.m...</td>\n      <td>&lt;IndividualSurvey xmlns=\"http://schemas.micros...</td>\n      <td>DF1FB8AB-2323-4330-9AB8-54E13CE6D8F9</td>\n      <td>2015-04-15 16:33:33.090</td>\n    </tr>\n    <tr>\n      <th>...</th>\n      <td>...</td>\n      <td>...</td>\n      <td>...</td>\n      <td>...</td>\n      <td>...</td>\n      <td>...</td>\n      <td>...</td>\n      <td>...</td>\n      <td>...</td>\n      <td>...</td>\n      <td>...</td>\n      <td>...</td>\n      <td>...</td>\n    </tr>\n    <tr>\n      <th>1228</th>\n      <td>2033</td>\n      <td>SC</td>\n      <td>False</td>\n      <td>Mr.</td>\n      <td>Sam</td>\n      <td>L.</td>\n      <td>Wheeler</td>\n      <td>None</td>\n      <td>0</td>\n      <td>None</td>\n      <td>&lt;IndividualSurvey xmlns=\"http://schemas.micros...</td>\n      <td>232712CE-3D4C-473C-9B90-21B13E67DE4A</td>\n      <td>2012-07-31 00:00:00.000</td>\n    </tr>\n    <tr>\n      <th>1229</th>\n      <td>2034</td>\n      <td>SC</td>\n      <td>False</td>\n      <td>Ms.</td>\n      <td>Wendy</td>\n      <td>None</td>\n      <td>Wheeler</td>\n      <td>None</td>\n      <td>0</td>\n      <td>None</td>\n      <td>&lt;IndividualSurvey xmlns=\"http://schemas.micros...</td>\n      <td>AB3887D3-12B0-4416-85FE-92CEB6EE8A0D</td>\n      <td>2011-08-01 00:00:00.000</td>\n    </tr>\n    <tr>\n      <th>1230</th>\n      <td>2035</td>\n      <td>SC</td>\n      <td>False</td>\n      <td>Ms.</td>\n      <td>Vivian</td>\n      <td>M.</td>\n      <td>Whipple</td>\n      <td>None</td>\n      <td>2</td>\n      <td>None</td>\n      <td>&lt;IndividualSurvey xmlns=\"http://schemas.micros...</td>\n      <td>FA45D72B-17EE-494F-AB7B-30D5CAA6B13C</td>\n      <td>2011-07-01 00:00:00.000</td>\n    </tr>\n    <tr>\n      <th>1231</th>\n      <td>2036</td>\n      <td>SC</td>\n      <td>False</td>\n      <td>Ms.</td>\n      <td>Cynthia</td>\n      <td>J.</td>\n      <td>White</td>\n      <td>None</td>\n      <td>0</td>\n      <td>None</td>\n      <td>&lt;IndividualSurvey xmlns=\"http://schemas.micros...</td>\n      <td>4273A8E5-96F1-4839-8294-F5C97742E3C0</td>\n      <td>2012-06-30 00:00:00.000</td>\n    </tr>\n    <tr>\n      <th>1245</th>\n      <td>2050</td>\n      <td>SC</td>\n      <td>False</td>\n      <td>Ms.</td>\n      <td>Kathleen</td>\n      <td>J.</td>\n      <td>Winter</td>\n      <td>None</td>\n      <td>1</td>\n      <td>None</td>\n      <td>&lt;IndividualSurvey xmlns=\"http://schemas.micros...</td>\n      <td>25B7E194-5F9A-4876-A97C-12A830DD889E</td>\n      <td>2012-06-30 00:00:00.000</td>\n    </tr>\n  </tbody>\n</table>\n<p>753 rows × 13 columns</p>\n</div>"
                    },
                    "metadata": {},
                    "execution_count": 31,
                    "output_type": "execute_result"
                }
            ],
            "execution_count": 31
        },
        {
            "cell_type": "code",
            "source": [
                "# versão pandas de uma query com filtro, projeção e função count distinct do sql\n",
                "data[data['PersonType']=='SC']['Title'].nunique()"
            ],
            "metadata": {
                "azdata_cell_guid": "37b4b433-bad9-4c1c-aeb3-3acb78352553",
                "id": "vRz75yjulDIq",
                "outputId": "c8e8d40c-358c-483f-f028-6675dd247c29"
            },
            "outputs": [
                {
                    "data": {
                        "text/plain": "4"
                    },
                    "metadata": {},
                    "execution_count": 32,
                    "output_type": "execute_result"
                }
            ],
            "execution_count": 32
        },
        {
            "cell_type": "markdown",
            "source": [
                "# Exercício 2\n",
                "\n",
                "Repita o exercício 1 trazendo do banco a junção completa das tabelas envolvidas para um dataframe Pandas e realizando os filtros pedidos no dataframe."
            ],
            "metadata": {
                "azdata_cell_guid": "b8eabbf3-f30e-44e0-9993-6af3c6423bba",
                "id": "6MCC4y01lDIq"
            },
            "attachments": {}
        }
    ]
}