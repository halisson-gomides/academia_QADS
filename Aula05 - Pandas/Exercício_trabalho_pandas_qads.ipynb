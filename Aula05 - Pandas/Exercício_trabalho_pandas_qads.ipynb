{
 "cells": [
  {
   "cell_type": "markdown",
   "metadata": {
    "id": "pF7h8QBle5cm"
   },
   "source": [
    "# Lista Pandas - Desempenho dos Alunos GDF\n",
    "\n",
    "O dataset analisado aqui descreve o desempenho dos alunos da rede pública do Distrito Federal. Nele encontramos as notas bimestrais de todas as matérias oferecidas a cada aluno do GDF, juntamente com informações básicas sobre a escola, o curso e a série do aluno. A fonte dos dados é o portal de dados abertos do GDF.\n",
    "\n",
    "Utilize o dataset para responder as questões abaixo. Coloque sua solução somente dentro do espaço delimitado para a resposta e não altere nenhum outro código disponibilizado. As bibliotecas para a resolução de todos os problemas já foram importadas na célula abaixo.\n",
    "\n",
    "Obs.: Caso alguma delas não esteja instalada no seu ambiente execute o processo de instalção através de !pip install <nome_da_biblioteca>\n",
    "\n"
   ]
  },
  {
   "cell_type": "code",
   "execution_count": 1,
   "metadata": {
    "id": "5-BrkHKofAOb"
   },
   "outputs": [],
   "source": [
    "import pandas as pd\n",
    "import matplotlib.pyplot as plt\n",
    "import numpy as np\n",
    "\n",
    "import requests as r\n",
    "from zipfile import ZipFile\n",
    "import io\n",
    "\n",
    "import warnings\n",
    "warnings.filterwarnings('ignore')"
   ]
  },
  {
   "cell_type": "code",
   "execution_count": 2,
   "metadata": {
    "id": "67KwEsYkfFkO"
   },
   "outputs": [],
   "source": [
    "def get_data(rows=None,download=True) -> pd.core.frame.DataFrame:\n",
    "    \n",
    "    \"\"\" get_data(rows: int=None, download: bool=True) -> pandas.core.frame.DataFrame:\n",
    "        \n",
    "        - Retorna os dados para serem utilizados na resolução da lista. \n",
    "        - Utilize o parâmetro 'download' caso você já possua os dados na sua pasta de trabalho.\n",
    "        \n",
    "        \n",
    "        ** Parâmetros **\n",
    "        ________________\n",
    "        \n",
    "        rows : quantidade de linhas a serem lidas no dataset, padrão é None e representa todo o dataset.\n",
    "        download : define se a função executará o processo de download e extração dos dados, padrão True.\n",
    "        \n",
    "        ** Exemplos **\n",
    "        ________________\n",
    "        \n",
    "        >> df = get_data(rows=100)\n",
    "        >> df.shape\n",
    "        >> (100,23)\n",
    "        \n",
    "        \n",
    "        >> df = get_data(rows=578)\n",
    "        >> df.shape\n",
    "        >> (578,23)\n",
    "        \n",
    "    \"\"\"\n",
    "    \n",
    "    if download == True:\n",
    "            \n",
    "        file_zipped = r.get('http://dados.df.gov.br/dataset/b8436049-44e7-4224-95b4-224718a4b166/resource/3e654a9d-0647-4e39-930e-7cd07faec888/download/dados-abertos---desempenho-escolar20180515160111.zip')  \n",
    "        z = ZipFile(io.BytesIO(file_zipped.content))\n",
    "        z.extractall('.')\n",
    "    \n",
    "    return pd.read_csv('dados abertos - desempenho escolar_20180515_160111.csv',sep=';',encoding='latin-1',nrows=rows)"
   ]
  },
  {
   "cell_type": "code",
   "execution_count": 3,
   "metadata": {
    "id": "r-0hTqIlfFiI"
   },
   "outputs": [],
   "source": [
    "df = get_data()"
   ]
  },
  {
   "cell_type": "code",
   "execution_count": 4,
   "metadata": {
    "colab": {
     "base_uri": "https://localhost:8080/"
    },
    "id": "YN7yiPhTtmbM",
    "outputId": "30abfd8b-5b56-41a5-95bc-d225d51fd8d7"
   },
   "outputs": [
    {
     "name": "stdout",
     "output_type": "stream",
     "text": [
      "<class 'pandas.core.frame.DataFrame'>\n",
      "RangeIndex: 12779084 entries, 0 to 12779083\n",
      "Data columns (total 23 columns):\n",
      " #   Column                            Dtype  \n",
      "---  ------                            -----  \n",
      " 0   cod_coordenacao_regional          int64  \n",
      " 1   coordenacao_regional              object \n",
      " 2   cod_escola                        int64  \n",
      " 3   escola                            object \n",
      " 4   cod_curso                         int64  \n",
      " 5   curso                             object \n",
      " 6   cod_serie                         int64  \n",
      " 7   serie                             object \n",
      " 8   cod_turno                         int64  \n",
      " 9   turno                             object \n",
      " 10  cod_turma                         float64\n",
      " 11  turma                             object \n",
      " 12  cod_aluno                         int64  \n",
      " 13  bimestre                          object \n",
      " 14  cod_disciplina                    int64  \n",
      " 15  disciplina                        object \n",
      " 16  nota_bimestral                    float64\n",
      " 17  aulas_bimestre                    float64\n",
      " 18  faltas_bimestre                   float64\n",
      " 19  faltas_justificadas_bimestre      float64\n",
      " 20  aulas_globalizadas                float64\n",
      " 21  faltas_globalizadas               float64\n",
      " 22  faltas_justificadas_globalizadas  float64\n",
      "dtypes: float64(8), int64(7), object(8)\n",
      "memory usage: 2.2+ GB\n"
     ]
    }
   ],
   "source": [
    "df.info()"
   ]
  },
  {
   "cell_type": "code",
   "execution_count": null,
   "metadata": {
    "colab": {
     "base_uri": "https://localhost:8080/",
     "height": 479
    },
    "id": "Ck4pW48IGTRT",
    "outputId": "438c3541-43d9-4099-91cc-2750b412c736"
   },
   "outputs": [
    {
     "data": {
      "text/html": [
       "<div>\n",
       "<style scoped>\n",
       "    .dataframe tbody tr th:only-of-type {\n",
       "        vertical-align: middle;\n",
       "    }\n",
       "\n",
       "    .dataframe tbody tr th {\n",
       "        vertical-align: top;\n",
       "    }\n",
       "\n",
       "    .dataframe thead th {\n",
       "        text-align: right;\n",
       "    }\n",
       "</style>\n",
       "<table border=\"1\" class=\"dataframe\">\n",
       "  <thead>\n",
       "    <tr style=\"text-align: right;\">\n",
       "      <th></th>\n",
       "      <th>cod_coordenacao_regional</th>\n",
       "      <th>coordenacao_regional</th>\n",
       "      <th>cod_escola</th>\n",
       "      <th>escola</th>\n",
       "      <th>cod_curso</th>\n",
       "      <th>curso</th>\n",
       "      <th>cod_serie</th>\n",
       "      <th>serie</th>\n",
       "      <th>cod_turno</th>\n",
       "      <th>turno</th>\n",
       "      <th>cod_turma</th>\n",
       "      <th>turma</th>\n",
       "      <th>cod_aluno</th>\n",
       "      <th>bimestre</th>\n",
       "      <th>cod_disciplina</th>\n",
       "      <th>disciplina</th>\n",
       "      <th>nota_bimestral</th>\n",
       "      <th>aulas_bimestre</th>\n",
       "      <th>faltas_bimestre</th>\n",
       "      <th>faltas_justificadas_bimestre</th>\n",
       "      <th>aulas_globalizadas</th>\n",
       "      <th>faltas_globalizadas</th>\n",
       "      <th>faltas_justificadas_globalizadas</th>\n",
       "    </tr>\n",
       "  </thead>\n",
       "  <tbody>\n",
       "    <tr>\n",
       "      <th>0</th>\n",
       "      <td>3</td>\n",
       "      <td>CRE - Plano Piloto</td>\n",
       "      <td>1</td>\n",
       "      <td>CENTRO DE ENSINO FUNDAMENTAL POLIVALENTE</td>\n",
       "      <td>5</td>\n",
       "      <td>Ensino Fundamental de 9 Anos</td>\n",
       "      <td>8</td>\n",
       "      <td>6º Ano</td>\n",
       "      <td>5</td>\n",
       "      <td>Diurno</td>\n",
       "      <td>100329.0</td>\n",
       "      <td>6º ANO B</td>\n",
       "      <td>-8376490126953895597</td>\n",
       "      <td>1</td>\n",
       "      <td>22</td>\n",
       "      <td>Projeto Interdisciplinar I</td>\n",
       "      <td>9.0</td>\n",
       "      <td>10.0</td>\n",
       "      <td>0.0</td>\n",
       "      <td>0.0</td>\n",
       "      <td>NaN</td>\n",
       "      <td>NaN</td>\n",
       "      <td>NaN</td>\n",
       "    </tr>\n",
       "    <tr>\n",
       "      <th>1</th>\n",
       "      <td>3</td>\n",
       "      <td>CRE - Plano Piloto</td>\n",
       "      <td>1</td>\n",
       "      <td>CENTRO DE ENSINO FUNDAMENTAL POLIVALENTE</td>\n",
       "      <td>5</td>\n",
       "      <td>Ensino Fundamental de 9 Anos</td>\n",
       "      <td>8</td>\n",
       "      <td>6º Ano</td>\n",
       "      <td>5</td>\n",
       "      <td>Diurno</td>\n",
       "      <td>100329.0</td>\n",
       "      <td>6º ANO B</td>\n",
       "      <td>-8376490126953895597</td>\n",
       "      <td>2</td>\n",
       "      <td>22</td>\n",
       "      <td>Projeto Interdisciplinar I</td>\n",
       "      <td>8.3</td>\n",
       "      <td>10.0</td>\n",
       "      <td>0.0</td>\n",
       "      <td>0.0</td>\n",
       "      <td>NaN</td>\n",
       "      <td>NaN</td>\n",
       "      <td>NaN</td>\n",
       "    </tr>\n",
       "    <tr>\n",
       "      <th>2</th>\n",
       "      <td>3</td>\n",
       "      <td>CRE - Plano Piloto</td>\n",
       "      <td>1</td>\n",
       "      <td>CENTRO DE ENSINO FUNDAMENTAL POLIVALENTE</td>\n",
       "      <td>5</td>\n",
       "      <td>Ensino Fundamental de 9 Anos</td>\n",
       "      <td>8</td>\n",
       "      <td>6º Ano</td>\n",
       "      <td>5</td>\n",
       "      <td>Diurno</td>\n",
       "      <td>100329.0</td>\n",
       "      <td>6º ANO B</td>\n",
       "      <td>-8376490126953895597</td>\n",
       "      <td>3</td>\n",
       "      <td>22</td>\n",
       "      <td>Projeto Interdisciplinar I</td>\n",
       "      <td>6.5</td>\n",
       "      <td>10.0</td>\n",
       "      <td>0.0</td>\n",
       "      <td>0.0</td>\n",
       "      <td>NaN</td>\n",
       "      <td>NaN</td>\n",
       "      <td>NaN</td>\n",
       "    </tr>\n",
       "    <tr>\n",
       "      <th>3</th>\n",
       "      <td>3</td>\n",
       "      <td>CRE - Plano Piloto</td>\n",
       "      <td>1</td>\n",
       "      <td>CENTRO DE ENSINO FUNDAMENTAL POLIVALENTE</td>\n",
       "      <td>5</td>\n",
       "      <td>Ensino Fundamental de 9 Anos</td>\n",
       "      <td>8</td>\n",
       "      <td>6º Ano</td>\n",
       "      <td>5</td>\n",
       "      <td>Diurno</td>\n",
       "      <td>100329.0</td>\n",
       "      <td>6º ANO B</td>\n",
       "      <td>-8376490126953895597</td>\n",
       "      <td>4</td>\n",
       "      <td>22</td>\n",
       "      <td>Projeto Interdisciplinar I</td>\n",
       "      <td>9.5</td>\n",
       "      <td>9.0</td>\n",
       "      <td>0.0</td>\n",
       "      <td>0.0</td>\n",
       "      <td>NaN</td>\n",
       "      <td>NaN</td>\n",
       "      <td>NaN</td>\n",
       "    </tr>\n",
       "    <tr>\n",
       "      <th>4</th>\n",
       "      <td>3</td>\n",
       "      <td>CRE - Plano Piloto</td>\n",
       "      <td>1</td>\n",
       "      <td>CENTRO DE ENSINO FUNDAMENTAL POLIVALENTE</td>\n",
       "      <td>5</td>\n",
       "      <td>Ensino Fundamental de 9 Anos</td>\n",
       "      <td>8</td>\n",
       "      <td>6º Ano</td>\n",
       "      <td>5</td>\n",
       "      <td>Diurno</td>\n",
       "      <td>100329.0</td>\n",
       "      <td>6º ANO B</td>\n",
       "      <td>-8376490126953895597</td>\n",
       "      <td>resultado final</td>\n",
       "      <td>22</td>\n",
       "      <td>Projeto Interdisciplinar I</td>\n",
       "      <td>8.5</td>\n",
       "      <td>NaN</td>\n",
       "      <td>NaN</td>\n",
       "      <td>NaN</td>\n",
       "      <td>NaN</td>\n",
       "      <td>NaN</td>\n",
       "      <td>NaN</td>\n",
       "    </tr>\n",
       "  </tbody>\n",
       "</table>\n",
       "</div>"
      ],
      "text/plain": [
       "   cod_coordenacao_regional  ... faltas_justificadas_globalizadas\n",
       "0                         3  ...                              NaN\n",
       "1                         3  ...                              NaN\n",
       "2                         3  ...                              NaN\n",
       "3                         3  ...                              NaN\n",
       "4                         3  ...                              NaN\n",
       "\n",
       "[5 rows x 23 columns]"
      ]
     },
     "execution_count": 6,
     "metadata": {
      "tags": []
     },
     "output_type": "execute_result"
    }
   ],
   "source": [
    "df.head()"
   ]
  },
  {
   "cell_type": "markdown",
   "metadata": {
    "id": "YrOcCs8yFm1D"
   },
   "source": [
    "## Ex 01.\n",
    " Quantos alunos diferentes estão matriculados no curso \"Ensino Médio\"?"
   ]
  },
  {
   "cell_type": "code",
   "execution_count": null,
   "metadata": {
    "colab": {
     "base_uri": "https://localhost:8080/"
    },
    "id": "QI5AgoVRFldT",
    "outputId": "0146688a-9d29-4d69-9f57-4bb8367364c8"
   },
   "outputs": [
    {
     "name": "stdout",
     "output_type": "stream",
     "text": [
      "81712\n"
     ]
    }
   ],
   "source": [
    "qtd_alunos_em = df.loc[df['curso'] == 'Ensino Médio']['cod_aluno'].nunique()\n",
    "print(qtd_alunos_em)"
   ]
  },
  {
   "cell_type": "markdown",
   "metadata": {
    "id": "kDzkDgfOHZ_K"
   },
   "source": [
    "## Ex 02. \n",
    "Levando em consideração somente os alunos do curso \"Ensino Médio\". Descreva a porcentagem de alunos que foram aprovados e reprovados (aluno aprovado é aquele que tirou 5 ou mais como nota final em todas as matérias cursadas) por série."
   ]
  },
  {
   "cell_type": "code",
   "execution_count": null,
   "metadata": {
    "colab": {
     "base_uri": "https://localhost:8080/"
    },
    "id": "lbXTmUg2dFQ0",
    "outputId": "a831187e-434c-4551-8b4c-77c3025920e9"
   },
   "outputs": [
    {
     "data": {
      "text/plain": [
       "array(['1ª Série', '2ª Série', '3ª Série'], dtype=object)"
      ]
     },
     "execution_count": 20,
     "metadata": {
      "tags": []
     },
     "output_type": "execute_result"
    }
   ],
   "source": [
    "# verifica as séries existenstes para Ensino Médio no dataset\n",
    "df[df.curso == 'Ensino Médio'].serie.unique()"
   ]
  },
  {
   "cell_type": "code",
   "execution_count": null,
   "metadata": {
    "id": "Xk58BNFkkdSv"
   },
   "outputs": [],
   "source": [
    "# verifica se existem notas acima de 10 para avaliar a necessidade de colocar na mesma escala\n",
    "df.loc[(df['curso'] == 'Ensino Médio') & (df['bimestre'] == 'resultado final') & (df['nota_bimestral'] > 10)]['nota_bimestral'].value_counts()\n"
   ]
  },
  {
   "cell_type": "code",
   "execution_count": null,
   "metadata": {
    "colab": {
     "base_uri": "https://localhost:8080/"
    },
    "id": "BTeCepDTOxM4",
    "outputId": "5ded0317-522a-4cea-ce41-009ec4620275"
   },
   "outputs": [
    {
     "name": "stdout",
     "output_type": "stream",
     "text": [
      "********************************Disciplinas do EM*********************************\n",
      "['Sociologia' 'Língua Estrangeira - Espanhol' 'Ensino Religioso'\n",
      " 'Língua Estrangeira - Inglês' 'Matemática' 'Língua Portuguesa' 'História'\n",
      " 'Educação Física' 'Projeto Interdisciplinar II' 'Geografia'\n",
      " 'Projeto Interdisciplinar I' 'Projeto Interdisciplinar III' 'Química'\n",
      " 'Biologia' 'Física' 'Filosofia' 'Arte']\n",
      "\n",
      "******************************Qtd. Disciplinas do EM******************************\n",
      "17\n"
     ]
    }
   ],
   "source": [
    "# quantidade de disciplinas diferentes\n",
    "disciplinas_em = df.loc[(df['curso'] == 'Ensino Médio') & (df['bimestre'] == 'resultado final')]['disciplina'].unique()\n",
    "print(format('Disciplinas do EM', '*^82'))\n",
    "print(disciplinas_em, end='\\n\\n')\n",
    "print(format('Qtd. Disciplinas do EM', '*^82'))\n",
    "print(len(disciplinas_em))"
   ]
  },
  {
   "cell_type": "code",
   "execution_count": null,
   "metadata": {
    "colab": {
     "base_uri": "https://localhost:8080/",
     "height": 607
    },
    "id": "xIc7JrwpTb0X",
    "outputId": "4f2003c9-5c55-4539-ad9e-6c069ab5ddd3"
   },
   "outputs": [
    {
     "data": {
      "text/html": [
       "<div>\n",
       "<style scoped>\n",
       "    .dataframe tbody tr th:only-of-type {\n",
       "        vertical-align: middle;\n",
       "    }\n",
       "\n",
       "    .dataframe tbody tr th {\n",
       "        vertical-align: top;\n",
       "    }\n",
       "\n",
       "    .dataframe thead th {\n",
       "        text-align: right;\n",
       "    }\n",
       "</style>\n",
       "<table border=\"1\" class=\"dataframe\">\n",
       "  <thead>\n",
       "    <tr style=\"text-align: right;\">\n",
       "      <th></th>\n",
       "      <th>cod_aluno</th>\n",
       "    </tr>\n",
       "    <tr>\n",
       "      <th>disciplina</th>\n",
       "      <th></th>\n",
       "    </tr>\n",
       "  </thead>\n",
       "  <tbody>\n",
       "    <tr>\n",
       "      <th>Arte</th>\n",
       "      <td>77087</td>\n",
       "    </tr>\n",
       "    <tr>\n",
       "      <th>Biologia</th>\n",
       "      <td>77098</td>\n",
       "    </tr>\n",
       "    <tr>\n",
       "      <th>Educação Física</th>\n",
       "      <td>77114</td>\n",
       "    </tr>\n",
       "    <tr>\n",
       "      <th>Ensino Religioso</th>\n",
       "      <td>28190</td>\n",
       "    </tr>\n",
       "    <tr>\n",
       "      <th>Filosofia</th>\n",
       "      <td>76965</td>\n",
       "    </tr>\n",
       "    <tr>\n",
       "      <th>Física</th>\n",
       "      <td>77116</td>\n",
       "    </tr>\n",
       "    <tr>\n",
       "      <th>Geografia</th>\n",
       "      <td>77099</td>\n",
       "    </tr>\n",
       "    <tr>\n",
       "      <th>História</th>\n",
       "      <td>77103</td>\n",
       "    </tr>\n",
       "    <tr>\n",
       "      <th>Língua Estrangeira - Espanhol</th>\n",
       "      <td>77065</td>\n",
       "    </tr>\n",
       "    <tr>\n",
       "      <th>Língua Estrangeira - Inglês</th>\n",
       "      <td>77093</td>\n",
       "    </tr>\n",
       "    <tr>\n",
       "      <th>Língua Portuguesa</th>\n",
       "      <td>77112</td>\n",
       "    </tr>\n",
       "    <tr>\n",
       "      <th>Matemática</th>\n",
       "      <td>77062</td>\n",
       "    </tr>\n",
       "    <tr>\n",
       "      <th>Projeto Interdisciplinar I</th>\n",
       "      <td>70998</td>\n",
       "    </tr>\n",
       "    <tr>\n",
       "      <th>Projeto Interdisciplinar II</th>\n",
       "      <td>69873</td>\n",
       "    </tr>\n",
       "    <tr>\n",
       "      <th>Projeto Interdisciplinar III</th>\n",
       "      <td>38119</td>\n",
       "    </tr>\n",
       "    <tr>\n",
       "      <th>Química</th>\n",
       "      <td>77098</td>\n",
       "    </tr>\n",
       "    <tr>\n",
       "      <th>Sociologia</th>\n",
       "      <td>77106</td>\n",
       "    </tr>\n",
       "  </tbody>\n",
       "</table>\n",
       "</div>"
      ],
      "text/plain": [
       "                               cod_aluno\n",
       "disciplina                              \n",
       "Arte                               77087\n",
       "Biologia                           77098\n",
       "Educação Física                    77114\n",
       "Ensino Religioso                   28190\n",
       "Filosofia                          76965\n",
       "Física                             77116\n",
       "Geografia                          77099\n",
       "História                           77103\n",
       "Língua Estrangeira - Espanhol      77065\n",
       "Língua Estrangeira - Inglês        77093\n",
       "Língua Portuguesa                  77112\n",
       "Matemática                         77062\n",
       "Projeto Interdisciplinar I         70998\n",
       "Projeto Interdisciplinar II        69873\n",
       "Projeto Interdisciplinar III       38119\n",
       "Química                            77098\n",
       "Sociologia                         77106"
      ]
     },
     "execution_count": 40,
     "metadata": {
      "tags": []
     },
     "output_type": "execute_result"
    }
   ],
   "source": [
    "# alunos do ensimo médio por disciplina\n",
    "(\n",
    "df.loc[(df['curso'] == 'Ensino Médio') & (df['bimestre'] == 'resultado final')]\n",
    ".groupby('disciplina')\n",
    ".agg({'cod_aluno': 'count'})\n",
    ")"
   ]
  },
  {
   "cell_type": "markdown",
   "metadata": {
    "id": "srAmaAmyVkUv"
   },
   "source": [
    "- Analisando a saida da celula anterior (qtd. alunos por disciplina), resovi retirar da conta as disciplinas de Projeto interdisciplinar I, II e III, e Ensino religioso para considerar o percentual de aprovados, já que essas disciplinas tem 70k ou menos alunos enquanto as demais possuem > 77k.\n",
    "\n",
    "Então ao invés de considerar 17 disciplinas, irei considerar 17 - 4 = 13"
   ]
  },
  {
   "cell_type": "code",
   "execution_count": null,
   "metadata": {
    "id": "iv5NZ6F5tYbX"
   },
   "outputs": [],
   "source": [
    "# função que soma as notas bimestrais que são >= 5\n",
    "def qtd_materias_aprovado(nota_series):\n",
    "  \n",
    "  return (nota_series.apply(lambda x: round(x/10, 2) if x > 10 else x) >= 5).sum()"
   ]
  },
  {
   "cell_type": "code",
   "execution_count": null,
   "metadata": {
    "colab": {
     "base_uri": "https://localhost:8080/"
    },
    "id": "CsCoqnV7HdnJ",
    "outputId": "abef7752-9498-4917-9d92-0e2adaef51a0"
   },
   "outputs": [
    {
     "name": "stdout",
     "output_type": "stream",
     "text": [
      "********************************Alunos da 1ª Série********************************\n",
      " -> porcentagem de alunos aprovados: 75.31%\n",
      " -> porcentagem de alunos reprovados: 24.69%\n",
      "\n",
      "********************************Alunos da 2ª Série********************************\n",
      " -> porcentagem de alunos aprovados: 81.78%\n",
      " -> porcentagem de alunos reprovados: 18.22%\n",
      "\n",
      "********************************Alunos da 3ª Série********************************\n",
      " -> porcentagem de alunos aprovados: 88.19%\n",
      " -> porcentagem de alunos reprovados: 11.81%\n",
      "\n"
     ]
    }
   ],
   "source": [
    "for serie in df[df['curso'] == 'Ensino Médio'].serie.unique():\n",
    "\n",
    "  qtd_alunos_serie = df.loc[(df['curso'] == 'Ensino Médio') &(df['serie'] == serie)]['cod_aluno'].nunique()\n",
    "  qtd_aprovados_serie = ((\n",
    "      df.loc[(df['curso'] == 'Ensino Médio') & (df['bimestre'] == 'resultado final')&(df['serie'] == serie)]\n",
    "      .groupby(['cod_aluno'])\n",
    "      .agg({'nota_bimestral': qtd_materias_aprovado})\n",
    "    ) >= 13).sum()['nota_bimestral']\n",
    "\n",
    "  print(format(f'Alunos da {serie}', '*^82'))\n",
    "  print(f' -> porcentagem de alunos aprovados: {round((qtd_aprovados_serie/qtd_alunos_serie)*100, 2 )}%')\n",
    "  print(f' -> porcentagem de alunos reprovados: {round((1 - (qtd_aprovados_serie/qtd_alunos_serie))*100, 2 )}%', end='\\n\\n')\n"
   ]
  },
  {
   "cell_type": "code",
   "execution_count": null,
   "metadata": {
    "colab": {
     "base_uri": "https://localhost:8080/"
    },
    "id": "hIpvREgcGOpR",
    "outputId": "a1351dc6-1d17-4626-b460-ed1a6bda9cdb"
   },
   "outputs": [
    {
     "data": {
      "text/plain": [
       "17994"
      ]
     },
     "execution_count": 12,
     "metadata": {
      "tags": []
     },
     "output_type": "execute_result"
    }
   ],
   "source": [
    "----------------------------------------------\n",
    "#  Outra forma de implementar\n",
    "----------------------------------------------\n",
    "\n",
    "# def corrigir_nota(value):\n",
    "#     if value > 10:\n",
    "#         return round(value / 10, 2)\n",
    "#     else:\n",
    "#         return value\n",
    "\n",
    "\n",
    "# (((\n",
    "# df[(df.curso == 'Ensino Médio')&(df.bimestre == 'resultado final')&(df.serie == '2ª Série')]\n",
    "# .loc[:,['cod_aluno','serie','disciplina','nota_bimestral']]\n",
    "# .assign(nota_bimestral = lambda x: x.nota_bimestral.apply(corrigir_nota))\n",
    "# .pivot_table(index='cod_aluno',columns='disciplina',values='nota_bimestral',aggfunc='max')\n",
    "# .fillna(0)\n",
    "# )  >= 5).sum(axis=1) >= 13).sum()"
   ]
  },
  {
   "cell_type": "markdown",
   "metadata": {
    "id": "LxioJvSNNjDp"
   },
   "source": [
    "##Ex 03. \n",
    "As coordenações regionais são instituições que cuidam das escolas públicas de uma determinada região. Busque dados populacionais de cada coordenação regional e demonstre se há alguma correlação entra a quantidade de alunos de cada coordenação e a população daquela cidade satélite."
   ]
  },
  {
   "cell_type": "code",
   "execution_count": null,
   "metadata": {
    "colab": {
     "base_uri": "https://localhost:8080/",
     "height": 391
    },
    "id": "4v3exFD_NnIK",
    "outputId": "d3f66d81-3769-470c-bcf7-97586459164b"
   },
   "outputs": [
    {
     "data": {
      "text/html": [
       "<div>\n",
       "<style scoped>\n",
       "    .dataframe tbody tr th:only-of-type {\n",
       "        vertical-align: middle;\n",
       "    }\n",
       "\n",
       "    .dataframe tbody tr th {\n",
       "        vertical-align: top;\n",
       "    }\n",
       "\n",
       "    .dataframe thead th {\n",
       "        text-align: right;\n",
       "    }\n",
       "</style>\n",
       "<table border=\"1\" class=\"dataframe\">\n",
       "  <thead>\n",
       "    <tr style=\"text-align: right;\">\n",
       "      <th></th>\n",
       "      <th>Posição</th>\n",
       "      <th>Região administrativa</th>\n",
       "      <th>População</th>\n",
       "    </tr>\n",
       "  </thead>\n",
       "  <tbody>\n",
       "    <tr>\n",
       "      <th>0</th>\n",
       "      <td>1</td>\n",
       "      <td>Ceilândia</td>\n",
       "      <td>489 351</td>\n",
       "    </tr>\n",
       "    <tr>\n",
       "      <th>1</th>\n",
       "      <td>2</td>\n",
       "      <td>Samambaia</td>\n",
       "      <td>254 439</td>\n",
       "    </tr>\n",
       "    <tr>\n",
       "      <th>2</th>\n",
       "      <td>3</td>\n",
       "      <td>Taguatinga</td>\n",
       "      <td>222 598</td>\n",
       "    </tr>\n",
       "    <tr>\n",
       "      <th>3</th>\n",
       "      <td>4</td>\n",
       "      <td>Plano Piloto</td>\n",
       "      <td>220 393</td>\n",
       "    </tr>\n",
       "    <tr>\n",
       "      <th>4</th>\n",
       "      <td>5</td>\n",
       "      <td>Planaltina</td>\n",
       "      <td>189 421</td>\n",
       "    </tr>\n",
       "  </tbody>\n",
       "</table>\n",
       "</div>"
      ],
      "text/plain": [
       "   Posição Região administrativa População\n",
       "0        1             Ceilândia   489 351\n",
       "1        2             Samambaia   254 439\n",
       "2        3            Taguatinga   222 598\n",
       "3        4          Plano Piloto   220 393\n",
       "4        5            Planaltina   189 421"
      ]
     },
     "metadata": {
      "tags": []
     },
     "output_type": "display_data"
    },
    {
     "name": "stdout",
     "output_type": "stream",
     "text": [
      "<class 'pandas.core.frame.DataFrame'>\n",
      "RangeIndex: 31 entries, 0 to 30\n",
      "Data columns (total 3 columns):\n",
      " #   Column                 Non-Null Count  Dtype \n",
      "---  ------                 --------------  ----- \n",
      " 0   Posição                31 non-null     int64 \n",
      " 1   Região administrativa  31 non-null     object\n",
      " 2   População              31 non-null     object\n",
      "dtypes: int64(1), object(2)\n",
      "memory usage: 872.0+ bytes\n"
     ]
    },
    {
     "data": {
      "text/plain": [
       "None"
      ]
     },
     "metadata": {
      "tags": []
     },
     "output_type": "display_data"
    }
   ],
   "source": [
    "df_popdf = pd.read_html('https://pt.wikipedia.org/wiki/Lista_de_regi%C3%B5es_administrativas_do_Distrito_Federal_por_popula%C3%A7%C3%A3o')[0]\n",
    "\n",
    "display(df_popdf.head())\n",
    "display(df_popdf.info())"
   ]
  },
  {
   "cell_type": "code",
   "execution_count": null,
   "metadata": {
    "id": "Z0RYF4ao2b88"
   },
   "outputs": [],
   "source": [
    "df_popdf['População'] = df_popdf['População'].apply(lambda x: int(''.join(x.split())))"
   ]
  },
  {
   "cell_type": "code",
   "execution_count": null,
   "metadata": {
    "colab": {
     "base_uri": "https://localhost:8080/",
     "height": 136
    },
    "id": "H_vXfbQ74iPH",
    "outputId": "e21b93cf-dcd5-4ea7-9de6-c055073429f5"
   },
   "outputs": [
    {
     "data": {
      "text/plain": [
       "0    489351\n",
       "1    254439\n",
       "2    222598\n",
       "3    220393\n",
       "4    189421\n",
       "Name: População, dtype: int64"
      ]
     },
     "metadata": {
      "tags": []
     },
     "output_type": "display_data"
    },
    {
     "data": {
      "text/plain": [
       "dtype('int64')"
      ]
     },
     "metadata": {
      "tags": []
     },
     "output_type": "display_data"
    }
   ],
   "source": [
    "display(df_popdf['População'].head())\n",
    "display(df_popdf['População'].dtype)"
   ]
  },
  {
   "cell_type": "code",
   "execution_count": null,
   "metadata": {
    "colab": {
     "base_uri": "https://localhost:8080/"
    },
    "id": "XScznioku6wm",
    "outputId": "b804c9dd-b588-4da1-fa68-bb567bc93560"
   },
   "outputs": [
    {
     "name": "stdout",
     "output_type": "stream",
     "text": [
      "            qtd_alunos  População\n",
      "qtd_alunos    1.000000   0.937452\n",
      "População     0.937452   1.000000\n",
      "\n"
     ]
    }
   ],
   "source": [
    "correlacao = (\n",
    "df[['coordenacao_regional', 'cod_aluno']]\n",
    ".drop_duplicates(subset='cod_aluno')\n",
    ".groupby('coordenacao_regional')\n",
    ".count()\n",
    ".reset_index()\n",
    ".rename(columns={'cod_aluno': 'qtd_alunos'})\n",
    ".assign(nome_coord_tratado = lambda x: x['coordenacao_regional'].apply(lambda y: y[6:]))\n",
    ".merge(df_popdf[['Região administrativa', 'População']], left_on='nome_coord_tratado', right_on='Região administrativa')\n",
    ".loc[:, ['qtd_alunos', 'População']]\n",
    ".corr()\n",
    ")\n",
    "  # print(format(f'Correleção entre a qtd. de alunos e a população de {coord_reg}','*^82'))\n",
    "print(correlacao, end='\\n\\n')"
   ]
  },
  {
   "cell_type": "markdown",
   "metadata": {
    "id": "GQkP54PS46w3"
   },
   "source": [
    "> Resposta 03: Percebe-se uma forte correlação entre quantidade de alunos das CRE's com a população da respectiva cidade satélite"
   ]
  },
  {
   "cell_type": "markdown",
   "metadata": {
    "id": "W40vDy1pwIfX"
   },
   "source": [
    "##Ex 04. \n",
    "Levando em consideração somente os alunos do curso \"Ensino Médio\". Demonstre a porcentagem de alunos que obtiveram notas finais maiores ou iguais a 8 em Química, Física e Biologia, por coordenação Regional."
   ]
  },
  {
   "cell_type": "code",
   "execution_count": null,
   "metadata": {
    "colab": {
     "base_uri": "https://localhost:8080/"
    },
    "id": "8KGYsASF5q_O",
    "outputId": "4807131d-e0c3-49e1-8ef0-9d87e2d45bf3"
   },
   "outputs": [
    {
     "data": {
      "text/plain": [
       "array(['CRE - Plano Piloto', 'CRE - Brazlândia', 'CRE - Ceilândia',\n",
       "       'CRE - Gama', 'CRE - Guará', 'CRE - Núcleo Bandeirante',\n",
       "       'CRE - Planaltina', 'CRE - Sobradinho', 'CRE - Taguatinga',\n",
       "       'CRE - Recanto das Emas', 'CRE - Samambaia', 'CRE - Paranoá',\n",
       "       'CRE - Santa Maria', 'CRE - São Sebastião'], dtype=object)"
      ]
     },
     "execution_count": 63,
     "metadata": {
      "tags": []
     },
     "output_type": "execute_result"
    }
   ],
   "source": [
    "df['coordenacao_regional'].unique()"
   ]
  },
  {
   "cell_type": "code",
   "execution_count": null,
   "metadata": {
    "colab": {
     "base_uri": "https://localhost:8080/"
    },
    "id": "B2X_agcgwLro",
    "outputId": "77ce5aff-f847-470d-a890-c7e035ac9a31"
   },
   "outputs": [
    {
     "name": "stdout",
     "output_type": "stream",
     "text": [
      "********************************CRE - Plano Piloto********************************\n",
      " -> porcentagem de alunos que obtiveram notas finais maiores ou iguais a 8 em Química, Física e Biologia: 9.49%\n",
      "*********************************CRE - Brazlândia*********************************\n",
      " -> porcentagem de alunos que obtiveram notas finais maiores ou iguais a 8 em Química, Física e Biologia: 11.27%\n",
      "*********************************CRE - Ceilândia**********************************\n",
      " -> porcentagem de alunos que obtiveram notas finais maiores ou iguais a 8 em Química, Física e Biologia: 14.98%\n",
      "************************************CRE - Gama************************************\n",
      " -> porcentagem de alunos que obtiveram notas finais maiores ou iguais a 8 em Química, Física e Biologia: 9.71%\n",
      "***********************************CRE - Guará************************************\n",
      " -> porcentagem de alunos que obtiveram notas finais maiores ou iguais a 8 em Química, Física e Biologia: 16.85%\n",
      "*****************************CRE - Núcleo Bandeirante*****************************\n",
      " -> porcentagem de alunos que obtiveram notas finais maiores ou iguais a 8 em Química, Física e Biologia: 13.55%\n",
      "*********************************CRE - Planaltina*********************************\n",
      " -> porcentagem de alunos que obtiveram notas finais maiores ou iguais a 8 em Química, Física e Biologia: 8.93%\n",
      "*********************************CRE - Sobradinho*********************************\n",
      " -> porcentagem de alunos que obtiveram notas finais maiores ou iguais a 8 em Química, Física e Biologia: 10.95%\n",
      "*********************************CRE - Taguatinga*********************************\n",
      " -> porcentagem de alunos que obtiveram notas finais maiores ou iguais a 8 em Química, Física e Biologia: 9.96%\n",
      "******************************CRE - Recanto das Emas******************************\n",
      " -> porcentagem de alunos que obtiveram notas finais maiores ou iguais a 8 em Química, Física e Biologia: 13.43%\n",
      "*********************************CRE - Samambaia**********************************\n",
      " -> porcentagem de alunos que obtiveram notas finais maiores ou iguais a 8 em Química, Física e Biologia: 15.36%\n",
      "**********************************CRE - Paranoá***********************************\n",
      " -> porcentagem de alunos que obtiveram notas finais maiores ou iguais a 8 em Química, Física e Biologia: 17.62%\n",
      "********************************CRE - Santa Maria*********************************\n",
      " -> porcentagem de alunos que obtiveram notas finais maiores ou iguais a 8 em Química, Física e Biologia: 11.52%\n",
      "*******************************CRE - São Sebastião********************************\n",
      " -> porcentagem de alunos que obtiveram notas finais maiores ou iguais a 8 em Química, Física e Biologia: 15.85%\n"
     ]
    }
   ],
   "source": [
    "def corrigir_nota(value):\n",
    "    if value > 10:\n",
    "        return round(value / 10, 2)\n",
    "    else:\n",
    "        return value\n",
    "  \n",
    "\n",
    "lista_disciplinas = ['Física', 'Química', 'Biologia']\n",
    "for coord_reg in df['coordenacao_regional'].unique():\n",
    "\n",
    "  qtd_alunos_regional = df.query('curso == \"Ensino Médio\" and bimestre == \"resultado final\" and coordenacao_regional == @coord_reg')['cod_aluno'].nunique()\n",
    "\n",
    "  qtd_aprovados_reg = (((\n",
    "  df.query('curso == \"Ensino Médio\" and bimestre == \"resultado final\" and disciplina in(@lista_disciplinas) and coordenacao_regional == @coord_reg')\n",
    "  .loc[:,['cod_aluno','disciplina','nota_bimestral']]\n",
    "  .assign(nota_bimestral = lambda x: x.nota_bimestral.apply(corrigir_nota))\n",
    "  .pivot_table(index='cod_aluno',columns='disciplina',values='nota_bimestral',aggfunc='max')\n",
    "  .fillna(0)\n",
    "  ) >= 8).sum(axis=1) == 3).sum()\n",
    "\n",
    "  print(format(f'{coord_reg}', '*^82'))\n",
    "  print(f' -> porcentagem de alunos que obtiveram notas finais maiores ou iguais a 8 em Química, Física e Biologia: {round((qtd_aprovados_reg/qtd_alunos_regional)*100, 2 )}%')\n",
    "  "
   ]
  },
  {
   "cell_type": "code",
   "execution_count": null,
   "metadata": {
    "id": "-mcKBXyq49RQ"
   },
   "outputs": [],
   "source": [
    "#--------------------------------------------------\n",
    "# Outra forma de fazer\n",
    "#--------------------------------------------------\n",
    "\n",
    "## função que soma as notas bimestrais que são >= 8\n",
    "# def qtd_materias_aprovado(nota_series):\n",
    "  \n",
    "#   return (nota_series.apply(lambda x: round(x/10, 2) if x > 10 else x) >= 8).sum()\n",
    "\n",
    "# ((\n",
    "#   df.query('curso == \"Ensino Médio\" and bimestre == \"resultado final\" and disciplina in(@lista_disciplinas) and coordenacao_regional == \"CRE - Plano Piloto\"')\n",
    "#   .groupby(['cod_aluno'])\n",
    "#   .agg({'nota_bimestral': qtd_materias_aprovado})\n",
    "# ) == 3).sum()"
   ]
  },
  {
   "cell_type": "markdown",
   "metadata": {
    "id": "s4dtYEcKD0aC"
   },
   "source": [
    "##Ex 05. \n",
    "Qual coordenação regional tem a maior quantidade de alunos matriculados no turno diurno do curso \"Ensino Médio\".Considere somente as coordenações regionais que possuem um número acima da média de aprovados."
   ]
  },
  {
   "cell_type": "code",
   "execution_count": null,
   "metadata": {
    "colab": {
     "base_uri": "https://localhost:8080/",
     "height": 289
    },
    "id": "h_iTAKbRD3jG",
    "outputId": "b6a8cfa4-9994-4de7-8469-14e56e3ac085"
   },
   "outputs": [
    {
     "data": {
      "text/plain": [
       "coordenacao_regional\n",
       "CRE - Brazlândia             1919\n",
       "CRE - Ceilândia             10382\n",
       "CRE - Gama                   4405\n",
       "CRE - Guará                  2331\n",
       "CRE - Núcleo Bandeirante     2803\n",
       "CRE - Paranoá                2565\n",
       "CRE - Planaltina             4925\n",
       "CRE - Plano Piloto           6931\n",
       "CRE - Recanto das Emas       3941\n",
       "CRE - Samambaia              3569\n",
       "CRE - Santa Maria            3236\n",
       "CRE - Sobradinho             3438\n",
       "CRE - São Sebastião          2772\n",
       "CRE - Taguatinga             7412\n",
       "Name: aprovado_final, dtype: int64"
      ]
     },
     "metadata": {
      "tags": []
     },
     "output_type": "display_data"
    }
   ],
   "source": [
    "# Total de alunos aprovados do Ensino médio que estudam no turno Diurno, por Coordenação Regional\n",
    "s_aprovados_em_diurno_pcoord = (\n",
    "df[['coordenacao_regional', 'cod_aluno', 'curso', 'bimestre', 'turno', 'nota_bimestral']]\n",
    ".query('curso == \"Ensino Médio\" and bimestre == \"resultado final\" and turno == \"Diurno\"')\n",
    ".groupby(['coordenacao_regional','cod_aluno'])\n",
    ".agg(qtd_mat_aprovado=('nota_bimestral', qtd_materias_aprovado))\n",
    ".assign(aprovado_final = lambda x: x['qtd_mat_aprovado'] >= 13)\n",
    ".groupby('coordenacao_regional')['aprovado_final'].sum()\n",
    ")\n",
    "display(s_aprovados_em_diurno_pcoord)"
   ]
  },
  {
   "cell_type": "code",
   "execution_count": null,
   "metadata": {
    "colab": {
     "base_uri": "https://localhost:8080/"
    },
    "id": "zbXAHTerr5s8",
    "outputId": "4a9aa916-e8a0-42d4-b782-5fcab5287491"
   },
   "outputs": [
    {
     "data": {
      "text/plain": [
       "60629"
      ]
     },
     "execution_count": 15,
     "metadata": {
      "tags": []
     },
     "output_type": "execute_result"
    }
   ],
   "source": [
    "# validando os resultados\n",
    "s_aprovados_em_diurno_pcoord.sum()"
   ]
  },
  {
   "cell_type": "code",
   "execution_count": null,
   "metadata": {
    "colab": {
     "base_uri": "https://localhost:8080/"
    },
    "id": "BMgNaLFdiKDX",
    "outputId": "52f672db-c0d0-4cea-c080-f8a6360efe9e"
   },
   "outputs": [
    {
     "data": {
      "text/plain": [
       "nota_bimestral    60629\n",
       "dtype: int64"
      ]
     },
     "execution_count": 11,
     "metadata": {
      "tags": []
     },
     "output_type": "execute_result"
    }
   ],
   "source": [
    "# Total de alunos aprovados do Ensino Médio Diurno \n",
    "((\n",
    "      df.loc[(df['curso'] == 'Ensino Médio') & (df['bimestre'] == 'resultado final') & (df['turno'] == 'Diurno')]\n",
    "      .groupby(['cod_aluno'])\n",
    "      .agg({'nota_bimestral': qtd_materias_aprovado})\n",
    "    ) >= 13).sum()"
   ]
  },
  {
   "cell_type": "code",
   "execution_count": null,
   "metadata": {
    "colab": {
     "base_uri": "https://localhost:8080/",
     "height": 34
    },
    "id": "oBCwHtTBsDOn",
    "outputId": "51c0b7ca-fbfb-40c5-83f8-b4289696fd03"
   },
   "outputs": [
    {
     "data": {
      "text/plain": [
       "4330.642857142857"
      ]
     },
     "metadata": {
      "tags": []
     },
     "output_type": "display_data"
    }
   ],
   "source": [
    "# Média dos alunos aprovados no Ensino Médio que estudam no turno Diurno\n",
    "media_aprovados_em_diurno = s_aprovados_em_diurno_pcoord.mean()\n",
    "display(media_aprovados_em_diurno)"
   ]
  },
  {
   "cell_type": "code",
   "execution_count": null,
   "metadata": {
    "colab": {
     "base_uri": "https://localhost:8080/"
    },
    "id": "wSX4vmUjspE1",
    "outputId": "454e4e64-67b7-495c-dfa8-bd65a19bb9da"
   },
   "outputs": [
    {
     "data": {
      "text/plain": [
       "coordenacao_regional\n",
       "CRE - Ceilândia    10382.0\n",
       "Name: aprovado_final, dtype: float64"
      ]
     },
     "execution_count": 24,
     "metadata": {
      "tags": []
     },
     "output_type": "execute_result"
    }
   ],
   "source": [
    "#  coordenação regional que tem a maior quantidade de alunos matriculados no turno diurno do curso \"Ensino Médio\"\n",
    "s_aprovados_em_diurno_pcoord.where(s_aprovados_em_diurno_pcoord > media_aprovados_em_diurno).nlargest(1)"
   ]
  },
  {
   "cell_type": "markdown",
   "metadata": {
    "id": "rC4_qyGef-wb"
   },
   "source": [
    "##Ex 06. \n",
    "Considerando somente alunos do curso \"Ensino Médio\". Os alunos do turno diurno perfomam melhor que os alunos do turno noturno nas matérias de química, física e biologia. (Verdadeiro ou Falso, demonstre com dados).\n",
    "\n"
   ]
  },
  {
   "cell_type": "code",
   "execution_count": 15,
   "metadata": {
    "colab": {
     "base_uri": "https://localhost:8080/"
    },
    "id": "p6_6LS7DuGqI",
    "outputId": "1de51fbf-26e2-4a91-f5ad-95f2b3f6e09e"
   },
   "outputs": [
    {
     "name": "stdout",
     "output_type": "stream",
     "text": [
      "**********************************Turno: Diurno***********************************\n",
      " -> A nota média dos alunos do Ensino Médio - Diurno nas disciplinas Química, Física e Biologia é de: 5.91\n",
      "**********************************Turno: Noturno**********************************\n",
      " -> A nota média dos alunos do Ensino Médio - Noturno nas disciplinas Química, Física e Biologia é de: 7.2\n",
      "\n",
      " >> Logo, os alunos do turno Noturno perfomam melhor que os alunos do turno Diurno nas disciplinas Química, Física e Biologia.\n"
     ]
    }
   ],
   "source": [
    "def corrigir_nota(value):\n",
    "    if value > 10:\n",
    "        return round(value / 10, 2)\n",
    "    else:\n",
    "        return value\n",
    "  \n",
    "\n",
    "lista_disciplinas = ['Física', 'Química', 'Biologia']\n",
    "dict_medias = {}\n",
    "for turno in df['turno'].unique():\n",
    "\n",
    "  media_p_turno = ((\n",
    "  df.query('curso == \"Ensino Médio\" and bimestre == \"resultado final\" and disciplina in(@lista_disciplinas) and turno == @turno')\n",
    "  .loc[:,['cod_aluno','disciplina','nota_bimestral']]\n",
    "  .assign(nota_bimestral = lambda x: x['nota_bimestral'].apply(corrigir_nota))\n",
    "  .pivot_table(index='cod_aluno',columns='disciplina',values='nota_bimestral',aggfunc='max')\n",
    "  .fillna(0)\n",
    "  ).mean(axis=1)).mean()\n",
    "\n",
    "  print(format(f'Turno: {turno}', '*^82'))\n",
    "  print(f' -> A nota média dos alunos do Ensino Médio - {turno} nas disciplinas Química, Física e Biologia é de: {round(media_p_turno, 2 )}')\n",
    "  dict_medias[turno] = media_p_turno\n",
    "\n",
    "\n",
    "sorted_dict = sorted(dict_medias.items(), key=lambda x: x[1])\n",
    "print(f'\\n >> Logo, os alunos do turno {sorted_dict[1][0]} perfomam melhor que os alunos do turno {sorted_dict[0][0]} nas disciplinas Química, Física e Biologia.')"
   ]
  }
 ],
 "metadata": {
  "colab": {
   "collapsed_sections": [],
   "name": "Exercício trabalho_pandas_qads.ipynb",
   "provenance": [],
   "toc_visible": true
  },
  "kernelspec": {
   "display_name": "Python 3",
   "language": "python",
   "name": "python3"
  },
  "language_info": {
   "codemirror_mode": {
    "name": "ipython",
    "version": 3
   },
   "file_extension": ".py",
   "mimetype": "text/x-python",
   "name": "python",
   "nbconvert_exporter": "python",
   "pygments_lexer": "ipython3",
   "version": "3.7.6"
  },
  "toc": {
   "base_numbering": 1,
   "nav_menu": {},
   "number_sections": true,
   "sideBar": true,
   "skip_h1_title": false,
   "title_cell": "Table of Contents",
   "title_sidebar": "Contents",
   "toc_cell": false,
   "toc_position": {},
   "toc_section_display": true,
   "toc_window_display": false
  }
 },
 "nbformat": 4,
 "nbformat_minor": 1
}
