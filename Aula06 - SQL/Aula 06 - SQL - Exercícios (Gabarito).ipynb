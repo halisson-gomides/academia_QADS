{
 "cells": [
  {
   "cell_type": "markdown",
   "metadata": {},
   "source": [
    "# Aula 5: SQL"
   ]
  },
  {
   "cell_type": "markdown",
   "metadata": {},
   "source": [
    "## Introdução"
   ]
  },
  {
   "cell_type": "markdown",
   "metadata": {},
   "source": [
    "Nesta aula veremos as principais queries de consulta em sql"
   ]
  },
  {
   "cell_type": "markdown",
   "metadata": {},
   "source": [
    "## Conexao no db4free via sqlalchemy"
   ]
  },
  {
   "cell_type": "code",
   "execution_count": 3,
   "metadata": {
    "ExecuteTime": {
     "end_time": "2021-07-25T00:34:37.031717Z",
     "start_time": "2021-07-25T00:34:36.948312Z"
    }
   },
   "outputs": [],
   "source": [
    "import yaml\n",
    "import os\n",
    "import sqlite3\n",
    "import pandas as pd\n",
    "from pandasql import sqldf"
   ]
  },
  {
   "cell_type": "code",
   "execution_count": 6,
   "metadata": {
    "ExecuteTime": {
     "end_time": "2021-07-25T00:34:51.403746Z",
     "start_time": "2021-07-25T00:34:51.318745Z"
    }
   },
   "outputs": [],
   "source": [
    "# importando libs necessárias\n",
    "import mysql.connector"
   ]
  },
  {
   "cell_type": "code",
   "execution_count": 4,
   "metadata": {
    "ExecuteTime": {
     "end_time": "2021-07-25T00:34:43.852222Z",
     "start_time": "2021-07-25T00:34:43.822225Z"
    }
   },
   "outputs": [],
   "source": [
    "# Load SQL credentials\n",
    "with open('credentials.yml', 'r') as file:\n",
    "    credentials = yaml.load(file, Loader=yaml.FullLoader)"
   ]
  },
  {
   "cell_type": "code",
   "execution_count": 7,
   "metadata": {
    "ExecuteTime": {
     "end_time": "2021-07-25T00:35:22.463005Z",
     "start_time": "2021-07-25T00:34:52.498996Z"
    }
   },
   "outputs": [],
   "source": [
    "#Conectando\n",
    "con = mysql.connector.connect(user=credentials['user'], \n",
    "                              password=credentials['password'],\n",
    "                              host=credentials['host'],\n",
    "                              database=credentials['database'],\n",
    "                              port=credentials['port'])\n",
    "\n",
    "cursor = con.cursor()"
   ]
  },
  {
   "cell_type": "code",
   "execution_count": null,
   "metadata": {},
   "outputs": [],
   "source": [
    "query = '''\n",
    "    SHOW TABLES\n",
    "'''\n",
    "\n",
    "cursor.execute(query)"
   ]
  },
  {
   "cell_type": "code",
   "execution_count": 8,
   "metadata": {
    "ExecuteTime": {
     "end_time": "2021-07-25T00:35:29.729466Z",
     "start_time": "2021-07-25T00:35:28.706690Z"
    }
   },
   "outputs": [],
   "source": [
    "query = '''\n",
    "\n",
    "\n",
    "CREATE TABLE IF NOT EXISTS `artistas` (\n",
    "  `id` int(11) NOT NULL AUTO_INCREMENT,\n",
    "  `nome` varchar(45) NOT NULL,\n",
    "  `gravadoras_id` int(11) NOT NULL,\n",
    "  `created` timestamp NULL DEFAULT NULL,\n",
    "  `modified` timestamp NULL DEFAULT NULL,\n",
    "  PRIMARY KEY (`id`),\n",
    "  UNIQUE KEY `nome_UNIQUE` (`nome`),\n",
    "  KEY `fk_artistas_gravadoras1_idx` (`gravadoras_id`)\n",
    ")\n",
    "                               \n",
    "'''\n",
    "cursor.execute(query)"
   ]
  },
  {
   "cell_type": "code",
   "execution_count": 9,
   "metadata": {
    "ExecuteTime": {
     "end_time": "2021-07-25T00:35:51.094291Z",
     "start_time": "2021-07-25T00:35:50.835616Z"
    }
   },
   "outputs": [],
   "source": [
    "query = '''\n",
    "\n",
    "\n",
    "INSERT INTO `artistas` (`id`, `nome`, `gravadoras_id`, `created`, `modified`) VALUES\n",
    "(1, 'Mano Lima', 2, '2019-10-18 16:28:53', '2019-10-18 16:28:53'),\n",
    "(2, 'Shakira', 4, '2019-10-18 16:29:46', '2019-10-18 16:29:46'),\n",
    "(3, 'Luiz Marenco', 5, '2019-10-18 16:30:29', '2019-10-18 16:30:29'),\n",
    "(4, 'Pedro Capó', 4, '2019-10-21 20:15:53', '2019-10-21 20:15:53'),\n",
    "(5, 'Farruko', 4, '2019-10-21 20:16:19', '2019-10-21 20:16:19'),\n",
    "(6, 'Alicia Keys', 4, '2019-10-21 20:16:28', '2019-10-21 20:16:28'),\n",
    "(7, 'Joca Martins', 2, '2019-10-21 20:18:46', '2019-10-21 20:18:46'),\n",
    "(8, 'José Cláudio Machado', 2, '2019-10-21 20:19:24', '2019-10-21 20:19:24'),\n",
    "(9, 'Luis Fonsi', 4, '2019-10-21 20:23:42', '2019-10-21 20:23:42'),\n",
    "(10, 'Nicky Jam', 4, '2019-10-21 20:25:48', '2019-10-21 20:25:48'),\n",
    "(11, 'Enrique Iglesias', 4, '2019-10-21 20:45:55', '2019-10-21 20:45:55'),\n",
    "(12, 'Gente de Zona', 4, '2019-10-21 20:46:07', '2019-10-21 20:46:07'),\n",
    "(13, 'Descemer Bueno', 4, '2019-10-21 20:46:24', '2019-10-21 20:46:24'),\n",
    "(14, 'Zion', 4, '2019-10-21 21:00:07', '2019-10-21 21:00:07'),\n",
    "(15, 'Lennox', 4, '2019-10-21 21:00:16', '2019-10-21 21:00:16'),\n",
    "(16, 'Maluma', 4, '2019-10-21 21:01:32', '2019-10-21 21:01:32'),\n",
    "(17, 'Anitta', 4, '2019-10-21 21:01:43', '2019-10-21 21:01:43'),\n",
    "(18, 'Mettallica', 4, '2019-10-21 21:02:34', '2019-10-21 21:02:34'),\n",
    "(19, 'MC Créu', 1, '2019-10-21 21:22:44', '2019-10-21 21:22:44')\n",
    "                               \n",
    "'''\n",
    "cursor.execute(query)"
   ]
  },
  {
   "cell_type": "code",
   "execution_count": 9,
   "metadata": {
    "ExecuteTime": {
     "end_time": "2021-07-25T00:35:51.094291Z",
     "start_time": "2021-07-25T00:35:50.835616Z"
    }
   },
   "outputs": [],
   "source": [
    "query = '''\n",
    "\n",
    "\n",
    "INSERT INTO `artistas` (`id`, `nome`, `gravadoras_id`, `created`, `modified`) VALUES\n",
    "(1, 'Mano Lima', 2, '2019-10-18 16:28:53', '2019-10-18 16:28:53'),\n",
    "(2, 'Shakira', 4, '2019-10-18 16:29:46', '2019-10-18 16:29:46'),\n",
    "(3, 'Luiz Marenco', 5, '2019-10-18 16:30:29', '2019-10-18 16:30:29'),\n",
    "(4, 'Pedro Capó', 4, '2019-10-21 20:15:53', '2019-10-21 20:15:53'),\n",
    "(5, 'Farruko', 4, '2019-10-21 20:16:19', '2019-10-21 20:16:19'),\n",
    "(6, 'Alicia Keys', 4, '2019-10-21 20:16:28', '2019-10-21 20:16:28'),\n",
    "(7, 'Joca Martins', 2, '2019-10-21 20:18:46', '2019-10-21 20:18:46'),\n",
    "(8, 'José Cláudio Machado', 2, '2019-10-21 20:19:24', '2019-10-21 20:19:24'),\n",
    "(9, 'Luis Fonsi', 4, '2019-10-21 20:23:42', '2019-10-21 20:23:42'),\n",
    "(10, 'Nicky Jam', 4, '2019-10-21 20:25:48', '2019-10-21 20:25:48'),\n",
    "(11, 'Enrique Iglesias', 4, '2019-10-21 20:45:55', '2019-10-21 20:45:55'),\n",
    "(12, 'Gente de Zona', 4, '2019-10-21 20:46:07', '2019-10-21 20:46:07'),\n",
    "(13, 'Descemer Bueno', 4, '2019-10-21 20:46:24', '2019-10-21 20:46:24'),\n",
    "(14, 'Zion', 4, '2019-10-21 21:00:07', '2019-10-21 21:00:07'),\n",
    "(15, 'Lennox', 4, '2019-10-21 21:00:16', '2019-10-21 21:00:16'),\n",
    "(16, 'Maluma', 4, '2019-10-21 21:01:32', '2019-10-21 21:01:32'),\n",
    "(17, 'Anitta', 4, '2019-10-21 21:01:43', '2019-10-21 21:01:43'),\n",
    "(18, 'Mettallica', 4, '2019-10-21 21:02:34', '2019-10-21 21:02:34'),\n",
    "(19, 'MC Créu', 1, '2019-10-21 21:22:44', '2019-10-21 21:22:44')\n",
    "                               \n",
    "'''\n",
    "cursor.execute(query)"
   ]
  },
  {
   "cell_type": "code",
   "execution_count": 11,
   "metadata": {
    "ExecuteTime": {
     "end_time": "2021-07-25T00:36:54.009654Z",
     "start_time": "2021-07-25T00:36:52.983859Z"
    }
   },
   "outputs": [],
   "source": [
    "query = '''\n",
    "\n",
    "\n",
    "CREATE TABLE IF NOT EXISTS `clientes` (\n",
    "  `id` int(11) NOT NULL AUTO_INCREMENT,\n",
    "  `login` varchar(45) NOT NULL,\n",
    "  `senha` varchar(45) NOT NULL,\n",
    "  `created` timestamp NULL DEFAULT NULL,\n",
    "  `modified` timestamp NULL DEFAULT NULL,\n",
    "  `planos_id` int(11) NOT NULL,\n",
    "  `email` varchar(50) DEFAULT NULL,\n",
    "  PRIMARY KEY (`id`),\n",
    "  UNIQUE KEY `login_UNIQUE` (`login`),\n",
    "  KEY `fk_usuarios_planos1_idx` (`planos_id`)\n",
    ") \n",
    "                               \n",
    "'''\n",
    "cursor.execute(query)"
   ]
  },
  {
   "cell_type": "code",
   "execution_count": 12,
   "metadata": {
    "ExecuteTime": {
     "end_time": "2021-07-25T00:37:07.837953Z",
     "start_time": "2021-07-25T00:37:07.594528Z"
    }
   },
   "outputs": [],
   "source": [
    "query = '''\n",
    "\n",
    "\n",
    "INSERT INTO `clientes` (`id`, `login`, `senha`, `created`, `modified`, `planos_id`, `email`) VALUES\n",
    "(1, 'Sandro', '5andr0', '2019-10-18 16:08:20', '2019-10-21 20:52:17', 1, 'sandrocamargo@unipampa.edu.br'),\n",
    "(2, 'Papa', 'v5t1c5n0', '2019-10-18 16:08:51', '2019-10-21 20:52:42', 3, 'papa@vaticano.com'),\n",
    "(3, 'Neymar', 'caicai', '2019-10-21 20:14:56', '2019-10-21 20:53:08', 3, 'bateu-caiu@selecao.com')\n",
    "                               \n",
    "'''\n",
    "cursor.execute(query)"
   ]
  },
  {
   "cell_type": "code",
   "execution_count": 13,
   "metadata": {
    "ExecuteTime": {
     "end_time": "2021-07-25T00:37:24.671345Z",
     "start_time": "2021-07-25T00:37:23.686113Z"
    }
   },
   "outputs": [],
   "source": [
    "query = '''\n",
    "CREATE TABLE IF NOT EXISTS `generos` (\n",
    "  `id` int(11) NOT NULL AUTO_INCREMENT,\n",
    "  `descricao` varchar(45) NOT NULL,\n",
    "  `created` timestamp NULL DEFAULT NULL,\n",
    "  `modified` timestamp NULL DEFAULT NULL,\n",
    "  PRIMARY KEY (`id`),\n",
    "  UNIQUE KEY `descricao_UNIQUE` (`descricao`)\n",
    ")\n",
    "                               \n",
    "'''\n",
    "cursor.execute(query)"
   ]
  },
  {
   "cell_type": "code",
   "execution_count": 14,
   "metadata": {
    "ExecuteTime": {
     "end_time": "2021-07-25T00:37:52.072405Z",
     "start_time": "2021-07-25T00:37:50.449466Z"
    }
   },
   "outputs": [],
   "source": [
    "query = '''\n",
    "\n",
    "INSERT INTO `generos` (`id`, `descricao`, `created`, `modified`) VALUES\n",
    "(1, 'Gaúcha', '2019-10-18 16:10:38', '2019-10-18 16:10:38'),\n",
    "(2, 'Pop', '2019-10-18 16:10:42', '2019-10-18 16:10:42'),\n",
    "(3, 'Rock', '2019-10-18 16:10:46', '2019-10-18 16:10:46'),\n",
    "(4, 'Funk', '2019-10-18 16:10:49', '2019-10-18 16:10:49')            \n",
    "'''\n",
    "cursor.execute(query)"
   ]
  },
  {
   "cell_type": "code",
   "execution_count": 15,
   "metadata": {
    "ExecuteTime": {
     "end_time": "2021-07-25T00:37:52.072405Z",
     "start_time": "2021-07-25T00:37:50.449466Z"
    }
   },
   "outputs": [],
   "source": [
    "query = '''\n",
    "\n",
    "\n",
    "CREATE TABLE IF NOT EXISTS `gravadoras` (\n",
    "  `id` int(11) NOT NULL AUTO_INCREMENT,\n",
    "  `nome` varchar(45) NOT NULL,\n",
    "  `valor_contrato` decimal(10,0) NOT NULL,\n",
    "  `vencimento_contrato` date DEFAULT NULL,\n",
    "  `created` timestamp NULL DEFAULT NULL,\n",
    "  `modified` timestamp NULL DEFAULT NULL,\n",
    "  PRIMARY KEY (`id`),\n",
    "  UNIQUE KEY `nome_UNIQUE` (`nome`)\n",
    ")                               \n",
    "'''\n",
    "cursor.execute(query)"
   ]
  },
  {
   "cell_type": "code",
   "execution_count": 16,
   "metadata": {
    "ExecuteTime": {
     "end_time": "2021-07-25T00:38:29.218863Z",
     "start_time": "2021-07-25T00:38:28.958633Z"
    }
   },
   "outputs": [],
   "source": [
    "query = '''\n",
    "\n",
    "INSERT INTO `gravadoras` (`id`, `nome`, `valor_contrato`, `vencimento_contrato`, `created`, `modified`) VALUES\n",
    "(1, 'Artista Independente', 0, '2020-12-31', '2019-10-18 16:18:32', '2019-10-18 16:18:32'),\n",
    "(2, 'ACIT', 50000, '2020-12-31', '2019-10-18 16:28:19', '2019-10-18 16:28:19'),\n",
    "(3, 'Som Livre', 100000, '2020-12-31', '2019-10-18 16:28:38', '2019-10-18 16:28:38'),\n",
    "(4, 'Sony Music', 500000, '2024-12-31', '2019-10-18 16:29:37', '2019-10-18 16:29:37'),\n",
    "(5, 'USA Discos', 10000, '2020-12-31', '2019-10-18 16:30:21', '2019-10-18 16:30:21')'''\n",
    "cursor.execute(query)"
   ]
  },
  {
   "cell_type": "code",
   "execution_count": 17,
   "metadata": {
    "ExecuteTime": {
     "end_time": "2021-07-25T00:38:29.218863Z",
     "start_time": "2021-07-25T00:38:28.958633Z"
    }
   },
   "outputs": [],
   "source": [
    "query = '''\n",
    "CREATE TABLE IF NOT EXISTS `musicas` (\n",
    "  `id` int(11) NOT NULL AUTO_INCREMENT,\n",
    "  `nome` varchar(45) NOT NULL,\n",
    "  `duracao` time NOT NULL,\n",
    "  `generos_id` int(11) NOT NULL,\n",
    "  `lancamento` date DEFAULT NULL,\n",
    "  `created` timestamp NULL DEFAULT NULL,\n",
    "  `modified` timestamp NULL DEFAULT NULL,\n",
    "  PRIMARY KEY (`id`),\n",
    "  KEY `fk_musicas_generos1_idx` (`generos_id`)\n",
    ")              \n",
    "'''\n",
    "cursor.execute(query)"
   ]
  },
  {
   "cell_type": "code",
   "execution_count": 18,
   "metadata": {
    "ExecuteTime": {
     "end_time": "2021-07-25T00:38:29.218863Z",
     "start_time": "2021-07-25T00:38:28.958633Z"
    }
   },
   "outputs": [],
   "source": [
    "query = '''\n",
    "INSERT INTO `musicas` (`id`, `nome`, `duracao`, `generos_id`, `lancamento`, `created`, `modified`) VALUES\n",
    "(1, 'Conta pro tio', '04:00:00', 1, '2014-01-01', '2019-10-18 16:31:22', '2019-10-18 16:31:22'),\n",
    "(2, 'Balaio de gato', '03:05:00', 1, '2014-10-07', '2019-10-21 15:06:51', '2019-10-21 15:06:51'),\n",
    "(3, 'Batendo água', '15:09:00', 1, '2014-02-06', '2019-10-21 15:09:57', '2019-10-21 15:09:57'),\n",
    "(4, 'Estoy aqui', '05:00:00', 2, '2014-04-05', '2019-10-21 15:18:10', '2019-10-21 15:18:10'),\n",
    "(5, 'Calma', '20:15:00', 2, '2018-12-31', '2019-10-21 20:15:36', '2019-10-21 20:15:36'),\n",
    "(6, 'A boa vista do peão de tropa', '04:18:00', 1, '2014-12-31', '2019-10-21 20:18:37', '2019-10-21 20:18:37'),\n",
    "(7, 'Espantando o Bagual', '04:00:00', 1, '2014-12-31', '2019-10-21 20:21:20', '2019-10-21 20:21:20'),\n",
    "(8, 'Cadela Baia', '03:59:00', 1, '2014-12-31', '2019-10-21 20:22:05', '2019-10-21 20:22:05'),\n",
    "(9, 'Sem paia e sem fumo', '03:59:00', 1, '2014-12-31', '2019-10-21 20:22:52', '2019-10-21 20:22:52'),\n",
    "(10, 'Despacito', '04:00:00', 2, '2014-12-31', '2019-10-21 20:23:30', '2019-10-21 20:23:30'),\n",
    "(11, 'Quando o verso vem pras casa', '04:00:00', 1, '2014-12-31', '2019-10-21 20:24:28', '2019-10-21 20:24:28'),\n",
    "(12, 'Perro Fiel', '03:59:00', 2, '2014-12-31', '2019-10-21 20:26:15', '2019-10-21 20:26:15'),\n",
    "(13, 'Bailando', '04:00:00', 2, '2014-12-31', '2019-10-21 20:46:59', '2019-10-21 20:46:59'),\n",
    "(14, 'El perdón', '03:54:00', 2, '2014-12-31', '2019-10-21 20:54:37', '2019-10-21 20:54:37'),\n",
    "(15, 'Súbeme la Radio', '03:30:00', 2, '2014-12-31', '2019-10-21 21:00:39', '2019-10-21 21:00:39'),\n",
    "(16, 'Sim ou Não', '04:00:00', 2, '2014-12-31', '2019-10-21 21:00:48', '2019-10-21 21:02:16'),\n",
    "(17, 'Felices los 4', '03:59:00', 2, '2014-12-31', '2019-10-21 21:21:54', '2019-10-21 21:21:54'),\n",
    "(18, 'Dança do Créu', '01:59:00', 4, '2014-12-31', '2019-10-21 21:22:59', '2019-10-21 21:22:59')                      \n",
    "'''\n",
    "cursor.execute(query)"
   ]
  },
  {
   "cell_type": "code",
   "execution_count": 19,
   "metadata": {
    "ExecuteTime": {
     "end_time": "2021-07-25T00:39:01.250078Z",
     "start_time": "2021-07-25T00:39:00.980503Z"
    }
   },
   "outputs": [],
   "source": [
    "query = '''\n",
    "CREATE TABLE IF NOT EXISTS `musicas_has_artistas` (\n",
    "  `id` int(11) unsigned zerofill NOT NULL AUTO_INCREMENT,\n",
    "  `musicas_id` int(11) NOT NULL,\n",
    "  `artistas_id` int(11) NOT NULL,\n",
    "  PRIMARY KEY (`id`),\n",
    "  KEY `fk_musicas_has_artistas_artistas1_idx` (`artistas_id`),\n",
    "  KEY `fk_musicas_has_artistas_musicas1_idx` (`musicas_id`),\n",
    "  KEY `id` (`id`)\n",
    ") \n",
    "'''\n",
    "cursor.execute(query)"
   ]
  },
  {
   "cell_type": "code",
   "execution_count": 20,
   "metadata": {
    "ExecuteTime": {
     "end_time": "2021-07-25T00:39:01.250078Z",
     "start_time": "2021-07-25T00:39:00.980503Z"
    }
   },
   "outputs": [],
   "source": [
    "query = '''\n",
    "INSERT INTO `musicas_has_artistas` (`id`, `musicas_id`, `artistas_id`) VALUES\n",
    "(00000000001, 1, 1),\n",
    "(00000000002, 2, 1),\n",
    "(00000000003, 3, 3),\n",
    "(00000000004, 4, 2),\n",
    "(00000000005, 5, 4),\n",
    "(00000000006, 5, 5),\n",
    "(00000000007, 5, 6),\n",
    "(00000000008, 6, 8),\n",
    "(00000000009, 6, 7),\n",
    "(00000000010, 6, 3),\n",
    "(00000000011, 7, 1),\n",
    "(00000000012, 8, 1),\n",
    "(00000000013, 9, 1),\n",
    "(00000000014, 10, 9),\n",
    "(00000000015, 11, 3),\n",
    "(00000000016, 12, 2),\n",
    "(00000000017, 12, 10),\n",
    "(00000000018, 13, 13),\n",
    "(00000000019, 13, 11),\n",
    "(00000000020, 13, 12),\n",
    "(00000000021, 14, 11),\n",
    "(00000000022, 14, 10),\n",
    "(00000000023, 16, 17),\n",
    "(00000000024, 16, 16),\n",
    "(00000000025, 15, 11),\n",
    "(00000000026, 15, 15),\n",
    "(00000000027, 15, 14),\n",
    "(00000000028, 15, 13),\n",
    "(00000000029, 17, 16),\n",
    "(00000000030, 18, 19)\n",
    "'''\n",
    "cursor.execute(query)"
   ]
  },
  {
   "cell_type": "code",
   "execution_count": 21,
   "metadata": {
    "ExecuteTime": {
     "end_time": "2021-07-25T00:39:17.334875Z",
     "start_time": "2021-07-25T00:39:16.050018Z"
    }
   },
   "outputs": [],
   "source": [
    "query = '''\n",
    "CREATE TABLE IF NOT EXISTS `musicas_has_clientes` (\n",
    "  `id` int(11) unsigned zerofill NOT NULL AUTO_INCREMENT,\n",
    "  `musicas_id` int(11) NOT NULL,\n",
    "  `clientes_id` int(11) NOT NULL,\n",
    "  `data` timestamp NOT NULL DEFAULT CURRENT_TIMESTAMP ON UPDATE CURRENT_TIMESTAMP,\n",
    "  PRIMARY KEY (`id`),\n",
    "  KEY `fk_musicas_has_usuarios_musicas1_idx` (`musicas_id`),\n",
    "  KEY `fk_musicas_has_usuarios_clientes1_idx` (`clientes_id`)\n",
    ")\n",
    "'''\n",
    "cursor.execute(query)"
   ]
  },
  {
   "cell_type": "code",
   "execution_count": 22,
   "metadata": {
    "ExecuteTime": {
     "end_time": "2021-07-25T00:39:28.926633Z",
     "start_time": "2021-07-25T00:39:28.012609Z"
    }
   },
   "outputs": [],
   "source": [
    "query = '''\n",
    "CREATE TABLE IF NOT EXISTS `pagamentos` (\n",
    "  `id` int(11) NOT NULL AUTO_INCREMENT,\n",
    "  `data` date DEFAULT NULL,\n",
    "  PRIMARY KEY (`id`)\n",
    ")\n",
    "'''\n",
    "cursor.execute(query)"
   ]
  },
  {
   "cell_type": "code",
   "execution_count": 23,
   "metadata": {
    "ExecuteTime": {
     "end_time": "2021-07-25T00:39:52.938468Z",
     "start_time": "2021-07-25T00:39:52.076447Z"
    }
   },
   "outputs": [],
   "source": [
    "query = '''\n",
    "CREATE TABLE IF NOT EXISTS `planos` (\n",
    "  `id` int(11) NOT NULL AUTO_INCREMENT,\n",
    "  `descricao` varchar(45) NOT NULL,\n",
    "  `valor` decimal(5,2) NOT NULL,\n",
    "  `limite` int(11) NOT NULL,\n",
    "  `created` timestamp NULL DEFAULT NULL,\n",
    "  `modified` timestamp NULL DEFAULT NULL,\n",
    "  PRIMARY KEY (`id`),\n",
    "  UNIQUE KEY `descricao_UNIQUE` (`descricao`)\n",
    ")\n",
    "'''\n",
    "cursor.execute(query)"
   ]
  },
  {
   "cell_type": "code",
   "execution_count": 24,
   "metadata": {
    "ExecuteTime": {
     "end_time": "2021-07-25T00:40:13.501825Z",
     "start_time": "2021-07-25T00:40:13.130129Z"
    }
   },
   "outputs": [],
   "source": [
    "query = '''\n",
    "INSERT INTO `planos` (`id`, `descricao`, `valor`, `limite`, `created`, `modified`) VALUES\n",
    "(1, 'Light', 29.99, 100, '2019-10-18 14:21:08', '2019-10-18 14:21:08'),\n",
    "(2, 'Sem nome', 39.99, 500, '2019-10-18 14:21:31', '2019-10-18 14:21:31'),\n",
    "(3, 'Full', 49.99, 999999, '2019-10-18 14:22:00', '2019-10-18 14:22:00')\n",
    "'''\n",
    "cursor.execute(query)"
   ]
  },
  {
   "cell_type": "markdown",
   "metadata": {},
   "source": [
    "### 1) Quantos clientes estão cadastrados?"
   ]
  },
  {
   "cell_type": "code",
   "execution_count": 25,
   "metadata": {
    "ExecuteTime": {
     "end_time": "2021-07-25T00:41:13.310237Z",
     "start_time": "2021-07-25T00:41:12.588307Z"
    }
   },
   "outputs": [
    {
     "data": {
      "text/html": [
       "<div>\n",
       "<style scoped>\n",
       "    .dataframe tbody tr th:only-of-type {\n",
       "        vertical-align: middle;\n",
       "    }\n",
       "\n",
       "    .dataframe tbody tr th {\n",
       "        vertical-align: top;\n",
       "    }\n",
       "\n",
       "    .dataframe thead th {\n",
       "        text-align: right;\n",
       "    }\n",
       "</style>\n",
       "<table border=\"1\" class=\"dataframe\">\n",
       "  <thead>\n",
       "    <tr style=\"text-align: right;\">\n",
       "      <th></th>\n",
       "      <th>COUNT(id)</th>\n",
       "    </tr>\n",
       "  </thead>\n",
       "  <tbody>\n",
       "    <tr>\n",
       "      <th>0</th>\n",
       "      <td>3</td>\n",
       "    </tr>\n",
       "  </tbody>\n",
       "</table>\n",
       "</div>"
      ],
      "text/plain": [
       "   COUNT(id)\n",
       "0          3"
      ]
     },
     "execution_count": 25,
     "metadata": {},
     "output_type": "execute_result"
    }
   ],
   "source": [
    "query = '''\n",
    "    SELECT\n",
    "    COUNT(id)\n",
    "FROM\n",
    "    clientes;\n",
    "\n",
    "'''\n",
    "pd.read_sql(query, con)"
   ]
  },
  {
   "cell_type": "markdown",
   "metadata": {},
   "source": [
    "### 2) Quantos clientes estão cadastrados em cada plano?\n",
    "\n"
   ]
  },
  {
   "cell_type": "code",
   "execution_count": 25,
   "metadata": {
    "ExecuteTime": {
     "end_time": "2021-07-25T00:41:13.310237Z",
     "start_time": "2021-07-25T00:41:12.588307Z"
    }
   },
   "outputs": [
    {
     "data": {
      "text/html": [
       "<div>\n",
       "<style scoped>\n",
       "    .dataframe tbody tr th:only-of-type {\n",
       "        vertical-align: middle;\n",
       "    }\n",
       "\n",
       "    .dataframe tbody tr th {\n",
       "        vertical-align: top;\n",
       "    }\n",
       "\n",
       "    .dataframe thead th {\n",
       "        text-align: right;\n",
       "    }\n",
       "</style>\n",
       "<table border=\"1\" class=\"dataframe\">\n",
       "  <thead>\n",
       "    <tr style=\"text-align: right;\">\n",
       "      <th></th>\n",
       "      <th>COUNT(id)</th>\n",
       "    </tr>\n",
       "  </thead>\n",
       "  <tbody>\n",
       "    <tr>\n",
       "      <th>0</th>\n",
       "      <td>3</td>\n",
       "    </tr>\n",
       "  </tbody>\n",
       "</table>\n",
       "</div>"
      ],
      "text/plain": [
       "   COUNT(id)\n",
       "0          3"
      ]
     },
     "execution_count": 25,
     "metadata": {},
     "output_type": "execute_result"
    }
   ],
   "source": [
    "query = '''\n",
    "    SELECT\n",
    "    COUNT(id)\n",
    "FROM\n",
    "    clientes;\n",
    "\n",
    "'''\n",
    "pd.read_sql(query, con)"
   ]
  },
  {
   "cell_type": "markdown",
   "metadata": {},
   "source": [
    "### 2) Quantos clientes estão cadastrados em cada plano?\n",
    "\n"
   ]
  },
  {
   "cell_type": "code",
   "execution_count": 26,
   "metadata": {
    "ExecuteTime": {
     "end_time": "2021-07-25T00:44:13.265811Z",
     "start_time": "2021-07-25T00:44:12.490914Z"
    }
   },
   "outputs": [
    {
     "data": {
      "text/html": [
       "<div>\n",
       "<style scoped>\n",
       "    .dataframe tbody tr th:only-of-type {\n",
       "        vertical-align: middle;\n",
       "    }\n",
       "\n",
       "    .dataframe tbody tr th {\n",
       "        vertical-align: top;\n",
       "    }\n",
       "\n",
       "    .dataframe thead th {\n",
       "        text-align: right;\n",
       "    }\n",
       "</style>\n",
       "<table border=\"1\" class=\"dataframe\">\n",
       "  <thead>\n",
       "    <tr style=\"text-align: right;\">\n",
       "      <th></th>\n",
       "      <th>Nome do Plano</th>\n",
       "      <th>Quantidade</th>\n",
       "    </tr>\n",
       "  </thead>\n",
       "  <tbody>\n",
       "    <tr>\n",
       "      <th>0</th>\n",
       "      <td>Light</td>\n",
       "      <td>1</td>\n",
       "    </tr>\n",
       "    <tr>\n",
       "      <th>1</th>\n",
       "      <td>Full</td>\n",
       "      <td>2</td>\n",
       "    </tr>\n",
       "  </tbody>\n",
       "</table>\n",
       "</div>"
      ],
      "text/plain": [
       "  Nome do Plano  Quantidade\n",
       "0         Light           1\n",
       "1          Full           2"
      ]
     },
     "execution_count": 26,
     "metadata": {},
     "output_type": "execute_result"
    }
   ],
   "source": [
    "query = '''\n",
    "SELECT\n",
    "    descricao AS 'Nome do Plano',\n",
    "    COUNT(clientes.id) AS 'Quantidade'\n",
    "FROM\n",
    "    clientes\n",
    "JOIN planos ON planos.id = clientes.planos_id\n",
    "GROUP BY\n",
    "    planos_id;\n",
    "\n",
    "'''\n",
    "pd.read_sql(query, con)"
   ]
  },
  {
   "cell_type": "markdown",
   "metadata": {},
   "source": [
    "### 3) Quais os artistas que estão no sistema?\n",
    "\n"
   ]
  },
  {
   "cell_type": "code",
   "execution_count": 27,
   "metadata": {
    "ExecuteTime": {
     "end_time": "2021-07-25T00:44:13.265811Z",
     "start_time": "2021-07-25T00:44:12.490914Z"
    },
    "scrolled": true
   },
   "outputs": [
    {
     "data": {
      "text/html": [
       "<div>\n",
       "<style scoped>\n",
       "    .dataframe tbody tr th:only-of-type {\n",
       "        vertical-align: middle;\n",
       "    }\n",
       "\n",
       "    .dataframe tbody tr th {\n",
       "        vertical-align: top;\n",
       "    }\n",
       "\n",
       "    .dataframe thead th {\n",
       "        text-align: right;\n",
       "    }\n",
       "</style>\n",
       "<table border=\"1\" class=\"dataframe\">\n",
       "  <thead>\n",
       "    <tr style=\"text-align: right;\">\n",
       "      <th></th>\n",
       "      <th>nome</th>\n",
       "    </tr>\n",
       "  </thead>\n",
       "  <tbody>\n",
       "    <tr>\n",
       "      <th>0</th>\n",
       "      <td>Alicia Keys</td>\n",
       "    </tr>\n",
       "    <tr>\n",
       "      <th>1</th>\n",
       "      <td>Anitta</td>\n",
       "    </tr>\n",
       "    <tr>\n",
       "      <th>2</th>\n",
       "      <td>Descemer Bueno</td>\n",
       "    </tr>\n",
       "    <tr>\n",
       "      <th>3</th>\n",
       "      <td>Enrique Iglesias</td>\n",
       "    </tr>\n",
       "    <tr>\n",
       "      <th>4</th>\n",
       "      <td>Farruko</td>\n",
       "    </tr>\n",
       "    <tr>\n",
       "      <th>5</th>\n",
       "      <td>Gente de Zona</td>\n",
       "    </tr>\n",
       "    <tr>\n",
       "      <th>6</th>\n",
       "      <td>Joca Martins</td>\n",
       "    </tr>\n",
       "    <tr>\n",
       "      <th>7</th>\n",
       "      <td>José Cláudio Machado</td>\n",
       "    </tr>\n",
       "    <tr>\n",
       "      <th>8</th>\n",
       "      <td>Lennox</td>\n",
       "    </tr>\n",
       "    <tr>\n",
       "      <th>9</th>\n",
       "      <td>Luis Fonsi</td>\n",
       "    </tr>\n",
       "    <tr>\n",
       "      <th>10</th>\n",
       "      <td>Luiz Marenco</td>\n",
       "    </tr>\n",
       "    <tr>\n",
       "      <th>11</th>\n",
       "      <td>Maluma</td>\n",
       "    </tr>\n",
       "    <tr>\n",
       "      <th>12</th>\n",
       "      <td>Mano Lima</td>\n",
       "    </tr>\n",
       "    <tr>\n",
       "      <th>13</th>\n",
       "      <td>MC Créu</td>\n",
       "    </tr>\n",
       "    <tr>\n",
       "      <th>14</th>\n",
       "      <td>Mettallica</td>\n",
       "    </tr>\n",
       "    <tr>\n",
       "      <th>15</th>\n",
       "      <td>Nicky Jam</td>\n",
       "    </tr>\n",
       "    <tr>\n",
       "      <th>16</th>\n",
       "      <td>Pedro Capó</td>\n",
       "    </tr>\n",
       "    <tr>\n",
       "      <th>17</th>\n",
       "      <td>Shakira</td>\n",
       "    </tr>\n",
       "    <tr>\n",
       "      <th>18</th>\n",
       "      <td>Zion</td>\n",
       "    </tr>\n",
       "  </tbody>\n",
       "</table>\n",
       "</div>"
      ],
      "text/plain": [
       "                    nome\n",
       "0            Alicia Keys\n",
       "1                 Anitta\n",
       "2         Descemer Bueno\n",
       "3       Enrique Iglesias\n",
       "4                Farruko\n",
       "5          Gente de Zona\n",
       "6           Joca Martins\n",
       "7   José Cláudio Machado\n",
       "8                 Lennox\n",
       "9             Luis Fonsi\n",
       "10          Luiz Marenco\n",
       "11                Maluma\n",
       "12             Mano Lima\n",
       "13               MC Créu\n",
       "14            Mettallica\n",
       "15             Nicky Jam\n",
       "16            Pedro Capó\n",
       "17               Shakira\n",
       "18                  Zion"
      ]
     },
     "execution_count": 27,
     "metadata": {},
     "output_type": "execute_result"
    }
   ],
   "source": [
    "query = '''\n",
    "SELECT\n",
    "    nome\n",
    "FROM\n",
    "    artistas;\n",
    "\n",
    "'''\n",
    "pd.read_sql(query, con)"
   ]
  },
  {
   "cell_type": "markdown",
   "metadata": {},
   "source": [
    "### 4) Quais são os planos, valores e limites de downloads?"
   ]
  },
  {
   "cell_type": "code",
   "execution_count": 28,
   "metadata": {
    "ExecuteTime": {
     "end_time": "2021-07-25T00:44:13.265811Z",
     "start_time": "2021-07-25T00:44:12.490914Z"
    }
   },
   "outputs": [
    {
     "data": {
      "text/html": [
       "<div>\n",
       "<style scoped>\n",
       "    .dataframe tbody tr th:only-of-type {\n",
       "        vertical-align: middle;\n",
       "    }\n",
       "\n",
       "    .dataframe tbody tr th {\n",
       "        vertical-align: top;\n",
       "    }\n",
       "\n",
       "    .dataframe thead th {\n",
       "        text-align: right;\n",
       "    }\n",
       "</style>\n",
       "<table border=\"1\" class=\"dataframe\">\n",
       "  <thead>\n",
       "    <tr style=\"text-align: right;\">\n",
       "      <th></th>\n",
       "      <th>Nome Plano</th>\n",
       "      <th>valor</th>\n",
       "      <th>limite</th>\n",
       "    </tr>\n",
       "  </thead>\n",
       "  <tbody>\n",
       "    <tr>\n",
       "      <th>0</th>\n",
       "      <td>Light</td>\n",
       "      <td>29.99</td>\n",
       "      <td>100</td>\n",
       "    </tr>\n",
       "    <tr>\n",
       "      <th>1</th>\n",
       "      <td>Sem nome</td>\n",
       "      <td>39.99</td>\n",
       "      <td>500</td>\n",
       "    </tr>\n",
       "    <tr>\n",
       "      <th>2</th>\n",
       "      <td>Full</td>\n",
       "      <td>49.99</td>\n",
       "      <td>999999</td>\n",
       "    </tr>\n",
       "  </tbody>\n",
       "</table>\n",
       "</div>"
      ],
      "text/plain": [
       "  Nome Plano  valor  limite\n",
       "0      Light  29.99     100\n",
       "1   Sem nome  39.99     500\n",
       "2       Full  49.99  999999"
      ]
     },
     "execution_count": 28,
     "metadata": {},
     "output_type": "execute_result"
    }
   ],
   "source": [
    "query = '''\n",
    "SELECT\n",
    "    descricao AS 'Nome Plano',\n",
    "    valor,\n",
    "    limite\n",
    "FROM\n",
    "    planos\n",
    "ORDER BY\n",
    "    valor;\n",
    "\n",
    "'''\n",
    "pd.read_sql(query, con)"
   ]
  },
  {
   "cell_type": "markdown",
   "metadata": {},
   "source": [
    "### 5) Quantos artistas tem cada gravadora?\n",
    "\n"
   ]
  },
  {
   "cell_type": "code",
   "execution_count": 29,
   "metadata": {
    "ExecuteTime": {
     "end_time": "2021-07-25T00:44:13.265811Z",
     "start_time": "2021-07-25T00:44:12.490914Z"
    }
   },
   "outputs": [
    {
     "data": {
      "text/html": [
       "<div>\n",
       "<style scoped>\n",
       "    .dataframe tbody tr th:only-of-type {\n",
       "        vertical-align: middle;\n",
       "    }\n",
       "\n",
       "    .dataframe tbody tr th {\n",
       "        vertical-align: top;\n",
       "    }\n",
       "\n",
       "    .dataframe thead th {\n",
       "        text-align: right;\n",
       "    }\n",
       "</style>\n",
       "<table border=\"1\" class=\"dataframe\">\n",
       "  <thead>\n",
       "    <tr style=\"text-align: right;\">\n",
       "      <th></th>\n",
       "      <th>Gravadora</th>\n",
       "      <th>Total de artistas</th>\n",
       "    </tr>\n",
       "  </thead>\n",
       "  <tbody>\n",
       "    <tr>\n",
       "      <th>0</th>\n",
       "      <td>Artista Independente</td>\n",
       "      <td>1</td>\n",
       "    </tr>\n",
       "    <tr>\n",
       "      <th>1</th>\n",
       "      <td>ACIT</td>\n",
       "      <td>3</td>\n",
       "    </tr>\n",
       "    <tr>\n",
       "      <th>2</th>\n",
       "      <td>Sony Music</td>\n",
       "      <td>14</td>\n",
       "    </tr>\n",
       "    <tr>\n",
       "      <th>3</th>\n",
       "      <td>USA Discos</td>\n",
       "      <td>1</td>\n",
       "    </tr>\n",
       "  </tbody>\n",
       "</table>\n",
       "</div>"
      ],
      "text/plain": [
       "              Gravadora  Total de artistas\n",
       "0  Artista Independente                  1\n",
       "1                  ACIT                  3\n",
       "2            Sony Music                 14\n",
       "3            USA Discos                  1"
      ]
     },
     "execution_count": 29,
     "metadata": {},
     "output_type": "execute_result"
    }
   ],
   "source": [
    "query = '''\n",
    "SELECT\n",
    "    gravadoras.nome AS 'Gravadora',\n",
    "    COUNT(artistas.id) AS 'Total de artistas'\n",
    "FROM\n",
    "    artistas\n",
    "JOIN gravadoras ON artistas.gravadoras_id = gravadoras.id\n",
    "GROUP BY\n",
    "    gravadoras.id;\n",
    "\n",
    "'''\n",
    "pd.read_sql(query, con)"
   ]
  },
  {
   "cell_type": "markdown",
   "metadata": {},
   "source": [
    "### 6) Qual gravadora tem mais artistas?\n"
   ]
  },
  {
   "cell_type": "code",
   "execution_count": 33,
   "metadata": {
    "ExecuteTime": {
     "end_time": "2021-07-25T00:44:13.265811Z",
     "start_time": "2021-07-25T00:44:12.490914Z"
    }
   },
   "outputs": [
    {
     "data": {
      "text/html": [
       "<div>\n",
       "<style scoped>\n",
       "    .dataframe tbody tr th:only-of-type {\n",
       "        vertical-align: middle;\n",
       "    }\n",
       "\n",
       "    .dataframe tbody tr th {\n",
       "        vertical-align: top;\n",
       "    }\n",
       "\n",
       "    .dataframe thead th {\n",
       "        text-align: right;\n",
       "    }\n",
       "</style>\n",
       "<table border=\"1\" class=\"dataframe\">\n",
       "  <thead>\n",
       "    <tr style=\"text-align: right;\">\n",
       "      <th></th>\n",
       "      <th>Gravadora</th>\n",
       "      <th>Qtd de Artistas</th>\n",
       "    </tr>\n",
       "  </thead>\n",
       "  <tbody>\n",
       "    <tr>\n",
       "      <th>0</th>\n",
       "      <td>Sony Music</td>\n",
       "      <td>14</td>\n",
       "    </tr>\n",
       "  </tbody>\n",
       "</table>\n",
       "</div>"
      ],
      "text/plain": [
       "    Gravadora  Qtd de Artistas\n",
       "0  Sony Music               14"
      ]
     },
     "execution_count": 33,
     "metadata": {},
     "output_type": "execute_result"
    }
   ],
   "source": [
    "query = '''\n",
    "SELECT\n",
    "    gravadoras.nome AS 'Gravadora',\n",
    "    COUNT(artistas.id) AS 'Qtd de Artistas'\n",
    "FROM\n",
    "    artistas\n",
    "JOIN gravadoras ON artistas.gravadoras_id = gravadoras.id\n",
    "GROUP BY\n",
    "    gravadoras.id\n",
    "ORDER BY\n",
    "    COUNT(artistas.id)\n",
    "DESC\n",
    "LIMIT 1\n",
    "\n",
    "'''\n",
    "pd.read_sql(query, con)"
   ]
  },
  {
   "cell_type": "markdown",
   "metadata": {},
   "source": [
    "### 7) Quais são as músicas do “Mano Lima”?\n"
   ]
  },
  {
   "cell_type": "code",
   "execution_count": 35,
   "metadata": {
    "ExecuteTime": {
     "end_time": "2021-07-25T00:44:13.265811Z",
     "start_time": "2021-07-25T00:44:12.490914Z"
    },
    "scrolled": true
   },
   "outputs": [
    {
     "data": {
      "text/html": [
       "<div>\n",
       "<style scoped>\n",
       "    .dataframe tbody tr th:only-of-type {\n",
       "        vertical-align: middle;\n",
       "    }\n",
       "\n",
       "    .dataframe tbody tr th {\n",
       "        vertical-align: top;\n",
       "    }\n",
       "\n",
       "    .dataframe thead th {\n",
       "        text-align: right;\n",
       "    }\n",
       "</style>\n",
       "<table border=\"1\" class=\"dataframe\">\n",
       "  <thead>\n",
       "    <tr style=\"text-align: right;\">\n",
       "      <th></th>\n",
       "      <th>Nome da música</th>\n",
       "    </tr>\n",
       "  </thead>\n",
       "  <tbody>\n",
       "    <tr>\n",
       "      <th>0</th>\n",
       "      <td>Conta pro tio</td>\n",
       "    </tr>\n",
       "    <tr>\n",
       "      <th>1</th>\n",
       "      <td>Balaio de gato</td>\n",
       "    </tr>\n",
       "    <tr>\n",
       "      <th>2</th>\n",
       "      <td>Batendo água</td>\n",
       "    </tr>\n",
       "    <tr>\n",
       "      <th>3</th>\n",
       "      <td>Estoy aqui</td>\n",
       "    </tr>\n",
       "    <tr>\n",
       "      <th>4</th>\n",
       "      <td>Calma</td>\n",
       "    </tr>\n",
       "    <tr>\n",
       "      <th>5</th>\n",
       "      <td>A boa vista do peão de tropa</td>\n",
       "    </tr>\n",
       "    <tr>\n",
       "      <th>6</th>\n",
       "      <td>Espantando o Bagual</td>\n",
       "    </tr>\n",
       "    <tr>\n",
       "      <th>7</th>\n",
       "      <td>Cadela Baia</td>\n",
       "    </tr>\n",
       "    <tr>\n",
       "      <th>8</th>\n",
       "      <td>Sem paia e sem fumo</td>\n",
       "    </tr>\n",
       "    <tr>\n",
       "      <th>9</th>\n",
       "      <td>Despacito</td>\n",
       "    </tr>\n",
       "    <tr>\n",
       "      <th>10</th>\n",
       "      <td>Quando o verso vem pras casa</td>\n",
       "    </tr>\n",
       "    <tr>\n",
       "      <th>11</th>\n",
       "      <td>Perro Fiel</td>\n",
       "    </tr>\n",
       "    <tr>\n",
       "      <th>12</th>\n",
       "      <td>Bailando</td>\n",
       "    </tr>\n",
       "    <tr>\n",
       "      <th>13</th>\n",
       "      <td>El perdón</td>\n",
       "    </tr>\n",
       "    <tr>\n",
       "      <th>14</th>\n",
       "      <td>Súbeme la Radio</td>\n",
       "    </tr>\n",
       "    <tr>\n",
       "      <th>15</th>\n",
       "      <td>Sim ou Não</td>\n",
       "    </tr>\n",
       "    <tr>\n",
       "      <th>16</th>\n",
       "      <td>Felices los 4</td>\n",
       "    </tr>\n",
       "    <tr>\n",
       "      <th>17</th>\n",
       "      <td>Dança do Créu</td>\n",
       "    </tr>\n",
       "  </tbody>\n",
       "</table>\n",
       "</div>"
      ],
      "text/plain": [
       "                  Nome da música\n",
       "0                  Conta pro tio\n",
       "1                 Balaio de gato\n",
       "2                   Batendo água\n",
       "3                     Estoy aqui\n",
       "4                          Calma\n",
       "5   A boa vista do peão de tropa\n",
       "6            Espantando o Bagual\n",
       "7                    Cadela Baia\n",
       "8            Sem paia e sem fumo\n",
       "9                      Despacito\n",
       "10  Quando o verso vem pras casa\n",
       "11                    Perro Fiel\n",
       "12                      Bailando\n",
       "13                     El perdón\n",
       "14               Súbeme la Radio\n",
       "15                    Sim ou Não\n",
       "16                 Felices los 4\n",
       "17                 Dança do Créu"
      ]
     },
     "execution_count": 35,
     "metadata": {},
     "output_type": "execute_result"
    }
   ],
   "source": [
    "query = '''\n",
    "SELECT\n",
    "    DISTINCT(musicas.nome) AS 'Nome da música'\n",
    "FROM\n",
    "    musicas_has_artistas\n",
    "JOIN artistas ON artistas.id = musicas_has_artistas.artistas_id\n",
    "JOIN musicas ON musicas_id = musicas_has_artistas.musicas_id\n",
    "WHERE\n",
    "    artistas.nome = 'Mano Lima';\n",
    "\n",
    "'''\n",
    "pd.read_sql(query, con)"
   ]
  },
  {
   "cell_type": "markdown",
   "metadata": {},
   "source": [
    "### 8) Quais são as músicas da gravadora ACIT?\n"
   ]
  },
  {
   "cell_type": "code",
   "execution_count": 36,
   "metadata": {
    "ExecuteTime": {
     "end_time": "2021-07-25T00:44:40.570700Z",
     "start_time": "2021-07-25T00:44:39.805749Z"
    },
    "scrolled": true
   },
   "outputs": [
    {
     "data": {
      "text/html": [
       "<div>\n",
       "<style scoped>\n",
       "    .dataframe tbody tr th:only-of-type {\n",
       "        vertical-align: middle;\n",
       "    }\n",
       "\n",
       "    .dataframe tbody tr th {\n",
       "        vertical-align: top;\n",
       "    }\n",
       "\n",
       "    .dataframe thead th {\n",
       "        text-align: right;\n",
       "    }\n",
       "</style>\n",
       "<table border=\"1\" class=\"dataframe\">\n",
       "  <thead>\n",
       "    <tr style=\"text-align: right;\">\n",
       "      <th></th>\n",
       "      <th>Nome gravadora</th>\n",
       "      <th>Nome musica</th>\n",
       "    </tr>\n",
       "  </thead>\n",
       "  <tbody>\n",
       "    <tr>\n",
       "      <th>0</th>\n",
       "      <td>ACIT</td>\n",
       "      <td>Conta pro tio</td>\n",
       "    </tr>\n",
       "    <tr>\n",
       "      <th>1</th>\n",
       "      <td>ACIT</td>\n",
       "      <td>Balaio de gato</td>\n",
       "    </tr>\n",
       "    <tr>\n",
       "      <th>2</th>\n",
       "      <td>ACIT</td>\n",
       "      <td>Espantando o Bagual</td>\n",
       "    </tr>\n",
       "    <tr>\n",
       "      <th>3</th>\n",
       "      <td>ACIT</td>\n",
       "      <td>Cadela Baia</td>\n",
       "    </tr>\n",
       "    <tr>\n",
       "      <th>4</th>\n",
       "      <td>ACIT</td>\n",
       "      <td>Sem paia e sem fumo</td>\n",
       "    </tr>\n",
       "    <tr>\n",
       "      <th>5</th>\n",
       "      <td>ACIT</td>\n",
       "      <td>A boa vista do peão de tropa</td>\n",
       "    </tr>\n",
       "  </tbody>\n",
       "</table>\n",
       "</div>"
      ],
      "text/plain": [
       "  Nome gravadora                   Nome musica\n",
       "0           ACIT                 Conta pro tio\n",
       "1           ACIT                Balaio de gato\n",
       "2           ACIT           Espantando o Bagual\n",
       "3           ACIT                   Cadela Baia\n",
       "4           ACIT           Sem paia e sem fumo\n",
       "5           ACIT  A boa vista do peão de tropa"
      ]
     },
     "execution_count": 36,
     "metadata": {},
     "output_type": "execute_result"
    }
   ],
   "source": [
    "query = '''\n",
    "SELECT\n",
    "    gravadoras.nome AS 'Nome gravadora',\n",
    "    musicas.nome AS 'Nome musica'\n",
    "FROM\n",
    "    musicas_has_artistas\n",
    "JOIN artistas ON artistas.id = musicas_has_artistas.artistas_id\n",
    "JOIN musicas ON musicas.id = musicas_has_artistas.musicas_id\n",
    "JOIN gravadoras ON gravadoras.id = artistas.gravadoras_id\n",
    "WHERE\n",
    "    gravadoras.nome = 'ACIT'\n",
    "GROUP BY\n",
    "    musicas.nome;\n",
    "\n",
    "'''\n",
    "pd.read_sql(query, con)"
   ]
  },
  {
   "cell_type": "markdown",
   "metadata": {},
   "source": [
    "### 9) Quantas músicas tem cada gênero?\n"
   ]
  },
  {
   "cell_type": "code",
   "execution_count": 37,
   "metadata": {
    "ExecuteTime": {
     "end_time": "2021-07-25T00:46:08.653774Z",
     "start_time": "2021-07-25T00:46:07.914497Z"
    },
    "scrolled": true
   },
   "outputs": [
    {
     "data": {
      "text/html": [
       "<div>\n",
       "<style scoped>\n",
       "    .dataframe tbody tr th:only-of-type {\n",
       "        vertical-align: middle;\n",
       "    }\n",
       "\n",
       "    .dataframe tbody tr th {\n",
       "        vertical-align: top;\n",
       "    }\n",
       "\n",
       "    .dataframe thead th {\n",
       "        text-align: right;\n",
       "    }\n",
       "</style>\n",
       "<table border=\"1\" class=\"dataframe\">\n",
       "  <thead>\n",
       "    <tr style=\"text-align: right;\">\n",
       "      <th></th>\n",
       "      <th>Genero</th>\n",
       "      <th>Total de músicas</th>\n",
       "    </tr>\n",
       "  </thead>\n",
       "  <tbody>\n",
       "    <tr>\n",
       "      <th>0</th>\n",
       "      <td>Gaúcha</td>\n",
       "      <td>8</td>\n",
       "    </tr>\n",
       "    <tr>\n",
       "      <th>1</th>\n",
       "      <td>Pop</td>\n",
       "      <td>9</td>\n",
       "    </tr>\n",
       "    <tr>\n",
       "      <th>2</th>\n",
       "      <td>Funk</td>\n",
       "      <td>1</td>\n",
       "    </tr>\n",
       "  </tbody>\n",
       "</table>\n",
       "</div>"
      ],
      "text/plain": [
       "   Genero  Total de músicas\n",
       "0  Gaúcha                 8\n",
       "1     Pop                 9\n",
       "2    Funk                 1"
      ]
     },
     "execution_count": 37,
     "metadata": {},
     "output_type": "execute_result"
    }
   ],
   "source": [
    "query = '''\n",
    "SELECT\n",
    "    generos.descricao AS 'Genero',\n",
    "    COUNT(musicas.id) AS 'Total de músicas'\n",
    "FROM\n",
    "    generos\n",
    "JOIN musicas ON generos.id = musicas.generos_id\n",
    "GROUP BY\n",
    "    generos.id;\n",
    "\n",
    "'''\n",
    "pd.read_sql(query, con)"
   ]
  },
  {
   "cell_type": "markdown",
   "metadata": {},
   "source": [
    "### 10) Quanto vou receber DOS clientes que estão cadastrados em cada plano? Nome plano, quantidade de clientes, valor."
   ]
  },
  {
   "cell_type": "code",
   "execution_count": 41,
   "metadata": {
    "ExecuteTime": {
     "end_time": "2021-07-25T00:46:08.653774Z",
     "start_time": "2021-07-25T00:46:07.914497Z"
    },
    "scrolled": true
   },
   "outputs": [
    {
     "data": {
      "text/html": [
       "<div>\n",
       "<style scoped>\n",
       "    .dataframe tbody tr th:only-of-type {\n",
       "        vertical-align: middle;\n",
       "    }\n",
       "\n",
       "    .dataframe tbody tr th {\n",
       "        vertical-align: top;\n",
       "    }\n",
       "\n",
       "    .dataframe thead th {\n",
       "        text-align: right;\n",
       "    }\n",
       "</style>\n",
       "<table border=\"1\" class=\"dataframe\">\n",
       "  <thead>\n",
       "    <tr style=\"text-align: right;\">\n",
       "      <th></th>\n",
       "      <th>Nome Plano</th>\n",
       "      <th>Qtd Clientes</th>\n",
       "      <th>Valor por cliente</th>\n",
       "      <th>Valor total</th>\n",
       "    </tr>\n",
       "  </thead>\n",
       "  <tbody>\n",
       "    <tr>\n",
       "      <th>0</th>\n",
       "      <td>Light</td>\n",
       "      <td>1</td>\n",
       "      <td>29.99</td>\n",
       "      <td>29.99</td>\n",
       "    </tr>\n",
       "    <tr>\n",
       "      <th>1</th>\n",
       "      <td>Full</td>\n",
       "      <td>2</td>\n",
       "      <td>49.99</td>\n",
       "      <td>99.98</td>\n",
       "    </tr>\n",
       "  </tbody>\n",
       "</table>\n",
       "</div>"
      ],
      "text/plain": [
       "  Nome Plano  Qtd Clientes  Valor por cliente  Valor total\n",
       "0      Light             1              29.99        29.99\n",
       "1       Full             2              49.99        99.98"
      ]
     },
     "execution_count": 41,
     "metadata": {},
     "output_type": "execute_result"
    }
   ],
   "source": [
    "query = '''\n",
    "SELECT\n",
    "    planos.descricao AS 'Nome Plano',\n",
    "    COUNT(clientes.id) AS 'Qtd Clientes',\n",
    "    planos.valor AS 'Valor por cliente',\n",
    "    planos.valor * COUNT(clientes.id) AS 'Valor total'\n",
    "FROM\n",
    "    planos\n",
    "JOIN clientes ON clientes.planos_id = planos.id\n",
    "GROUP BY\n",
    "    planos.id;\n",
    "'''\n",
    "pd.read_sql(query, con)"
   ]
  }
 ],
 "metadata": {
  "hide_input": false,
  "kernelspec": {
   "display_name": "Python 3",
   "language": "python",
   "name": "python3"
  },
  "language_info": {
   "codemirror_mode": {
    "name": "ipython",
    "version": 3
   },
   "file_extension": ".py",
   "mimetype": "text/x-python",
   "name": "python",
   "nbconvert_exporter": "python",
   "pygments_lexer": "ipython3",
   "version": "3.8.3"
  },
  "toc": {
   "base_numbering": 1,
   "nav_menu": {},
   "number_sections": true,
   "sideBar": true,
   "skip_h1_title": false,
   "title_cell": "Table of Contents",
   "title_sidebar": "Contents",
   "toc_cell": false,
   "toc_position": {},
   "toc_section_display": true,
   "toc_window_display": true
  },
  "varInspector": {
   "cols": {
    "lenName": 16,
    "lenType": 16,
    "lenVar": 40
   },
   "kernels_config": {
    "python": {
     "delete_cmd_postfix": "",
     "delete_cmd_prefix": "del ",
     "library": "var_list.py",
     "varRefreshCmd": "print(var_dic_list())"
    },
    "r": {
     "delete_cmd_postfix": ") ",
     "delete_cmd_prefix": "rm(",
     "library": "var_list.r",
     "varRefreshCmd": "cat(var_dic_list()) "
    }
   },
   "types_to_exclude": [
    "module",
    "function",
    "builtin_function_or_method",
    "instance",
    "_Feature"
   ],
   "window_display": false
  }
 },
 "nbformat": 4,
 "nbformat_minor": 2
}
