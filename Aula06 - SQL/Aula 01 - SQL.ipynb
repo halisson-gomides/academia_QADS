{
 "cells": [
  {
   "cell_type": "markdown",
   "metadata": {},
   "source": [
    "# Aula 1: SQL"
   ]
  },
  {
   "cell_type": "markdown",
   "metadata": {},
   "source": [
    "## Introdução\n",
    "\n",
    "- SQL é uma linguagem padrão para trabalhar com bancos de dados relacionais\n",
    "- É uma linguagem declarativa e que não necessita de profundos conhecimentos de programação para que alguém possa começar a escrever queries\n",
    "- SQL é acrônimo de Structured Query Language, literalmente a linguagem struturada para realizar queries.\n",
    "- Apesar de existirem diversos bancos de dados relacionais, cada um com sua funcionalidade, todos possuem comandos básicos que podem ser aplicados em qualquer banco de dados:\n",
    "\n",
    "![](https://cdn-images-1.medium.com/fit/t/1600/480/1*LcXr-gRpSfe63XjdCVa15A.png)"
   ]
  },
  {
   "cell_type": "markdown",
   "metadata": {},
   "source": [
    "- Nessa aula usaremos o site https://www.db4free.net/, que utiliza MySQL\n",
    "- Antes de começarmos, criem uma conta no DB4Free"
   ]
  },
  {
   "cell_type": "markdown",
   "metadata": {},
   "source": [
    "## Conceitos - Chaves primária e estrangeira"
   ]
  },
  {
   "cell_type": "markdown",
   "metadata": {},
   "source": [
    "### Chave primária\n",
    "A chave primária, ou `primary key`, é o conceito mais básico relacionado à organização em um banco de dados. Toda tabela possuirá uma, e somente uma, chave primária. Essa chave é utilizada como identificador único da tabela, sendo representada por aquele campo (ou campos) que não receberá valores repetidos.\n",
    "\n",
    "Por causa disso, existe uma lista de características que deve ser levada em consideração ao definir uma chave primária:"
   ]
  },
  {
   "cell_type": "markdown",
   "metadata": {},
   "source": [
    "- Chaves primárias não podem ser nulas;\n",
    "- Cada registro na tabela deve possuir uma, e somente uma, chave primária;\n",
    "- Normalmente, chaves primárias são incrementadas automaticamente pelo banco de dados, ou seja, não há necessidade de passarmos esse valor em um INSERT\n",
    "    - Entretanto, essa é uma opção configurada na criação da base de dados que não é obrigatória\n",
    "    - Nos casos em que ela (incremento automático) não é definida, é preciso garantir que não haverá valores repetidos nessa coluna\n",
    "- São as chaves para o relacionamento entre entidades ou tabelas da base de dados. Assim haverá na tabela relacionada uma referência a essa chave primária (que será, na tabela relacionada, a chave estrangeira)."
   ]
  },
  {
   "cell_type": "markdown",
   "metadata": {},
   "source": [
    "`CREATE TABLE tbl_Clientes\n",
    "(\n",
    "    ID_Cliente integer PRIMARY KEY,\n",
    "    Nome_Cliente varchar(255),\n",
    "    CPF_Cliente varchar(255),\n",
    "    Data_Nasc varchar(255)\n",
    ");`"
   ]
  },
  {
   "cell_type": "markdown",
   "metadata": {},
   "source": [
    "### Chave estrangeira\n",
    "A chave estrangeira, ou `foreign key`, é um conceito ligeiramente diferente. Ela não diz respeito, especificamente, a uma tabela, mas sim a um relacionamento entre tabelas\n",
    "\n",
    "De forma sucinta, a chave estrangeira é uma referência em uma tabela a uma chave primária de outra tabela. Para facilitar a compreensão, tomemos como exemplo duas tabelas: `tbl_Clientes` e `tbl_Vendas`\n",
    "\n",
    "Para montarmos um relacionamento entre elas poderíamos ter na tabela `tbl_Vendas` o campo `ID_Cliente` fazendo referência à chave primária da tabela `tbl_Clientes`.\n",
    "\n",
    "\n",
    "Diferentemente da chave primária, a chave estrangeira:\n",
    "\n",
    "- Pode ser nula (NOT NULL)\n",
    "- É um campo em uma tabela que faz referência a um campo que é chave primária em outra tabela\n",
    "- É possível ter mais de uma (ou nenhuma) em uma tabela"
   ]
  },
  {
   "cell_type": "markdown",
   "metadata": {},
   "source": [
    "### Exemplo"
   ]
  },
  {
   "cell_type": "markdown",
   "metadata": {},
   "source": [
    "![](https://lh3.googleusercontent.com/proxy/zVxU_Nz0vEpyal2TKlGyD6mGZVMPYO2R_1_Dqd7Xbm2JyUbumKiWm22e0WElLoAAel1e5myY_dj-Fe22-_e0eIHhRNdRriMCvKR-hSEw4cU0FhIwU_bpYWWBelqZiXRI6Oj42-Z0pkSIaQ8skpdpDaXa00-tSmYIxnXKrvKl11NMReyY)"
   ]
  },
  {
   "cell_type": "markdown",
   "metadata": {},
   "source": [
    "## Códigos"
   ]
  },
  {
   "cell_type": "markdown",
   "metadata": {},
   "source": [
    "É possível **Inserir** dados na tabela, por exemplo:\n",
    "\n",
    "    INSERT INTO Usuarios(nome, idade, sexo, salario) VALUES (\"Joaquim Silva\",60,\"M\",200)\n",
    "    \n",
    "É possível **Atualizar** a tabela, por exemplo: \n",
    "\n",
    "    UPDATE Usuarios SET salario=2000 WHERE Nome=\"Joaquim Silva\"\n",
    "    \n",
    "É possível **Remover** os dados, por exemplo:\n",
    "\n",
    "    DELETE FROM Usuarios WHERE Nome=\"Joaquim Silva\"\n",
    "    \n",
    "É Possível **Consultar** a tabela, por exemplo :"
   ]
  },
  {
   "cell_type": "markdown",
   "metadata": {},
   "source": [
    "## Conexao no db4free"
   ]
  },
  {
   "cell_type": "markdown",
   "metadata": {},
   "source": [
    "- Para trabalhar com bancos de dados, temos que fazer uma conexão do nosso jupyter notebook com o banco de dados\n",
    "- Antes disso, para evitar que nossos dados fiquem expostos no notebook e facilitar a manutenção de código, podemos criar um arquivo `yml` e adicionar nossas credenciais no formato:\n",
    "    - `user: 'usuario'`\n",
    "    - `password: 'senha'`\n",
    "    - `host: 'db4free.net'`\n",
    "    - `database: 'database'`\n",
    "    - `port: porta`"
   ]
  },
  {
   "cell_type": "code",
   "execution_count": 1,
   "metadata": {
    "ExecuteTime": {
     "end_time": "2021-07-20T22:07:22.846155Z",
     "start_time": "2021-07-20T22:07:22.732560Z"
    }
   },
   "outputs": [],
   "source": [
    "import yaml"
   ]
  },
  {
   "cell_type": "code",
   "execution_count": 2,
   "metadata": {
    "ExecuteTime": {
     "end_time": "2021-07-20T22:07:23.495077Z",
     "start_time": "2021-07-20T22:07:23.449052Z"
    }
   },
   "outputs": [],
   "source": [
    "# Load SQL credentials\n",
    "with open('credentials.yml', 'r') as file:\n",
    "    credentials = yaml.load(file, Loader=yaml.FullLoader)"
   ]
  },
  {
   "cell_type": "code",
   "execution_count": 3,
   "metadata": {
    "ExecuteTime": {
     "end_time": "2021-07-20T22:07:24.690445Z",
     "start_time": "2021-07-20T22:07:24.674447Z"
    }
   },
   "outputs": [
    {
     "data": {
      "text/plain": [
       "{'user': 'gomides',\n",
       " 'password': 'hgmesttra',\n",
       " 'host': 'db4free.net',\n",
       " 'database': 'db_hg_mesttra',\n",
       " 'port': 3306}"
      ]
     },
     "execution_count": 3,
     "metadata": {},
     "output_type": "execute_result"
    }
   ],
   "source": [
    "credentials"
   ]
  },
  {
   "cell_type": "markdown",
   "metadata": {},
   "source": [
    "- Uma vez que importamos as credenciais, podemos fazer a conexão com o banco de dados"
   ]
  },
  {
   "cell_type": "code",
   "execution_count": 4,
   "metadata": {
    "ExecuteTime": {
     "end_time": "2021-07-20T22:07:29.144864Z",
     "start_time": "2021-07-20T22:07:28.561098Z"
    }
   },
   "outputs": [],
   "source": [
    "# importando libs necessárias\n",
    "import mysql.connector"
   ]
  },
  {
   "cell_type": "code",
   "execution_count": 5,
   "metadata": {
    "ExecuteTime": {
     "end_time": "2021-07-20T22:07:43.109699Z",
     "start_time": "2021-07-20T22:07:30.532122Z"
    }
   },
   "outputs": [],
   "source": [
    "#Conectando\n",
    "con = mysql.connector.connect(user=credentials['user'], \n",
    "                              password=credentials['password'],\n",
    "                              host=credentials['host'],\n",
    "                              database=credentials['database'],\n",
    "                              port=credentials['port'])\n",
    "\n",
    "cursor = con.cursor()"
   ]
  },
  {
   "cell_type": "markdown",
   "metadata": {},
   "source": [
    "## Queries de criação e manipulação de tabelas"
   ]
  },
  {
   "cell_type": "markdown",
   "metadata": {},
   "source": [
    "- Agora que estabelecemos a conexão com o banco de dados, podemos começar a aplicar as queries\n",
    "- Podemos escrever as queries dentro da variável `query` e o `cursor.execute(query)` aplica a query"
   ]
  },
  {
   "cell_type": "markdown",
   "metadata": {},
   "source": [
    "### Show tables"
   ]
  },
  {
   "cell_type": "markdown",
   "metadata": {},
   "source": [
    "Mostrar tabelas do banco de dados"
   ]
  },
  {
   "cell_type": "code",
   "execution_count": 6,
   "metadata": {
    "ExecuteTime": {
     "end_time": "2021-07-20T22:08:12.522705Z",
     "start_time": "2021-07-20T22:08:12.251783Z"
    },
    "scrolled": true
   },
   "outputs": [],
   "source": [
    "query = '''\n",
    "    SHOW TABLES\n",
    "'''\n",
    "\n",
    "cursor.execute(query)"
   ]
  },
  {
   "cell_type": "markdown",
   "metadata": {},
   "source": [
    "Buscar o resultado da query com o método `fetchall`"
   ]
  },
  {
   "cell_type": "code",
   "execution_count": 7,
   "metadata": {
    "ExecuteTime": {
     "end_time": "2021-07-20T22:08:17.482233Z",
     "start_time": "2021-07-20T22:08:17.459199Z"
    }
   },
   "outputs": [
    {
     "data": {
      "text/plain": [
       "[('empresas',)]"
      ]
     },
     "execution_count": 7,
     "metadata": {},
     "output_type": "execute_result"
    }
   ],
   "source": [
    "cursor.fetchall()"
   ]
  },
  {
   "cell_type": "markdown",
   "metadata": {},
   "source": [
    "### Create table"
   ]
  },
  {
   "cell_type": "markdown",
   "metadata": {},
   "source": [
    "Criar tabela"
   ]
  },
  {
   "cell_type": "code",
   "execution_count": 23,
   "metadata": {
    "ExecuteTime": {
     "end_time": "2021-07-20T00:28:58.978092Z",
     "start_time": "2021-07-20T00:28:58.337817Z"
    },
    "scrolled": true
   },
   "outputs": [],
   "source": [
    "query = '''CREATE TABLE empresas(estabelecimento CHAR(40),\n",
    "                               receita INT,\n",
    "                               custo INT,\n",
    "                               anomes INT)'''\n",
    "cursor.execute(query)"
   ]
  },
  {
   "cell_type": "code",
   "execution_count": 24,
   "metadata": {
    "ExecuteTime": {
     "end_time": "2021-07-20T00:29:16.567010Z",
     "start_time": "2021-07-20T00:29:16.310819Z"
    }
   },
   "outputs": [
    {
     "data": {
      "text/plain": [
       "[('empresas',)]"
      ]
     },
     "execution_count": 24,
     "metadata": {},
     "output_type": "execute_result"
    }
   ],
   "source": [
    "query = '''\n",
    "    SHOW TABLES\n",
    "'''\n",
    "\n",
    "cursor.execute(query)\n",
    "cursor.fetchall()"
   ]
  },
  {
   "cell_type": "markdown",
   "metadata": {},
   "source": [
    "### Drop table"
   ]
  },
  {
   "cell_type": "markdown",
   "metadata": {},
   "source": [
    "Deletar tabela"
   ]
  },
  {
   "cell_type": "code",
   "execution_count": 20,
   "metadata": {
    "ExecuteTime": {
     "end_time": "2021-07-20T00:28:45.491797Z",
     "start_time": "2021-07-20T00:28:45.001090Z"
    }
   },
   "outputs": [],
   "source": [
    "query = '''\n",
    "    DROP TABLE empresas\n",
    "'''\n",
    "\n",
    "cursor.execute(query)"
   ]
  },
  {
   "cell_type": "markdown",
   "metadata": {},
   "source": [
    "###  Insert into table"
   ]
  },
  {
   "cell_type": "markdown",
   "metadata": {},
   "source": [
    "Agora que criamos uma tabela, podemos inserir valores nela"
   ]
  },
  {
   "cell_type": "code",
   "execution_count": 13,
   "metadata": {
    "ExecuteTime": {
     "end_time": "2021-07-20T22:10:02.670233Z",
     "start_time": "2021-07-20T22:10:02.405710Z"
    }
   },
   "outputs": [],
   "source": [
    "val = (\"MCDonalds\",\"5000\",\"4000\",\"201912\")\n",
    "\n",
    "query = f'''INSERT INTO empresas(estabelecimento,receita, custo, anomes) \n",
    "VALUES ('{val[0]}','{val[1]}','{val[2]}','{val[3]}')'''\n",
    "\n",
    "\n",
    "cursor.execute(query)"
   ]
  },
  {
   "cell_type": "markdown",
   "metadata": {},
   "source": [
    "###  Select"
   ]
  },
  {
   "cell_type": "markdown",
   "metadata": {},
   "source": [
    "Podemos checar os valores com o comando `Select`"
   ]
  },
  {
   "cell_type": "code",
   "execution_count": 29,
   "metadata": {
    "ExecuteTime": {
     "end_time": "2021-07-20T22:22:05.074098Z",
     "start_time": "2021-07-20T22:22:04.826135Z"
    }
   },
   "outputs": [
    {
     "name": "stdout",
     "output_type": "stream",
     "text": [
      "[('MCDonalds', 5000, 4000, 201912), ('Subway', 2600, 2300, 202107), ('Wendys', 6000, 4500, 202001), ('Hamburgueria', 900, 900, 202001), ('Zebeleo', 5, 10000, 202002), ('Koburger', 3000, 2500, 202002)]\n"
     ]
    }
   ],
   "source": [
    "query = \"SELECT * FROM empresas\"\n",
    "\n",
    "cursor.execute(query)\n",
    "\n",
    "resultado = cursor.fetchall()\n",
    "\n",
    "\n",
    "print(resultado)"
   ]
  },
  {
   "cell_type": "markdown",
   "metadata": {},
   "source": [
    "- No caso de consulta, podemos usar a biblioteca de manipulação da dados `pandas`"
   ]
  },
  {
   "cell_type": "code",
   "execution_count": 11,
   "metadata": {
    "ExecuteTime": {
     "end_time": "2021-07-20T22:09:54.672543Z",
     "start_time": "2021-07-20T22:09:52.694000Z"
    }
   },
   "outputs": [],
   "source": [
    "import pandas as pd"
   ]
  },
  {
   "cell_type": "code",
   "execution_count": 30,
   "metadata": {
    "ExecuteTime": {
     "end_time": "2021-07-20T22:22:09.073863Z",
     "start_time": "2021-07-20T22:22:08.562726Z"
    }
   },
   "outputs": [
    {
     "data": {
      "text/html": [
       "<div>\n",
       "<style scoped>\n",
       "    .dataframe tbody tr th:only-of-type {\n",
       "        vertical-align: middle;\n",
       "    }\n",
       "\n",
       "    .dataframe tbody tr th {\n",
       "        vertical-align: top;\n",
       "    }\n",
       "\n",
       "    .dataframe thead th {\n",
       "        text-align: right;\n",
       "    }\n",
       "</style>\n",
       "<table border=\"1\" class=\"dataframe\">\n",
       "  <thead>\n",
       "    <tr style=\"text-align: right;\">\n",
       "      <th></th>\n",
       "      <th>estabelecimento</th>\n",
       "      <th>receita</th>\n",
       "      <th>custo</th>\n",
       "      <th>anomes</th>\n",
       "    </tr>\n",
       "  </thead>\n",
       "  <tbody>\n",
       "    <tr>\n",
       "      <th>0</th>\n",
       "      <td>MCDonalds</td>\n",
       "      <td>5000</td>\n",
       "      <td>4000</td>\n",
       "      <td>201912</td>\n",
       "    </tr>\n",
       "    <tr>\n",
       "      <th>1</th>\n",
       "      <td>Subway</td>\n",
       "      <td>2600</td>\n",
       "      <td>2300</td>\n",
       "      <td>202107</td>\n",
       "    </tr>\n",
       "    <tr>\n",
       "      <th>2</th>\n",
       "      <td>Wendys</td>\n",
       "      <td>6000</td>\n",
       "      <td>4500</td>\n",
       "      <td>202001</td>\n",
       "    </tr>\n",
       "    <tr>\n",
       "      <th>3</th>\n",
       "      <td>Hamburgueria</td>\n",
       "      <td>900</td>\n",
       "      <td>900</td>\n",
       "      <td>202001</td>\n",
       "    </tr>\n",
       "    <tr>\n",
       "      <th>4</th>\n",
       "      <td>Zebeleo</td>\n",
       "      <td>5</td>\n",
       "      <td>10000</td>\n",
       "      <td>202002</td>\n",
       "    </tr>\n",
       "    <tr>\n",
       "      <th>5</th>\n",
       "      <td>Koburger</td>\n",
       "      <td>3000</td>\n",
       "      <td>2500</td>\n",
       "      <td>202002</td>\n",
       "    </tr>\n",
       "  </tbody>\n",
       "</table>\n",
       "</div>"
      ],
      "text/plain": [
       "  estabelecimento  receita  custo  anomes\n",
       "0       MCDonalds     5000   4000  201912\n",
       "1          Subway     2600   2300  202107\n",
       "2          Wendys     6000   4500  202001\n",
       "3    Hamburgueria      900    900  202001\n",
       "4         Zebeleo        5  10000  202002\n",
       "5        Koburger     3000   2500  202002"
      ]
     },
     "execution_count": 30,
     "metadata": {},
     "output_type": "execute_result"
    }
   ],
   "source": [
    "query = \"SELECT * FROM empresas\"\n",
    "pd.read_sql(query, con)"
   ]
  },
  {
   "cell_type": "code",
   "execution_count": null,
   "metadata": {},
   "outputs": [],
   "source": [
    "# pandas permite rodar comandos sql do google big query\n",
    "pd.read_gbq()"
   ]
  },
  {
   "cell_type": "markdown",
   "metadata": {},
   "source": [
    "###  Inserindo mais dados"
   ]
  },
  {
   "cell_type": "code",
   "execution_count": 20,
   "metadata": {
    "ExecuteTime": {
     "end_time": "2021-07-20T22:14:34.362274Z",
     "start_time": "2021-07-20T22:14:34.099250Z"
    }
   },
   "outputs": [],
   "source": [
    "val =  [(\"Wendys\",\"6000\",\"4500\",\"202001\"),\n",
    "        (\"Patties\",\"900\",\"900\",\"202001\"),\n",
    "        ('Zebeleo', '5', '10000', '202002'),\n",
    "        ('Koburger', '3000', '2500', '202002')]\n",
    "\n",
    "\n",
    "sql = '''INSERT INTO empresas(estabelecimento, receita, custo, anomes) \n",
    "          VALUES (%s,%s,%s,%s)'''\n",
    "\n",
    "cursor.executemany(sql, val)"
   ]
  },
  {
   "cell_type": "markdown",
   "metadata": {},
   "source": [
    "Podemos criar uma função no python para inserir dados diretamente no banco de dados"
   ]
  },
  {
   "cell_type": "code",
   "execution_count": 17,
   "metadata": {
    "ExecuteTime": {
     "end_time": "2021-07-20T22:13:09.421844Z",
     "start_time": "2021-07-20T22:13:09.411824Z"
    }
   },
   "outputs": [],
   "source": [
    "def input_data(con=con, cursor=cursor):\n",
    "    print('Nome da Empresa :')\n",
    "    nome = input()\n",
    "    print('Receita da Empresa :')\n",
    "    receita = input()\n",
    "    print('Custo da Empresa :')\n",
    "    custo = input()\n",
    "    print('Ano mês :')\n",
    "    anomes = input()\n",
    "    \n",
    "    \n",
    "    query = f'''INSERT INTO empresas(estabelecimento,receita, custo, anomes) \n",
    "                    VALUES ('{nome}','{receita}','{custo}','{anomes}')'''\n",
    "    \n",
    "    cursor.execute(query)\n",
    "    \n",
    "    print('Data inserted!')"
   ]
  },
  {
   "cell_type": "code",
   "execution_count": 22,
   "metadata": {
    "ExecuteTime": {
     "end_time": "2021-07-20T22:18:29.251314Z",
     "start_time": "2021-07-20T22:18:12.254562Z"
    }
   },
   "outputs": [
    {
     "name": "stdout",
     "output_type": "stream",
     "text": [
      "Nome da Empresa :\n",
      "Bullguer\n",
      "Receita da Empresa :\n",
      "500\n",
      "Custo da Empresa :\n",
      "50\n",
      "Ano mês :\n",
      "202107\n",
      "Data inserted!\n"
     ]
    }
   ],
   "source": [
    "input_data()"
   ]
  },
  {
   "cell_type": "markdown",
   "metadata": {},
   "source": [
    "### Delete "
   ]
  },
  {
   "cell_type": "markdown",
   "metadata": {},
   "source": [
    "Podemos deletar uma linha do banco de dados"
   ]
  },
  {
   "cell_type": "code",
   "execution_count": 24,
   "metadata": {
    "ExecuteTime": {
     "end_time": "2021-07-20T22:19:47.777249Z",
     "start_time": "2021-07-20T22:19:47.517435Z"
    }
   },
   "outputs": [],
   "source": [
    "query = \"DELETE FROM empresas Where estabelecimento = 'Bullguer'\"\n",
    "cursor.execute(query)"
   ]
  },
  {
   "cell_type": "markdown",
   "metadata": {},
   "source": [
    "### Update"
   ]
  },
  {
   "cell_type": "markdown",
   "metadata": {},
   "source": [
    "Podemos atualizar um valor da tabela"
   ]
  },
  {
   "cell_type": "code",
   "execution_count": 28,
   "metadata": {
    "ExecuteTime": {
     "end_time": "2021-07-20T22:21:58.053230Z",
     "start_time": "2021-07-20T22:21:57.722390Z"
    }
   },
   "outputs": [],
   "source": [
    "query = \"UPDATE empresas set estabelecimento = 'Hamburgueria' Where estabelecimento = 'Patties'\"\n",
    "cursor.execute(query)"
   ]
  }
 ],
 "metadata": {
  "hide_input": false,
  "kernelspec": {
   "display_name": "Python [conda env:qads]",
   "language": "python",
   "name": "conda-env-qads-py"
  },
  "language_info": {
   "codemirror_mode": {
    "name": "ipython",
    "version": 3
   },
   "file_extension": ".py",
   "mimetype": "text/x-python",
   "name": "python",
   "nbconvert_exporter": "python",
   "pygments_lexer": "ipython3",
   "version": "3.9.5"
  },
  "toc": {
   "base_numbering": 1,
   "nav_menu": {},
   "number_sections": true,
   "sideBar": true,
   "skip_h1_title": false,
   "title_cell": "Table of Contents",
   "title_sidebar": "Contents",
   "toc_cell": false,
   "toc_position": {
    "height": "calc(100% - 180px)",
    "left": "10px",
    "top": "150px",
    "width": "273.188px"
   },
   "toc_section_display": true,
   "toc_window_display": true
  },
  "varInspector": {
   "cols": {
    "lenName": 16,
    "lenType": 16,
    "lenVar": 40
   },
   "kernels_config": {
    "python": {
     "delete_cmd_postfix": "",
     "delete_cmd_prefix": "del ",
     "library": "var_list.py",
     "varRefreshCmd": "print(var_dic_list())"
    },
    "r": {
     "delete_cmd_postfix": ") ",
     "delete_cmd_prefix": "rm(",
     "library": "var_list.r",
     "varRefreshCmd": "cat(var_dic_list()) "
    }
   },
   "types_to_exclude": [
    "module",
    "function",
    "builtin_function_or_method",
    "instance",
    "_Feature"
   ],
   "window_display": false
  }
 },
 "nbformat": 4,
 "nbformat_minor": 2
}
