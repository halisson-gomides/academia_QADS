{
 "cells": [
  {
   "cell_type": "markdown",
   "metadata": {},
   "source": [
    "# Aula 5: SQL"
   ]
  },
  {
   "cell_type": "markdown",
   "metadata": {},
   "source": [
    "## Introdução"
   ]
  },
  {
   "cell_type": "markdown",
   "metadata": {},
   "source": [
    "Nesta aula veremos as principais queries de consulta em sql"
   ]
  },
  {
   "cell_type": "markdown",
   "metadata": {},
   "source": [
    "## Conexao no db4free via sqlalchemy"
   ]
  },
  {
   "cell_type": "code",
   "execution_count": 1,
   "metadata": {
    "ExecuteTime": {
     "end_time": "2021-07-26T22:20:26.767270Z",
     "start_time": "2021-07-26T22:20:25.144436Z"
    }
   },
   "outputs": [],
   "source": [
    "import sqlite3\n",
    "import pandas as pd\n",
    "# from pandasql import sqldf"
   ]
  },
  {
   "cell_type": "markdown",
   "metadata": {},
   "source": [
    "![](https://ensinandomaquinasblog.files.wordpress.com/2020/11/f1.png?w=1024)\n",
    "![](https://i.imgur.com/Jory0O3.png)"
   ]
  },
  {
   "cell_type": "code",
   "execution_count": 2,
   "metadata": {
    "ExecuteTime": {
     "end_time": "2021-07-26T22:20:32.366554Z",
     "start_time": "2021-07-26T22:20:32.313535Z"
    }
   },
   "outputs": [
    {
     "data": {
      "text/plain": [
       "[('ClosedDeals',),\n",
       " ('Customers',),\n",
       " ('Geolocation',),\n",
       " ('OrderItems',),\n",
       " ('OrderPayments',),\n",
       " ('OrderReviews',),\n",
       " ('Orders',),\n",
       " ('Products',),\n",
       " ('QualifiedLeads',),\n",
       " ('Sellers',)]"
      ]
     },
     "execution_count": 2,
     "metadata": {},
     "output_type": "execute_result"
    }
   ],
   "source": [
    "con = sqlite3.connect('salesOlist.db')\n",
    "cursor = con.cursor()\n",
    "cursor.execute('SELECT name FROM sqlite_master WHERE type=\"table\" ORDER BY name')\n",
    "cursor.fetchall()"
   ]
  },
  {
   "cell_type": "markdown",
   "metadata": {},
   "source": [
    "## Subqueries"
   ]
  },
  {
   "cell_type": "markdown",
   "metadata": {
    "ExecuteTime": {
     "end_time": "2021-07-05T22:53:49.356732Z",
     "start_time": "2021-07-05T22:53:49.340730Z"
    }
   },
   "source": [
    "- Uma Subquery (também conhecida como SUBCONSULTA ou SUBSELECT) é uma instrução do tipo SELECT dentro de outra instrução SQL\n",
    "- Desta forma, se torna possível efetuar consultas que de outra forma seriam extremamente complicadas ou impossíveis de serem feitas de outra forma\n",
    "\n",
    "`SELECT\n",
    "    *\n",
    "FROM\n",
    "    tabela1 AS T\n",
    "WHERE\n",
    "    coluna1 IN\n",
    "    (\n",
    "        SELECT\n",
    "            coluna2\n",
    "        FROM\n",
    "            tabela2 AS T2\n",
    "        WHERE\n",
    "            T.id = T2.id\n",
    "    )`"
   ]
  },
  {
   "cell_type": "markdown",
   "metadata": {},
   "source": [
    "## Como utilizar?"
   ]
  },
  {
   "cell_type": "markdown",
   "metadata": {},
   "source": [
    "Existem algumas formas de se utilizar subqueries\n",
    "\n",
    "- Subquery como uma nova coluna da consulta `(SELECT AS FIELD)`\n",
    "- Subquery como filtro de uma consulta (utilizando `IN, EXISTS` ou operadores de comparação).\n",
    "- Subquery como fonte de dados de uma consulta principal (`SELECT FROM SELECT`)"
   ]
  },
  {
   "cell_type": "markdown",
   "metadata": {},
   "source": [
    "### Subquery como filtro de uma nova consulta"
   ]
  },
  {
   "cell_type": "markdown",
   "metadata": {},
   "source": [
    "- Podemos utilizar subqueries fazendo filtros no resultado de outras consultas\n",
    "- Para esse modelo podemos utilizar as cláusulas IN ou operadores de comparação, como =, >=, <=, dentre outros."
   ]
  },
  {
   "cell_type": "code",
   "execution_count": 3,
   "metadata": {
    "ExecuteTime": {
     "end_time": "2021-07-26T22:21:30.047475Z",
     "start_time": "2021-07-26T22:21:29.053596Z"
    },
    "scrolled": true
   },
   "outputs": [
    {
     "data": {
      "text/html": [
       "<div>\n",
       "<style scoped>\n",
       "    .dataframe tbody tr th:only-of-type {\n",
       "        vertical-align: middle;\n",
       "    }\n",
       "\n",
       "    .dataframe tbody tr th {\n",
       "        vertical-align: top;\n",
       "    }\n",
       "\n",
       "    .dataframe thead th {\n",
       "        text-align: right;\n",
       "    }\n",
       "</style>\n",
       "<table border=\"1\" class=\"dataframe\">\n",
       "  <thead>\n",
       "    <tr style=\"text-align: right;\">\n",
       "      <th></th>\n",
       "      <th>order_id</th>\n",
       "      <th>order_purchase_timestamp</th>\n",
       "      <th>customer_id</th>\n",
       "    </tr>\n",
       "  </thead>\n",
       "  <tbody>\n",
       "    <tr>\n",
       "      <th>0</th>\n",
       "      <td>10a045cdf6a5650c21e9cfeb60384c16</td>\n",
       "      <td>2018-10-17 17:30:18</td>\n",
       "      <td>a4b417188addbc05b26b72d5e44837a1</td>\n",
       "    </tr>\n",
       "    <tr>\n",
       "      <th>1</th>\n",
       "      <td>a2ac6dad85cf8af5b0afb510a240fe8c</td>\n",
       "      <td>2018-10-03 18:55:29</td>\n",
       "      <td>4c2ec60c29d10c34bd49cb88aa85cfc4</td>\n",
       "    </tr>\n",
       "    <tr>\n",
       "      <th>2</th>\n",
       "      <td>392ed9afd714e3c74767d0c4d3e3f477</td>\n",
       "      <td>2018-09-29 09:13:03</td>\n",
       "      <td>2823ffda607a2316375088e0d00005ec</td>\n",
       "    </tr>\n",
       "    <tr>\n",
       "      <th>3</th>\n",
       "      <td>87ae60ef8b08ae0e5f903cacb53a6904</td>\n",
       "      <td>2018-09-11 16:45:54</td>\n",
       "      <td>fea4d57ed3a45455f89c25ef3dae8ee8</td>\n",
       "    </tr>\n",
       "    <tr>\n",
       "      <th>4</th>\n",
       "      <td>a89abace0dcc01eeb267a9660b5ac126</td>\n",
       "      <td>2018-09-06 18:45:47</td>\n",
       "      <td>2f0524a7b1b3845a1a57fcf3910c4333</td>\n",
       "    </tr>\n",
       "    <tr>\n",
       "      <th>...</th>\n",
       "      <td>...</td>\n",
       "      <td>...</td>\n",
       "      <td>...</td>\n",
       "    </tr>\n",
       "    <tr>\n",
       "      <th>41741</th>\n",
       "      <td>d207cc272675637bfed0062edffd0818</td>\n",
       "      <td>2016-10-03 22:06:03</td>\n",
       "      <td>b8cf418e97ae795672d326288dfab7a7</td>\n",
       "    </tr>\n",
       "    <tr>\n",
       "      <th>41742</th>\n",
       "      <td>3b697a20d9e427646d92567910af6d57</td>\n",
       "      <td>2016-10-03 09:44:50</td>\n",
       "      <td>355077684019f7f60a031656bd7262b8</td>\n",
       "    </tr>\n",
       "    <tr>\n",
       "      <th>41743</th>\n",
       "      <td>71303d7e93b399f5bcd537d124c0bcfa</td>\n",
       "      <td>2016-10-02 22:07:52</td>\n",
       "      <td>b106b360fe2ef8849fbbd056f777b4d5</td>\n",
       "    </tr>\n",
       "    <tr>\n",
       "      <th>41744</th>\n",
       "      <td>bfbd0f9bdef84302105ad712db648a6c</td>\n",
       "      <td>2016-09-15 12:16:38</td>\n",
       "      <td>86dc2ffce2dfff336de2f386a786e574</td>\n",
       "    </tr>\n",
       "    <tr>\n",
       "      <th>41745</th>\n",
       "      <td>809a282bbd5dbcabb6f2f724fca862ec</td>\n",
       "      <td>2016-09-13 15:24:19</td>\n",
       "      <td>622e13439d6b5a0b486c435618b2679e</td>\n",
       "    </tr>\n",
       "  </tbody>\n",
       "</table>\n",
       "<p>41746 rows × 3 columns</p>\n",
       "</div>"
      ],
      "text/plain": [
       "                               order_id order_purchase_timestamp  \\\n",
       "0      10a045cdf6a5650c21e9cfeb60384c16      2018-10-17 17:30:18   \n",
       "1      a2ac6dad85cf8af5b0afb510a240fe8c      2018-10-03 18:55:29   \n",
       "2      392ed9afd714e3c74767d0c4d3e3f477      2018-09-29 09:13:03   \n",
       "3      87ae60ef8b08ae0e5f903cacb53a6904      2018-09-11 16:45:54   \n",
       "4      a89abace0dcc01eeb267a9660b5ac126      2018-09-06 18:45:47   \n",
       "...                                 ...                      ...   \n",
       "41741  d207cc272675637bfed0062edffd0818      2016-10-03 22:06:03   \n",
       "41742  3b697a20d9e427646d92567910af6d57      2016-10-03 09:44:50   \n",
       "41743  71303d7e93b399f5bcd537d124c0bcfa      2016-10-02 22:07:52   \n",
       "41744  bfbd0f9bdef84302105ad712db648a6c      2016-09-15 12:16:38   \n",
       "41745  809a282bbd5dbcabb6f2f724fca862ec      2016-09-13 15:24:19   \n",
       "\n",
       "                            customer_id  \n",
       "0      a4b417188addbc05b26b72d5e44837a1  \n",
       "1      4c2ec60c29d10c34bd49cb88aa85cfc4  \n",
       "2      2823ffda607a2316375088e0d00005ec  \n",
       "3      fea4d57ed3a45455f89c25ef3dae8ee8  \n",
       "4      2f0524a7b1b3845a1a57fcf3910c4333  \n",
       "...                                 ...  \n",
       "41741  b8cf418e97ae795672d326288dfab7a7  \n",
       "41742  355077684019f7f60a031656bd7262b8  \n",
       "41743  b106b360fe2ef8849fbbd056f777b4d5  \n",
       "41744  86dc2ffce2dfff336de2f386a786e574  \n",
       "41745  622e13439d6b5a0b486c435618b2679e  \n",
       "\n",
       "[41746 rows x 3 columns]"
      ]
     },
     "execution_count": 3,
     "metadata": {},
     "output_type": "execute_result"
    }
   ],
   "source": [
    "query = '''\n",
    "    SELECT order_id\n",
    "            ,order_purchase_timestamp\n",
    "            ,customer_id\n",
    "    FROM Orders\n",
    "    WHERE customer_id IN (\n",
    "        SELECT customer_id\n",
    "        FROM Customers\n",
    "        WHERE customer_state = 'SP'\n",
    "    )\n",
    "    ORDER BY order_purchase_timestamp DESC\n",
    "'''\n",
    "\n",
    "pd.read_sql(query, con)"
   ]
  },
  {
   "cell_type": "markdown",
   "metadata": {},
   "source": [
    "### Subquery como uma nova coluna da consulta"
   ]
  },
  {
   "cell_type": "markdown",
   "metadata": {},
   "source": [
    "Uma das formas possíveis de se realizar uma subquery é fazendo com que o resultado de outra consulta seja uma coluna dentro da sua consulta principal"
   ]
  },
  {
   "cell_type": "code",
   "execution_count": 4,
   "metadata": {
    "ExecuteTime": {
     "end_time": "2021-07-26T22:24:36.780992Z",
     "start_time": "2021-07-26T22:23:38.523745Z"
    },
    "scrolled": true
   },
   "outputs": [
    {
     "data": {
      "text/html": [
       "<div>\n",
       "<style scoped>\n",
       "    .dataframe tbody tr th:only-of-type {\n",
       "        vertical-align: middle;\n",
       "    }\n",
       "\n",
       "    .dataframe tbody tr th {\n",
       "        vertical-align: top;\n",
       "    }\n",
       "\n",
       "    .dataframe thead th {\n",
       "        text-align: right;\n",
       "    }\n",
       "</style>\n",
       "<table border=\"1\" class=\"dataframe\">\n",
       "  <thead>\n",
       "    <tr style=\"text-align: right;\">\n",
       "      <th></th>\n",
       "      <th>order_id</th>\n",
       "      <th>order_purchase_timestamp</th>\n",
       "      <th>max_price</th>\n",
       "    </tr>\n",
       "  </thead>\n",
       "  <tbody>\n",
       "    <tr>\n",
       "      <th>0</th>\n",
       "      <td>73ef343c9dbf2f6d45362c9bc150f4b7</td>\n",
       "      <td>2018-08-12 03:44:50</td>\n",
       "      <td>2150.00</td>\n",
       "    </tr>\n",
       "    <tr>\n",
       "      <th>1</th>\n",
       "      <td>f0a2783007ba2c431132d38c7642d5c9</td>\n",
       "      <td>2018-04-17 11:10:00</td>\n",
       "      <td>2110.00</td>\n",
       "    </tr>\n",
       "    <tr>\n",
       "      <th>2</th>\n",
       "      <td>2cc93fd6f68e6cfcb968814de8a14296</td>\n",
       "      <td>2017-10-11 18:25:49</td>\n",
       "      <td>1989.00</td>\n",
       "    </tr>\n",
       "    <tr>\n",
       "      <th>3</th>\n",
       "      <td>9562a9640c9bea4e43a21cac378d8781</td>\n",
       "      <td>2017-05-06 19:58:48</td>\n",
       "      <td>1697.00</td>\n",
       "    </tr>\n",
       "    <tr>\n",
       "      <th>4</th>\n",
       "      <td>b534c927d5cb15838b514c99f1c8d94d</td>\n",
       "      <td>2017-09-29 20:51:26</td>\n",
       "      <td>1599.99</td>\n",
       "    </tr>\n",
       "    <tr>\n",
       "      <th>...</th>\n",
       "      <td>...</td>\n",
       "      <td>...</td>\n",
       "      <td>...</td>\n",
       "    </tr>\n",
       "    <tr>\n",
       "      <th>1102</th>\n",
       "      <td>6c37458893de8ddaa38b557e58e3bfb7</td>\n",
       "      <td>2018-01-06 15:42:24</td>\n",
       "      <td>6.99</td>\n",
       "    </tr>\n",
       "    <tr>\n",
       "      <th>1103</th>\n",
       "      <td>f8a0c2f75253cacddb95753652794c0f</td>\n",
       "      <td>2017-04-06 23:05:31</td>\n",
       "      <td>5.90</td>\n",
       "    </tr>\n",
       "    <tr>\n",
       "      <th>1104</th>\n",
       "      <td>e723fd90e2d095c2762e5e800d759bfa</td>\n",
       "      <td>2017-11-25 17:14:25</td>\n",
       "      <td>5.00</td>\n",
       "    </tr>\n",
       "    <tr>\n",
       "      <th>1105</th>\n",
       "      <td>d642656598ae928a250620315d19e87e</td>\n",
       "      <td>2018-03-07 10:43:39</td>\n",
       "      <td>4.99</td>\n",
       "    </tr>\n",
       "    <tr>\n",
       "      <th>1106</th>\n",
       "      <td>a68ce1686d536ca72bd2dadc4b8671e5</td>\n",
       "      <td>2016-10-05 01:47:40</td>\n",
       "      <td>NaN</td>\n",
       "    </tr>\n",
       "  </tbody>\n",
       "</table>\n",
       "<p>1107 rows × 3 columns</p>\n",
       "</div>"
      ],
      "text/plain": [
       "                              order_id order_purchase_timestamp  max_price\n",
       "0     73ef343c9dbf2f6d45362c9bc150f4b7      2018-08-12 03:44:50    2150.00\n",
       "1     f0a2783007ba2c431132d38c7642d5c9      2018-04-17 11:10:00    2110.00\n",
       "2     2cc93fd6f68e6cfcb968814de8a14296      2017-10-11 18:25:49    1989.00\n",
       "3     9562a9640c9bea4e43a21cac378d8781      2017-05-06 19:58:48    1697.00\n",
       "4     b534c927d5cb15838b514c99f1c8d94d      2017-09-29 20:51:26    1599.99\n",
       "...                                ...                      ...        ...\n",
       "1102  6c37458893de8ddaa38b557e58e3bfb7      2018-01-06 15:42:24       6.99\n",
       "1103  f8a0c2f75253cacddb95753652794c0f      2017-04-06 23:05:31       5.90\n",
       "1104  e723fd90e2d095c2762e5e800d759bfa      2017-11-25 17:14:25       5.00\n",
       "1105  d642656598ae928a250620315d19e87e      2018-03-07 10:43:39       4.99\n",
       "1106  a68ce1686d536ca72bd2dadc4b8671e5      2016-10-05 01:47:40        NaN\n",
       "\n",
       "[1107 rows x 3 columns]"
      ]
     },
     "execution_count": 4,
     "metadata": {},
     "output_type": "execute_result"
    }
   ],
   "source": [
    "query = '''\n",
    "    SELECT order_id\n",
    "            ,order_purchase_timestamp\n",
    "            ,(\n",
    "                SELECT MAX(price)\n",
    "                FROM OrderItems AS a\n",
    "                WHERE a.order_id = b.order_id\n",
    "            ) AS max_price\n",
    "    FROM Orders AS b \n",
    "    WHERE b.order_status = 'shipped'  \n",
    "    ORDER BY max_price DESC\n",
    "'''\n",
    "\n",
    "pd.read_sql(query, con)"
   ]
  },
  {
   "cell_type": "markdown",
   "metadata": {},
   "source": [
    "### Subquery como fonte de dados de uma consulta principal"
   ]
  },
  {
   "cell_type": "markdown",
   "metadata": {},
   "source": [
    "Este outro formato faz com que o resultado de uma subquery possa ser utilizado como tabela fonte de dados de uma consulta principal"
   ]
  },
  {
   "cell_type": "code",
   "execution_count": 5,
   "metadata": {
    "ExecuteTime": {
     "end_time": "2021-07-26T22:25:32.537414Z",
     "start_time": "2021-07-26T22:25:32.270241Z"
    },
    "scrolled": true
   },
   "outputs": [
    {
     "data": {
      "text/html": [
       "<div>\n",
       "<style scoped>\n",
       "    .dataframe tbody tr th:only-of-type {\n",
       "        vertical-align: middle;\n",
       "    }\n",
       "\n",
       "    .dataframe tbody tr th {\n",
       "        vertical-align: top;\n",
       "    }\n",
       "\n",
       "    .dataframe thead th {\n",
       "        text-align: right;\n",
       "    }\n",
       "</style>\n",
       "<table border=\"1\" class=\"dataframe\">\n",
       "  <thead>\n",
       "    <tr style=\"text-align: right;\">\n",
       "      <th></th>\n",
       "      <th>avg_order_count</th>\n",
       "    </tr>\n",
       "  </thead>\n",
       "  <tbody>\n",
       "    <tr>\n",
       "      <th>0</th>\n",
       "      <td>36.397415</td>\n",
       "    </tr>\n",
       "  </tbody>\n",
       "</table>\n",
       "</div>"
      ],
      "text/plain": [
       "   avg_order_count\n",
       "0        36.397415"
      ]
     },
     "execution_count": 5,
     "metadata": {},
     "output_type": "execute_result"
    }
   ],
   "source": [
    "query = '''\n",
    "    SELECT AVG(order_count) avg_order_count\n",
    "    FROM\n",
    "    (\n",
    "        SELECT seller_id\n",
    "                ,COUNT(order_id) order_count\n",
    "        FROM OrderItems\n",
    "        GROUP BY seller_id\n",
    "    ) t\n",
    "    \n",
    "\n",
    "'''\n",
    "\n",
    "pd.read_sql(query, con)"
   ]
  },
  {
   "cell_type": "code",
   "execution_count": null,
   "metadata": {},
   "outputs": [],
   "source": []
  }
 ],
 "metadata": {
  "hide_input": false,
  "kernelspec": {
   "display_name": "Python [conda env:qads]",
   "language": "python",
   "name": "conda-env-qads-py"
  },
  "language_info": {
   "codemirror_mode": {
    "name": "ipython",
    "version": 3
   },
   "file_extension": ".py",
   "mimetype": "text/x-python",
   "name": "python",
   "nbconvert_exporter": "python",
   "pygments_lexer": "ipython3",
   "version": "3.9.5"
  },
  "toc": {
   "base_numbering": 1,
   "nav_menu": {},
   "number_sections": true,
   "sideBar": true,
   "skip_h1_title": false,
   "title_cell": "Table of Contents",
   "title_sidebar": "Contents",
   "toc_cell": false,
   "toc_position": {},
   "toc_section_display": true,
   "toc_window_display": true
  },
  "varInspector": {
   "cols": {
    "lenName": 16,
    "lenType": 16,
    "lenVar": 40
   },
   "kernels_config": {
    "python": {
     "delete_cmd_postfix": "",
     "delete_cmd_prefix": "del ",
     "library": "var_list.py",
     "varRefreshCmd": "print(var_dic_list())"
    },
    "r": {
     "delete_cmd_postfix": ") ",
     "delete_cmd_prefix": "rm(",
     "library": "var_list.r",
     "varRefreshCmd": "cat(var_dic_list()) "
    }
   },
   "types_to_exclude": [
    "module",
    "function",
    "builtin_function_or_method",
    "instance",
    "_Feature"
   ],
   "window_display": false
  }
 },
 "nbformat": 4,
 "nbformat_minor": 2
}
