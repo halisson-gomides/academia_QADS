{
 "cells": [
  {
   "cell_type": "markdown",
   "id": "9898ca93",
   "metadata": {},
   "source": [
    "# Exercícios - Aula 03 e Aula 04\n",
    "___\n",
    "\n",
    "1. Escreva uma função python que receba uma lista e separe os múltiplos de 5. Ao final ela retorna a soma de todos os valores da lista de entrada que são múltiplos de 5.\n",
    "\n",
    "2. Escreva uma função para verificar se uma palavra é um palíndromo e retorne 1 em caso positivo e 0 (zero) em caso negativo.\n",
    "\n",
    "3. Escreva uma função que receba uma lista crie um dicionário com a contagem dos valores dessa lista.\n",
    "\n",
    "4. Escreva uma função que receba uma lista de listas, itere sobre cada lista, some seus valores, gere uma segunda lista e descubra o desvio padrão dela.\n",
    "\n",
    "entrada : [[12,12,5,6,3,6,8,5,5,5],[3,3,3,3,4,4,15,89,20,20],[15,15,15,20,30,35,35,35,15,15],[10,10,10,10,15,15,15,15],[5,5,2,2],[8,8,89,89,898,1000]]\n",
    "\n",
    "5. Escreva uma função que gere uma sequencia de Fibonnaci. O único parâmetro é a quantidade de números que devem gerados. (Fibonnaci é uma sequencia onde o próximo número é a soma dos dois imediatamente anteriores a ele).\n",
    "\n",
    "6. Monte uma função que vai calcular e comparar os custos de uma viagem para 3 cidades diferentes e que, ao final, irá recomendar qual é o destino mais barato. Essa função deve receber somente uma parâmetro 'noites'. A partir desse argumento a função deve calcular o custo total de viagem para cada uma das cidades. Utilize os dados abaixo.\n",
    "\n",
    "|   Cidade  | Hotel/noite | Alimentação/noite | Locomoção/noite |\n",
    "|:---------:|:-----------:|:-----------------:|:---------------:|\n",
    "| Abu Dhabi |     1300    |        200        |       150       |\n",
    "|  Genebra  |     1200    |        150        |        80       |\n",
    "|    Oslo   |     1000    |        250        |       100       |\n",
    "\n",
    "7. Defina uma função que calcule o z-score de todos os valores de uma lista e encontre quem são os outliers (z-score abaixo de -3 e acima de 3). Use a lista abaixo:\n",
    "\n",
    "lista = [201, 102, -5558, 232, 213, -9249, -247, 1183, 211, 7598, 130, 61, 192, 207, -46, 170, 116, 106, 225, 75, 138, 107, 108, -33, -9, 170, 147, 175, 137, -5, -9, 16600, 171, 183, 147, 171, 143, 104, 7, 227, 127, 173, 178, 194, 110, 20, 99, 11, 41, 242, 250, 62, 230, -32, 239, 241, 30, -35, 132, 214, 58, 90, -12, -24, 177, 116, 53, -26, 144, 29, 41, 217, 114, 109, -15, 32, 110, 162, 221, -16, 210, 87, 76, 3100, 73, 174, 194, 93, -9, 241, 234, 79, -4800, -22, -41, 224, 249, 114, -29, 79]\n",
    "\n",
    "8. Defina uma função que recebe uma lista aplica a fórmula abaixo a cada um dos valores e retorna uma lista com o resultado.\n",
    "\n",
    "![minmax](https://androidkt.com/wp-content/uploads/2020/10/Selection_060.png)\n",
    "\n",
    "\n",
    "9. Escreva um código que dê print em todos os quadrados dos valores de 0 a 10.\n",
    "\n",
    "10. Escreva um código que encontre a soma de todos os valores pares de 0 a 10.\n",
    "\n",
    "11. Construa uma função que receba 3 valores (a,b,c) e retorne uma lista com todos os valores entre 'a' e 'b' que são múltiplos de 'c'. Utilize os valores abaixo (10,500,23).\n",
    "\n",
    "12. Escreva um código para ter o seguinte output:\n",
    "    \n",
    "    1 ---- 99\n",
    "    2 ---- 98\n",
    "    3 ---- 97\n",
    "    4 ---- 96\n",
    "    .\n",
    "    .\n",
    "    .\n",
    "    99 ---- 1\n",
    "    \n",
    "13. Construa uma função que receba um input e printe um padrão conforme exemplo.\n",
    "\n",
    "input = 5\n",
    "\n",
    "output:\n",
    "\n",
    "+<br>\n",
    "++<br>\n",
    "+++<br>\n",
    "++++<br>\n",
    "+++++\n",
    "\n",
    "\n",
    "14. Itere sobre a lista abaixo e crie uma nova lista com todos os nomes em letras maisculuas e com underline ao invés de espaços. Dica: utilize compreensão de listas.\n",
    "\n",
    "lista_nomes = ['Geralt de Rívia','Yennefer de Vengerberd','Triss Marigold','Emhyr var Emreis','Jaskier o bardo']\n",
    "\n",
    "15. Voce é um jogador de tênis. Para decidir se você vai treinar hoje você deve avaliar duas coisas: o tempo e a temperatura. Crie um programa para saber se você deve ou não treinar hoje de acordo com as seguintes especificações: \n",
    "\n",
    "- Tempo: chuvoso -> não jogar\n",
    "- Tempo: ensolarado ou nublado -> jogar\n",
    "- Temperatura maior ou igual a 15 graus e tempo ensolarado ou nublado -> jogar\n",
    "- Temperatura menor que 15 graus e tempo ensolarado ou nublado -> não jogar\n",
    "\n",
    "Se o dia estiver ensolarado e a temperatura for de 16 graus. Você irá ou não jogar?\n",
    "\n",
    "16. Pesquise e use a função ```zip()``` para juntar as duas listas abaixo.\n",
    "\n",
    "nomes = ['nasser','joao','mateus']\n",
    "salarios = [1000,1500,5000]\n",
    "\n",
    "17. Considera as duas listas abaixo, a primeira demonstra o valor real de venda de uma casa e a segunda demonstra o valor recomendado por um modelo de regressão. Gere uma terceira lista com o resíduo de cada ponto. O resíduo é o resultado da subtração entre o valor real e o valor predito para determinado ponto.\n",
    "\n",
    "real = [150358,368525,532152,144789]\n",
    "predito = [162122,365255,533200,185789]\n",
    "\n",
    "18. Ainda usando os dados da questao 17 calcule, sem utilizar bibliotecas, o RMSE do valor predito. Referência: https://tinyurl.com/yd9ljcmj"
   ]
  },
  {
   "cell_type": "markdown",
   "id": "06a9f297",
   "metadata": {},
   "source": [
    "### Exercício 01"
   ]
  },
  {
   "cell_type": "code",
   "execution_count": 36,
   "id": "c900df0d",
   "metadata": {
    "ExecuteTime": {
     "end_time": "2021-07-09T15:13:16.822827Z",
     "start_time": "2021-07-09T15:13:16.808822Z"
    }
   },
   "outputs": [
    {
     "data": {
      "text/plain": [
       "120"
      ]
     },
     "execution_count": 36,
     "metadata": {},
     "output_type": "execute_result"
    }
   ],
   "source": [
    "# Escreva uma função python que receba uma lista e separe os múltiplos de 5. \n",
    "# Ao final ela retorna a soma de todos os valores da lista de entrada que são múltiplos de 5\n",
    "\n",
    "def separar_multiplos_5(lista:list)-> int:\n",
    "    mult_5 = [x for x in lista if x % 5 == 0]    \n",
    "    return sum(mult_5)\n",
    "\n",
    "list_teste = [5, 12, 25, 32, 40, 50, 68]\n",
    "separar_multiplos_5(list_teste)"
   ]
  },
  {
   "cell_type": "markdown",
   "id": "5c183893",
   "metadata": {},
   "source": [
    "### Exercício 02"
   ]
  },
  {
   "cell_type": "code",
   "execution_count": 27,
   "id": "dc13fb7a",
   "metadata": {
    "ExecuteTime": {
     "end_time": "2021-07-09T14:37:00.882535Z",
     "start_time": "2021-07-09T14:37:00.866541Z"
    }
   },
   "outputs": [
    {
     "name": "stdout",
     "output_type": "stream",
     "text": [
      "True\n",
      "False\n",
      "True\n"
     ]
    }
   ],
   "source": [
    "# Escreva uma função para verificar se uma palavra é um palíndromo e retorne 1 em caso positivo e 0 (zero) em caso negativo.\n",
    "\n",
    "verifica_se_palindrono = lambda x: True if x == x[::-1] else False\n",
    "\n",
    "print(verifica_se_palindrono('anairdaadriana'))\n",
    "print(verifica_se_palindrono('teste'))\n",
    "print(verifica_se_palindrono('amoraroma'))"
   ]
  },
  {
   "cell_type": "markdown",
   "id": "1e88a17a",
   "metadata": {
    "ExecuteTime": {
     "end_time": "2021-07-09T14:30:33.445039Z",
     "start_time": "2021-07-09T14:30:33.434039Z"
    }
   },
   "source": [
    "### Exercício 03"
   ]
  },
  {
   "cell_type": "code",
   "execution_count": 32,
   "id": "6352e54c",
   "metadata": {
    "ExecuteTime": {
     "end_time": "2021-07-09T14:46:58.076619Z",
     "start_time": "2021-07-09T14:46:58.066614Z"
    }
   },
   "outputs": [
    {
     "data": {
      "text/plain": [
       "{2: 3, 1: 3, 3: 2, 5: 1, 6: 1}"
      ]
     },
     "execution_count": 32,
     "metadata": {},
     "output_type": "execute_result"
    }
   ],
   "source": [
    "# Escreva uma função que receba uma lista crie um dicionário com a contagem dos valores dessa lista.\n",
    "\n",
    "def conta_valores(lista:list)->dict:\n",
    "    dict_count = {x: lista.count(x) for x in lista}\n",
    "    return dict_count\n",
    "\n",
    "list_teste = [2, 1, 3, 2, 3, 1, 5, 1, 2, 6]\n",
    "conta_valores(list_teste)"
   ]
  },
  {
   "cell_type": "markdown",
   "id": "41b6dc44",
   "metadata": {},
   "source": [
    "### Exercício 04"
   ]
  },
  {
   "cell_type": "code",
   "execution_count": 1,
   "id": "5f068069",
   "metadata": {
    "ExecuteTime": {
     "end_time": "2021-07-11T15:13:39.405971Z",
     "start_time": "2021-07-11T15:13:39.355100Z"
    }
   },
   "outputs": [
    {
     "data": {
      "text/plain": [
       "739.9846282187218"
      ]
     },
     "execution_count": 1,
     "metadata": {},
     "output_type": "execute_result"
    }
   ],
   "source": [
    "\n",
    "# Escreva uma função que receba uma lista de listas, itere sobre cada lista, some seus valores, \n",
    "# gere uma segunda lista e descubra o desvio padrão dela.\n",
    "\n",
    "entrada = [[12,12,5,6,3,6,8,5,5,5],[3,3,3,3,4,4,15,89,20,20],[15,15,15,20,30,35,35,35,15,15],[10,10,10,10,15,15,15,15],[5,5,2,2],[8,8,89,89,898,1000]]\n",
    "\n",
    "def func_desv_padrao(lista:list):\n",
    "    # calculando a media\n",
    "    try:\n",
    "        media = sum(lista) / len(lista)\n",
    "    except ZeroDivisionError:\n",
    "        return 0\n",
    "    \n",
    "    # calculando o quadrado da distancia entre cada elemento e a média\n",
    "    sqr_dist = [(x - media)**2 for x in lista]\n",
    "    \n",
    "    # somando os valores da etapa anterior, dividir pelo tamanho populacional e calcular a raiz quadrada\n",
    "    std_dev = (sum(sqr_dist) / len(lista))**0.5\n",
    "    \n",
    "    return std_dev\n",
    "\n",
    "def desvio_padrao_da_soma(lista:list):    \n",
    "    \n",
    "    lista_da_soma = [sum(x) for x in lista]\n",
    "    return func_desv_padrao(lista_da_soma)\n",
    "\n",
    "desvio_padrao_da_soma(entrada)"
   ]
  },
  {
   "cell_type": "markdown",
   "id": "faf442e4",
   "metadata": {},
   "source": [
    "### Exercício 05"
   ]
  },
  {
   "cell_type": "code",
   "execution_count": 57,
   "id": "1e31e8c6",
   "metadata": {
    "ExecuteTime": {
     "end_time": "2021-07-09T15:41:35.283050Z",
     "start_time": "2021-07-09T15:41:35.267052Z"
    }
   },
   "outputs": [
    {
     "data": {
      "text/plain": [
       "[1, 1, 2, 3, 5, 8, 13]"
      ]
     },
     "execution_count": 57,
     "metadata": {},
     "output_type": "execute_result"
    }
   ],
   "source": [
    "# Escreva uma função que gere uma sequencia de Fibonnaci. O único parâmetro é a quantidade de números que devem gerados. \n",
    "# (Fibonnaci é uma sequencia onde o próximo número é a soma dos dois imediatamente anteriores a ele).\n",
    "\n",
    "def fib(n):\n",
    "    if n <= 2:\n",
    "        return [1 for _ in range(n) if n > 0]\n",
    "    seq = [1, 1]\n",
    "    for _ in range(2,n):\n",
    "        seq.append(sum(seq[-2:]))\n",
    "    return seq\n",
    "\n",
    "fib(7)"
   ]
  },
  {
   "cell_type": "markdown",
   "id": "9a4c7b24",
   "metadata": {
    "ExecuteTime": {
     "end_time": "2021-07-09T15:36:04.825001Z",
     "start_time": "2021-07-09T15:36:04.818010Z"
    }
   },
   "source": [
    "### Exercício 06\n",
    "|   Cidade  | Hotel/noite | Alimentação/noite | Locomoção/noite |\n",
    "|:---------:|:-----------:|:-----------------:|:---------------:|\n",
    "| Abu Dhabi |     1300    |        200        |       150       |\n",
    "|  Genebra  |     1200    |        150        |        80       |\n",
    "|    Oslo   |     1000    |        250        |       100       |"
   ]
  },
  {
   "cell_type": "code",
   "execution_count": 86,
   "id": "fe70672a",
   "metadata": {
    "ExecuteTime": {
     "end_time": "2021-07-09T17:13:52.740963Z",
     "start_time": "2021-07-09T17:13:52.730971Z"
    }
   },
   "outputs": [
    {
     "name": "stdout",
     "output_type": "stream",
     "text": [
      "O custo para 3 noite(s) em Abu Dhabi é $4950.00\n",
      "O custo para 3 noite(s) em Genebra é $4290.00\n",
      "O custo para 3 noite(s) em Olso é $4050.00\n",
      "**********************************************************************************\n",
      "Recomendo que vá para Olso.\n"
     ]
    }
   ],
   "source": [
    "# Monte uma função que vai calcular e comparar os custos de uma viagem para 3 cidades diferentes e que, ao final, \n",
    "# irá recomendar qual é o destino mais barato. Essa função deve receber somente uma parâmetro 'noites'. \n",
    "# A partir desse argumento a função deve calcular o custo total de viagem para cada uma das cidades. \n",
    "# Utilize os dados abaixo.\n",
    "\n",
    "def comparar_custos_viagem(noites:int):\n",
    "    dict_valores={\n",
    "        'Abu Dhabi': {'hotel':1300, 'alimentacao':200, 'locomocao':150},\n",
    "        'Genebra' : {'hotel':1200, 'alimentacao':150, 'locomocao':80},\n",
    "        'Olso' : {'hotel':1000, 'alimentacao':250, 'locomocao':100}\n",
    "    }\n",
    "\n",
    "    for cidade, valores in dict_valores.items():\n",
    "        custo_noite = sum(valores.values())\n",
    "        print(f'O custo para {noites} noite(s) em {cidade} é ${custo_noite*noites:.2f}')\n",
    "        dict_valores[cidade]['total_noite'] = custo_noite\n",
    "\n",
    "    print(format('','*^82'))\n",
    "    mais_barato = min(dict_valores.items(), key=lambda x: x[1]['total_noite'])\n",
    "    print(f'Recomendo que vá para {mais_barato[0]}.')\n",
    "    \n",
    "comparar_custos_viagem(3)"
   ]
  },
  {
   "cell_type": "markdown",
   "id": "1e5af8b0",
   "metadata": {},
   "source": [
    "### Exercício 07"
   ]
  },
  {
   "cell_type": "code",
   "execution_count": 2,
   "id": "3f11ea15",
   "metadata": {
    "ExecuteTime": {
     "end_time": "2021-07-11T15:15:20.940093Z",
     "start_time": "2021-07-11T15:15:20.908835Z"
    }
   },
   "outputs": [
    {
     "name": "stdout",
     "output_type": "stream",
     "text": [
      "Z-score dos elementos da lista:\n",
      "[0.004859569782318368, -0.0402292220123882, -2.6180328741137937, 0.01897828236449921, 0.010324877878646437, -4.299070556076035, -0.19917859914726288, 0.45210394899849865, 0.009413993195925093, 3.3737665688272123, -0.02747683645428937, -0.05890235800817577, 0.0007605887100723172, 0.007592223830482403, -0.10763468853376772, -0.009259142799862475, -0.033853029233338786, -0.038407452646945506, 0.015790185974974506, -0.05252616522912635, -0.023833297723403993, -0.037952010305584837, -0.03749656796422416, -0.10171393809607897, -0.09078332190342284, -0.009259142799862475, -0.019734316651157942, -0.006981931093059114, -0.024288740064764665, -0.08896155253798015, -0.09078332190342284, 7.473658525755984, -0.008803700458501804, -0.0033383923621737345, -0.019734316651157942, -0.008803700458501804, -0.02155608601660063, -0.03931833732966685, -0.08349624444165207, 0.01670107065769585, -0.02884316347837139, -0.007892815775780458, -0.005615604068977096, 0.0016714733927936619, -0.03658568328150282, -0.07757549400396334, -0.04159554903647022, -0.08167447507620938, -0.06801120483538921, 0.02353270577810594, 0.027176244508991317, -0.05844691566681509, 0.01806739768177787, -0.10125849575471829, 0.02216637875402392, 0.023077263436745266, -0.0730210705903566, -0.10262482277880032, -0.026565951771568026, 0.01078032022000711, -0.06026868503225778, -0.04569453010871627, -0.09214964892750485, -0.09761495702383292, -0.006071046410337769, -0.033853029233338786, -0.06254589673906115, -0.09852584170655426, -0.021100643675239956, -0.07347651293171728, -0.06801120483538921, 0.012146647244089127, -0.03476391391606013, -0.03704112562286349, -0.09351597595158687, -0.07211018590763527, -0.03658568328150282, -0.012902681530747855, 0.013968416609531817, -0.09397141829294754, 0.00895855085456442, -0.047060857132798284, -0.05207072288776568, 1.3251869173869077, -0.053437049911847695, -0.0074373734344197855, 0.0016714733927936619, -0.04432820308463425, -0.09078332190342284, 0.023077263436745266, 0.019889167047220557, -0.050704395863683666, -2.272807579362404, -0.09670407234111157, -0.10535747682696435, 0.015334743633613833, 0.026720802167630644, -0.03476391391606013, -0.09989216873063628, -0.050704395863683666]\n",
      "\n",
      "Outliers:\n",
      "[-4.299070556076035, 3.3737665688272123, 7.473658525755984]\n"
     ]
    }
   ],
   "source": [
    "# Defina uma função que calcule o z-score de todos os valores de uma lista e encontre quem \n",
    "# são os outliers (z-score abaixo de -3 e acima de 3).\n",
    "\n",
    "lista = [201, 102, -5558, 232, 213, -9249, -247, 1183, 211, 7598, 130, 61, 192, 207, -46, 170, 116, 106, 225, 75, 138, \n",
    "         107, 108, -33, -9, 170, 147, 175, 137, -5, -9, 16600, 171, 183, 147, 171, 143, 104, 7, 227, 127, 173, 178, 194, \n",
    "         110, 20, 99, 11, 41, 242, 250, 62, 230, -32, 239, 241, 30, -35, 132, 214, 58, 90, -12, -24, 177, 116, 53, -26, \n",
    "         144, 29, 41, 217, 114, 109, -15, 32, 110, 162, 221, -16, 210, 87, 76, 3100, 73, 174, 194, 93, -9, 241, 234, 79, \n",
    "         -4800, -22, -41, 224, 249, 114, -29, 79]\n",
    "\n",
    "def z_score(lista:list):\n",
    "\n",
    "    media = sum(lista) / len(lista)\n",
    "    desv_p = func_desv_padrao(lista)\n",
    "    z_list = list(map(lambda x: (x-media)/desv_p, lista))\n",
    "    \n",
    "    outliers = [z_score for z_score in z_list if z_score < -3 or z_score > 3]\n",
    "    print('Z-score dos elementos da lista:')\n",
    "    print(z_list, end='\\n\\n')\n",
    "    print('Outliers:')\n",
    "    print(outliers)\n",
    "    return None\n",
    "\n",
    "\n",
    "z_score(lista)"
   ]
  },
  {
   "cell_type": "markdown",
   "id": "408efd62",
   "metadata": {},
   "source": [
    "### Exercício 08"
   ]
  },
  {
   "cell_type": "code",
   "execution_count": 130,
   "id": "de4935fd",
   "metadata": {
    "ExecuteTime": {
     "end_time": "2021-07-10T00:07:43.601585Z",
     "start_time": "2021-07-10T00:07:43.584581Z"
    }
   },
   "outputs": [
    {
     "name": "stdout",
     "output_type": "stream",
     "text": [
      "[0.0, 0.01020408163265306, 0.02040816326530612, 0.030612244897959183, 0.04081632653061224, 0.05102040816326531, 0.061224489795918366, 0.07142857142857142, 0.08163265306122448, 0.09183673469387756, 0.10204081632653061, 0.11224489795918367, 0.12244897959183673, 0.1326530612244898, 0.14285714285714285, 0.15306122448979592, 0.16326530612244897, 0.17346938775510204, 0.1836734693877551, 0.19387755102040816, 0.20408163265306123, 0.21428571428571427, 0.22448979591836735, 0.23469387755102042, 0.24489795918367346, 0.25510204081632654, 0.2653061224489796, 0.2755102040816326, 0.2857142857142857, 0.29591836734693877, 0.30612244897959184, 0.3163265306122449, 0.32653061224489793, 0.336734693877551, 0.3469387755102041, 0.35714285714285715, 0.3673469387755102, 0.37755102040816324, 0.3877551020408163, 0.3979591836734694, 0.40816326530612246, 0.41836734693877553, 0.42857142857142855, 0.4387755102040816, 0.4489795918367347, 0.45918367346938777, 0.46938775510204084, 0.47959183673469385, 0.4897959183673469, 0.5, 0.5102040816326531, 0.5204081632653061, 0.5306122448979592, 0.5408163265306123, 0.5510204081632653, 0.5612244897959183, 0.5714285714285714, 0.5816326530612245, 0.5918367346938775, 0.6020408163265306, 0.6122448979591837, 0.6224489795918368, 0.6326530612244898, 0.6428571428571429, 0.6530612244897959, 0.6632653061224489, 0.673469387755102, 0.6836734693877551, 0.6938775510204082, 0.7040816326530612, 0.7142857142857143, 0.7244897959183674, 0.7346938775510204, 0.7448979591836735, 0.7551020408163265, 0.7653061224489796, 0.7755102040816326, 0.7857142857142857, 0.7959183673469388, 0.8061224489795918, 0.8163265306122449, 0.826530612244898, 0.8367346938775511, 0.8469387755102041, 0.8571428571428571, 0.8673469387755102, 0.8775510204081632, 0.8877551020408163, 0.8979591836734694, 0.9081632653061225, 0.9183673469387755, 0.9285714285714286, 0.9387755102040817, 0.9489795918367347, 0.9591836734693877, 0.9693877551020408, 0.9795918367346939, 0.9897959183673469, 1.0]\n"
     ]
    }
   ],
   "source": [
    "# Defina uma função que recebe uma lista aplica a fórmula abaixo a cada um dos valores e retorna uma lista com o resultado.\n",
    "\n",
    "def func_mm(lista:list):\n",
    "    minimo = min(lista)\n",
    "    maximo = max(lista)\n",
    "    mm_list = list(map(lambda x: (x -minimo)/(maximo - minimo), lista))\n",
    "    return mm_list\n",
    "\n",
    "print(func_mm(lista))"
   ]
  },
  {
   "cell_type": "markdown",
   "id": "fa786a6b",
   "metadata": {},
   "source": [
    "### Exercício 09"
   ]
  },
  {
   "cell_type": "code",
   "execution_count": 96,
   "id": "ad841c0c",
   "metadata": {
    "ExecuteTime": {
     "end_time": "2021-07-09T17:44:54.912038Z",
     "start_time": "2021-07-09T17:44:54.898040Z"
    }
   },
   "outputs": [
    {
     "name": "stdout",
     "output_type": "stream",
     "text": [
      "valor: 0, seu quadrado: 0\n",
      "valor: 1, seu quadrado: 1\n",
      "valor: 2, seu quadrado: 4\n",
      "valor: 3, seu quadrado: 9\n",
      "valor: 4, seu quadrado: 16\n",
      "valor: 5, seu quadrado: 25\n",
      "valor: 6, seu quadrado: 36\n",
      "valor: 7, seu quadrado: 49\n",
      "valor: 8, seu quadrado: 64\n",
      "valor: 9, seu quadrado: 81\n",
      "valor: 10, seu quadrado: 100\n"
     ]
    }
   ],
   "source": [
    "# Escreva um código que dê print em todos os quadrados dos valores de 0 a 10\n",
    "for i in range(11):\n",
    "    print(f'valor: {i}, seu quadrado: {i**2}')"
   ]
  },
  {
   "cell_type": "markdown",
   "id": "e42277d0",
   "metadata": {},
   "source": [
    "### Exercício 10"
   ]
  },
  {
   "cell_type": "code",
   "execution_count": 3,
   "id": "f6e54827",
   "metadata": {
    "ExecuteTime": {
     "end_time": "2021-07-11T15:17:14.759798Z",
     "start_time": "2021-07-11T15:17:14.739797Z"
    }
   },
   "outputs": [
    {
     "name": "stdout",
     "output_type": "stream",
     "text": [
      "30\n",
      "30\n"
     ]
    }
   ],
   "source": [
    "# Escreva um código que encontre a soma de todos os valores pares de 0 a 10.\n",
    "valores_pares = [x for x in range(11) if x % 2 == 0]\n",
    "print(sum(valores_pares))\n",
    "\n",
    "# outra forma de fazer\n",
    "from functools import reduce\n",
    "soma = reduce(lambda a, b: a + b, valores_pares)\n",
    "print(soma)"
   ]
  },
  {
   "cell_type": "markdown",
   "id": "c5ecc894",
   "metadata": {},
   "source": [
    "### Exercício 11"
   ]
  },
  {
   "cell_type": "code",
   "execution_count": 129,
   "id": "0f4a8cee",
   "metadata": {
    "ExecuteTime": {
     "end_time": "2021-07-10T00:07:20.349116Z",
     "start_time": "2021-07-10T00:07:20.331128Z"
    }
   },
   "outputs": [
    {
     "name": "stdout",
     "output_type": "stream",
     "text": [
      "[23, 46, 69, 92, 115, 138, 161, 184, 207, 230, 253, 276, 299, 322, 345, 368, 391, 414, 437, 460, 483]\n"
     ]
    }
   ],
   "source": [
    "# Construa uma função que receba 3 valores (a,b,c) e retorne uma lista com todos os valores entre 'a' e 'b' que são múltiplos\n",
    "# de 'c'. Utilize os valores abaixo (10,500,23).\n",
    "\n",
    "def func_multiplos(a, b, c):\n",
    "    multiplos_c = [x for x in range(a, b+1) if x % 23 == 0]\n",
    "    return multiplos_c\n",
    "\n",
    "print(func_multiplos(10,500,23))"
   ]
  },
  {
   "cell_type": "markdown",
   "id": "5ec3c814",
   "metadata": {},
   "source": [
    "### Exercício 12"
   ]
  },
  {
   "cell_type": "code",
   "execution_count": 109,
   "id": "9f46c82f",
   "metadata": {
    "ExecuteTime": {
     "end_time": "2021-07-09T23:19:50.725214Z",
     "start_time": "2021-07-09T23:19:50.711221Z"
    }
   },
   "outputs": [
    {
     "name": "stdout",
     "output_type": "stream",
     "text": [
      "1 ---- 99 2 ---- 98 3 ---- 97 4 ---- 96 5 ---- 95 6 ---- 94 7 ---- 93 8 ---- 92 9 ---- 91 10 ---- 90 11 ---- 89 12 ---- 88 13 ---- 87 14 ---- 86 15 ---- 85 16 ---- 84 17 ---- 83 18 ---- 82 19 ---- 81 20 ---- 80 21 ---- 79 22 ---- 78 23 ---- 77 24 ---- 76 25 ---- 75 26 ---- 74 27 ---- 73 28 ---- 72 29 ---- 71 30 ---- 70 31 ---- 69 32 ---- 68 33 ---- 67 34 ---- 66 35 ---- 65 36 ---- 64 37 ---- 63 38 ---- 62 39 ---- 61 40 ---- 60 41 ---- 59 42 ---- 58 43 ---- 57 44 ---- 56 45 ---- 55 46 ---- 54 47 ---- 53 48 ---- 52 49 ---- 51 50 ---- 50 51 ---- 49 52 ---- 48 53 ---- 47 54 ---- 46 55 ---- 45 56 ---- 44 57 ---- 43 58 ---- 42 59 ---- 41 60 ---- 40 61 ---- 39 62 ---- 38 63 ---- 37 64 ---- 36 65 ---- 35 66 ---- 34 67 ---- 33 68 ---- 32 69 ---- 31 70 ---- 30 71 ---- 29 72 ---- 28 73 ---- 27 74 ---- 26 75 ---- 25 76 ---- 24 77 ---- 23 78 ---- 22 79 ---- 21 80 ---- 20 81 ---- 19 82 ---- 18 83 ---- 17 84 ---- 16 85 ---- 15 86 ---- 14 87 ---- 13 88 ---- 12 89 ---- 11 90 ---- 10 91 ---- 9 92 ---- 8 93 ---- 7 94 ---- 6 95 ---- 5 96 ---- 4 97 ---- 3 98 ---- 2 99 ---- 1 "
     ]
    }
   ],
   "source": [
    "# Escreva um código para ter o seguinte output:\n",
    "\n",
    "# 1 ---- 99 2 ---- 98 3 ---- 97 4 ---- 96 . . . 99 ---- 1\n",
    "\n",
    "lista = list(range(1,100))\n",
    "lista_r = list(reversed(lista))\n",
    "for i in range(len(lista)):\n",
    "    print(f'{lista[i]} ---- {lista_r[i]} ', end='')"
   ]
  },
  {
   "cell_type": "code",
   "execution_count": 104,
   "id": "0fa4a26d",
   "metadata": {
    "ExecuteTime": {
     "end_time": "2021-07-09T23:08:18.628114Z",
     "start_time": "2021-07-09T23:08:18.608114Z"
    }
   },
   "outputs": [
    {
     "name": "stdout",
     "output_type": "stream",
     "text": [
      "a\t b\t c\t cidade\t comparar_custos_viagem\t conta_valores\t custo_noite\t desv_p\t desvio_padrao_da_soma\t \n",
      "dict_valores\t entrada\t fib\t func_mm\t func_multiplos\t i\t list_teste\t lista\t mais_barato\t \n",
      "media\t multiplos_c\t noites\t np\t reduce\t separar_multiplos_5\t soma\t valores\t valores_pares\t \n",
      "verifica_se_palindrono\t z_list\t z_score\t \n"
     ]
    }
   ],
   "source": [
    "%who"
   ]
  },
  {
   "cell_type": "markdown",
   "id": "80a64a69",
   "metadata": {},
   "source": [
    "### Exercício 13"
   ]
  },
  {
   "cell_type": "code",
   "execution_count": 115,
   "id": "9199bd41",
   "metadata": {
    "ExecuteTime": {
     "end_time": "2021-07-09T23:28:27.315754Z",
     "start_time": "2021-07-09T23:28:25.935249Z"
    }
   },
   "outputs": [
    {
     "name": "stdout",
     "output_type": "stream",
     "text": [
      "Qual o tamanho desejado da pilha \"+\"? 8\n",
      "\n",
      "+\n",
      "++\n",
      "+++\n",
      "++++\n",
      "+++++\n",
      "++++++\n",
      "+++++++\n",
      "++++++++\n"
     ]
    }
   ],
   "source": [
    "# Construa uma função que receba um input e printe um padrão conforme exemplo.\n",
    "\n",
    "# input = 5\n",
    "\n",
    "# output:\n",
    "\n",
    "# +\n",
    "# ++\n",
    "# +++\n",
    "# ++++\n",
    "# +++++\n",
    "\n",
    "n = int(input('Qual o tamanho desejado da pilha \"+\"? '))\n",
    "for i in range(n+1):\n",
    "    print('+'*i)"
   ]
  },
  {
   "cell_type": "markdown",
   "id": "7527e0d6",
   "metadata": {},
   "source": [
    "### Exercício 14"
   ]
  },
  {
   "cell_type": "code",
   "execution_count": 119,
   "id": "9f243dd5",
   "metadata": {
    "ExecuteTime": {
     "end_time": "2021-07-09T23:37:50.774851Z",
     "start_time": "2021-07-09T23:37:50.759875Z"
    }
   },
   "outputs": [
    {
     "name": "stdout",
     "output_type": "stream",
     "text": [
      "['GERALT_DE_RÍVIA', 'YENNEFER_DE_VENGERBERD', 'TRISS_MARIGOLD', 'EMHYR_VAR_EMREIS', 'JASKIER_O_BARDO']\n"
     ]
    }
   ],
   "source": [
    "# Itere sobre a lista abaixo e crie uma nova lista com todos os nomes em letras maisculuas e com underline ao invés de espaços. \n",
    "# Dica: utilize compreensão de listas.\n",
    "lista_nomes = ['Geralt de Rívia','Yennefer de Vengerberd','Triss Marigold','Emhyr var Emreis','Jaskier o bardo']\n",
    "\n",
    "lista_nomes_modificados = [x.upper().replace(' ','_') for x in lista_nomes]\n",
    "print(lista_nomes_modificados)"
   ]
  },
  {
   "cell_type": "markdown",
   "id": "7bf12198",
   "metadata": {},
   "source": [
    "### Exercício 15"
   ]
  },
  {
   "cell_type": "code",
   "execution_count": 3,
   "id": "453be82f",
   "metadata": {
    "ExecuteTime": {
     "end_time": "2021-07-10T01:08:35.024921Z",
     "start_time": "2021-07-10T01:08:17.320966Z"
    }
   },
   "outputs": [
    {
     "name": "stdout",
     "output_type": "stream",
     "text": [
      "Me diga como está o tempo hoje e qual é a temperatura atual: ensolarado 16\n",
      "-> jogar\n",
      "Tentar de novo? [s/n]s\n",
      "Me diga como está o tempo hoje e qual é a temperatura atual: chuvoso 23\n",
      "-> não jogar\n",
      "Tentar de novo? [s/n]s\n",
      "Me diga como está o tempo hoje e qual é a temperatura atual: nublado 14\n",
      "-> não jogar\n",
      "Tentar de novo? [s/n]n\n"
     ]
    }
   ],
   "source": [
    "# 15. Voce é um jogador de tênis. Para decidir se você vai treinar hoje você deve avaliar duas coisas: o tempo e a temperatura. \n",
    "# Crie um programa para saber se você deve ou não treinar hoje de acordo com as seguintes especificações: \n",
    "\n",
    "# - Tempo: chuvoso -> não jogar\n",
    "# - Tempo: ensolarado ou nublado -> jogar\n",
    "# - Temperatura maior ou igual a 15 graus e tempo ensolarado ou nublado -> jogar\n",
    "# - Temperatura menor que 15 graus e tempo ensolarado ou nublado -> não jogar\n",
    "\n",
    "def avalia_jogar(tempo, temperatura):\n",
    "    if tempo == 'chuvoso' or temperatura < 15:\n",
    "        return 'não jogar'\n",
    "    else:\n",
    "        return 'jogar'\n",
    "    \n",
    "tentar = 's'\n",
    "while tentar == 's':\n",
    "    tempo, temperatura = input('Me diga como está o tempo hoje e qual é a temperatura atual: ').split()\n",
    "    temperatura = int(temperatura)\n",
    "    print(f'-> {avalia_jogar(tempo, temperatura)}')\n",
    "    tentar = input('Tentar de novo? [s/n]')"
   ]
  },
  {
   "cell_type": "markdown",
   "id": "f85388a6",
   "metadata": {},
   "source": [
    "### Exercício 16"
   ]
  },
  {
   "cell_type": "code",
   "execution_count": 132,
   "id": "21ec4838",
   "metadata": {
    "ExecuteTime": {
     "end_time": "2021-07-10T00:14:20.062519Z",
     "start_time": "2021-07-10T00:14:20.054552Z"
    }
   },
   "outputs": [
    {
     "name": "stdout",
     "output_type": "stream",
     "text": [
      "{'nasser': 1000, 'joao': 1500, 'mateus': 5000}\n"
     ]
    }
   ],
   "source": [
    "# Pesquise e use a função zip() para juntar as duas listas abaixo.\n",
    "nomes = ['nasser','joao','mateus'] \n",
    "salarios = [1000,1500,5000]\n",
    "\n",
    "juntar = dict(zip(nomes, salarios))\n",
    "print(juntar)"
   ]
  },
  {
   "cell_type": "markdown",
   "id": "66f29161",
   "metadata": {},
   "source": [
    "### Exercício 17"
   ]
  },
  {
   "cell_type": "code",
   "execution_count": 133,
   "id": "5c4b0b02",
   "metadata": {
    "ExecuteTime": {
     "end_time": "2021-07-10T00:16:27.077539Z",
     "start_time": "2021-07-10T00:16:27.065541Z"
    }
   },
   "outputs": [
    {
     "name": "stdout",
     "output_type": "stream",
     "text": [
      "[-11764, 3270, -1048, -41000]\n"
     ]
    }
   ],
   "source": [
    "# Considera as duas listas abaixo, a primeira demonstra o valor real de venda de uma casa e a segunda demonstra o \n",
    "# valor recomendado por um modelo de regressão. Gere uma terceira lista com o resíduo de cada ponto. \n",
    "# O resíduo é o resultado da subtração entre o valor real e o valor predito para determinado ponto.\n",
    "\n",
    "real = [150358,368525,532152,144789] \n",
    "predito = [162122,365255,533200,185789]\n",
    "\n",
    "residuo = [x[0]-x[1] for x in zip(real, predito)]\n",
    "print(residuo)"
   ]
  },
  {
   "cell_type": "markdown",
   "id": "b1c04dc7",
   "metadata": {},
   "source": [
    "### Exercício 18"
   ]
  },
  {
   "cell_type": "code",
   "execution_count": 134,
   "id": "583effd8",
   "metadata": {
    "ExecuteTime": {
     "end_time": "2021-07-10T00:32:53.059293Z",
     "start_time": "2021-07-10T00:32:53.053310Z"
    }
   },
   "outputs": [
    {
     "name": "stdout",
     "output_type": "stream",
     "text": [
      "228897862.5\n"
     ]
    }
   ],
   "source": [
    "# Ainda usando os dados da questao 17 calcule, sem utilizar bibliotecas, o RMSE do valor predito.\n",
    "\n",
    "# Root mean squared error (RMSE):\n",
    "RMSE = (sum([x**2 for x in residuo])/len(residuo))* 0.5\n",
    "print(RMSE)"
   ]
  }
 ],
 "metadata": {
  "kernelspec": {
   "display_name": "Python [conda env:qads]",
   "language": "python",
   "name": "conda-env-qads-py"
  },
  "language_info": {
   "codemirror_mode": {
    "name": "ipython",
    "version": 3
   },
   "file_extension": ".py",
   "mimetype": "text/x-python",
   "name": "python",
   "nbconvert_exporter": "python",
   "pygments_lexer": "ipython3",
   "version": "3.9.5"
  },
  "toc": {
   "base_numbering": 1,
   "nav_menu": {},
   "number_sections": true,
   "sideBar": true,
   "skip_h1_title": false,
   "title_cell": "Table of Contents",
   "title_sidebar": "Contents",
   "toc_cell": false,
   "toc_position": {},
   "toc_section_display": true,
   "toc_window_display": true
  }
 },
 "nbformat": 4,
 "nbformat_minor": 5
}
