{
 "cells": [
  {
   "cell_type": "markdown",
   "id": "e2edec39",
   "metadata": {},
   "source": [
    "<img src=\"imgs/mesttra.png\" alt=\"mesttra_logo\" style=\"width: 200px;\"/>\n",
    "\n",
    "# Estruturas de Repetição\n",
    "___\n",
    "\n",
    "As estruturas de repetição (ou loops) são bastante utilizadas quando queremos executar um bloco de código até atingirmos uma condição específica, que pode ser o final de um objeto (final de lista), ou uma condição expressamente descrita. Existem duas estruturas de repretição que são utilizadas em códigos python. O loop ```for``` e o ```while```.\n",
    "\n",
    "## for\n",
    "\n",
    "O loop ```for``` percorre todo um objeto iterável e executa um bloco de código para cada um dos valores associados a uma variável determinada no próprio loop. Um exemplo de loop for aplicado a listas:"
   ]
  },
  {
   "cell_type": "code",
   "execution_count": 1,
   "id": "4a3611cd",
   "metadata": {},
   "outputs": [
    {
     "name": "stdout",
     "output_type": "stream",
     "text": [
      "1\n",
      "2\n",
      "3\n",
      "4\n",
      "5\n",
      "6\n",
      "7\n",
      "8\n",
      "9\n",
      "10\n"
     ]
    }
   ],
   "source": [
    "ls = [1,2,3,4,5,6,7,8,9,10]\n",
    "\n",
    "for valor in ls:\n",
    "    print(valor)"
   ]
  },
  {
   "cell_type": "markdown",
   "id": "6bfb283d",
   "metadata": {},
   "source": [
    "A sintaxe do loop começa com a palavra reservada seguida de uma variável temporária que é criada e utilizada durante a execução do loop, outra palavra reservada e o objeto iterável. A variável temporária é atualizada a cada iteração do loop, ou seja, a cada execução essa variável recebe um novo valor."
   ]
  },
  {
   "cell_type": "code",
   "execution_count": 2,
   "id": "de0499cf",
   "metadata": {},
   "outputs": [
    {
     "name": "stdout",
     "output_type": "stream",
     "text": [
      "1\n",
      "8\n",
      "27\n",
      "64\n",
      "125\n",
      "216\n",
      "343\n",
      "512\n",
      "729\n",
      "1000\n"
     ]
    }
   ],
   "source": [
    "for valor in ls:\n",
    "    print(valor**3)"
   ]
  },
  {
   "cell_type": "markdown",
   "id": "df7108c5",
   "metadata": {},
   "source": [
    "Podemos adicionar estruturas condicionais junto a estruturas de repetição deixando o algoritmo cada vez mais dinâmico de acordo com a necessidade."
   ]
  },
  {
   "cell_type": "code",
   "execution_count": 3,
   "id": "d50320b5",
   "metadata": {},
   "outputs": [
    {
     "name": "stdout",
     "output_type": "stream",
     "text": [
      "1\n",
      "Valor Múltiplo de 2\n",
      "3\n",
      "Valor Múltiplo de 2\n",
      "5\n",
      "Valor Múltiplo de 2\n",
      "7\n",
      "Valor Múltiplo de 2\n",
      "9\n",
      "Valor Múltiplo de 2\n"
     ]
    }
   ],
   "source": [
    "## for com if\n",
    "\n",
    "for valor in ls:\n",
    "    if valor % 2 == 0:\n",
    "        print('Valor Múltiplo de 2')\n",
    "    else:\n",
    "        print(valor)"
   ]
  },
  {
   "cell_type": "markdown",
   "id": "6c8e0dab",
   "metadata": {},
   "source": [
    "Podemos utilizar a palavra reservada ```break``` para interromper o processo de iteração e execução do código. Vamos criar um algoritmo que avalie se cada valor de um lista é ou não divisível por 2, em caso positivo ele pega esse valor e o adiciona à variável ```soma``` quando a variável ```soma``` for maior do que 300 devemos para a execução."
   ]
  },
  {
   "cell_type": "code",
   "execution_count": 5,
   "id": "2f3ff25f",
   "metadata": {},
   "outputs": [
    {
     "name": "stdout",
     "output_type": "stream",
     "text": [
      "O valor 2 é válido!\n",
      "SOMA antes 0\n",
      "SOMA depois 2\n",
      "----------\n",
      "O valor 4 é válido!\n",
      "SOMA antes 2\n",
      "SOMA depois 6\n",
      "----------\n",
      "O valor 6 é válido!\n",
      "SOMA antes 6\n",
      "SOMA depois 12\n",
      "----------\n",
      "O valor 8 é válido!\n",
      "SOMA antes 12\n",
      "SOMA depois 20\n",
      "----------\n",
      "O valor 10 é válido!\n",
      "SOMA antes 20\n",
      "SOMA depois 30\n",
      "----------\n",
      "O valor 12 é válido!\n",
      "SOMA antes 30\n",
      "SOMA depois 42\n",
      "----------\n",
      "O valor 14 é válido!\n",
      "SOMA antes 42\n",
      "SOMA depois 56\n",
      "----------\n",
      "O valor 16 é válido!\n",
      "SOMA antes 56\n",
      "SOMA depois 72\n",
      "----------\n",
      "O valor 18 é válido!\n",
      "SOMA antes 72\n",
      "SOMA depois 90\n",
      "----------\n",
      "O valor 20 é válido!\n",
      "SOMA antes 90\n",
      "SOMA depois 110\n",
      "----------\n",
      "O valor 22 é válido!\n",
      "SOMA antes 110\n",
      "SOMA depois 132\n",
      "----------\n",
      "O valor 24 é válido!\n",
      "SOMA antes 132\n",
      "SOMA depois 156\n",
      "----------\n",
      "O valor 26 é válido!\n",
      "SOMA antes 156\n",
      "SOMA depois 182\n",
      "----------\n",
      "O valor 28 é válido!\n",
      "SOMA antes 182\n",
      "SOMA depois 210\n",
      "----------\n",
      "O valor 30 é válido!\n",
      "SOMA antes 210\n",
      "SOMA depois 240\n",
      "----------\n",
      "O valor 32 é válido!\n",
      "SOMA antes 240\n",
      "SOMA depois 272\n",
      "----------\n",
      "O valor 34 é válido!\n",
      "SOMA antes 272\n",
      "SOMA depois 306\n",
      "----------\n"
     ]
    }
   ],
   "source": [
    "## for com break\n",
    "\n",
    "new_ls = list(range(1,500))\n",
    "\n",
    "soma = 0\n",
    "\n",
    "for valor in new_ls:\n",
    "  \n",
    "    if soma > 300:\n",
    "        break\n",
    "    \n",
    "    if valor % 2 == 0:\n",
    "        print(f\"O valor {valor} é válido!\")\n",
    "        print(f\"SOMA antes\", soma)\n",
    "        soma += valor\n",
    "        print(f\"SOMA depois {soma}\\n----------\")"
   ]
  },
  {
   "cell_type": "markdown",
   "id": "63e46e79",
   "metadata": {},
   "source": [
    "Podemos estruturas de repetição com strings. Elas são iteráveis a nível de caractere, ou seja, cada iteração será feita com um caractere do texto."
   ]
  },
  {
   "cell_type": "code",
   "execution_count": 7,
   "id": "716ea972",
   "metadata": {},
   "outputs": [],
   "source": [
    "tweet = \"Bom dia, ótima semana a todos ...\""
   ]
  },
  {
   "cell_type": "code",
   "execution_count": 10,
   "id": "a05c0ee6",
   "metadata": {},
   "outputs": [
    {
     "name": "stdout",
     "output_type": "stream",
     "text": [
      "B\n",
      "o\n",
      "m\n",
      " \n",
      "d\n",
      "i\n",
      "a\n",
      ",\n",
      " \n",
      "ó\n",
      "t\n",
      "i\n",
      "m\n",
      "a\n",
      " \n",
      "s\n",
      "e\n",
      "m\n",
      "a\n",
      "n\n",
      "a\n",
      " \n",
      "a\n",
      " \n",
      "t\n",
      "o\n",
      "d\n",
      "o\n",
      "s\n",
      " \n",
      ".\n",
      ".\n",
      ".\n"
     ]
    }
   ],
   "source": [
    "for x in tweet:\n",
    "    print(x)"
   ]
  },
  {
   "cell_type": "code",
   "execution_count": 11,
   "id": "6d0aa3d6",
   "metadata": {},
   "outputs": [
    {
     "name": "stdout",
     "output_type": "stream",
     "text": [
      "10 1\n",
      "20 1\n",
      "30 1\n",
      "10 2\n",
      "20 2\n",
      "30 2\n",
      "10 3\n",
      "20 3\n",
      "30 3\n"
     ]
    }
   ],
   "source": [
    "ls_unidades = [1,2,3]\n",
    "ls_dezenas = [10,20,30]\n",
    "\n",
    "for unidade in ls_unidades:\n",
    "    for dezena in ls_dezenas:\n",
    "        print(dezena,unidade)"
   ]
  },
  {
   "cell_type": "markdown",
   "id": "3c3e94d9",
   "metadata": {},
   "source": [
    "É possível utilizar a palavra reservada ```else``` associada ao loop for.Quando ambas aparecem em um mesmo nível o bloco de código abaixo do ```else``` será executado ao final do loop for."
   ]
  },
  {
   "cell_type": "code",
   "execution_count": 12,
   "id": "5fc0ad4f",
   "metadata": {},
   "outputs": [
    {
     "name": "stdout",
     "output_type": "stream",
     "text": [
      "Brasília\n",
      "Bananal\n",
      "São Paulo\n",
      "São Luís\n",
      "Acabaram as cidades\n"
     ]
    }
   ],
   "source": [
    "## for com else\n",
    "cidades = [\"Brasília\", \"Bananal\", \"São Paulo\", \"São Luís\"]\n",
    "\n",
    "for cidade in cidades:\n",
    "    print(cidade)\n",
    "\n",
    "else:\n",
    "    print(\"Acabaram as cidades\")"
   ]
  },
  {
   "cell_type": "markdown",
   "id": "5f104cb7",
   "metadata": {},
   "source": [
    "Ao iterar (utilizando loop for) sobre listas é possível utilizar-se de uma sintaxe reduzida **chamada de compreensão de lista.** Ela é particularmente útil quando o resultado necessário também uma lista."
   ]
  },
  {
   "cell_type": "code",
   "execution_count": 14,
   "id": "d5468346",
   "metadata": {},
   "outputs": [],
   "source": [
    "## compreensão de lista\n",
    "\n",
    "ls = [1,2,3,4,5]\n",
    "new_ls = []\n",
    "\n",
    "for valor in ls:\n",
    "    new_ls.append(valor**3)"
   ]
  },
  {
   "cell_type": "code",
   "execution_count": 15,
   "id": "81bba48f",
   "metadata": {},
   "outputs": [
    {
     "data": {
      "text/plain": [
       "[1, 8, 27, 64, 125]"
      ]
     },
     "execution_count": 15,
     "metadata": {},
     "output_type": "execute_result"
    }
   ],
   "source": [
    "new_ls"
   ]
  },
  {
   "cell_type": "markdown",
   "id": "f8f2f8a2",
   "metadata": {},
   "source": [
    "No exemplo acima, para termos o cubo de todos os valores de uma lista em outra é necessário iterar sobre cada um dos valores da lista ```ls```, instanciar uma lista vazia chamada ```new_ls``` e criarmos um ```loop for``` onde a cada iteração o cubo do valor é adicionado a ```new_ls```. Utilizando compreensão de lista conseguimos o mesmo resultado, porém com somente uma linha."
   ]
  },
  {
   "cell_type": "code",
   "execution_count": 16,
   "id": "398835db",
   "metadata": {},
   "outputs": [
    {
     "data": {
      "text/plain": [
       "[1, 8, 27, 64, 125]"
      ]
     },
     "execution_count": 16,
     "metadata": {},
     "output_type": "execute_result"
    }
   ],
   "source": [
    "## compreensão de lista\n",
    "\n",
    "new_ls = [valor**3 for valor in ls]\n",
    "new_ls"
   ]
  },
  {
   "cell_type": "markdown",
   "id": "0cb45dcd",
   "metadata": {},
   "source": [
    "Também é possível utilizar condições dentro de uma compreensão de lista."
   ]
  },
  {
   "cell_type": "code",
   "execution_count": 17,
   "id": "fed045da",
   "metadata": {},
   "outputs": [
    {
     "data": {
      "text/plain": [
       "[8, 64]"
      ]
     },
     "execution_count": 17,
     "metadata": {},
     "output_type": "execute_result"
    }
   ],
   "source": [
    "ls = [1,2,3,4,5]\n",
    "new_ls = []\n",
    "\n",
    "for valor in ls:\n",
    "    if valor % 2 == 0:\n",
    "        new_ls.append(valor**3)\n",
    "\n",
    "new_ls"
   ]
  },
  {
   "cell_type": "code",
   "execution_count": 19,
   "id": "efb0a571",
   "metadata": {},
   "outputs": [
    {
     "data": {
      "text/plain": [
       "[8, 64]"
      ]
     },
     "execution_count": 19,
     "metadata": {},
     "output_type": "execute_result"
    }
   ],
   "source": [
    "new_ls = [valor ** 3 for valor in ls if valor%2==0]\n",
    "new_ls"
   ]
  },
  {
   "cell_type": "code",
   "execution_count": 20,
   "id": "bc8f65a8",
   "metadata": {},
   "outputs": [
    {
     "data": {
      "text/plain": [
       "[0, 8, 0, 64, 0]"
      ]
     },
     "execution_count": 20,
     "metadata": {},
     "output_type": "execute_result"
    }
   ],
   "source": [
    "new_ls = [valor ** 3 if valor%2==0 else 0 for valor in ls]\n",
    "new_ls"
   ]
  },
  {
   "cell_type": "markdown",
   "id": "1265a062",
   "metadata": {},
   "source": [
    "Perceba que a sintaxe da compreensão de lista se altera de acordo com o uso somente do ```if``` ou do ```if ... else```."
   ]
  },
  {
   "cell_type": "markdown",
   "id": "c36e6b53",
   "metadata": {},
   "source": [
    "### while\n",
    "\n",
    "Outra estrutura de repetição é o ```while``` que executa o bloco de código inúmeras vezes até que sua condição criadora se torne falsa ou que ele seja parado com ```break```."
   ]
  },
  {
   "cell_type": "code",
   "execution_count": 21,
   "id": "4d526dd9",
   "metadata": {},
   "outputs": [
    {
     "name": "stdout",
     "output_type": "stream",
     "text": [
      "O valor de 'i' é 10.\n",
      "O valor de 'i' é 20.\n",
      "O valor de 'i' é 30.\n",
      "O valor de 'i' é 40.\n",
      "O valor de 'i' é 50.\n",
      "O valor de 'i' é 60.\n",
      "O valor de 'i' é 70.\n",
      "O valor de 'i' é 80.\n",
      "O valor de 'i' é 90.\n",
      "O valor de 'i' é 100.\n"
     ]
    }
   ],
   "source": [
    "i = 10\n",
    "\n",
    "while i <= 100:\n",
    "    print(f\"O valor de 'i' é {i}.\")\n",
    "    i += 10"
   ]
  },
  {
   "cell_type": "markdown",
   "id": "544eef19",
   "metadata": {},
   "source": [
    "O algoritmo acima printa o valor da variável ```i``` até que esse valor ultrapasse 100. A cada iteração a condição ```i <= 100``` é avaliada se o resultado dessa condição for ```True``` o código abaixo é executado, se for ```False``` o código não será executado e o algoritmo para."
   ]
  },
  {
   "cell_type": "code",
   "execution_count": 22,
   "id": "de0a5781",
   "metadata": {},
   "outputs": [
    {
     "name": "stdout",
     "output_type": "stream",
     "text": [
      "O valor de 'i' é 10.\n",
      "O valor de 'i' é 20.\n",
      "O valor de 'i' é 30.\n",
      "O valor de 'i' é 40.\n",
      "O valor de 'i' é 50.\n",
      "O valor de 'i' é 60.\n",
      "Cheguei a 60, parando o loop.\n"
     ]
    }
   ],
   "source": [
    "i = 10\n",
    "\n",
    "while i <= 100:\n",
    "    print(f\"O valor de 'i' é {i}.\")\n",
    "  \n",
    "    if i == 60:\n",
    "        print('Cheguei a 60, parando o loop.')\n",
    "        break\n",
    "\n",
    "    i += 10"
   ]
  },
  {
   "cell_type": "markdown",
   "id": "ed4c0ee9",
   "metadata": {},
   "source": [
    "Podemos antecipadamente para a execução de um loop ```while``` com a palavra ```break```, nesse caso a condição pode continuar verdadeira, mas a execução foi interrompida."
   ]
  },
  {
   "cell_type": "code",
   "execution_count": 24,
   "id": "9eb642bb",
   "metadata": {},
   "outputs": [
    {
     "name": "stdout",
     "output_type": "stream",
     "text": [
      "iteração  73\n",
      "soma  2628\n"
     ]
    }
   ],
   "source": [
    "contador = 0\n",
    "soma = 0\n",
    "\n",
    "while contador <= 100:\n",
    "  \n",
    "    if soma >= 2600:\n",
    "        print(\"iteração \",contador)\n",
    "        print(\"soma \", soma)\n",
    "        break\n",
    "    else:\n",
    "        soma += contador\n",
    "    \n",
    "    contador += 1"
   ]
  },
  {
   "cell_type": "code",
   "execution_count": 25,
   "id": "91d8f81b",
   "metadata": {},
   "outputs": [
    {
     "name": "stdout",
     "output_type": "stream",
     "text": [
      "Venda mais!\n",
      "Venda mais!\n",
      "Venda mais!\n",
      "Venda mais!\n",
      "Venda mais!\n",
      "Venda mais!\n",
      "Venda mais!\n",
      "Venda mais!\n",
      "Venda mais!\n",
      "Venda mais!\n",
      "Venda mais!\n",
      "Venda mais!\n",
      "Venda mais!\n",
      "Venda mais!\n",
      "Venda mais!\n",
      "Venda mais!\n",
      "Venda mais!\n",
      "Venda mais!\n",
      "Venda mais!\n",
      "Venda mais!\n",
      "Venda mais!\n",
      "Meta alcançada!!\n",
      "QTD DE CLIENTES 21\n"
     ]
    }
   ],
   "source": [
    "clientes = 0\n",
    "valor_recebido = 0\n",
    "\n",
    "while valor_recebido < 100:\n",
    "    print('Venda mais!')\n",
    "    clientes += 1\n",
    "    valor_recebido = clientes * 4.99\n",
    "else:\n",
    "    print('Meta alcançada!!')\n",
    "    print('QTD DE CLIENTES',clientes)"
   ]
  },
  {
   "cell_type": "code",
   "execution_count": 28,
   "id": "5e2b93d8",
   "metadata": {},
   "outputs": [
    {
     "data": {
      "text/plain": [
       "50"
      ]
     },
     "execution_count": 28,
     "metadata": {},
     "output_type": "execute_result"
    }
   ],
   "source": [
    "primeira_lista = [1,2,3,4,5]\n",
    "\n",
    "i = 0\n",
    "\n",
    "ls = []\n",
    "\n",
    "while i < 10:\n",
    "    for valor in primeira_lista:\n",
    "        ls.append(valor)\n",
    "\n",
    "    i += 1\n",
    "\n",
    "len(ls)"
   ]
  }
 ],
 "metadata": {
  "kernelspec": {
   "display_name": "Python 3",
   "language": "python",
   "name": "python3"
  },
  "language_info": {
   "codemirror_mode": {
    "name": "ipython",
    "version": 3
   },
   "file_extension": ".py",
   "mimetype": "text/x-python",
   "name": "python",
   "nbconvert_exporter": "python",
   "pygments_lexer": "ipython3",
   "version": "3.8.5"
  }
 },
 "nbformat": 4,
 "nbformat_minor": 5
}
